{
 "cells": [
  {
   "cell_type": "code",
   "execution_count": 37,
   "id": "a3be8938-2a69-4c78-a2a5-552da832423d",
   "metadata": {},
   "outputs": [],
   "source": [
    "import pandas as pd\n",
    "import numpy as np\n",
    "import networkx as nx\n",
    "import pickle\n",
    "import json\n",
    "import requests\n",
    "import tweepy\n",
    "import os\n",
    "\n",
    "key = 'B81Sj4ifYRstLZGMyMDM0roG3'\n",
    "secret = 'c1Rg4vdyl2mjMEC7WKDsVLTz2IlqTHy1yezn71Y9cw3LgZaxAW'\n",
    "token = 'AAAAAAAAAAAAAAAAAAAAAD6eWQEAAAAABtT80i7lkSemhYsuOIjy4O4xLQs%3DkfsByhRoXQ9odyT51sECR1vXxOLKxdtOON2Ij4OODdAt8jTcGY'\n",
    "\n",
    "# key='CSh1kvK1gpxzyhl8GYuMa0RIv'\n",
    "# secret='yfgNtKNVeqdjqktu9lR4eK0oEt68KjXhVV8jJOJgvqrvpFbL9N'\n",
    "# token='AAAAAAAAAAAAAAAAAAAAAOCeVAEAAAAABD8nomZEvbNVV3p7dFOVkhm5Kv8%3DritcqLa43rGxvmEUXtuSVp6fwDKsONk6hbgPVGyjmqI72ueB9W'\n",
    "\n",
    "api = tweepy.Client(bearer_token=token, consumer_key=key, consumer_secret=secret, \n",
    "              return_type=requests.Response,\n",
    "              wait_on_rate_limit=True)"
   ]
  },
  {
   "cell_type": "code",
   "execution_count": 254,
   "id": "ab9996ee",
   "metadata": {},
   "outputs": [],
   "source": [
    "def extract_uid(full_path):\n",
    "    centerNode = file.replace('../','').replace('.pkl','').replace('edgelist_2_deg_','')\\\n",
    "    .replace('edgelist_mentions_','').replace('/','').replace('human','')\\\n",
    "    .replace('bot','').replace('mentions','').replace('edgelist_2_edges_from_start_', '')\n",
    "    \n",
    "    return int(centerNode)"
   ]
  },
  {
   "cell_type": "code",
   "execution_count": 255,
   "id": "a61cfb92-6758-472a-a127-82faec4d7984",
   "metadata": {},
   "outputs": [],
   "source": [
    "# Returns the followers/following of the center node in the network (because these aren't in the pickle files)\n",
    "def getCenterNodeFollows(file):\n",
    "    centerNode = extract_uid(file)\n",
    "    r = api.get_user(id=centerNode, user_fields='public_metrics')\n",
    "    user = r.json()\n",
    "\n",
    "    followers = user['data']['public_metrics']['followers_count']\n",
    "    following = user['data']['public_metrics']['following_count']\n",
    "    \n",
    "    return followers, following, centerNode"
   ]
  },
  {
   "cell_type": "code",
   "execution_count": 256,
   "id": "58dd3241",
   "metadata": {},
   "outputs": [],
   "source": [
    "def is_valid_network(df):\n",
    "    if df.shape[0] == 0:\n",
    "        print(f'No Network: {full_path}')\n",
    "        return False\n",
    "    return True\n",
    "\n",
    "def is_valid(file, uid):\n",
    "    edgelist = pd.read_pickle(file)\n",
    "    edgelist.originating_id = edgelist.originating_id.astype(str)\n",
    "    edgelist.receiving_id = edgelist.receiving_id.astype(str)\n",
    "    t = edgelist.originating_id.append(edgelist.receiving_id).unique()\n",
    "    if str(uid) in t:\n",
    "        return True\n",
    "    print(f'Error - Main twitter id not in edgelist: {uid} ')\n",
    "    return False\n",
    "    "
   ]
  },
  {
   "cell_type": "code",
   "execution_count": 257,
   "id": "3644aaa3-eeca-4f5a-83ac-31efaee7c3da",
   "metadata": {},
   "outputs": [],
   "source": [
    "# Takes in a pickle object and returns in/out degree centralities, \n",
    "# clustering coefficient, local homophily metrics, and PageRank for account ID.\n",
    "def node_calculations(file):\n",
    "    full_list = pd.read_pickle(file)\n",
    "    \n",
    "    # Check if valid\n",
    "    if not is_valid_network(full_list):\n",
    "        feats = [0 for i in range(8)]\n",
    "        return feats\n",
    "    \n",
    "    if 'edge_weight' in full_list.columns:\n",
    "        weightlist = full_list['edge_weight']\n",
    "    else:\n",
    "        weightlist = [1]*len(full_list['originating_id'])\n",
    "    \n",
    "    edgelist = pd.DataFrame({\n",
    "        \"source\": full_list['originating_id'],\n",
    "        \"target\": full_list['receiving_id'],\n",
    "        \"weight\": weightlist,\n",
    "    })\n",
    "    \n",
    "    # store originating ID followers\n",
    "    attr = dict()\n",
    "    for i, row in full_list.iterrows():\n",
    "        if not pd.isna(row['originating_following_count']):\n",
    "            attr[row['originating_id']] = {'in': row['originating_follower_count'], \n",
    "                                           'out': row['originating_following_count']}\n",
    "        if not pd.isna(row['receiving_following_count']):\n",
    "            attr[row['receiving_id']] = {'in': row['receiving_follower_count'], \n",
    "                                         'out': row['receiving_following_count']}\n",
    "            \n",
    "    IDfollowers, IDfollowing, ID = getCenterNodeFollows(file)\n",
    "    attr[ID] = {'in': IDfollowers, 'out': IDfollowing}\n",
    "    \n",
    "    # NOTE: nothing in \"attr\" represents the degrees of nodes in OUR network; the attributes represent\n",
    "    # the degrees of nodes in the FULL network\n",
    "    \n",
    "    #print(attr)\n",
    "            \n",
    "    G = nx.from_pandas_edgelist(edgelist, create_using=nx.DiGraph(), edge_attr=True)\n",
    "    nx.set_node_attributes(G, attr)\n",
    "    \n",
    "    nodes = list(G.nodes)\n",
    "    \n",
    "    \n",
    "    clustercoeff = nx.clustering(G, ID, weight='weight')\n",
    "    pagerank = nx.pagerank(G, weight='weight')[ID]\n",
    "\n",
    "    \n",
    "    # compute \"local homophily\" for ID's degree structure in two different ways\n",
    "    indeg = len(list(G.predecessors(ID)))\n",
    "    outdeg = len(list(G.successors(ID)))\n",
    "    \n",
    "    outdeg_Assort1 = 0\n",
    "    outdeg_Assort2 = 0\n",
    "    indeg_Assort1 = 0\n",
    "    indeg_Assort2 = 0\n",
    "    \n",
    "    if outdeg != 0:\n",
    "        for node in G.neighbors(ID):\n",
    "            nodeOutdeg = attr[node]['out']\n",
    "            outdeg_Assort1 += nodeOutdeg\n",
    "            if nodeOutdeg >= IDfollowing/2 and nodeOutdeg <= IDfollowing*2:\n",
    "                outdeg_Assort2 += 1\n",
    "                \n",
    "        outdeg_Assort1 = outdeg_Assort1 / (outdeg*IDfollowing)\n",
    "        outdeg_Assort2 = outdeg_Assort2 / outdeg\n",
    "\n",
    "    if indeg != 0: \n",
    "        for node in G.predecessors(ID):    \n",
    "            nodeIndeg = attr[node]['in']\n",
    "            indeg_Assort1 += nodeIndeg\n",
    "            if nodeIndeg >= IDfollowers/2 and nodeIndeg <= IDfollowers*2:\n",
    "                indeg_Assort2 += 1\n",
    "    \n",
    "        indeg_Assort1 = indeg_Assort1 / (indeg*IDfollowers)\n",
    "        indeg_Assort2 = indeg_Assort2 / indeg\n",
    "    \n",
    "    \n",
    "    return (IDfollowers, IDfollowing, clustercoeff, pagerank, indeg_Assort1, outdeg_Assort1, \\\n",
    "            indeg_Assort2, outdeg_Assort2)"
   ]
  },
  {
   "cell_type": "code",
   "execution_count": 260,
   "id": "ae98c4dd",
   "metadata": {},
   "outputs": [],
   "source": [
    "def extract_feats(full_path, df, invalid):\n",
    "    # Get twitter id\n",
    "    uid = extract_uid(full_path)\n",
    "\n",
    "    # Calc metrics\n",
    "    edge = pd.read_pickle(full_path)\n",
    "    if not is_valid_network(edge):\n",
    "        feats = [0 for i in range(8)]\n",
    "    elif not is_valid(full_path, uid):\n",
    "        return df, invalid\n",
    "    else:\n",
    "        feats = list(node_calculations(full_path))\n",
    "\n",
    "    # Create row for df\n",
    "    row = [uid]\n",
    "    row.extend(feats)\n",
    "    row.append(label)\n",
    "    rowdf = pd.DataFrame(row).T\n",
    "    rowdf.columns = cols\n",
    "    df = pd.concat([df, rowdf])\n",
    "    \n",
    "    return df, invalid"
   ]
  },
  {
   "cell_type": "code",
   "execution_count": 261,
   "id": "cb03dafe",
   "metadata": {
    "collapsed": true
   },
   "outputs": [
    {
     "ename": "KeyboardInterrupt",
     "evalue": "",
     "output_type": "error",
     "traceback": [
      "\u001b[0;31m---------------------------------------------------------------------------\u001b[0m",
      "\u001b[0;31mKeyboardInterrupt\u001b[0m                         Traceback (most recent call last)",
      "\u001b[0;32m<ipython-input-261-244670bb0e6a>\u001b[0m in \u001b[0;36m<module>\u001b[0;34m\u001b[0m\n\u001b[1;32m     22\u001b[0m \u001b[0;34m\u001b[0m\u001b[0m\n\u001b[1;32m     23\u001b[0m         \u001b[0;31m# Calc metrics; create row for df\u001b[0m\u001b[0;34m\u001b[0m\u001b[0;34m\u001b[0m\u001b[0;34m\u001b[0m\u001b[0m\n\u001b[0;32m---> 24\u001b[0;31m         \u001b[0mfeats\u001b[0m \u001b[0;34m=\u001b[0m \u001b[0mlist\u001b[0m\u001b[0;34m(\u001b[0m\u001b[0mnode_calculations\u001b[0m\u001b[0;34m(\u001b[0m\u001b[0mfull_path\u001b[0m\u001b[0;34m)\u001b[0m\u001b[0;34m)\u001b[0m\u001b[0;34m\u001b[0m\u001b[0;34m\u001b[0m\u001b[0m\n\u001b[0m\u001b[1;32m     25\u001b[0m         \u001b[0mrow\u001b[0m \u001b[0;34m=\u001b[0m \u001b[0;34m[\u001b[0m\u001b[0muid\u001b[0m\u001b[0;34m]\u001b[0m\u001b[0;34m\u001b[0m\u001b[0;34m\u001b[0m\u001b[0m\n\u001b[1;32m     26\u001b[0m         \u001b[0mrow\u001b[0m\u001b[0;34m.\u001b[0m\u001b[0mextend\u001b[0m\u001b[0;34m(\u001b[0m\u001b[0mfeats\u001b[0m\u001b[0;34m)\u001b[0m\u001b[0;34m\u001b[0m\u001b[0;34m\u001b[0m\u001b[0m\n",
      "\u001b[0;32m<ipython-input-257-3d8b35ba3f1a>\u001b[0m in \u001b[0;36mnode_calculations\u001b[0;34m(file)\u001b[0m\n\u001b[1;32m     22\u001b[0m     \u001b[0;31m# store originating ID followers\u001b[0m\u001b[0;34m\u001b[0m\u001b[0;34m\u001b[0m\u001b[0;34m\u001b[0m\u001b[0m\n\u001b[1;32m     23\u001b[0m     \u001b[0mattr\u001b[0m \u001b[0;34m=\u001b[0m \u001b[0mdict\u001b[0m\u001b[0;34m(\u001b[0m\u001b[0;34m)\u001b[0m\u001b[0;34m\u001b[0m\u001b[0;34m\u001b[0m\u001b[0m\n\u001b[0;32m---> 24\u001b[0;31m     \u001b[0;32mfor\u001b[0m \u001b[0mi\u001b[0m\u001b[0;34m,\u001b[0m \u001b[0mrow\u001b[0m \u001b[0;32min\u001b[0m \u001b[0mfull_list\u001b[0m\u001b[0;34m.\u001b[0m\u001b[0miterrows\u001b[0m\u001b[0;34m(\u001b[0m\u001b[0;34m)\u001b[0m\u001b[0;34m:\u001b[0m\u001b[0;34m\u001b[0m\u001b[0;34m\u001b[0m\u001b[0m\n\u001b[0m\u001b[1;32m     25\u001b[0m         \u001b[0;32mif\u001b[0m \u001b[0;32mnot\u001b[0m \u001b[0mpd\u001b[0m\u001b[0;34m.\u001b[0m\u001b[0misna\u001b[0m\u001b[0;34m(\u001b[0m\u001b[0mrow\u001b[0m\u001b[0;34m[\u001b[0m\u001b[0;34m'originating_following_count'\u001b[0m\u001b[0;34m]\u001b[0m\u001b[0;34m)\u001b[0m\u001b[0;34m:\u001b[0m\u001b[0;34m\u001b[0m\u001b[0;34m\u001b[0m\u001b[0m\n\u001b[1;32m     26\u001b[0m             attr[row['originating_id']] = {'in': row['originating_follower_count'], \n",
      "\u001b[0;32m~/anaconda3/lib/python3.8/site-packages/pandas/core/frame.py\u001b[0m in \u001b[0;36miterrows\u001b[0;34m(self)\u001b[0m\n\u001b[1;32m   1069\u001b[0m         \u001b[0mklass\u001b[0m \u001b[0;34m=\u001b[0m \u001b[0mself\u001b[0m\u001b[0;34m.\u001b[0m\u001b[0m_constructor_sliced\u001b[0m\u001b[0;34m\u001b[0m\u001b[0;34m\u001b[0m\u001b[0m\n\u001b[1;32m   1070\u001b[0m         \u001b[0;32mfor\u001b[0m \u001b[0mk\u001b[0m\u001b[0;34m,\u001b[0m \u001b[0mv\u001b[0m \u001b[0;32min\u001b[0m \u001b[0mzip\u001b[0m\u001b[0;34m(\u001b[0m\u001b[0mself\u001b[0m\u001b[0;34m.\u001b[0m\u001b[0mindex\u001b[0m\u001b[0;34m,\u001b[0m \u001b[0mself\u001b[0m\u001b[0;34m.\u001b[0m\u001b[0mvalues\u001b[0m\u001b[0;34m)\u001b[0m\u001b[0;34m:\u001b[0m\u001b[0;34m\u001b[0m\u001b[0;34m\u001b[0m\u001b[0m\n\u001b[0;32m-> 1071\u001b[0;31m             \u001b[0ms\u001b[0m \u001b[0;34m=\u001b[0m \u001b[0mklass\u001b[0m\u001b[0;34m(\u001b[0m\u001b[0mv\u001b[0m\u001b[0;34m,\u001b[0m \u001b[0mindex\u001b[0m\u001b[0;34m=\u001b[0m\u001b[0mcolumns\u001b[0m\u001b[0;34m,\u001b[0m \u001b[0mname\u001b[0m\u001b[0;34m=\u001b[0m\u001b[0mk\u001b[0m\u001b[0;34m)\u001b[0m\u001b[0;34m\u001b[0m\u001b[0;34m\u001b[0m\u001b[0m\n\u001b[0m\u001b[1;32m   1072\u001b[0m             \u001b[0;32myield\u001b[0m \u001b[0mk\u001b[0m\u001b[0;34m,\u001b[0m \u001b[0ms\u001b[0m\u001b[0;34m\u001b[0m\u001b[0;34m\u001b[0m\u001b[0m\n\u001b[1;32m   1073\u001b[0m \u001b[0;34m\u001b[0m\u001b[0m\n",
      "\u001b[0;32m~/anaconda3/lib/python3.8/site-packages/pandas/core/series.py\u001b[0m in \u001b[0;36m__init__\u001b[0;34m(self, data, index, dtype, name, copy, fastpath)\u001b[0m\n\u001b[1;32m    364\u001b[0m                 \u001b[0mdata\u001b[0m \u001b[0;34m=\u001b[0m \u001b[0msanitize_array\u001b[0m\u001b[0;34m(\u001b[0m\u001b[0mdata\u001b[0m\u001b[0;34m,\u001b[0m \u001b[0mindex\u001b[0m\u001b[0;34m,\u001b[0m \u001b[0mdtype\u001b[0m\u001b[0;34m,\u001b[0m \u001b[0mcopy\u001b[0m\u001b[0;34m,\u001b[0m \u001b[0mraise_cast_failure\u001b[0m\u001b[0;34m=\u001b[0m\u001b[0;32mTrue\u001b[0m\u001b[0;34m)\u001b[0m\u001b[0;34m\u001b[0m\u001b[0;34m\u001b[0m\u001b[0m\n\u001b[1;32m    365\u001b[0m \u001b[0;34m\u001b[0m\u001b[0m\n\u001b[0;32m--> 366\u001b[0;31m                 \u001b[0mdata\u001b[0m \u001b[0;34m=\u001b[0m \u001b[0mSingleBlockManager\u001b[0m\u001b[0;34m.\u001b[0m\u001b[0mfrom_array\u001b[0m\u001b[0;34m(\u001b[0m\u001b[0mdata\u001b[0m\u001b[0;34m,\u001b[0m \u001b[0mindex\u001b[0m\u001b[0;34m)\u001b[0m\u001b[0;34m\u001b[0m\u001b[0;34m\u001b[0m\u001b[0m\n\u001b[0m\u001b[1;32m    367\u001b[0m \u001b[0;34m\u001b[0m\u001b[0m\n\u001b[1;32m    368\u001b[0m         \u001b[0mgeneric\u001b[0m\u001b[0;34m.\u001b[0m\u001b[0mNDFrame\u001b[0m\u001b[0;34m.\u001b[0m\u001b[0m__init__\u001b[0m\u001b[0;34m(\u001b[0m\u001b[0mself\u001b[0m\u001b[0;34m,\u001b[0m \u001b[0mdata\u001b[0m\u001b[0;34m)\u001b[0m\u001b[0;34m\u001b[0m\u001b[0;34m\u001b[0m\u001b[0m\n",
      "\u001b[0;32m~/anaconda3/lib/python3.8/site-packages/pandas/core/internals/managers.py\u001b[0m in \u001b[0;36mfrom_array\u001b[0;34m(cls, array, index)\u001b[0m\n\u001b[1;32m   1580\u001b[0m         \u001b[0mConstructor\u001b[0m \u001b[0;32mfor\u001b[0m \u001b[0;32mif\u001b[0m \u001b[0mwe\u001b[0m \u001b[0mhave\u001b[0m \u001b[0man\u001b[0m \u001b[0marray\u001b[0m \u001b[0mthat\u001b[0m \u001b[0;32mis\u001b[0m \u001b[0;32mnot\u001b[0m \u001b[0myet\u001b[0m \u001b[0ma\u001b[0m \u001b[0mBlock\u001b[0m\u001b[0;34m.\u001b[0m\u001b[0;34m\u001b[0m\u001b[0;34m\u001b[0m\u001b[0m\n\u001b[1;32m   1581\u001b[0m         \"\"\"\n\u001b[0;32m-> 1582\u001b[0;31m         \u001b[0mblock\u001b[0m \u001b[0;34m=\u001b[0m \u001b[0mmake_block\u001b[0m\u001b[0;34m(\u001b[0m\u001b[0marray\u001b[0m\u001b[0;34m,\u001b[0m \u001b[0mplacement\u001b[0m\u001b[0;34m=\u001b[0m\u001b[0mslice\u001b[0m\u001b[0;34m(\u001b[0m\u001b[0;36m0\u001b[0m\u001b[0;34m,\u001b[0m \u001b[0mlen\u001b[0m\u001b[0;34m(\u001b[0m\u001b[0mindex\u001b[0m\u001b[0;34m)\u001b[0m\u001b[0;34m)\u001b[0m\u001b[0;34m,\u001b[0m \u001b[0mndim\u001b[0m\u001b[0;34m=\u001b[0m\u001b[0;36m1\u001b[0m\u001b[0;34m)\u001b[0m\u001b[0;34m\u001b[0m\u001b[0;34m\u001b[0m\u001b[0m\n\u001b[0m\u001b[1;32m   1583\u001b[0m         \u001b[0;32mreturn\u001b[0m \u001b[0mcls\u001b[0m\u001b[0;34m(\u001b[0m\u001b[0mblock\u001b[0m\u001b[0;34m,\u001b[0m \u001b[0mindex\u001b[0m\u001b[0;34m)\u001b[0m\u001b[0;34m\u001b[0m\u001b[0;34m\u001b[0m\u001b[0m\n\u001b[1;32m   1584\u001b[0m \u001b[0;34m\u001b[0m\u001b[0m\n",
      "\u001b[0;32m~/anaconda3/lib/python3.8/site-packages/pandas/core/internals/blocks.py\u001b[0m in \u001b[0;36mmake_block\u001b[0;34m(values, placement, klass, ndim, dtype)\u001b[0m\n\u001b[1;32m   2732\u001b[0m \u001b[0;34m\u001b[0m\u001b[0m\n\u001b[1;32m   2733\u001b[0m     \u001b[0;32mif\u001b[0m \u001b[0mklass\u001b[0m \u001b[0;32mis\u001b[0m \u001b[0;32mNone\u001b[0m\u001b[0;34m:\u001b[0m\u001b[0;34m\u001b[0m\u001b[0;34m\u001b[0m\u001b[0m\n\u001b[0;32m-> 2734\u001b[0;31m         \u001b[0mdtype\u001b[0m \u001b[0;34m=\u001b[0m \u001b[0mdtype\u001b[0m \u001b[0;32mor\u001b[0m \u001b[0mvalues\u001b[0m\u001b[0;34m.\u001b[0m\u001b[0mdtype\u001b[0m\u001b[0;34m\u001b[0m\u001b[0;34m\u001b[0m\u001b[0m\n\u001b[0m\u001b[1;32m   2735\u001b[0m         \u001b[0mklass\u001b[0m \u001b[0;34m=\u001b[0m \u001b[0mget_block_type\u001b[0m\u001b[0;34m(\u001b[0m\u001b[0mvalues\u001b[0m\u001b[0;34m,\u001b[0m \u001b[0mdtype\u001b[0m\u001b[0;34m)\u001b[0m\u001b[0;34m\u001b[0m\u001b[0;34m\u001b[0m\u001b[0m\n\u001b[1;32m   2736\u001b[0m \u001b[0;34m\u001b[0m\u001b[0m\n",
      "\u001b[0;31mKeyboardInterrupt\u001b[0m: "
     ]
    }
   ],
   "source": [
    "# Create pd dataframe for mentions\n",
    "cols = ['twitter_id', 'indeg', 'outdeg', 'clustercoeff', 'pagerank', 'indeg_A1', \n",
    "        'outdeg_A1', 'indeg_A2', 'outdeg_A2', 'label']\n",
    "df = pd.DataFrame(columns=cols)\n",
    "\n",
    "invalid = []\n",
    "dirr = '../mentions/'\n",
    "for label in ['bot', 'human']:\n",
    "    path = dirr + label + '/'\n",
    "    for file in os.listdir(dirr + label + '/'):\n",
    "        if os.path.isdir(file):\n",
    "            continue\n",
    "        full_path = path + file\n",
    "        \n",
    "        # Get twitter id\n",
    "        uid = extract_uid(full_path)\n",
    "        \n",
    "        # Another check if valid\n",
    "        if not is_valid(full_path, uid):\n",
    "            invalid.append(uid)\n",
    "            continue\n",
    "        \n",
    "        # Calc metrics; create row for df\n",
    "        feats = list(node_calculations(full_path))\n",
    "        row = [uid]\n",
    "        row.extend(feats)\n",
    "        row.append(label)\n",
    "        rowdf = pd.DataFrame(row).T\n",
    "        rowdf.columns = cols\n",
    "        df = pd.concat([df, rowdf])"
   ]
  },
  {
   "cell_type": "code",
   "execution_count": null,
   "id": "6ab3b7f9",
   "metadata": {},
   "outputs": [],
   "source": [
    "'mentions', "
   ]
  },
  {
   "cell_type": "code",
   "execution_count": 262,
   "id": "25cb71b4",
   "metadata": {},
   "outputs": [
    {
     "name": "stdout",
     "output_type": "stream",
     "text": [
      "No Network: ../likes/bot/790017240733278208\n",
      "No Network: ../likes/bot/875984489138200577\n",
      "No Network: ../likes/bot/1524730152\n",
      "No Network: ../likes/bot/490645569\n",
      "No Network: ../likes/bot/1416121214\n",
      "No Network: ../likes/bot/2385417602\n",
      "No Network: ../likes/bot/1421859620\n",
      "No Network: ../likes/bot/4808016715\n",
      "No Network: ../likes/bot/300415996\n",
      "No Network: ../likes/human/2266976480\n",
      "No Network: ../likes/human/757821654571425792\n",
      "No Network: ../likes/human/1914493741\n",
      "No Network: ../likes/human/804028724987494402\n",
      "No Network: ../likes/human/938469204021469184\n",
      "No Network: ../likes/human/3367811173\n",
      "No Network: ../likes/human/837414074132606978\n",
      "No Network: ../likes/human/2922179132\n",
      "No Network: ../likes/human/750482565056765952\n",
      "No Network: ../likes/human/1038380123710545920\n",
      "No Network: ../likes/human/2257456093\n",
      "No Network: ../likes/human/1054684530592878592\n",
      "No Network: ../likes/human/957638029639913473\n",
      "No Network: ../follows/bot/edgelist_2_edges_from_start_1421859620.pkl\n",
      "No Network: ../follows/bot/edgelist_2_edges_from_start_747958680386179072.pkl\n",
      "No Network: ../follows/bot/edgelist_2_edges_from_start_1416121214.pkl\n",
      "No Network: ../follows/bot/edgelist_2_edges_from_start_729462247647551488.pkl\n",
      "No Network: ../follows/bot/edgelist_2_edges_from_start_875984489138200577.pkl\n",
      "No Network: ../follows/bot/edgelist_2_edges_from_start_4808016715.pkl\n",
      "No Network: ../follows/bot/edgelist_2_edges_from_start_2385417602.pkl\n",
      "No Network: ../follows/bot/edgelist_2_edges_from_start_790017240733278208.pkl\n",
      "No Network: ../follows/bot/edgelist_2_edges_from_start_490645569.pkl\n",
      "No Network: ../follows/bot/edgelist_2_edges_from_start_1524730152.pkl\n",
      "No Network: ../follows/human/edgelist_2_deg_1039491917145432064.pkl\n",
      "No Network: ../follows/human/edgelist_2_deg_1047707161571328000.pkl\n",
      "No Network: ../follows/human/edgelist_2_deg_1012481676524576770.pkl\n",
      "No Network: ../follows/human/edgelist_2_deg_2257456093.pkl\n",
      "No Network: ../follows/human/edgelist_2_deg_1914493741.pkl\n",
      "No Network: ../follows/human/edgelist_2_deg_804028724987494402.pkl\n",
      "No Network: ../follows/human/edgelist_2_deg_822903103070601216.pkl\n",
      "No Network: ../follows/human/edgelist_2_deg_3367811173.pkl\n",
      "No Network: ../follows/human/edgelist_2_deg_757821654571425792.pkl\n",
      "No Network: ../follows/human/edgelist_2_deg_942925416850907138.pkl\n",
      "No Network: ../follows/human/edgelist_2_deg_2266976480.pkl\n",
      "No Network: ../follows/human/edgelist_2_deg_732838734140444676.pkl\n",
      "No Network: ../follows/human/edgelist_2_deg_837414074132606978.pkl\n",
      "No Network: ../follows/human/edgelist_2_deg_3319800715.pkl\n",
      "No Network: ../follows/human/edgelist_2_deg_957638029639913473.pkl\n",
      "No Network: ../follows/human/edgelist_2_deg_1054684530592878592.pkl\n",
      "No Network: ../follows/human/edgelist_2_deg_2197092790.pkl\n"
     ]
    }
   ],
   "source": [
    "# Create pd dataframes for features\n",
    "cols = ['twitter_id', 'indeg', 'outdeg', 'clustercoeff', 'pagerank', 'indeg_A1', \n",
    "        'outdeg_A1', 'indeg_A2', 'outdeg_A2', 'label']\n",
    "\n",
    "networks = ['likes', 'follows']\n",
    "\n",
    "for net in networks:\n",
    "    invalid = []\n",
    "\n",
    "    df = pd.DataFrame(columns=cols)\n",
    "    dirr = '../' + net + '/'\n",
    "    for label in ['bot', 'human']:\n",
    "        path = dirr + label + '/'\n",
    "        for file in os.listdir(dirr + label + '/'):\n",
    "            if os.path.isdir(file):\n",
    "                continue\n",
    "            full_path = path + file\n",
    "\n",
    "            df, d[net] = extract_feats(full_path, df, invalid)\n",
    "\n",
    "    df.to_pickle('feature_data/' + net + '.pkl')"
   ]
  },
  {
   "cell_type": "code",
   "execution_count": 265,
   "id": "d88722f7",
   "metadata": {},
   "outputs": [
    {
     "data": {
      "text/plain": [
       "63"
      ]
     },
     "execution_count": 265,
     "metadata": {},
     "output_type": "execute_result"
    }
   ],
   "source": [
    "pd.read_pickle('feature_data/likes.pkl').shape[0]"
   ]
  },
  {
   "cell_type": "code",
   "execution_count": 267,
   "id": "f8cc4cba",
   "metadata": {},
   "outputs": [
    {
     "data": {
      "text/plain": [
       "76"
      ]
     },
     "execution_count": 267,
     "metadata": {},
     "output_type": "execute_result"
    }
   ],
   "source": [
    "pd.read_pickle('feature_data/follows.pkl').shape[0]"
   ]
  },
  {
   "cell_type": "code",
   "execution_count": 268,
   "id": "17996948",
   "metadata": {},
   "outputs": [
    {
     "data": {
      "text/plain": [
       "451"
      ]
     },
     "execution_count": 268,
     "metadata": {},
     "output_type": "execute_result"
    }
   ],
   "source": [
    "pd.read_pickle('feature_data/mentions.pkl').shape[0]"
   ]
  },
  {
   "cell_type": "code",
   "execution_count": 248,
   "id": "ed56169d",
   "metadata": {},
   "outputs": [],
   "source": [
    "full_path = '../likes/bot/790017240733278208'"
   ]
  },
  {
   "cell_type": "code",
   "execution_count": 249,
   "id": "221df06a",
   "metadata": {},
   "outputs": [
    {
     "name": "stdout",
     "output_type": "stream",
     "text": [
      "Error - Main twitter id not in edgelist: 2184009647 \n"
     ]
    },
    {
     "data": {
      "text/plain": [
       "False"
      ]
     },
     "execution_count": 249,
     "metadata": {},
     "output_type": "execute_result"
    }
   ],
   "source": [
    "uid = extract_uid(full_path)\n",
    "\n",
    "# Another check if valid\n",
    "is_valid(full_path, uid)"
   ]
  },
  {
   "cell_type": "code",
   "execution_count": 251,
   "id": "020907f0",
   "metadata": {},
   "outputs": [],
   "source": [
    "edgelist = pd.read_pickle(full_path)\n",
    "edgelist.originating_id = edgelist.originating_id.astype(str)\n",
    "edgelist.receiving_id = edgelist.receiving_id.astype(str)\n",
    "t = edgelist.originating_id.append(edgelist.receiving_id).unique()\n"
   ]
  },
  {
   "cell_type": "code",
   "execution_count": 253,
   "id": "cd9e9818",
   "metadata": {},
   "outputs": [
    {
     "data": {
      "text/html": [
       "<div>\n",
       "<style scoped>\n",
       "    .dataframe tbody tr th:only-of-type {\n",
       "        vertical-align: middle;\n",
       "    }\n",
       "\n",
       "    .dataframe tbody tr th {\n",
       "        vertical-align: top;\n",
       "    }\n",
       "\n",
       "    .dataframe thead th {\n",
       "        text-align: right;\n",
       "    }\n",
       "</style>\n",
       "<table border=\"1\" class=\"dataframe\">\n",
       "  <thead>\n",
       "    <tr style=\"text-align: right;\">\n",
       "      <th></th>\n",
       "      <th>originating_id</th>\n",
       "      <th>receiving_id</th>\n",
       "      <th>originating_following_count</th>\n",
       "      <th>originating_follower_count</th>\n",
       "    </tr>\n",
       "  </thead>\n",
       "  <tbody>\n",
       "  </tbody>\n",
       "</table>\n",
       "</div>"
      ],
      "text/plain": [
       "Empty DataFrame\n",
       "Columns: [originating_id, receiving_id, originating_following_count, originating_follower_count]\n",
       "Index: []"
      ]
     },
     "execution_count": 253,
     "metadata": {},
     "output_type": "execute_result"
    }
   ],
   "source": [
    "edgelist"
   ]
  },
  {
   "cell_type": "code",
   "execution_count": null,
   "id": "9473f23a",
   "metadata": {},
   "outputs": [],
   "source": []
  }
 ],
 "metadata": {
  "kernelspec": {
   "display_name": "Python 3",
   "language": "python",
   "name": "python3"
  },
  "language_info": {
   "codemirror_mode": {
    "name": "ipython",
    "version": 3
   },
   "file_extension": ".py",
   "mimetype": "text/x-python",
   "name": "python",
   "nbconvert_exporter": "python",
   "pygments_lexer": "ipython3",
   "version": "3.8.2"
  }
 },
 "nbformat": 4,
 "nbformat_minor": 5
}
