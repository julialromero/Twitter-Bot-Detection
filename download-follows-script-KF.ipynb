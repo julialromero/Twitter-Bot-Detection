{
 "cells": [
  {
   "cell_type": "code",
   "execution_count": 1,
   "id": "4af467a7",
   "metadata": {},
   "outputs": [],
   "source": [
    "import pandas as pd\n",
    "import numpy as np\n",
    "import networkx as nx\n",
    "import json\n",
    "import requests"
   ]
  },
  {
   "cell_type": "code",
   "execution_count": 2,
   "id": "8c9ab5d3",
   "metadata": {},
   "outputs": [],
   "source": [
    "import tweepy\n",
    "from tweepy import Client\n",
    "\n",
    "key = 'B81Sj4ifYRstLZGMyMDM0roG3'\n",
    "secret = 'c1Rg4vdyl2mjMEC7WKDsVLTz2IlqTHy1yezn71Y9cw3LgZaxAW'\n",
    "token = 'AAAAAAAAAAAAAAAAAAAAAD6eWQEAAAAABtT80i7lkSemhYsuOIjy4O4xLQs%3DkfsByhRoXQ9odyT51sECR1vXxOLKxdtOON2Ij4OODdAt8jTcGY'\n",
    "\n",
    "api = tweepy.Client(bearer_token=token, consumer_key=key, consumer_secret=secret, \n",
    "              return_type=requests.Response,\n",
    "              wait_on_rate_limit=True)"
   ]
  },
  {
   "cell_type": "code",
   "execution_count": 3,
   "id": "0290c8a0",
   "metadata": {},
   "outputs": [
    {
     "data": {
      "text/html": [
       "<div>\n",
       "<style scoped>\n",
       "    .dataframe tbody tr th:only-of-type {\n",
       "        vertical-align: middle;\n",
       "    }\n",
       "\n",
       "    .dataframe tbody tr th {\n",
       "        vertical-align: top;\n",
       "    }\n",
       "\n",
       "    .dataframe thead th {\n",
       "        text-align: right;\n",
       "    }\n",
       "</style>\n",
       "<table border=\"1\" class=\"dataframe\">\n",
       "  <thead>\n",
       "    <tr style=\"text-align: right;\">\n",
       "      <th></th>\n",
       "      <th>twitter_id</th>\n",
       "      <th>followers_count</th>\n",
       "      <th>following_count</th>\n",
       "      <th>label</th>\n",
       "    </tr>\n",
       "  </thead>\n",
       "  <tbody>\n",
       "    <tr>\n",
       "      <th>0</th>\n",
       "      <td>461277906</td>\n",
       "      <td>380850</td>\n",
       "      <td>2913</td>\n",
       "      <td>bot</td>\n",
       "    </tr>\n",
       "    <tr>\n",
       "      <th>1</th>\n",
       "      <td>808280162</td>\n",
       "      <td>23363</td>\n",
       "      <td>340</td>\n",
       "      <td>bot</td>\n",
       "    </tr>\n",
       "    <tr>\n",
       "      <th>2</th>\n",
       "      <td>1575510320</td>\n",
       "      <td>120435</td>\n",
       "      <td>108954</td>\n",
       "      <td>bot</td>\n",
       "    </tr>\n",
       "    <tr>\n",
       "      <th>3</th>\n",
       "      <td>2449235599</td>\n",
       "      <td>25581</td>\n",
       "      <td>16</td>\n",
       "      <td>bot</td>\n",
       "    </tr>\n",
       "    <tr>\n",
       "      <th>4</th>\n",
       "      <td>1113769100</td>\n",
       "      <td>73720</td>\n",
       "      <td>77585</td>\n",
       "      <td>bot</td>\n",
       "    </tr>\n",
       "  </tbody>\n",
       "</table>\n",
       "</div>"
      ],
      "text/plain": [
       "   twitter_id  followers_count  following_count label\n",
       "0   461277906           380850             2913   bot\n",
       "1   808280162            23363              340   bot\n",
       "2  1575510320           120435           108954   bot\n",
       "3  2449235599            25581               16   bot\n",
       "4  1113769100            73720            77585   bot"
      ]
     },
     "execution_count": 3,
     "metadata": {},
     "output_type": "execute_result"
    }
   ],
   "source": [
    "combined = pd.read_pickle('node_and_degree_list.pkl')\n",
    "combined.head()"
   ]
  },
  {
   "cell_type": "code",
   "execution_count": 4,
   "id": "7af1e6e7",
   "metadata": {},
   "outputs": [
    {
     "name": "stdout",
     "output_type": "stream",
     "text": [
      "BEFORE FILTERING\n",
      "Total accounts: 2263\n",
      "Bot accounts: 959\n",
      "Human accounts: 1304\n",
      "____________________\n",
      "AFTER FILTERING\n",
      "Total accounts: 458\n",
      "Bot accounts: 193\n",
      "Human accounts: 265\n"
     ]
    }
   ],
   "source": [
    "# Set follower/following threshold\n",
    "thresh = 1000\n",
    "\n",
    "print('BEFORE FILTERING')\n",
    "print(f'Total accounts: {combined.shape[0]}')\n",
    "nb = combined.loc[combined.label == 'bot'].shape[0]\n",
    "nh = combined.loc[combined.label == 'human'].shape[0]\n",
    "print(f'Bot accounts: {nb}')\n",
    "print(f'Human accounts: {nh}')\n",
    "print('____________________')\n",
    "\n",
    "\n",
    "# Drop accounts that exceed threshold\n",
    "small = combined.loc[combined.followers_count < thresh]\n",
    "small = small.loc[small.followers_count < thresh]\n",
    "\n",
    "print('AFTER FILTERING')\n",
    "print(f'Total accounts: {small.shape[0]}')\n",
    "nb = small.loc[small.label == 'bot'].shape[0]\n",
    "nh = small.loc[small.label == 'human'].shape[0]\n",
    "print(f'Bot accounts: {nb}')\n",
    "print(f'Human accounts: {nh}')"
   ]
  },
  {
   "cell_type": "code",
   "execution_count": 5,
   "id": "04212324",
   "metadata": {},
   "outputs": [
    {
     "data": {
      "text/html": [
       "<div>\n",
       "<style scoped>\n",
       "    .dataframe tbody tr th:only-of-type {\n",
       "        vertical-align: middle;\n",
       "    }\n",
       "\n",
       "    .dataframe tbody tr th {\n",
       "        vertical-align: top;\n",
       "    }\n",
       "\n",
       "    .dataframe thead th {\n",
       "        text-align: right;\n",
       "    }\n",
       "</style>\n",
       "<table border=\"1\" class=\"dataframe\">\n",
       "  <thead>\n",
       "    <tr style=\"text-align: right;\">\n",
       "      <th></th>\n",
       "      <th>twitter_id</th>\n",
       "      <th>followers_count</th>\n",
       "      <th>following_count</th>\n",
       "      <th>label</th>\n",
       "    </tr>\n",
       "  </thead>\n",
       "  <tbody>\n",
       "    <tr>\n",
       "      <th>24</th>\n",
       "      <td>4307623643</td>\n",
       "      <td>59</td>\n",
       "      <td>4</td>\n",
       "      <td>bot</td>\n",
       "    </tr>\n",
       "    <tr>\n",
       "      <th>36</th>\n",
       "      <td>844779426260791296</td>\n",
       "      <td>768</td>\n",
       "      <td>1</td>\n",
       "      <td>bot</td>\n",
       "    </tr>\n",
       "    <tr>\n",
       "      <th>83</th>\n",
       "      <td>837316817324556289</td>\n",
       "      <td>182</td>\n",
       "      <td>6</td>\n",
       "      <td>bot</td>\n",
       "    </tr>\n",
       "    <tr>\n",
       "      <th>137</th>\n",
       "      <td>913028718377005056</td>\n",
       "      <td>87</td>\n",
       "      <td>147</td>\n",
       "      <td>bot</td>\n",
       "    </tr>\n",
       "    <tr>\n",
       "      <th>175</th>\n",
       "      <td>790017240733278208</td>\n",
       "      <td>19</td>\n",
       "      <td>47</td>\n",
       "      <td>bot</td>\n",
       "    </tr>\n",
       "  </tbody>\n",
       "</table>\n",
       "</div>"
      ],
      "text/plain": [
       "             twitter_id  followers_count  following_count label\n",
       "24           4307623643               59                4   bot\n",
       "36   844779426260791296              768                1   bot\n",
       "83   837316817324556289              182                6   bot\n",
       "137  913028718377005056               87              147   bot\n",
       "175  790017240733278208               19               47   bot"
      ]
     },
     "execution_count": 5,
     "metadata": {},
     "output_type": "execute_result"
    }
   ],
   "source": [
    "# Small df contains accounts meeting threshold criteria\n",
    "small.head()"
   ]
  },
  {
   "cell_type": "code",
   "execution_count": 6,
   "id": "e63aac46",
   "metadata": {},
   "outputs": [],
   "source": [
    "# Create curr_edgelist for a network including nodes up to 3 degrees of separation (3 links away)\n",
    "def add_this_nodes_edgelist(this_acc, curr_edgelist):\n",
    "    next_page_token = None\n",
    "    visited.add(this_acc)\n",
    "\n",
    "    action = 'followers'\n",
    "    follow_list = []\n",
    "    this_acc_num_following = []    \n",
    "    this_acc_num_followers = []\n",
    "    while True:\n",
    "        # Get immediate followers/following of node and add these to curr_edgelist\n",
    "        if action == 'followers':\n",
    "            request = api.get_users_followers(id=this_acc, user_auth=False, \n",
    "                max_results=1000, pagination_token=next_page_token, user_fields=['public_metrics'])\n",
    "        elif action == 'following':\n",
    "            request = api.get_users_following(id=this_acc, user_auth=False, \n",
    "                max_results=1000, pagination_token=next_page_token, user_fields=['public_metrics'])\n",
    "\n",
    "        data = request.json()\n",
    "\n",
    "        # for each account following/followed by the originating account, record account id, \n",
    "        # num following, and num followed by\n",
    "        try:\n",
    "            for acc in data['data']:\n",
    "                follow_list.append(acc['id'])\n",
    "                num_following = acc['public_metrics']['following_count']\n",
    "                num_followed_by = acc['public_metrics']['followers_count']\n",
    "                this_acc_num_following.append(num_following)\n",
    "                this_acc_num_followers.append(num_followed_by)\n",
    "\n",
    "            this_acc_list = [this_acc for i in range(len(follow_list))]\n",
    "\n",
    "        # Catch errors if not authorized to view user\n",
    "        except Exception as e:\n",
    "            print('Exception: issue retrieving follow lists for this account -- Skipping.')\n",
    "            return curr_edgelist\n",
    "            \n",
    "            \n",
    "        if 'next_token' in data['meta'].keys():    # get page token for next request\n",
    "                next_page_token = data['meta']['next_token']\n",
    "        \n",
    "        # when all data recorded transition to next action\n",
    "        else:\n",
    "            next_page_token = None\n",
    "            if action == 'followers':\n",
    "                d = {'originating_id': follow_list,\n",
    "                    'receiving_id': this_acc_list,\n",
    "                    'originating_following_count': this_acc_num_following, \n",
    "                    'originating_follower_count': this_acc_num_followers}\n",
    "                edges_to_add = pd.DataFrame(d)\n",
    "                curr_edgelist = pd.concat([curr_edgelist, edges_to_add])\n",
    "\n",
    "                action = 'following'\n",
    "\n",
    "                # reset lists\n",
    "                follow_list = []\n",
    "                this_acc_num_following = []    \n",
    "                this_acc_num_followers = []\n",
    "\n",
    "            elif action == 'following':\n",
    "                d = {'originating_id': this_acc_list,\n",
    "                    'receiving_id': follow_list,\n",
    "                    'receiving_following_count': this_acc_num_following, \n",
    "                    'receiving_follower_count': this_acc_num_followers}\n",
    "                edges_to_add = pd.DataFrame(d)\n",
    "                curr_edgelist = pd.concat([curr_edgelist, edges_to_add])\n",
    "\n",
    "                next_page_token = None\n",
    "\n",
    "                return curr_edgelist"
   ]
  },
  {
   "cell_type": "code",
   "execution_count": 7,
   "id": "b4c77d3e",
   "metadata": {},
   "outputs": [],
   "source": [
    "def transition_to_next_separation_degree(curr_edgelist, degrees_of_separation):\n",
    "    try:\n",
    "        # Drop all nodes with followers or following more than threshold\n",
    "        to_drop = (curr_edgelist.originating_following_count > thresh) | \\\n",
    "            (curr_edgelist.originating_follower_count > thresh) | \\\n",
    "            (curr_edgelist.receiving_following_count > thresh) | \\\n",
    "            (curr_edgelist.receiving_follower_count > thresh)\n",
    "        curr_edgelist.drop(index = curr_edgelist[to_drop].index, inplace=True)\n",
    "\n",
    "        # create list of all neighbors in curr_edgelist df\n",
    "        unvisited_neighbors = list(curr_edgelist.originating_id.append(curr_edgelist.receiving_id).unique())\n",
    "\n",
    "        # if any nodes are in visited set, remove\n",
    "        [unvisited_neighbors.remove(i) for i in unvisited_neighbors if i in visited]\n",
    "\n",
    "        print()\n",
    "        print(f'Current Number of edges from starting node {degrees_of_separation}')\n",
    "        print(f'Num unvisited neighbors: {len(unvisited_neighbors)}')\n",
    "        print('--------------------')\n",
    "        degrees_of_separation +=1 \n",
    "    \n",
    "        return curr_edgelist, degrees_of_separation, unvisited_neighbors\n",
    "    \n",
    "    \n",
    "    except Exception as e:\n",
    "        print(e)\n",
    "        print('--------------------EXCEPTION--------------------')\n",
    "        return curr_edgelist, degrees_of_separation, []\n",
    "        \n",
    "    "
   ]
  },
  {
   "cell_type": "code",
   "execution_count": 8,
   "id": "3ecb4ce9",
   "metadata": {},
   "outputs": [],
   "source": [
    "import os\n",
    "\n",
    "# List of account ids that I already downloaded edgelist for\n",
    "already_processed = []\n",
    " \n",
    "for name in os.listdir('human'):\n",
    "    if os.path.isdir(name):\n",
    "        continue\n",
    "    list_name = name.replace('.pkl','').replace('edgelist_2_deg_','')\n",
    "    already_processed.append(int(list_name))"
   ]
  },
  {
   "cell_type": "code",
   "execution_count": 10,
   "id": "14fa86bb",
   "metadata": {},
   "outputs": [
    {
     "name": "stderr",
     "output_type": "stream",
     "text": [
      "<ipython-input-10-504fdcfe9d1b>:7: SettingWithCopyWarning: \n",
      "A value is trying to be set on a copy of a slice from a DataFrame.\n",
      "Try using .loc[row_indexer,col_indexer] = value instead\n",
      "\n",
      "See the caveats in the documentation: https://pandas.pydata.org/pandas-docs/stable/user_guide/indexing.html#returning-a-view-versus-a-copy\n",
      "  small_human_accs['sum_follows'] = small_human_accs['followers_count'] + small_human_accs['following_count']\n",
      "<ipython-input-10-504fdcfe9d1b>:8: SettingWithCopyWarning: \n",
      "A value is trying to be set on a copy of a slice from a DataFrame\n",
      "\n",
      "See the caveats in the documentation: https://pandas.pydata.org/pandas-docs/stable/user_guide/indexing.html#returning-a-view-versus-a-copy\n",
      "  small_human_accs.sort_values('sum_follows',inplace=True)\n"
     ]
    },
    {
     "name": "stdout",
     "output_type": "stream",
     "text": [
      "Starting node == 938469204021469184\n",
      "\n",
      "Current Number of edges from starting node 0\n",
      "Num unvisited neighbors: 111\n",
      "--------------------\n",
      "709901980685221888\n",
      "1409221457893330949\n",
      "1274319430504284161\n",
      "1328836555792904195\n",
      "1319010483094102017\n",
      "1729500662\n",
      "Exception: issue retrieving follow lists for this account -- Skipping.\n",
      "1206730070443921410\n",
      "1282302030770581504\n",
      "259801552\n",
      "869321628995518465\n",
      "Exception: issue retrieving follow lists for this account -- Skipping.\n",
      "30955603\n",
      "1445122124\n",
      "793004240822161408\n",
      "245760942\n",
      "Exception: issue retrieving follow lists for this account -- Skipping.\n",
      "4670837555\n"
     ]
    },
    {
     "name": "stderr",
     "output_type": "stream",
     "text": [
      "Rate limit exceeded. Sleeping for 788 seconds.\n"
     ]
    },
    {
     "name": "stdout",
     "output_type": "stream",
     "text": [
      "Exception: issue retrieving follow lists for this account -- Skipping.\n",
      "1003788354532577282\n",
      "Exception: issue retrieving follow lists for this account -- Skipping.\n",
      "129197865\n",
      "1084475466\n",
      "237043305\n",
      "Exception: issue retrieving follow lists for this account -- Skipping.\n",
      "885309568506580993\n",
      "1044046729815875584\n"
     ]
    },
    {
     "name": "stderr",
     "output_type": "stream",
     "text": [
      "Rate limit exceeded. Sleeping for 5 seconds.\n"
     ]
    },
    {
     "name": "stdout",
     "output_type": "stream",
     "text": [
      "1098428266757713922\n",
      "2334046357\n",
      "1092814640873172992\n",
      "299687222\n",
      "593123413\n",
      "91018270\n",
      "2166952863\n",
      "Exception: issue retrieving follow lists for this account -- Skipping.\n",
      "1159265500498681856\n"
     ]
    },
    {
     "name": "stderr",
     "output_type": "stream",
     "text": [
      "Rate limit exceeded. Sleeping for 887 seconds.\n"
     ]
    },
    {
     "name": "stdout",
     "output_type": "stream",
     "text": [
      "1150024406623772672\n",
      "305762746\n",
      "3237607282\n",
      "437995505\n",
      "1145886357639892992\n",
      "2991093040\n",
      "Exception: issue retrieving follow lists for this account -- Skipping.\n",
      "20850262\n",
      "Exception: issue retrieving follow lists for this account -- Skipping.\n",
      "17055137\n",
      "1107270347190091777\n",
      "23365086\n",
      "Exception: issue retrieving follow lists for this account -- Skipping.\n",
      "754111057698910208\n"
     ]
    },
    {
     "name": "stderr",
     "output_type": "stream",
     "text": [
      "Rate limit exceeded. Sleeping for 2 seconds.\n"
     ]
    },
    {
     "name": "stdout",
     "output_type": "stream",
     "text": [
      "4784131609\n",
      "Exception: issue retrieving follow lists for this account -- Skipping.\n",
      "763450221191770112\n",
      "2341270969\n",
      "Exception: issue retrieving follow lists for this account -- Skipping.\n",
      "293753498\n"
     ]
    },
    {
     "name": "stderr",
     "output_type": "stream",
     "text": [
      "Rate limit exceeded. Sleeping for 891 seconds.\n"
     ]
    },
    {
     "name": "stdout",
     "output_type": "stream",
     "text": [
      "Exception: issue retrieving follow lists for this account -- Skipping.\n",
      "717433942635319296\n",
      "824414099975077888\n",
      "348807869\n",
      "43568128\n",
      "Exception: issue retrieving follow lists for this account -- Skipping.\n",
      "940348890653577217\n",
      "Exception: issue retrieving follow lists for this account -- Skipping.\n",
      "1089970028\n",
      "Exception: issue retrieving follow lists for this account -- Skipping.\n",
      "3044671612\n",
      "863207041\n",
      "361278195\n",
      "467450158\n",
      "34400607\n",
      "346229656\n",
      "451938419\n",
      "2592077780\n",
      "757833115083563008\n"
     ]
    },
    {
     "name": "stderr",
     "output_type": "stream",
     "text": [
      "Rate limit exceeded. Sleeping for 892 seconds.\n"
     ]
    },
    {
     "name": "stdout",
     "output_type": "stream",
     "text": [
      "2800510110\n",
      "771845162972643329\n",
      "753926549133492224\n",
      "Exception: issue retrieving follow lists for this account -- Skipping.\n",
      "164795907\n",
      "164507905\n",
      "20665455\n",
      "948252305513766913\n",
      "934749145201389568\n",
      "945251702827114496\n",
      "912664647894839297\n",
      "884812383541223425\n",
      "2434678008\n",
      "2970780281\n",
      "432739429\n",
      "853670330908508161\n"
     ]
    },
    {
     "name": "stderr",
     "output_type": "stream",
     "text": [
      "Rate limit exceeded. Sleeping for 891 seconds.\n"
     ]
    },
    {
     "name": "stdout",
     "output_type": "stream",
     "text": [
      "1270145660\n",
      "919727253369470976\n",
      "791657204181037056\n",
      "926997965134168064\n",
      "805255063358894080\n",
      "Exception: issue retrieving follow lists for this account -- Skipping.\n",
      "2412709080\n",
      "806874118968766465\n",
      "15485347\n",
      "24689530\n",
      "936979571349639168\n",
      "72283937\n",
      "271622237\n",
      "Exception: issue retrieving follow lists for this account -- Skipping.\n",
      "175933548\n",
      "931979925401358336\n",
      "Exception: issue retrieving follow lists for this account -- Skipping.\n",
      "878418015846412288\n",
      "Exception: issue retrieving follow lists for this account -- Skipping.\n",
      "826950972001964032\n"
     ]
    },
    {
     "name": "stderr",
     "output_type": "stream",
     "text": [
      "Rate limit exceeded. Sleeping for 893 seconds.\n"
     ]
    },
    {
     "name": "stdout",
     "output_type": "stream",
     "text": [
      "38295070\n",
      "1239156686\n",
      "49050671\n",
      "Exception: issue retrieving follow lists for this account -- Skipping.\n",
      "99820776\n",
      "2360352920\n",
      "2361961551\n",
      "701515405815214080\n",
      "2392496074\n",
      "874967382317383681\n",
      "Exception: issue retrieving follow lists for this account -- Skipping.\n",
      "853643899\n",
      "589601522\n",
      "2298367059\n",
      "63540716\n",
      "23761582\n"
     ]
    },
    {
     "name": "stderr",
     "output_type": "stream",
     "text": [
      "Rate limit exceeded. Sleeping for 890 seconds.\n"
     ]
    },
    {
     "name": "stdout",
     "output_type": "stream",
     "text": [
      "255844841\n",
      "242067486\n",
      "Exception: issue retrieving follow lists for this account -- Skipping.\n",
      "549892254\n",
      "826212795439943680\n",
      "15647357\n",
      "24326876\n",
      "40164375\n",
      "Exception: issue retrieving follow lists for this account -- Skipping.\n",
      "\n",
      "Current Number of edges from starting node 1\n",
      "Num unvisited neighbors: 6\n",
      "--------------------\n",
      "Starting node == 849258957768192004\n",
      "\n",
      "Current Number of edges from starting node 0\n",
      "Num unvisited neighbors: 96\n",
      "--------------------\n",
      "1334305408115159040\n",
      "470990606\n",
      "978237437897003008\n",
      "1204507563263479813\n",
      "1147498580124622850\n",
      "Exception: issue retrieving follow lists for this account -- Skipping.\n",
      "1197667371663663104\n",
      "4194529247\n"
     ]
    },
    {
     "name": "stderr",
     "output_type": "stream",
     "text": [
      "Rate limit exceeded. Sleeping for 890 seconds.\n"
     ]
    },
    {
     "name": "stdout",
     "output_type": "stream",
     "text": [
      "Exception: issue retrieving follow lists for this account -- Skipping.\n",
      "3996398061\n",
      "1102148248234532864\n",
      "535392324\n",
      "1063512661093175296\n",
      "Exception: issue retrieving follow lists for this account -- Skipping.\n",
      "981143631045283841\n",
      "812416375029460992\n",
      "1041746088590561280\n",
      "Exception: issue retrieving follow lists for this account -- Skipping.\n",
      "1615332337\n",
      "Exception: issue retrieving follow lists for this account -- Skipping.\n",
      "974781661836709888\n",
      "Exception: issue retrieving follow lists for this account -- Skipping.\n",
      "3260141777\n",
      "1580301410\n",
      "815177172042256385\n",
      "Exception: issue retrieving follow lists for this account -- Skipping.\n",
      "983467552570576902\n",
      "Exception: issue retrieving follow lists for this account -- Skipping.\n",
      "980078277405667330\n",
      "Exception: issue retrieving follow lists for this account -- Skipping.\n",
      "919990829795762177\n"
     ]
    },
    {
     "name": "stderr",
     "output_type": "stream",
     "text": [
      "Rate limit exceeded. Sleeping for 892 seconds.\n"
     ]
    },
    {
     "name": "stdout",
     "output_type": "stream",
     "text": [
      "187915222\n",
      "46743126\n",
      "2994347375\n",
      "949084354248142853\n",
      "941963670837440512\n",
      "Exception: issue retrieving follow lists for this account -- Skipping.\n",
      "23207561\n",
      "942839081846935552\n",
      "2617768883\n",
      "Exception: issue retrieving follow lists for this account -- Skipping.\n",
      "516652582\n",
      "2485606764\n",
      "Exception: issue retrieving follow lists for this account -- Skipping.\n",
      "915992807478906882\n",
      "144266935\n",
      "Exception: issue retrieving follow lists for this account -- Skipping.\n",
      "929238419649150976\n",
      "711183189402886144\n",
      "161381378\n"
     ]
    },
    {
     "name": "stderr",
     "output_type": "stream",
     "text": [
      "Rate limit exceeded. Sleeping for 891 seconds.\n"
     ]
    },
    {
     "name": "stdout",
     "output_type": "stream",
     "text": [
      "924644002216972289\n",
      "Exception: issue retrieving follow lists for this account -- Skipping.\n",
      "2187732177\n",
      "879545972153602048\n",
      "Exception: issue retrieving follow lists for this account -- Skipping.\n",
      "851715244917493760\n",
      "Exception: issue retrieving follow lists for this account -- Skipping.\n",
      "348527225\n",
      "Exception: issue retrieving follow lists for this account -- Skipping.\n",
      "3085298080\n",
      "Exception: issue retrieving follow lists for this account -- Skipping.\n",
      "1698977592\n",
      "2851945785\n",
      "20329836\n",
      "77071391\n",
      "733680016299597826\n",
      "2896488658\n",
      "1270314852\n",
      "754296657240547328\n",
      "Exception: issue retrieving follow lists for this account -- Skipping.\n",
      "28674546\n",
      "Exception: issue retrieving follow lists for this account -- Skipping.\n",
      "1256892518\n"
     ]
    },
    {
     "name": "stderr",
     "output_type": "stream",
     "text": [
      "Rate limit exceeded. Sleeping for 893 seconds.\n"
     ]
    },
    {
     "name": "stdout",
     "output_type": "stream",
     "text": [
      "54151041\n",
      "225861468\n",
      "630311854\n",
      "1927852284\n",
      "603575298\n",
      "Exception: issue retrieving follow lists for this account -- Skipping.\n",
      "909929321237766145\n",
      "904687024141213696\n",
      "2482496817\n",
      "2511319553\n",
      "Exception: issue retrieving follow lists for this account -- Skipping.\n",
      "889429021498519553\n",
      "90597729\n",
      "874423277418151937\n",
      "753541187290669060\n",
      "709520499525738496\n"
     ]
    },
    {
     "name": "stderr",
     "output_type": "stream",
     "text": [
      "Rate limit exceeded. Sleeping for 889 seconds.\n"
     ]
    },
    {
     "name": "stdout",
     "output_type": "stream",
     "text": [
      "888497812400463872\n",
      "501715341\n",
      "789205912640753664\n",
      "315214648\n",
      "3056574928\n",
      "Exception: issue retrieving follow lists for this account -- Skipping.\n",
      "4829646341\n",
      "418106382\n",
      "Exception: issue retrieving follow lists for this account -- Skipping.\n",
      "846069410544713728\n",
      "872560748513435648\n",
      "45023184\n",
      "1876933052\n",
      "Exception: issue retrieving follow lists for this account -- Skipping.\n",
      "635584801\n",
      "2318021075\n",
      "540040362\n",
      "319508087\n"
     ]
    },
    {
     "name": "stderr",
     "output_type": "stream",
     "text": [
      "Rate limit exceeded. Sleeping for 878 seconds.\n"
     ]
    },
    {
     "name": "stdout",
     "output_type": "stream",
     "text": [
      "780826336591949825\n",
      "869132178633961472\n",
      "4517487400\n",
      "766186291365019649\n",
      "Exception: issue retrieving follow lists for this account -- Skipping.\n",
      "38242276\n",
      "Exception: issue retrieving follow lists for this account -- Skipping.\n",
      "234708523\n",
      "Exception: issue retrieving follow lists for this account -- Skipping.\n",
      "867104207089872898\n",
      "Exception: issue retrieving follow lists for this account -- Skipping.\n",
      "852188124826537984\n",
      "2352908687\n",
      "Exception: issue retrieving follow lists for this account -- Skipping.\n",
      "55765389\n",
      "726509189787451393\n",
      "4506781823\n",
      "Exception: issue retrieving follow lists for this account -- Skipping.\n",
      "849426312548818948\n",
      "814218060798300160\n",
      "\n",
      "Current Number of edges from starting node 1\n",
      "Num unvisited neighbors: 2\n",
      "--------------------\n",
      "Starting node == 456361810\n"
     ]
    },
    {
     "name": "stderr",
     "output_type": "stream",
     "text": [
      "Rate limit exceeded. Sleeping for 893 seconds.\n"
     ]
    },
    {
     "name": "stdout",
     "output_type": "stream",
     "text": [
      "\n",
      "Current Number of edges from starting node 0\n",
      "Num unvisited neighbors: 27\n",
      "--------------------\n",
      "3063799853\n",
      "3375720993\n",
      "37250322\n",
      "Exception: issue retrieving follow lists for this account -- Skipping.\n",
      "990247236838838274\n",
      "1049101868788580352\n",
      "72905720\n",
      "505011693\n",
      "2151312320\n",
      "2177313289\n",
      "2613404845\n",
      "3723930795\n",
      "Exception: issue retrieving follow lists for this account -- Skipping.\n",
      "4076209619\n",
      "2717197458\n",
      "925664677\n",
      "505743161\n"
     ]
    },
    {
     "name": "stderr",
     "output_type": "stream",
     "text": [
      "Rate limit exceeded. Sleeping for 891 seconds.\n"
     ]
    },
    {
     "name": "stdout",
     "output_type": "stream",
     "text": [
      "1198492662\n",
      "2268639752\n",
      "505046819\n",
      "363527347\n",
      "20182361\n",
      "223605754\n",
      "9679532\n",
      "260733574\n",
      "215978033\n",
      "431112330\n",
      "48389225\n",
      "322792559\n",
      "\n",
      "Current Number of edges from starting node 1\n",
      "Num unvisited neighbors: 45\n",
      "--------------------\n",
      "Starting node == 998977009056444416\n",
      "\n",
      "Current Number of edges from starting node 0\n",
      "Num unvisited neighbors: 241\n",
      "--------------------\n",
      "1399717904938065924\n",
      "909171781025615872\n"
     ]
    },
    {
     "name": "stderr",
     "output_type": "stream",
     "text": [
      "Rate limit exceeded. Sleeping for 887 seconds.\n"
     ]
    },
    {
     "name": "stdout",
     "output_type": "stream",
     "text": [
      "1292923428844994566\n",
      "1375892203428589571\n",
      "Exception: issue retrieving follow lists for this account -- Skipping.\n",
      "2382571144\n",
      "1327922655173947392\n",
      "1502328642\n",
      "1246537563688574977\n",
      "1350479953582817280\n",
      "1351535266671026177\n",
      "1353795651474235393\n",
      "1162476338395176961\n",
      "1323951464641974272\n",
      "Exception: issue retrieving follow lists for this account -- Skipping.\n",
      "1256637513751506945\n",
      "1296619127084326916\n",
      "1279965443298660353\n",
      "Exception: issue retrieving follow lists for this account -- Skipping.\n",
      "1238461634148020224\n"
     ]
    },
    {
     "name": "stderr",
     "output_type": "stream",
     "text": [
      "Rate limit exceeded. Sleeping for 892 seconds.\n"
     ]
    },
    {
     "name": "stdout",
     "output_type": "stream",
     "text": [
      "1282965926284013568\n",
      "Exception: issue retrieving follow lists for this account -- Skipping.\n",
      "1233804208727580672\n",
      "1223389754865090560\n",
      "911350602034290688\n",
      "1154544755726045184\n",
      "410273557\n",
      "1202565555905011713\n",
      "1241855936018481152\n",
      "41856166\n",
      "1232435205715222531\n",
      "1232474832241119232\n",
      "Exception: issue retrieving follow lists for this account -- Skipping.\n",
      "1184584140215214082\n",
      "Exception: issue retrieving follow lists for this account -- Skipping.\n",
      "837739030087356416\n",
      "963871845811441664\n",
      "171256087\n"
     ]
    },
    {
     "name": "stderr",
     "output_type": "stream",
     "text": [
      "Rate limit exceeded. Sleeping for 892 seconds.\n"
     ]
    },
    {
     "name": "stdout",
     "output_type": "stream",
     "text": [
      "1212553072230092801\n",
      "Exception: issue retrieving follow lists for this account -- Skipping.\n",
      "1211626814881198080\n",
      "928978447858315264\n",
      "853414572820189189\n",
      "251675628\n",
      "1183789770289405953\n",
      "Exception: issue retrieving follow lists for this account -- Skipping.\n",
      "1158361949018742784\n",
      "1117211053841092610\n",
      "1147615326575779840\n",
      "1142801428534255618\n",
      "Exception: issue retrieving follow lists for this account -- Skipping.\n",
      "990449021788573696\n",
      "1042859933245616130\n",
      "1071863539390922752\n",
      "1117484819489927168\n",
      "Exception: issue retrieving follow lists for this account -- Skipping.\n",
      "112878842\n"
     ]
    },
    {
     "name": "stderr",
     "output_type": "stream",
     "text": [
      "Rate limit exceeded. Sleeping for 890 seconds.\n"
     ]
    },
    {
     "name": "stdout",
     "output_type": "stream",
     "text": [
      "116488442\n",
      "Exception: issue retrieving follow lists for this account -- Skipping.\n",
      "1198433287\n",
      "749587737905422336\n",
      "146996488\n",
      "1017934627913203712\n",
      "Exception: issue retrieving follow lists for this account -- Skipping.\n",
      "1100506914973249536\n",
      "Exception: issue retrieving follow lists for this account -- Skipping.\n",
      "982971327291318272\n",
      "1093708802073997312\n",
      "Exception: issue retrieving follow lists for this account -- Skipping.\n",
      "1038604715259510785\n",
      "1095073515211051011\n",
      "Exception: issue retrieving follow lists for this account -- Skipping.\n",
      "799700682513125376\n",
      "853037080880066561\n",
      "1087541593660407809\n",
      "Exception: issue retrieving follow lists for this account -- Skipping.\n",
      "1086657750963273729\n",
      "988928400424427520\n"
     ]
    },
    {
     "name": "stderr",
     "output_type": "stream",
     "text": [
      "Rate limit exceeded. Sleeping for 894 seconds.\n"
     ]
    },
    {
     "name": "stdout",
     "output_type": "stream",
     "text": [
      "917561809166655488\n",
      "Exception: issue retrieving follow lists for this account -- Skipping.\n",
      "1083704558939979776\n",
      "1080190150330777600\n",
      "Exception: issue retrieving follow lists for this account -- Skipping.\n",
      "1079582336348577792\n",
      "Exception: issue retrieving follow lists for this account -- Skipping.\n",
      "906203582768320516\n",
      "237081462\n",
      "801550333772255234\n",
      "1064182622958641152\n",
      "1063413282382508032\n",
      "1059857738682036225\n",
      "1060598175717834753\n",
      "Exception: issue retrieving follow lists for this account -- Skipping.\n",
      "786967819246309376\n",
      "1053991789743562752\n",
      "Exception: issue retrieving follow lists for this account -- Skipping.\n",
      "854538998143954944\n",
      "Exception: issue retrieving follow lists for this account -- Skipping.\n",
      "987825147301236743\n"
     ]
    },
    {
     "name": "stderr",
     "output_type": "stream",
     "text": [
      "Rate limit exceeded. Sleeping for 894 seconds.\n"
     ]
    },
    {
     "name": "stdout",
     "output_type": "stream",
     "text": [
      "1051912548726071296\n",
      "1049859747250413568\n",
      "1051504897210949632\n",
      "348558282\n",
      "Exception: issue retrieving follow lists for this account -- Skipping.\n",
      "1047151120718712833\n",
      "Exception: issue retrieving follow lists for this account -- Skipping.\n",
      "1046821743497809920\n",
      "388002913\n",
      "1008727825522847744\n",
      "1041877247257452544\n",
      "904142311545868288\n",
      "330007999\n",
      "1019271993022173184\n",
      "Exception: issue retrieving follow lists for this account -- Skipping.\n",
      "877678922003083267\n",
      "809198771951337476\n",
      "1031278906664542211\n",
      "Exception: issue retrieving follow lists for this account -- Skipping.\n",
      "990360621907619841\n"
     ]
    },
    {
     "name": "stderr",
     "output_type": "stream",
     "text": [
      "Rate limit exceeded. Sleeping for 894 seconds.\n"
     ]
    },
    {
     "name": "stdout",
     "output_type": "stream",
     "text": [
      "1022493411260227585\n",
      "1010240866345259013\n",
      "1012677227064983552\n",
      "1022505923133276160\n",
      "1024499841710391296\n",
      "1022540488824549376\n",
      "Exception: issue retrieving follow lists for this account -- Skipping.\n",
      "65561491\n",
      "1270480987\n",
      "Exception: issue retrieving follow lists for this account -- Skipping.\n",
      "1019382878554206211\n",
      "112423337\n",
      "882686574248505346\n",
      "Exception: issue retrieving follow lists for this account -- Skipping.\n",
      "869051252050726914\n",
      "Exception: issue retrieving follow lists for this account -- Skipping.\n",
      "997522345655984128\n",
      "206699188\n"
     ]
    },
    {
     "name": "stderr",
     "output_type": "stream",
     "text": [
      "Rate limit exceeded. Sleeping for 893 seconds.\n"
     ]
    },
    {
     "name": "stdout",
     "output_type": "stream",
     "text": [
      "1021952364629176320\n",
      "1020848688753774594\n",
      "Exception: issue retrieving follow lists for this account -- Skipping.\n",
      "111489241\n",
      "365831298\n",
      "1018152703854333953\n",
      "Exception: issue retrieving follow lists for this account -- Skipping.\n",
      "1009861903047372800\n",
      "Exception: issue retrieving follow lists for this account -- Skipping.\n",
      "1191326282\n",
      "Exception: issue retrieving follow lists for this account -- Skipping.\n",
      "42407728\n",
      "971570791841173504\n",
      "Exception: issue retrieving follow lists for this account -- Skipping.\n",
      "988782085732208640\n",
      "Exception: issue retrieving follow lists for this account -- Skipping.\n",
      "3093800319\n",
      "1014637581525508096\n",
      "959988614150148096\n",
      "Exception: issue retrieving follow lists for this account -- Skipping.\n",
      "970992469231001600\n",
      "933110644127207424\n",
      "Exception: issue retrieving follow lists for this account -- Skipping.\n",
      "960737972822925312\n"
     ]
    },
    {
     "name": "stderr",
     "output_type": "stream",
     "text": [
      "Rate limit exceeded. Sleeping for 894 seconds.\n"
     ]
    },
    {
     "name": "stdout",
     "output_type": "stream",
     "text": [
      "989454778244718593\n",
      "Exception: issue retrieving follow lists for this account -- Skipping.\n",
      "987160936090865664\n",
      "Exception: issue retrieving follow lists for this account -- Skipping.\n",
      "717861279780708352\n",
      "1009469898706341888\n",
      "988516623882518528\n",
      "1008351659884507136\n",
      "Exception: issue retrieving follow lists for this account -- Skipping.\n",
      "988545166339395584\n",
      "954913404174598149\n",
      "996914307278438400\n",
      "1006857814516686848\n",
      "975698769789497345\n",
      "745833071665090560\n",
      "72436730\n",
      "Exception: issue retrieving follow lists for this account -- Skipping.\n",
      "778776177666297856\n"
     ]
    },
    {
     "name": "stderr",
     "output_type": "stream",
     "text": [
      "Rate limit exceeded. Sleeping for 893 seconds.\n"
     ]
    },
    {
     "name": "stdout",
     "output_type": "stream",
     "text": [
      "893697042018598912\n",
      "1001832969923977216\n",
      "Exception: issue retrieving follow lists for this account -- Skipping.\n",
      "987042664603422721\n",
      "1004111543745859585\n",
      "958513153381351425\n",
      "950263937336950784\n",
      "1005246258469097472\n",
      "1001774494095167488\n",
      "865160915360129025\n",
      "1004408844456546304\n",
      "424931710\n",
      "958221015363956736\n",
      "1004117717539020802\n",
      "Exception: issue retrieving follow lists for this account -- Skipping.\n",
      "118814457\n",
      "458481833\n"
     ]
    },
    {
     "name": "stderr",
     "output_type": "stream",
     "text": [
      "Rate limit exceeded. Sleeping for 891 seconds.\n"
     ]
    },
    {
     "name": "stdout",
     "output_type": "stream",
     "text": [
      "1003592380778450944\n",
      "978611916242325504\n",
      "Exception: issue retrieving follow lists for this account -- Skipping.\n",
      "1003822089290338306\n",
      "893110481367556101\n",
      "1002584780960124928\n",
      "1003676663996133377\n",
      "981549688494190592\n",
      "926408198\n",
      "901873589435158530\n",
      "130583353\n",
      "1651474082\n",
      "122593390\n",
      "1002659541572554753\n",
      "Exception: issue retrieving follow lists for this account -- Skipping.\n",
      "2440907979\n",
      "67004663\n"
     ]
    },
    {
     "name": "stderr",
     "output_type": "stream",
     "text": [
      "Rate limit exceeded. Sleeping for 891 seconds.\n"
     ]
    },
    {
     "name": "stdout",
     "output_type": "stream",
     "text": [
      "944046181839200256\n",
      "968955823719419905\n",
      "984220191407173634\n",
      "Exception: issue retrieving follow lists for this account -- Skipping.\n",
      "1001988617076699137\n",
      "895405911380029440\n",
      "2920861408\n",
      "975133807006412800\n",
      "987836253562396672\n",
      "Exception: issue retrieving follow lists for this account -- Skipping.\n",
      "1000924864507768837\n",
      "170088788\n",
      "526725342\n",
      "1001270118796726272\n",
      "1000523618911248385\n",
      "1000936611599863808\n",
      "Exception: issue retrieving follow lists for this account -- Skipping.\n",
      "979730896415875072\n"
     ]
    },
    {
     "name": "stderr",
     "output_type": "stream",
     "text": [
      "Rate limit exceeded. Sleeping for 893 seconds.\n"
     ]
    },
    {
     "name": "stdout",
     "output_type": "stream",
     "text": [
      "996021387667046404\n",
      "1000045334020677632\n",
      "Exception: issue retrieving follow lists for this account -- Skipping.\n",
      "1000863577308323841\n",
      "1000857250309734401\n",
      "Exception: issue retrieving follow lists for this account -- Skipping.\n",
      "267983121\n",
      "958833737285947394\n",
      "Exception: issue retrieving follow lists for this account -- Skipping.\n",
      "983394314180055041\n",
      "968520767456600066\n",
      "988563021609033729\n",
      "1000522447785996288\n",
      "2610206307\n",
      "992789698052489216\n",
      "58272922\n",
      "236244146\n",
      "Exception: issue retrieving follow lists for this account -- Skipping.\n",
      "997462409592877057\n"
     ]
    },
    {
     "name": "stderr",
     "output_type": "stream",
     "text": [
      "Rate limit exceeded. Sleeping for 894 seconds.\n"
     ]
    },
    {
     "name": "stdout",
     "output_type": "stream",
     "text": [
      "Exception: issue retrieving follow lists for this account -- Skipping.\n",
      "1000204178503929856\n",
      "Exception: issue retrieving follow lists for this account -- Skipping.\n",
      "1000184861821427714\n",
      "Exception: issue retrieving follow lists for this account -- Skipping.\n",
      "968635172420800512\n",
      "Exception: issue retrieving follow lists for this account -- Skipping.\n",
      "1000065886567436288\n",
      "Exception: issue retrieving follow lists for this account -- Skipping.\n",
      "994616475473367040\n",
      "414898909\n",
      "Exception: issue retrieving follow lists for this account -- Skipping.\n",
      "979866754720595968\n",
      "Exception: issue retrieving follow lists for this account -- Skipping.\n",
      "983710331456446464\n",
      "999806021043412992\n",
      "Exception: issue retrieving follow lists for this account -- Skipping.\n",
      "978480176622391296\n",
      "908692441682907136\n",
      "405971009\n",
      "971510131346337792\n",
      "932298301268951040\n",
      "987436440526172160\n",
      "Exception: issue retrieving follow lists for this account -- Skipping.\n",
      "838022979011424260\n"
     ]
    },
    {
     "name": "stderr",
     "output_type": "stream",
     "text": [
      "Rate limit exceeded. Sleeping for 895 seconds.\n"
     ]
    },
    {
     "name": "stdout",
     "output_type": "stream",
     "text": [
      "798264114535628800\n",
      "955563081609904129\n",
      "725531472568930304\n",
      "999706537051475968\n",
      "988970942989787136\n",
      "945720536881131520\n",
      "999684035881459713\n",
      "Exception: issue retrieving follow lists for this account -- Skipping.\n",
      "993794569413242880\n",
      "Exception: issue retrieving follow lists for this account -- Skipping.\n",
      "982323583228829696\n",
      "Exception: issue retrieving follow lists for this account -- Skipping.\n",
      "998970810634252289\n",
      "325797440\n",
      "989349035462012928\n",
      "1640587063\n",
      "999066398704979971\n",
      "Exception: issue retrieving follow lists for this account -- Skipping.\n",
      "998980111318777857\n"
     ]
    },
    {
     "name": "stderr",
     "output_type": "stream",
     "text": [
      "Rate limit exceeded. Sleeping for 892 seconds.\n"
     ]
    },
    {
     "name": "stdout",
     "output_type": "stream",
     "text": [
      "999332693656600578\n",
      "999325926377828358\n",
      "953274077334122496\n",
      "989265286401490944\n",
      "932916400171167744\n",
      "3041610976\n",
      "996410397266767872\n",
      "990374329232908288\n",
      "Exception: issue retrieving follow lists for this account -- Skipping.\n",
      "171183395\n",
      "Exception: issue retrieving follow lists for this account -- Skipping.\n",
      "2564359489\n",
      "951805632105123840\n",
      "988827522229067777\n",
      "Exception: issue retrieving follow lists for this account -- Skipping.\n",
      "43627796\n",
      "\n",
      "Current Number of edges from starting node 1\n",
      "Num unvisited neighbors: 0\n",
      "--------------------\n",
      "Starting node == 953231816810315777\n"
     ]
    },
    {
     "name": "stderr",
     "output_type": "stream",
     "text": [
      "Rate limit exceeded. Sleeping for 885 seconds.\n"
     ]
    },
    {
     "name": "stdout",
     "output_type": "stream",
     "text": [
      "\n",
      "Current Number of edges from starting node 0\n",
      "Num unvisited neighbors: 64\n",
      "--------------------\n",
      "1072495536194945028\n"
     ]
    },
    {
     "ename": "KeyboardInterrupt",
     "evalue": "",
     "output_type": "error",
     "traceback": [
      "\u001b[1;31m---------------------------------------------------------------------------\u001b[0m",
      "\u001b[1;31mKeyboardInterrupt\u001b[0m                         Traceback (most recent call last)",
      "\u001b[1;32m<ipython-input-10-504fdcfe9d1b>\u001b[0m in \u001b[0;36m<module>\u001b[1;34m\u001b[0m\n\u001b[0;32m     31\u001b[0m         \u001b[1;32mfor\u001b[0m \u001b[0mi\u001b[0m \u001b[1;32min\u001b[0m \u001b[0munvisited_neighbors\u001b[0m\u001b[1;33m:\u001b[0m\u001b[1;33m\u001b[0m\u001b[1;33m\u001b[0m\u001b[0m\n\u001b[0;32m     32\u001b[0m             \u001b[0mprint\u001b[0m\u001b[1;33m(\u001b[0m\u001b[0mi\u001b[0m\u001b[1;33m)\u001b[0m\u001b[1;33m\u001b[0m\u001b[1;33m\u001b[0m\u001b[0m\n\u001b[1;32m---> 33\u001b[1;33m             \u001b[0mcurr_edgelist\u001b[0m \u001b[1;33m=\u001b[0m \u001b[0madd_this_nodes_edgelist\u001b[0m\u001b[1;33m(\u001b[0m\u001b[0mi\u001b[0m\u001b[1;33m,\u001b[0m \u001b[0mcurr_edgelist\u001b[0m\u001b[1;33m)\u001b[0m\u001b[1;33m\u001b[0m\u001b[1;33m\u001b[0m\u001b[0m\n\u001b[0m\u001b[0;32m     34\u001b[0m             \u001b[0mvisited\u001b[0m\u001b[1;33m.\u001b[0m\u001b[0madd\u001b[0m\u001b[1;33m(\u001b[0m\u001b[0mi\u001b[0m\u001b[1;33m)\u001b[0m\u001b[1;33m\u001b[0m\u001b[1;33m\u001b[0m\u001b[0m\n\u001b[0;32m     35\u001b[0m \u001b[1;33m\u001b[0m\u001b[0m\n",
      "\u001b[1;32m<ipython-input-6-cf198229a337>\u001b[0m in \u001b[0;36madd_this_nodes_edgelist\u001b[1;34m(this_acc, curr_edgelist)\u001b[0m\n\u001b[0;32m     11\u001b[0m         \u001b[1;31m# Get immediate followers/following of node and add these to curr_edgelist\u001b[0m\u001b[1;33m\u001b[0m\u001b[1;33m\u001b[0m\u001b[1;33m\u001b[0m\u001b[0m\n\u001b[0;32m     12\u001b[0m         \u001b[1;32mif\u001b[0m \u001b[0maction\u001b[0m \u001b[1;33m==\u001b[0m \u001b[1;34m'followers'\u001b[0m\u001b[1;33m:\u001b[0m\u001b[1;33m\u001b[0m\u001b[1;33m\u001b[0m\u001b[0m\n\u001b[1;32m---> 13\u001b[1;33m             request = api.get_users_followers(id=this_acc, user_auth=False, \n\u001b[0m\u001b[0;32m     14\u001b[0m                 max_results=1000, pagination_token=next_page_token, user_fields=['public_metrics'])\n\u001b[0;32m     15\u001b[0m         \u001b[1;32melif\u001b[0m \u001b[0maction\u001b[0m \u001b[1;33m==\u001b[0m \u001b[1;34m'following'\u001b[0m\u001b[1;33m:\u001b[0m\u001b[1;33m\u001b[0m\u001b[1;33m\u001b[0m\u001b[0m\n",
      "\u001b[1;32m~\\anaconda3\\lib\\site-packages\\tweepy\\client.py\u001b[0m in \u001b[0;36mget_users_followers\u001b[1;34m(self, id, user_auth, **params)\u001b[0m\n\u001b[0;32m   1410\u001b[0m         \u001b[0mhttps\u001b[0m\u001b[1;33m:\u001b[0m\u001b[1;33m//\u001b[0m\u001b[0mdeveloper\u001b[0m\u001b[1;33m.\u001b[0m\u001b[0mtwitter\u001b[0m\u001b[1;33m.\u001b[0m\u001b[0mcom\u001b[0m\u001b[1;33m/\u001b[0m\u001b[0men\u001b[0m\u001b[1;33m/\u001b[0m\u001b[0mdocs\u001b[0m\u001b[1;33m/\u001b[0m\u001b[0mtwitter\u001b[0m\u001b[1;33m-\u001b[0m\u001b[0mapi\u001b[0m\u001b[1;33m/\u001b[0m\u001b[0musers\u001b[0m\u001b[1;33m/\u001b[0m\u001b[0mfollows\u001b[0m\u001b[1;33m/\u001b[0m\u001b[0mapi\u001b[0m\u001b[1;33m-\u001b[0m\u001b[0mreference\u001b[0m\u001b[1;33m/\u001b[0m\u001b[0mget\u001b[0m\u001b[1;33m-\u001b[0m\u001b[0musers\u001b[0m\u001b[1;33m-\u001b[0m\u001b[0mid\u001b[0m\u001b[1;33m-\u001b[0m\u001b[0mfollowers\u001b[0m\u001b[1;33m\u001b[0m\u001b[1;33m\u001b[0m\u001b[0m\n\u001b[0;32m   1411\u001b[0m         \"\"\"\n\u001b[1;32m-> 1412\u001b[1;33m         return self._make_request(\n\u001b[0m\u001b[0;32m   1413\u001b[0m             \u001b[1;34m\"GET\"\u001b[0m\u001b[1;33m,\u001b[0m \u001b[1;34mf\"/2/users/{id}/followers\"\u001b[0m\u001b[1;33m,\u001b[0m \u001b[0mparams\u001b[0m\u001b[1;33m=\u001b[0m\u001b[0mparams\u001b[0m\u001b[1;33m,\u001b[0m\u001b[1;33m\u001b[0m\u001b[1;33m\u001b[0m\u001b[0m\n\u001b[0;32m   1414\u001b[0m             endpoint_parameters=(\n",
      "\u001b[1;32m~\\anaconda3\\lib\\site-packages\\tweepy\\client.py\u001b[0m in \u001b[0;36m_make_request\u001b[1;34m(self, method, route, params, endpoint_parameters, json, data_type, user_auth)\u001b[0m\n\u001b[0;32m    164\u001b[0m                 \u001b[0mlog\u001b[0m\u001b[1;33m.\u001b[0m\u001b[0mwarn\u001b[0m\u001b[1;33m(\u001b[0m\u001b[1;34mf\"Unexpected parameter: {param_name}\"\u001b[0m\u001b[1;33m)\u001b[0m\u001b[1;33m\u001b[0m\u001b[1;33m\u001b[0m\u001b[0m\n\u001b[0;32m    165\u001b[0m \u001b[1;33m\u001b[0m\u001b[0m\n\u001b[1;32m--> 166\u001b[1;33m         response = self.request(method, route, params=request_params,\n\u001b[0m\u001b[0;32m    167\u001b[0m                                 json=json, user_auth=user_auth)\n\u001b[0;32m    168\u001b[0m \u001b[1;33m\u001b[0m\u001b[0m\n",
      "\u001b[1;32m~\\anaconda3\\lib\\site-packages\\tweepy\\client.py\u001b[0m in \u001b[0;36mrequest\u001b[1;34m(self, method, route, params, json, user_auth)\u001b[0m\n\u001b[0;32m    133\u001b[0m                             \u001b[1;34mf\"Sleeping for {sleep_time} seconds.\"\u001b[0m\u001b[1;33m\u001b[0m\u001b[1;33m\u001b[0m\u001b[0m\n\u001b[0;32m    134\u001b[0m                         )\n\u001b[1;32m--> 135\u001b[1;33m                         \u001b[0mtime\u001b[0m\u001b[1;33m.\u001b[0m\u001b[0msleep\u001b[0m\u001b[1;33m(\u001b[0m\u001b[0msleep_time\u001b[0m\u001b[1;33m)\u001b[0m\u001b[1;33m\u001b[0m\u001b[1;33m\u001b[0m\u001b[0m\n\u001b[0m\u001b[0;32m    136\u001b[0m                     \u001b[1;32mreturn\u001b[0m \u001b[0mself\u001b[0m\u001b[1;33m.\u001b[0m\u001b[0mrequest\u001b[0m\u001b[1;33m(\u001b[0m\u001b[0mmethod\u001b[0m\u001b[1;33m,\u001b[0m \u001b[0mroute\u001b[0m\u001b[1;33m,\u001b[0m \u001b[0mparams\u001b[0m\u001b[1;33m,\u001b[0m \u001b[0mjson\u001b[0m\u001b[1;33m,\u001b[0m \u001b[0muser_auth\u001b[0m\u001b[1;33m)\u001b[0m\u001b[1;33m\u001b[0m\u001b[1;33m\u001b[0m\u001b[0m\n\u001b[0;32m    137\u001b[0m                 \u001b[1;32melse\u001b[0m\u001b[1;33m:\u001b[0m\u001b[1;33m\u001b[0m\u001b[1;33m\u001b[0m\u001b[0m\n",
      "\u001b[1;31mKeyboardInterrupt\u001b[0m: "
     ]
    }
   ],
   "source": [
    "cols=['originating_id', 'receiving_id', \n",
    "          'originating_following_count', 'originating_follower_count',\n",
    "         'receiving_following_count', 'receiving_follower_count']\n",
    "\n",
    "# Process human accounts \n",
    "small_human_accs = small.loc[small.label == 'human']\n",
    "small_human_accs['sum_follows'] = small_human_accs['followers_count'] + small_human_accs['following_count']\n",
    "small_human_accs.sort_values('sum_follows',inplace=True)\n",
    "small_human_accs.head()\n",
    "\n",
    "# Create Edgelists for each account in the filtered botometer dataset.\n",
    "for starting_acc, label in zip(small_human_accs.twitter_id, small_human_accs.label):\n",
    "    if starting_acc in already_processed:\n",
    "        continue\n",
    "    print(f'Starting node == {starting_acc}')\n",
    "    # Initialization code for populating edgelist starting from node specified by \"starting_acc\"\n",
    "    edgelist = pd.DataFrame(columns=cols)\n",
    "\n",
    "    degrees_of_separation = 0\n",
    "\n",
    "    visited = set()\n",
    "    visited.add(starting_acc)\n",
    "\n",
    "    edgelist = add_this_nodes_edgelist(starting_acc, edgelist) \n",
    "    edgelist, degrees_of_separation, unvisited_neighbors = transition_to_next_separation_degree(edgelist, degrees_of_separation)\n",
    "    \n",
    "    # iterate thru all unvisited neighbors with 2 degree of separation from starting (labeled) node\n",
    "    # process df in chunks before concatenating\n",
    "    while degrees_of_separation <= 1:\n",
    "        curr_edgelist = pd.DataFrame(columns=cols)\n",
    "        for i in unvisited_neighbors:\n",
    "            print(i)\n",
    "            curr_edgelist = add_this_nodes_edgelist(i, curr_edgelist)\n",
    "            visited.add(i)\n",
    "        \n",
    "        curr_edgelist, degrees_of_separation, unvisited_neighbors = transition_to_next_separation_degree(curr_edgelist, degrees_of_separation)\n",
    "        edgelist = pd.concat([edgelist, curr_edgelist])\n",
    "\n",
    "    # Save in directory\n",
    "    fn = 'edgelist_2_deg_' + str(starting_acc) + '.pkl'\n",
    "    path = str(label) + '/' + fn\n",
    "    edgelist.to_pickle(path)\n",
    "    \n",
    "    # Add twitter id to already processed list\n",
    "    already_processed.append(starting_acc)"
   ]
  },
  {
   "cell_type": "code",
   "execution_count": null,
   "id": "d73fb6b8-d9d5-4742-85db-db672cc9b1c6",
   "metadata": {},
   "outputs": [],
   "source": []
  }
 ],
 "metadata": {
  "kernelspec": {
   "display_name": "Python 3",
   "language": "python",
   "name": "python3"
  },
  "language_info": {
   "codemirror_mode": {
    "name": "ipython",
    "version": 3
   },
   "file_extension": ".py",
   "mimetype": "text/x-python",
   "name": "python",
   "nbconvert_exporter": "python",
   "pygments_lexer": "ipython3",
   "version": "3.8.8"
  }
 },
 "nbformat": 4,
 "nbformat_minor": 5
}
