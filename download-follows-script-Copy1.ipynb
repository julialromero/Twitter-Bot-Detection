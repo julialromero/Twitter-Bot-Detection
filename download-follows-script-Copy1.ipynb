{
 "cells": [
  {
   "cell_type": "code",
   "execution_count": 1,
   "id": "4af467a7",
   "metadata": {},
   "outputs": [],
   "source": [
    "import pandas as pd\n",
    "import numpy as np\n",
    "import networkx as nx\n",
    "import json\n",
    "import requests"
   ]
  },
  {
   "cell_type": "code",
   "execution_count": 2,
   "id": "8c9ab5d3",
   "metadata": {},
   "outputs": [],
   "source": [
    "import tweepy\n",
    "from tweepy import Client\n",
    "\n",
    "key = 'B81Sj4ifYRstLZGMyMDM0roG3'\n",
    "secret = 'c1Rg4vdyl2mjMEC7WKDsVLTz2IlqTHy1yezn71Y9cw3LgZaxAW'\n",
    "token = 'AAAAAAAAAAAAAAAAAAAAAD6eWQEAAAAABtT80i7lkSemhYsuOIjy4O4xLQs%3DkfsByhRoXQ9odyT51sECR1vXxOLKxdtOON2Ij4OODdAt8jTcGY'\n",
    "\n",
    "# key='CSh1kvK1gpxzyhl8GYuMa0RIv'\n",
    "# secret='yfgNtKNVeqdjqktu9lR4eK0oEt68KjXhVV8jJOJgvqrvpFbL9N'\n",
    "# token='AAAAAAAAAAAAAAAAAAAAAOCeVAEAAAAABD8nomZEvbNVV3p7dFOVkhm5Kv8%3DritcqLa43rGxvmEUXtuSVp6fwDKsONk6hbgPVGyjmqI72ueB9W'\n",
    "\n",
    "\n",
    "api = tweepy.Client(bearer_token=token, consumer_key=key, consumer_secret=secret, \n",
    "              return_type=requests.Response,\n",
    "              wait_on_rate_limit=True)"
   ]
  },
  {
   "cell_type": "code",
   "execution_count": 4,
   "id": "bad63145",
   "metadata": {},
   "outputs": [],
   "source": [
    "import os\n",
    "\n",
    "already_processed = []\n",
    " \n",
    "for name in os.listdir('human'):\n",
    "    if os.path.isdir(name):\n",
    "        continue\n",
    "    list_name = name.replace('.pkl','').replace('edgelist_2_deg_','')\n",
    "    already_processed.append(int(list_name))"
   ]
  },
  {
   "cell_type": "code",
   "execution_count": 5,
   "id": "0290c8a0",
   "metadata": {},
   "outputs": [
    {
     "data": {
      "text/html": [
       "<div>\n",
       "<style scoped>\n",
       "    .dataframe tbody tr th:only-of-type {\n",
       "        vertical-align: middle;\n",
       "    }\n",
       "\n",
       "    .dataframe tbody tr th {\n",
       "        vertical-align: top;\n",
       "    }\n",
       "\n",
       "    .dataframe thead th {\n",
       "        text-align: right;\n",
       "    }\n",
       "</style>\n",
       "<table border=\"1\" class=\"dataframe\">\n",
       "  <thead>\n",
       "    <tr style=\"text-align: right;\">\n",
       "      <th></th>\n",
       "      <th>twitter_id</th>\n",
       "      <th>followers_count</th>\n",
       "      <th>following_count</th>\n",
       "      <th>label</th>\n",
       "    </tr>\n",
       "  </thead>\n",
       "  <tbody>\n",
       "    <tr>\n",
       "      <th>0</th>\n",
       "      <td>461277906</td>\n",
       "      <td>380850</td>\n",
       "      <td>2913</td>\n",
       "      <td>bot</td>\n",
       "    </tr>\n",
       "    <tr>\n",
       "      <th>1</th>\n",
       "      <td>808280162</td>\n",
       "      <td>23363</td>\n",
       "      <td>340</td>\n",
       "      <td>bot</td>\n",
       "    </tr>\n",
       "    <tr>\n",
       "      <th>2</th>\n",
       "      <td>1575510320</td>\n",
       "      <td>120435</td>\n",
       "      <td>108954</td>\n",
       "      <td>bot</td>\n",
       "    </tr>\n",
       "    <tr>\n",
       "      <th>3</th>\n",
       "      <td>2449235599</td>\n",
       "      <td>25581</td>\n",
       "      <td>16</td>\n",
       "      <td>bot</td>\n",
       "    </tr>\n",
       "    <tr>\n",
       "      <th>4</th>\n",
       "      <td>1113769100</td>\n",
       "      <td>73720</td>\n",
       "      <td>77585</td>\n",
       "      <td>bot</td>\n",
       "    </tr>\n",
       "  </tbody>\n",
       "</table>\n",
       "</div>"
      ],
      "text/plain": [
       "   twitter_id  followers_count  following_count label\n",
       "0   461277906           380850             2913   bot\n",
       "1   808280162            23363              340   bot\n",
       "2  1575510320           120435           108954   bot\n",
       "3  2449235599            25581               16   bot\n",
       "4  1113769100            73720            77585   bot"
      ]
     },
     "execution_count": 5,
     "metadata": {},
     "output_type": "execute_result"
    }
   ],
   "source": [
    "combined = pd.read_pickle('node_and_degree_list.pkl')\n",
    "combined.head()"
   ]
  },
  {
   "cell_type": "code",
   "execution_count": 6,
   "id": "7af1e6e7",
   "metadata": {},
   "outputs": [
    {
     "name": "stdout",
     "output_type": "stream",
     "text": [
      "BEFORE FILTERING\n",
      "Total accounts: 2263\n",
      "Bot accounts: 959\n",
      "Human accounts: 1304\n",
      "____________________\n",
      "AFTER FILTERING\n",
      "Total accounts: 458\n",
      "Bot accounts: 193\n",
      "Human accounts: 265\n"
     ]
    }
   ],
   "source": [
    "# Set follower/following threshold\n",
    "thresh = 1000\n",
    "\n",
    "print('BEFORE FILTERING')\n",
    "print(f'Total accounts: {combined.shape[0]}')\n",
    "nb = combined.loc[combined.label == 'bot'].shape[0]\n",
    "nh = combined.loc[combined.label == 'human'].shape[0]\n",
    "print(f'Bot accounts: {nb}')\n",
    "print(f'Human accounts: {nh}')\n",
    "print('____________________')\n",
    "\n",
    "\n",
    "# Drop accounts that exceed threshold\n",
    "indeg_a\n",
    "\n",
    "print('AFTER FILTERING')\n",
    "print(f'Total accounts: {small.shape[0]}')\n",
    "nb = small.loc[small.label == 'bot'].shape[0]\n",
    "nh = small.loc[small.label == 'human'].shape[0]\n",
    "print(f'Bot accounts: {nb}')\n",
    "print(f'Human accounts: {nh}')"
   ]
  },
  {
   "cell_type": "code",
   "execution_count": 7,
   "id": "04212324",
   "metadata": {},
   "outputs": [
    {
     "data": {
      "text/html": [
       "<div>\n",
       "<style scoped>\n",
       "    .dataframe tbody tr th:only-of-type {\n",
       "        vertical-align: middle;\n",
       "    }\n",
       "\n",
       "    .dataframe tbody tr th {\n",
       "        vertical-align: top;\n",
       "    }\n",
       "\n",
       "    .dataframe thead th {\n",
       "        text-align: right;\n",
       "    }\n",
       "</style>\n",
       "<table border=\"1\" class=\"dataframe\">\n",
       "  <thead>\n",
       "    <tr style=\"text-align: right;\">\n",
       "      <th></th>\n",
       "      <th>twitter_id</th>\n",
       "      <th>followers_count</th>\n",
       "      <th>following_count</th>\n",
       "      <th>label</th>\n",
       "    </tr>\n",
       "  </thead>\n",
       "  <tbody>\n",
       "    <tr>\n",
       "      <th>24</th>\n",
       "      <td>4307623643</td>\n",
       "      <td>59</td>\n",
       "      <td>4</td>\n",
       "      <td>bot</td>\n",
       "    </tr>\n",
       "    <tr>\n",
       "      <th>36</th>\n",
       "      <td>844779426260791296</td>\n",
       "      <td>768</td>\n",
       "      <td>1</td>\n",
       "      <td>bot</td>\n",
       "    </tr>\n",
       "    <tr>\n",
       "      <th>83</th>\n",
       "      <td>837316817324556289</td>\n",
       "      <td>182</td>\n",
       "      <td>6</td>\n",
       "      <td>bot</td>\n",
       "    </tr>\n",
       "    <tr>\n",
       "      <th>137</th>\n",
       "      <td>913028718377005056</td>\n",
       "      <td>87</td>\n",
       "      <td>147</td>\n",
       "      <td>bot</td>\n",
       "    </tr>\n",
       "    <tr>\n",
       "      <th>175</th>\n",
       "      <td>790017240733278208</td>\n",
       "      <td>19</td>\n",
       "      <td>47</td>\n",
       "      <td>bot</td>\n",
       "    </tr>\n",
       "  </tbody>\n",
       "</table>\n",
       "</div>"
      ],
      "text/plain": [
       "             twitter_id  followers_count  following_count label\n",
       "24           4307623643               59                4   bot\n",
       "36   844779426260791296              768                1   bot\n",
       "83   837316817324556289              182                6   bot\n",
       "137  913028718377005056               87              147   bot\n",
       "175  790017240733278208               19               47   bot"
      ]
     },
     "execution_count": 7,
     "metadata": {},
     "output_type": "execute_result"
    }
   ],
   "source": [
    "# Small df contains accounts meeting threshold criteria\n",
    "small.head()"
   ]
  },
  {
   "cell_type": "code",
   "execution_count": 8,
   "id": "e63aac46",
   "metadata": {},
   "outputs": [],
   "source": [
    "# Create curr_edgelist for a network including nodes up to 3 degrees of separation (3 links away)\n",
    "def add_this_nodes_edgelist(this_acc, curr_edgelist):\n",
    "    next_page_token = None\n",
    "    visited.add(this_acc)\n",
    "\n",
    "    action = 'followers'\n",
    "    follow_list = []\n",
    "    this_acc_num_following = []    \n",
    "    this_acc_num_followers = []\n",
    "    while True:\n",
    "        # Get immediate followers/following of node and add these to curr_edgelist\n",
    "        if action == 'followers':\n",
    "            request = api.get_users_followers(id=this_acc, user_auth=False, \n",
    "                max_results=1000, pagination_token=next_page_token, user_fields=['public_metrics'])\n",
    "        elif action == 'following':\n",
    "            request = api.get_users_following(id=this_acc, user_auth=False, \n",
    "                max_results=1000, pagination_token=next_page_token, user_fields=['public_metrics'])\n",
    "\n",
    "        data = request.json()\n",
    "\n",
    "        # for each account following/followed by the originating account, record account id, \n",
    "        # num following, and num followed by\n",
    "        try:\n",
    "            for acc in data['data']:\n",
    "                follow_list.append(acc['id'])\n",
    "                num_following = acc['public_metrics']['following_count']\n",
    "                num_followed_by = acc['public_metrics']['followers_count']\n",
    "                this_acc_num_following.append(num_following)\n",
    "                this_acc_num_followers.append(num_followed_by)\n",
    "\n",
    "            this_acc_list = [this_acc for i in range(len(follow_list))]\n",
    "\n",
    "        # Catch errors if not authorized to view user\n",
    "        except Exception as e:\n",
    "            print('Exception: issue retrieving follow lists for this account -- Skipping.')\n",
    "            return curr_edgelist\n",
    "            \n",
    "            \n",
    "        if 'next_token' in data['meta'].keys():    # get page token for next request\n",
    "                next_page_token = data['meta']['next_token']\n",
    "        \n",
    "        # when all data recorded transition to next action\n",
    "        else:\n",
    "            next_page_token = None\n",
    "            if action == 'followers':\n",
    "                d = {'originating_id': follow_list,\n",
    "                    'receiving_id': this_acc_list,\n",
    "                    'originating_following_count': this_acc_num_following, \n",
    "                    'originating_follower_count': this_acc_num_followers}\n",
    "                edges_to_add = pd.DataFrame(d)\n",
    "                curr_edgelist = pd.concat([curr_edgelist, edges_to_add])\n",
    "\n",
    "                action = 'following'\n",
    "\n",
    "                # reset lists\n",
    "                follow_list = []\n",
    "                this_acc_num_following = []    \n",
    "                this_acc_num_followers = []\n",
    "\n",
    "            elif action == 'following':\n",
    "                d = {'originating_id': this_acc_list,\n",
    "                    'receiving_id': follow_list,\n",
    "                    'receiving_following_count': this_acc_num_following, \n",
    "                    'receiving_follower_count': this_acc_num_followers}\n",
    "                edges_to_add = pd.DataFrame(d)\n",
    "                curr_edgelist = pd.concat([curr_edgelist, edges_to_add])\n",
    "\n",
    "                next_page_token = None\n",
    "\n",
    "                return curr_edgelist"
   ]
  },
  {
   "cell_type": "code",
   "execution_count": 9,
   "id": "b4c77d3e",
   "metadata": {},
   "outputs": [],
   "source": [
    "def transition_to_next_separation_degree(curr_edgelist, degrees_of_separation):\n",
    "    try:\n",
    "        # Drop all nodes with followers or following more than threshold\n",
    "        to_drop = (curr_edgelist.originating_following_count > thresh) | \\\n",
    "            (curr_edgelist.originating_follower_count > thresh) | \\\n",
    "            (curr_edgelist.receiving_following_count > thresh) | \\\n",
    "            (curr_edgelist.receiving_follower_count > thresh)\n",
    "        curr_edgelist.drop(index = curr_edgelist[to_drop].index, inplace=True)\n",
    "\n",
    "        # create list of all neighbors in curr_edgelist df\n",
    "        unvisited_neighbors = list(curr_edgelist.originating_id.append(curr_edgelist.receiving_id).unique())\n",
    "\n",
    "        # if any nodes are in visited set, remove\n",
    "        [unvisited_neighbors.remove(i) for i in unvisited_neighbors if i in visited]\n",
    "\n",
    "        print()\n",
    "        print(f'Current Number of edges from starting node {degrees_of_separation}')\n",
    "        print(f'Num unvisited neighbors: {len(unvisited_neighbors)}')\n",
    "        print('--------------------')\n",
    "        degrees_of_separation +=1 \n",
    "    \n",
    "        return curr_edgelist, degrees_of_separation, unvisited_neighbors\n",
    "    \n",
    "    \n",
    "    except Exception as e:\n",
    "        print(e)\n",
    "        print('--------------------EXCEPTION--------------------')\n",
    "        return curr_edgelist, degrees_of_separation, []\n",
    "        \n",
    "    "
   ]
  },
  {
   "cell_type": "code",
   "execution_count": 11,
   "id": "18262f7b",
   "metadata": {},
   "outputs": [],
   "source": [
    "from tqdm.notebook import tqdm"
   ]
  },
  {
   "cell_type": "code",
   "execution_count": 24,
   "id": "14fa86bb",
   "metadata": {},
   "outputs": [
    {
     "name": "stdout",
     "output_type": "stream",
     "text": [
      "Starting node == 2959147470\n",
      "\n",
      "Current Number of edges from starting node 0\n",
      "Num unvisited neighbors: 579\n",
      "--------------------\n"
     ]
    },
    {
     "data": {
      "application/vnd.jupyter.widget-view+json": {
       "model_id": "52c140ad679647dba1e071790672e8f0",
       "version_major": 2,
       "version_minor": 0
      },
      "text/plain": [
       "  0%|          | 0/579 [00:00<?, ?it/s]"
      ]
     },
     "metadata": {},
     "output_type": "display_data"
    },
    {
     "name": "stdout",
     "output_type": "stream",
     "text": [
      "1035390290541137920\n",
      "1369897023391072266\n",
      "1067201510587736065\n",
      "808266212102782977\n",
      "800246957620871169\n",
      "2944350649\n",
      "746132211900907520\n",
      "744784003358593024\n",
      "4909711613\n",
      "2505820316\n",
      "741059444167970816\n",
      "701230614079414272\n",
      "2518832012\n",
      "1850045406\n"
     ]
    },
    {
     "name": "stderr",
     "output_type": "stream",
     "text": [
      "Rate limit exceeded. Sleeping for 893 seconds.\n"
     ]
    },
    {
     "name": "stdout",
     "output_type": "stream",
     "text": [
      "742938341822304256\n",
      "2576689992\n",
      "Exception: issue retrieving follow lists for this account -- Skipping.\n",
      "3274938836\n",
      "737489587740758016\n",
      "740151655249780738\n",
      "739516461274652673\n",
      "739523653008797697\n",
      "738248103711510528\n",
      "722791897333383168\n",
      "3371771055\n",
      "735617043571974144\n",
      "735179742215843840\n",
      "734996649806729217\n",
      "4794320760\n",
      "734461759520669696\n"
     ]
    },
    {
     "name": "stderr",
     "output_type": "stream",
     "text": [
      "Rate limit exceeded. Sleeping for 893 seconds.\n"
     ]
    },
    {
     "name": "stdout",
     "output_type": "stream",
     "text": [
      "730622529740492800\n",
      "727986945645785088\n",
      "719804278844600320\n",
      "603157284\n",
      "728354826422202369\n",
      "713024357380005890\n",
      "3173007839\n",
      "4865308259\n",
      "4313409880\n",
      "722959385190789120\n",
      "720779248202563585\n",
      "720056601554452480\n",
      "718824767890067456\n",
      "3346256620\n",
      "716411098577178628\n"
     ]
    },
    {
     "name": "stderr",
     "output_type": "stream",
     "text": [
      "Rate limit exceeded. Sleeping for 892 seconds.\n"
     ]
    },
    {
     "name": "stdout",
     "output_type": "stream",
     "text": [
      "714526585718710272\n",
      "2488546442\n",
      "715720370012229632\n",
      "714643725335601153\n",
      "701908796508151809\n",
      "715141745185464324\n",
      "714045891204620288\n",
      "3386376503\n",
      "705487927145426944\n",
      "704397175036452864\n",
      "712090324986822656\n",
      "1643833884\n",
      "704441220169240576\n",
      "3303414831\n",
      "399698150\n"
     ]
    },
    {
     "name": "stderr",
     "output_type": "stream",
     "text": [
      "Rate limit exceeded. Sleeping for 893 seconds.\n"
     ]
    },
    {
     "name": "stdout",
     "output_type": "stream",
     "text": [
      "711438943397539840\n",
      "710639385247481856\n",
      "710229166440980480\n",
      "709558793961480192\n",
      "709384783411937280\n",
      "708936923138535424\n",
      "3013782166\n",
      "4687637689\n",
      "3250902164\n",
      "2432490800\n",
      "701999681685983232\n",
      "4818281684\n",
      "699151680034582528\n",
      "4898775944\n",
      "4917558557\n"
     ]
    },
    {
     "name": "stderr",
     "output_type": "stream",
     "text": [
      "Rate limit exceeded. Sleeping for 893 seconds.\n"
     ]
    },
    {
     "name": "stdout",
     "output_type": "stream",
     "text": [
      "3090034155\n",
      "3239439925\n",
      "698771214433521664\n",
      "4904209010\n",
      "4692374238\n",
      "4665147443\n",
      "4298732543\n",
      "4861370022\n",
      "4853608936\n",
      "4592290214\n",
      "4847337732\n",
      "4865794960\n",
      "3427121549\n",
      "4865907112\n",
      "4867603540\n"
     ]
    },
    {
     "name": "stderr",
     "output_type": "stream",
     "text": [
      "Rate limit exceeded. Sleeping for 894 seconds.\n"
     ]
    },
    {
     "name": "stdout",
     "output_type": "stream",
     "text": [
      "4729312367\n",
      "3344477369\n",
      "2545537296\n",
      "2990530270\n",
      "Exception: issue retrieving follow lists for this account -- Skipping.\n",
      "4801539193\n",
      "2991901590\n",
      "2345737062\n",
      "4851542428\n",
      "2959547321\n",
      "Exception: issue retrieving follow lists for this account -- Skipping.\n",
      "3322901869\n",
      "2424930217\n",
      "3249984794\n",
      "4738075677\n",
      "3430626856\n",
      "2547894745\n"
     ]
    },
    {
     "name": "stderr",
     "output_type": "stream",
     "text": [
      "Rate limit exceeded. Sleeping for 895 seconds.\n"
     ]
    },
    {
     "name": "stdout",
     "output_type": "stream",
     "text": [
      "849622555\n",
      "4512771494\n",
      "4731924322\n",
      "4738127789\n",
      "4582313232\n",
      "2920636979\n",
      "4605977483\n",
      "4023820099\n",
      "3367810786\n",
      "2481773032\n",
      "2447150156\n",
      "2930243688\n",
      "4809415213\n",
      "3026996258\n",
      "4808201221\n"
     ]
    },
    {
     "name": "stderr",
     "output_type": "stream",
     "text": [
      "Rate limit exceeded. Sleeping for 893 seconds.\n"
     ]
    },
    {
     "name": "stdout",
     "output_type": "stream",
     "text": [
      "4779291271\n",
      "4839979114\n",
      "Exception: issue retrieving follow lists for this account -- Skipping.\n",
      "4831004044\n",
      "4827468185\n",
      "4691233513\n",
      "4766676265\n",
      "4773781515\n",
      "4770049161\n",
      "4779777395\n",
      "4596385882\n",
      "4092429549\n",
      "Exception: issue retrieving follow lists for this account -- Skipping.\n",
      "4751610445\n",
      "3068830168\n",
      "4747291783\n",
      "4746461653\n"
     ]
    },
    {
     "name": "stderr",
     "output_type": "stream",
     "text": [
      "Rate limit exceeded. Sleeping for 896 seconds.\n"
     ]
    },
    {
     "name": "stdout",
     "output_type": "stream",
     "text": [
      "4598295324\n",
      "4745226006\n",
      "3296314116\n",
      "Exception: issue retrieving follow lists for this account -- Skipping.\n",
      "4745253374\n",
      "4329885387\n",
      "4768132294\n",
      "3497565496\n",
      "4388122288\n",
      "4739947368\n",
      "2921131448\n",
      "2273688704\n",
      "4735801735\n",
      "39108509\n",
      "4707645679\n",
      "4758026434\n"
     ]
    },
    {
     "name": "stderr",
     "output_type": "stream",
     "text": [
      "Rate limit exceeded. Sleeping for 895 seconds.\n"
     ]
    },
    {
     "name": "stdout",
     "output_type": "stream",
     "text": [
      "346022651\n",
      "4711953923\n",
      "4310979147\n",
      "4729505483\n",
      "3226710944\n",
      "4707292980\n",
      "3907735549\n",
      "2942202853\n",
      "4706913597\n",
      "4705171399\n",
      "3324157702\n",
      "1458726642\n",
      "3409130375\n",
      "4699468848\n",
      "2941120462\n"
     ]
    },
    {
     "name": "stderr",
     "output_type": "stream",
     "text": [
      "Rate limit exceeded. Sleeping for 892 seconds.\n"
     ]
    },
    {
     "name": "stdout",
     "output_type": "stream",
     "text": [
      "4698969038\n",
      "109669312\n",
      "152742537\n",
      "4146864322\n",
      "3183184807\n",
      "4665852133\n",
      "336668785\n",
      "3325919470\n",
      "2455729553\n",
      "3386724674\n",
      "2736876352\n",
      "2801214064\n",
      "4387575556\n",
      "3385333625\n",
      "3237753562\n"
     ]
    },
    {
     "name": "stderr",
     "output_type": "stream",
     "text": [
      "Rate limit exceeded. Sleeping for 892 seconds.\n"
     ]
    },
    {
     "name": "stdout",
     "output_type": "stream",
     "text": [
      "3198389228\n",
      "3249681658\n",
      "2946598868\n",
      "2571087623\n",
      "4616897714\n",
      "Exception: issue retrieving follow lists for this account -- Skipping.\n",
      "2850800925\n",
      "343513826\n",
      "3040188720\n",
      "2895441965\n",
      "4108174684\n",
      "3412272733\n",
      "4650573631\n",
      "2397099141\n",
      "2406187384\n",
      "Exception: issue retrieving follow lists for this account -- Skipping.\n",
      "2931658100\n"
     ]
    },
    {
     "name": "stderr",
     "output_type": "stream",
     "text": [
      "Rate limit exceeded. Sleeping for 895 seconds.\n"
     ]
    },
    {
     "name": "stdout",
     "output_type": "stream",
     "text": [
      "4647064633\n",
      "4513107493\n",
      "2149995210\n",
      "2837572507\n",
      "4453298189\n",
      "4416901693\n",
      "3449735413\n",
      "2448723232\n",
      "2876939335\n",
      "4568944633\n",
      "4619332045\n",
      "2952708170\n",
      "Exception: issue retrieving follow lists for this account -- Skipping.\n",
      "2853997899\n",
      "468895780\n",
      "3161558825\n"
     ]
    },
    {
     "name": "stderr",
     "output_type": "stream",
     "text": [
      "Rate limit exceeded. Sleeping for 894 seconds.\n"
     ]
    },
    {
     "name": "stdout",
     "output_type": "stream",
     "text": [
      "2908017225\n",
      "1110697376\n",
      "3218234105\n",
      "3344574964\n",
      "4646615835\n",
      "Exception: issue retrieving follow lists for this account -- Skipping.\n",
      "887677400\n",
      "Exception: issue retrieving follow lists for this account -- Skipping.\n",
      "4650438095\n",
      "4644049034\n",
      "3239880826\n",
      "3327722233\n",
      "4617507736\n",
      "3343575593\n",
      "4565248395\n",
      "4616401392\n",
      "3088303334\n"
     ]
    },
    {
     "name": "stderr",
     "output_type": "stream",
     "text": [
      "Rate limit exceeded. Sleeping for 894 seconds.\n"
     ]
    },
    {
     "name": "stdout",
     "output_type": "stream",
     "text": [
      "4227585567\n",
      "4519473945\n",
      "1976982174\n",
      "4477370056\n",
      "4472716815\n",
      "3093677631\n",
      "4432856843\n",
      "4225373518\n",
      "4268218101\n",
      "242622852\n",
      "4405899678\n",
      "3188889377\n",
      "3395126579\n",
      "3283821786\n",
      "3902872998\n"
     ]
    },
    {
     "name": "stderr",
     "output_type": "stream",
     "text": [
      "Rate limit exceeded. Sleeping for 891 seconds.\n"
     ]
    },
    {
     "name": "stdout",
     "output_type": "stream",
     "text": [
      "4079932633\n",
      "4046967616\n",
      "4011275189\n",
      "4012322963\n",
      "2997517820\n",
      "3157782992\n",
      "3277883790\n",
      "2918214068\n",
      "3838447137\n",
      "3841435278\n",
      "Exception: issue retrieving follow lists for this account -- Skipping.\n",
      "3879914615\n",
      "3271210242\n",
      "3866889975\n",
      "3663922034\n",
      "3380748745\n"
     ]
    },
    {
     "name": "stderr",
     "output_type": "stream",
     "text": [
      "Rate limit exceeded. Sleeping for 894 seconds.\n"
     ]
    },
    {
     "name": "stdout",
     "output_type": "stream",
     "text": [
      "3075978808\n",
      "3399702958\n",
      "1388277846\n",
      "2876708752\n",
      "445622185\n",
      "3666707715\n",
      "3485699902\n",
      "3509650333\n",
      "3489811639\n",
      "3316432705\n",
      "3568737557\n",
      "3318984990\n",
      "3419354489\n",
      "2490396607\n"
     ]
    },
    {
     "name": "stderr",
     "output_type": "stream",
     "text": [
      "Rate limit exceeded. Sleeping for 894 seconds.\n"
     ]
    },
    {
     "name": "stdout",
     "output_type": "stream",
     "text": [
      "3266729162\n",
      "Exception: issue retrieving follow lists for this account -- Skipping.\n",
      "3222868039\n",
      "3473883735\n",
      "3470206474\n",
      "3396471682\n",
      "3436970824\n",
      "Exception: issue retrieving follow lists for this account -- Skipping.\n",
      "2903256754\n",
      "3178310339\n",
      "2423070336\n",
      "3140850013\n",
      "2296171046\n",
      "3430866609\n",
      "3432145749\n",
      "3312603382\n",
      "2939500564\n"
     ]
    },
    {
     "name": "stderr",
     "output_type": "stream",
     "text": [
      "Rate limit exceeded. Sleeping for 894 seconds.\n"
     ]
    },
    {
     "name": "stdout",
     "output_type": "stream",
     "text": [
      "3112302990\n",
      "Exception: issue retrieving follow lists for this account -- Skipping.\n",
      "3296678193\n",
      "3232305103\n",
      "Exception: issue retrieving follow lists for this account -- Skipping.\n",
      "3279225582\n",
      "2477747923\n",
      "1678289340\n",
      "Exception: issue retrieving follow lists for this account -- Skipping.\n",
      "3169138357\n",
      "3001751381\n",
      "2931080529\n",
      "3165136281\n",
      "2960155438\n",
      "3319433274\n",
      "3332259221\n",
      "3296043876\n",
      "3317130794\n",
      "3317435036\n"
     ]
    },
    {
     "name": "stderr",
     "output_type": "stream",
     "text": [
      "Rate limit exceeded. Sleeping for 895 seconds.\n"
     ]
    },
    {
     "name": "stdout",
     "output_type": "stream",
     "text": [
      "3427151523\n",
      "3316965997\n",
      "3298978950\n",
      "3422448293\n",
      "3236271954\n",
      "604945293\n",
      "3405470530\n",
      "3306492480\n",
      "2410888178\n",
      "3305929676\n",
      "3196382548\n",
      "3236216358\n",
      "235595828\n",
      "Exception: issue retrieving follow lists for this account -- Skipping.\n",
      "2959547409\n",
      "3285974402\n"
     ]
    },
    {
     "name": "stderr",
     "output_type": "stream",
     "text": [
      "Rate limit exceeded. Sleeping for 893 seconds.\n"
     ]
    },
    {
     "name": "stdout",
     "output_type": "stream",
     "text": [
      "3286202023\n",
      "3384810405\n",
      "3384645047\n",
      "3284723624\n",
      "45662318\n",
      "3234415242\n",
      "3376296675\n",
      "3277630098\n",
      "3028643184\n",
      "3361470675\n",
      "3235131408\n",
      "3369640139\n",
      "3273320034\n",
      "357163569\n",
      "3366539117\n"
     ]
    },
    {
     "name": "stderr",
     "output_type": "stream",
     "text": [
      "Rate limit exceeded. Sleeping for 895 seconds.\n"
     ]
    },
    {
     "name": "stdout",
     "output_type": "stream",
     "text": [
      "633462954\n",
      "3358165313\n",
      "3343003612\n",
      "2216817589\n",
      "3347114991\n",
      "3239310234\n",
      "3245489298\n",
      "465197587\n",
      "3305425996\n",
      "2602250429\n",
      "3010634767\n",
      "3238118366\n",
      "3345639503\n",
      "3243486042\n",
      "3342679739\n"
     ]
    },
    {
     "name": "stderr",
     "output_type": "stream",
     "text": [
      "Rate limit exceeded. Sleeping for 893 seconds.\n"
     ]
    },
    {
     "name": "stdout",
     "output_type": "stream",
     "text": [
      "3289398281\n",
      "3234911522\n",
      "3250851758\n",
      "3249262370\n",
      "3248292001\n",
      "3331837311\n",
      "3246125954\n",
      "2941297816\n",
      "3257511317\n",
      "2964614082\n",
      "2214893169\n",
      "3186572288\n",
      "2822161046\n",
      "2946260945\n",
      "3255066233\n"
     ]
    },
    {
     "name": "stderr",
     "output_type": "stream",
     "text": [
      "Rate limit exceeded. Sleeping for 893 seconds.\n"
     ]
    },
    {
     "name": "stdout",
     "output_type": "stream",
     "text": [
      "2926037158\n",
      "Exception: issue retrieving follow lists for this account -- Skipping.\n",
      "2993351633\n",
      "2346047550\n",
      "3235446769\n",
      "2780963976\n",
      "2198754313\n",
      "906729162\n",
      "2930254584\n",
      "3243891433\n",
      "3243842419\n",
      "2521891039\n",
      "3116438035\n",
      "3242649337\n",
      "3287567825\n",
      "2895093836\n"
     ]
    },
    {
     "name": "stderr",
     "output_type": "stream",
     "text": [
      "Rate limit exceeded. Sleeping for 893 seconds.\n"
     ]
    },
    {
     "name": "stdout",
     "output_type": "stream",
     "text": [
      "539623464\n",
      "3307639642\n",
      "3316035598\n",
      "3311974301\n",
      "3305146697\n",
      "2588898020\n",
      "3309768867\n",
      "3122758254\n",
      "3309713074\n",
      "3197887573\n",
      "3236209273\n",
      "3228408560\n",
      "3214355168\n",
      "3297101422\n",
      "3304280685\n"
     ]
    },
    {
     "name": "stderr",
     "output_type": "stream",
     "text": [
      "Rate limit exceeded. Sleeping for 891 seconds.\n"
     ]
    },
    {
     "name": "stdout",
     "output_type": "stream",
     "text": [
      "1355062753\n",
      "3231232255\n",
      "3249783209\n",
      "3222565784\n",
      "3294745205\n",
      "3227307684\n",
      "3223920403\n",
      "3294610462\n",
      "3183131629\n",
      "3294119991\n",
      "1160661798\n",
      "3079734136\n",
      "2957089749\n",
      "2345788992\n",
      "Exception: issue retrieving follow lists for this account -- Skipping.\n",
      "2830299603\n"
     ]
    },
    {
     "name": "stderr",
     "output_type": "stream",
     "text": [
      "Rate limit exceeded. Sleeping for 894 seconds.\n"
     ]
    },
    {
     "name": "stdout",
     "output_type": "stream",
     "text": [
      "3196850869\n",
      "2940306004\n",
      "3190216320\n",
      "3142569121\n",
      "1497777306\n",
      "3087722339\n",
      "3227497575\n",
      "3181063778\n",
      "3229938435\n",
      "3177824558\n",
      "3019032457\n",
      "2996441385\n",
      "3188024920\n",
      "448496119\n",
      "Exception: issue retrieving follow lists for this account -- Skipping.\n",
      "3183151018\n"
     ]
    },
    {
     "name": "stderr",
     "output_type": "stream",
     "text": [
      "Rate limit exceeded. Sleeping for 892 seconds.\n"
     ]
    },
    {
     "name": "stdout",
     "output_type": "stream",
     "text": [
      "3163210364\n",
      "2697177275\n",
      "2935166830\n",
      "3157644104\n",
      "2270324742\n",
      "3178594383\n",
      "3134756728\n",
      "3148529755\n",
      "3145562857\n",
      "2491863390\n",
      "3128684531\n",
      "3157991237\n",
      "2222164584\n",
      "3154111943\n",
      "3154719525\n"
     ]
    },
    {
     "name": "stderr",
     "output_type": "stream",
     "text": [
      "Rate limit exceeded. Sleeping for 873 seconds.\n"
     ]
    },
    {
     "name": "stdout",
     "output_type": "stream",
     "text": [
      "3146903828\n",
      "2982496595\n",
      "3004043294\n",
      "3042666127\n",
      "2966722641\n",
      "3145787181\n",
      "3132318646\n",
      "3145111091\n",
      "3038723114\n",
      "3142571610\n",
      "3139426226\n",
      "3137303808\n",
      "3133842535\n",
      "2987381990\n",
      "3122923208\n"
     ]
    },
    {
     "name": "stderr",
     "output_type": "stream",
     "text": [
      "Rate limit exceeded. Sleeping for 893 seconds.\n"
     ]
    },
    {
     "name": "stdout",
     "output_type": "stream",
     "text": [
      "800079583\n",
      "3067201110\n",
      "3065529205\n",
      "2899052736\n",
      "2448321095\n",
      "3108033373\n",
      "2921005368\n",
      "3002347919\n",
      "3106440057\n",
      "2532754798\n",
      "3100866850\n",
      "287995514\n",
      "3097581074\n",
      "2944636891\n",
      "2955392134\n",
      "Exception: issue retrieving follow lists for this account -- Skipping.\n",
      "3091720551\n"
     ]
    },
    {
     "name": "stderr",
     "output_type": "stream",
     "text": [
      "Rate limit exceeded. Sleeping for 892 seconds.\n"
     ]
    },
    {
     "name": "stdout",
     "output_type": "stream",
     "text": [
      "3078614125\n",
      "2281284300\n",
      "Exception: issue retrieving follow lists for this account -- Skipping.\n",
      "2808612849\n",
      "2956458062\n",
      "2945394627\n",
      "3073193016\n",
      "2352583129\n",
      "73026204\n",
      "Exception: issue retrieving follow lists for this account -- Skipping.\n",
      "3081173159\n",
      "3053685219\n",
      "3060294090\n",
      "3061974019\n",
      "2616735033\n",
      "2354004906\n"
     ]
    },
    {
     "name": "stderr",
     "output_type": "stream",
     "text": [
      "Rate limit exceeded. Sleeping for 893 seconds.\n"
     ]
    },
    {
     "name": "stdout",
     "output_type": "stream",
     "text": [
      "Exception: issue retrieving follow lists for this account -- Skipping.\n",
      "1426577906\n",
      "Exception: issue retrieving follow lists for this account -- Skipping.\n",
      "3069891569\n",
      "2928884596\n",
      "2983016027\n",
      "3051107114\n",
      "406566606\n",
      "494554253\n",
      "3013693765\n",
      "3054449033\n",
      "3036935778\n",
      "3036779839\n",
      "3036588954\n",
      "3034104469\n",
      "3021531584\n",
      "2924284761\n"
     ]
    },
    {
     "name": "stderr",
     "output_type": "stream",
     "text": [
      "Rate limit exceeded. Sleeping for 894 seconds.\n"
     ]
    },
    {
     "name": "stdout",
     "output_type": "stream",
     "text": [
      "2397711602\n",
      "3020870368\n",
      "2999153741\n",
      "3037862602\n",
      "3038423513\n",
      "413313949\n",
      "2913166572\n",
      "2993295069\n",
      "2274160663\n",
      "3023548792\n",
      "2247754950\n",
      "3004810252\n",
      "Exception: issue retrieving follow lists for this account -- Skipping.\n",
      "3014502328\n",
      "1636501766\n"
     ]
    },
    {
     "name": "stderr",
     "output_type": "stream",
     "text": [
      "Rate limit exceeded. Sleeping for 894 seconds.\n"
     ]
    },
    {
     "name": "stdout",
     "output_type": "stream",
     "text": [
      "2912374382\n",
      "Exception: issue retrieving follow lists for this account -- Skipping.\n",
      "2535893445\n",
      "Exception: issue retrieving follow lists for this account -- Skipping.\n",
      "2996487844\n",
      "3006662290\n",
      "3006286025\n",
      "3002805769\n",
      "1173001398\n",
      "1319398658\n",
      "481073508\n",
      "2952406349\n",
      "3002192747\n",
      "2998373281\n",
      "2807751162\n",
      "2999035222\n",
      "2320890219\n",
      "2922074811\n"
     ]
    },
    {
     "name": "stderr",
     "output_type": "stream",
     "text": [
      "Rate limit exceeded. Sleeping for 893 seconds.\n"
     ]
    },
    {
     "name": "stdout",
     "output_type": "stream",
     "text": [
      "2996320907\n",
      "453264429\n",
      "2993443079\n",
      "2993411122\n",
      "2994039196\n",
      "2987254944\n",
      "2990323153\n",
      "2988066488\n",
      "2974101941\n",
      "2984503748\n",
      "2882817847\n",
      "382601121\n",
      "2941320794\n",
      "2938952467\n",
      "2652656846\n"
     ]
    },
    {
     "name": "stderr",
     "output_type": "stream",
     "text": [
      "Rate limit exceeded. Sleeping for 893 seconds.\n"
     ]
    },
    {
     "name": "stdout",
     "output_type": "stream",
     "text": [
      "814242379\n",
      "Exception: issue retrieving follow lists for this account -- Skipping.\n",
      "2942468603\n",
      "2982036861\n",
      "353119053\n",
      "2481952725\n",
      "Exception: issue retrieving follow lists for this account -- Skipping.\n",
      "2574213198\n",
      "2350594868\n",
      "343375967\n",
      "2571705131\n",
      "2986250215\n",
      "2147966096\n",
      "2932383104\n",
      "2939183661\n",
      "2533468453\n",
      "2899819259\n"
     ]
    },
    {
     "name": "stderr",
     "output_type": "stream",
     "text": [
      "Rate limit exceeded. Sleeping for 894 seconds.\n"
     ]
    },
    {
     "name": "stdout",
     "output_type": "stream",
     "text": [
      "2284191974\n",
      "2875999471\n",
      "2209676314\n",
      "Exception: issue retrieving follow lists for this account -- Skipping.\n",
      "920255342\n",
      "2723003071\n",
      "2743368768\n",
      "2743699689\n",
      "2900886675\n",
      "2962293400\n",
      "2968490723\n",
      "2948831962\n",
      "2347926499\n",
      "2972511665\n",
      "2846058711\n",
      "2958874965\n"
     ]
    },
    {
     "name": "stderr",
     "output_type": "stream",
     "text": [
      "Rate limit exceeded. Sleeping for 893 seconds.\n"
     ]
    },
    {
     "name": "stdout",
     "output_type": "stream",
     "text": [
      "2850902296\n",
      "2962624785\n",
      "2757606795\n",
      "2967073419\n",
      "2961003208\n",
      "1314162480231448576\n",
      "1338982374290448388\n",
      "1433994759782211587\n",
      "196367351\n",
      "1287806558882222080\n",
      "\n",
      "Current Number of edges from starting node 1\n",
      "Num unvisited neighbors: 8\n",
      "--------------------\n"
     ]
    },
    {
     "ename": "FileNotFoundError",
     "evalue": "[Errno 2] No such file or directory: 'human/edgelist_2_deg_2959147470.pkl'",
     "output_type": "error",
     "traceback": [
      "\u001b[0;31m---------------------------------------------------------------------------\u001b[0m",
      "\u001b[0;31mFileNotFoundError\u001b[0m                         Traceback (most recent call last)",
      "\u001b[0;32m<ipython-input-24-d4cfc48ab769>\u001b[0m in \u001b[0;36m<module>\u001b[0;34m\u001b[0m\n\u001b[1;32m     37\u001b[0m     \u001b[0mfn\u001b[0m \u001b[0;34m=\u001b[0m \u001b[0;34m'edgelist_2_deg_'\u001b[0m \u001b[0;34m+\u001b[0m \u001b[0mstr\u001b[0m\u001b[0;34m(\u001b[0m\u001b[0mstarting_acc\u001b[0m\u001b[0;34m)\u001b[0m \u001b[0;34m+\u001b[0m \u001b[0;34m'.pkl'\u001b[0m\u001b[0;34m\u001b[0m\u001b[0;34m\u001b[0m\u001b[0m\n\u001b[1;32m     38\u001b[0m     \u001b[0mpath\u001b[0m \u001b[0;34m=\u001b[0m \u001b[0mstr\u001b[0m\u001b[0;34m(\u001b[0m\u001b[0mlabel\u001b[0m\u001b[0;34m)\u001b[0m \u001b[0;34m+\u001b[0m \u001b[0;34m'/'\u001b[0m \u001b[0;34m+\u001b[0m \u001b[0mfn\u001b[0m\u001b[0;34m\u001b[0m\u001b[0;34m\u001b[0m\u001b[0m\n\u001b[0;32m---> 39\u001b[0;31m     \u001b[0medgelist\u001b[0m\u001b[0;34m.\u001b[0m\u001b[0mto_pickle\u001b[0m\u001b[0;34m(\u001b[0m\u001b[0mpath\u001b[0m\u001b[0;34m)\u001b[0m\u001b[0;34m\u001b[0m\u001b[0;34m\u001b[0m\u001b[0m\n\u001b[0m\u001b[1;32m     40\u001b[0m \u001b[0;34m\u001b[0m\u001b[0m\n\u001b[1;32m     41\u001b[0m     \u001b[0;31m# Add twitter id to already processed list\u001b[0m\u001b[0;34m\u001b[0m\u001b[0;34m\u001b[0m\u001b[0;34m\u001b[0m\u001b[0m\n",
      "\u001b[0;32m~/anaconda3/lib/python3.8/site-packages/pandas/core/generic.py\u001b[0m in \u001b[0;36mto_pickle\u001b[0;34m(self, path, compression, protocol, storage_options)\u001b[0m\n\u001b[1;32m   2862\u001b[0m         \u001b[0;32mfrom\u001b[0m \u001b[0mpandas\u001b[0m\u001b[0;34m.\u001b[0m\u001b[0mio\u001b[0m\u001b[0;34m.\u001b[0m\u001b[0mpickle\u001b[0m \u001b[0;32mimport\u001b[0m \u001b[0mto_pickle\u001b[0m\u001b[0;34m\u001b[0m\u001b[0;34m\u001b[0m\u001b[0m\n\u001b[1;32m   2863\u001b[0m \u001b[0;34m\u001b[0m\u001b[0m\n\u001b[0;32m-> 2864\u001b[0;31m         to_pickle(\n\u001b[0m\u001b[1;32m   2865\u001b[0m             \u001b[0mself\u001b[0m\u001b[0;34m,\u001b[0m\u001b[0;34m\u001b[0m\u001b[0;34m\u001b[0m\u001b[0m\n\u001b[1;32m   2866\u001b[0m             \u001b[0mpath\u001b[0m\u001b[0;34m,\u001b[0m\u001b[0;34m\u001b[0m\u001b[0;34m\u001b[0m\u001b[0m\n",
      "\u001b[0;32m~/anaconda3/lib/python3.8/site-packages/pandas/io/pickle.py\u001b[0m in \u001b[0;36mto_pickle\u001b[0;34m(obj, filepath_or_buffer, compression, protocol, storage_options)\u001b[0m\n\u001b[1;32m     88\u001b[0m         \u001b[0mprotocol\u001b[0m \u001b[0;34m=\u001b[0m \u001b[0mpickle\u001b[0m\u001b[0;34m.\u001b[0m\u001b[0mHIGHEST_PROTOCOL\u001b[0m\u001b[0;34m\u001b[0m\u001b[0;34m\u001b[0m\u001b[0m\n\u001b[1;32m     89\u001b[0m \u001b[0;34m\u001b[0m\u001b[0m\n\u001b[0;32m---> 90\u001b[0;31m     with get_handle(\n\u001b[0m\u001b[1;32m     91\u001b[0m         \u001b[0mfilepath_or_buffer\u001b[0m\u001b[0;34m,\u001b[0m\u001b[0;34m\u001b[0m\u001b[0;34m\u001b[0m\u001b[0m\n\u001b[1;32m     92\u001b[0m         \u001b[0;34m\"wb\"\u001b[0m\u001b[0;34m,\u001b[0m\u001b[0;34m\u001b[0m\u001b[0;34m\u001b[0m\u001b[0m\n",
      "\u001b[0;32m~/anaconda3/lib/python3.8/site-packages/pandas/io/common.py\u001b[0m in \u001b[0;36mget_handle\u001b[0;34m(path_or_buf, mode, encoding, compression, memory_map, is_text, errors, storage_options)\u001b[0m\n\u001b[1;32m    649\u001b[0m         \u001b[0;32melse\u001b[0m\u001b[0;34m:\u001b[0m\u001b[0;34m\u001b[0m\u001b[0;34m\u001b[0m\u001b[0m\n\u001b[1;32m    650\u001b[0m             \u001b[0;31m# Binary mode\u001b[0m\u001b[0;34m\u001b[0m\u001b[0;34m\u001b[0m\u001b[0;34m\u001b[0m\u001b[0m\n\u001b[0;32m--> 651\u001b[0;31m             \u001b[0mhandle\u001b[0m \u001b[0;34m=\u001b[0m \u001b[0mopen\u001b[0m\u001b[0;34m(\u001b[0m\u001b[0mhandle\u001b[0m\u001b[0;34m,\u001b[0m \u001b[0mioargs\u001b[0m\u001b[0;34m.\u001b[0m\u001b[0mmode\u001b[0m\u001b[0;34m)\u001b[0m\u001b[0;34m\u001b[0m\u001b[0;34m\u001b[0m\u001b[0m\n\u001b[0m\u001b[1;32m    652\u001b[0m         \u001b[0mhandles\u001b[0m\u001b[0;34m.\u001b[0m\u001b[0mappend\u001b[0m\u001b[0;34m(\u001b[0m\u001b[0mhandle\u001b[0m\u001b[0;34m)\u001b[0m\u001b[0;34m\u001b[0m\u001b[0;34m\u001b[0m\u001b[0m\n\u001b[1;32m    653\u001b[0m \u001b[0;34m\u001b[0m\u001b[0m\n",
      "\u001b[0;31mFileNotFoundError\u001b[0m: [Errno 2] No such file or directory: 'human/edgelist_2_deg_2959147470.pkl'"
     ]
    }
   ],
   "source": [
    "cols=['originating_id', 'receiving_id', \n",
    "          'originating_following_count', 'originating_follower_count',\n",
    "         'receiving_following_count', 'receiving_follower_count']\n",
    "\n",
    "# Process human accounts \n",
    "small_bot_accs = small.loc[small.label == 'human']\n",
    "\n",
    "# Create Edgelists for each account in the filtered botometer dataset.\n",
    "for starting_acc, label in zip(small_bot_accs.twitter_id, small_bot_accs.label):\n",
    "    if starting_acc in already_processed:\n",
    "        continue\n",
    "    print(f'Starting node == {starting_acc}')\n",
    "    # Initialization code for populating edgelist starting from node specified by \"starting_acc\"\n",
    "    edgelist = pd.DataFrame(columns=cols)\n",
    "\n",
    "    degrees_of_separation = 0\n",
    "\n",
    "    visited = set()\n",
    "    visited.add(starting_acc)\n",
    "\n",
    "    edgelist = add_this_nodes_edgelist(starting_acc, edgelist) \n",
    "    edgelist, degrees_of_separation, unvisited_neighbors = transition_to_next_separation_degree(edgelist, degrees_of_separation)\n",
    "    \n",
    "    # iterate thru all unvisited neighbors with 2 degree of separation from starting (labeled) node\n",
    "    # process df in chunks before concatenating\n",
    "    while degrees_of_separation <= 1:\n",
    "        curr_edgelist = pd.DataFrame(columns=cols)\n",
    "        for i in tqdm(unvisited_neighbors):\n",
    "            print(i)\n",
    "            curr_edgelist = add_this_nodes_edgelist(i, curr_edgelist)\n",
    "            visited.add(i)\n",
    "        \n",
    "        curr_edgelist, degrees_of_separation, unvisited_neighbors = transition_to_next_separation_degree(curr_edgelist, degrees_of_separation)\n",
    "        edgelist = pd.concat([edgelist, curr_edgelist])\n",
    "\n",
    "    # Save in directory\n",
    "    fn = 'edgelist_2_deg_' + str(starting_acc) + '.pkl'\n",
    "    path = str(label) + '/' + fn\n",
    "    edgelist.to_pickle(path)\n",
    "    \n",
    "    # Add twitter id to already processed list\n",
    "    already_processed.append(starting_acc)"
   ]
  },
  {
   "cell_type": "code",
   "execution_count": null,
   "id": "b5ac5506",
   "metadata": {},
   "outputs": [],
   "source": []
  }
 ],
 "metadata": {
  "kernelspec": {
   "display_name": "Python 3",
   "language": "python",
   "name": "python3"
  },
  "language_info": {
   "codemirror_mode": {
    "name": "ipython",
    "version": 3
   },
   "file_extension": ".py",
   "mimetype": "text/x-python",
   "name": "python",
   "nbconvert_exporter": "python",
   "pygments_lexer": "ipython3",
   "version": "3.8.2"
  }
 },
 "nbformat": 4,
 "nbformat_minor": 5
}
