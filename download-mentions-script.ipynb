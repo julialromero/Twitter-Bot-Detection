{
 "cells": [
  {
   "cell_type": "markdown",
   "id": "2b6308a2",
   "metadata": {},
   "source": [
    "Script for downloading likes:\n",
    "\n",
    "Endptt 1 - Download most recent 100 liking users given a tweet id\n",
    "    - 75 requests per 15-minute\n",
    "Endpt 2 - Download a user's liked tweets. \n",
    "    - let's restrict this to most recent 1000 likes\n",
    "    - 75 requests per 15-minute\n",
    "    - goes towards tweet cap of 500,000 per month\n",
    "    \n",
    "    \n",
    "Approach:\n",
    "1) For each labelled account, GET most recent 50 tweets that are not retweets or replies\n",
    "    - Client.get_users_tweets(twitter_id, exclude=['retweets', 'replies'], max_results=50]\n",
    "2) For each tweet returned, get users who liked it\n",
    "    - Client.get_liking_users(tweet_id, \n",
    "    \n",
    "    "
   ]
  },
  {
   "cell_type": "markdown",
   "id": "7c5b73f0",
   "metadata": {},
   "source": [
    "Only include accounts with <1000 follows\n",
    "\n",
    "Mentions:\n",
    "1) Gets tweets that mention the user. Retrieve most recent 200 tweets that mention user\n",
    "- Client.get_users_mentions(twitter_id, max_results=100, pagination_token=next_page_token)\n",
    "- 180 requests per 15-minute"
   ]
  },
  {
   "cell_type": "code",
   "execution_count": 151,
   "id": "4af467a7",
   "metadata": {},
   "outputs": [],
   "source": [
    "import pandas as pd\n",
    "import numpy as np\n",
    "import networkx as nx\n",
    "import json\n",
    "import requests"
   ]
  },
  {
   "cell_type": "code",
   "execution_count": 152,
   "id": "8c9ab5d3",
   "metadata": {},
   "outputs": [],
   "source": [
    "import tweepy\n",
    "from tweepy import Client\n",
    "\n",
    "\n",
    "api = tweepy.Client(bearer_token=token, consumer_key=key, consumer_secret=secret, \n",
    "              return_type=requests.Response,\n",
    "              wait_on_rate_limit=True)"
   ]
  },
  {
   "cell_type": "code",
   "execution_count": 425,
   "id": "90540367",
   "metadata": {},
   "outputs": [],
   "source": [
    "import os\n",
    "\n",
    "follows_processed = []\n",
    "mentions_already_processed = []\n",
    " \n",
    "for name in os.listdir('bot'):\n",
    "    if os.path.isdir(name):\n",
    "        continue\n",
    "    list_name = name.replace('.pkl','').replace('edgelist_2_edges_from_start_','')\n",
    "    follows_processed.append(int(list_name))\n",
    "    \n",
    "    \n",
    "for name in os.listdir('mentions/bot'):\n",
    "    if os.path.isdir(name):\n",
    "        continue\n",
    "    list_name = name.replace('.pkl','').replace('edgelist_mentions_','')\n",
    "    mentions_already_processed.append(int(list_name))"
   ]
  },
  {
   "cell_type": "code",
   "execution_count": 428,
   "id": "7d934f01",
   "metadata": {},
   "outputs": [
    {
     "data": {
      "text/plain": [
       "265"
      ]
     },
     "execution_count": 428,
     "metadata": {},
     "output_type": "execute_result"
    }
   ],
   "source": [
    "len(os.listdir('mentions/human'))"
   ]
  },
  {
   "cell_type": "code",
   "execution_count": 427,
   "id": "72ad504f",
   "metadata": {},
   "outputs": [
    {
     "data": {
      "text/plain": [
       "194"
      ]
     },
     "execution_count": 427,
     "metadata": {},
     "output_type": "execute_result"
    }
   ],
   "source": [
    "len(os.listdir('mentions/bot'))"
   ]
  },
  {
   "cell_type": "code",
   "execution_count": 274,
   "id": "e51c92bf",
   "metadata": {},
   "outputs": [
    {
     "data": {
      "text/plain": [
       "[1005564252948582401,\n",
       " 1030869656666599424,\n",
       " 1016773517587537920,\n",
       " 1661404440,\n",
       " 4307623643,\n",
       " 747958680386179072,\n",
       " 1416121214,\n",
       " 821215184660393986,\n",
       " 729462247647551488,\n",
       " 2855732920,\n",
       " 844779426260791296,\n",
       " 913028718377005056,\n",
       " 352132252,\n",
       " 837316817324556289,\n",
       " 875984489138200577,\n",
       " 1004764640486854656,\n",
       " 1058130850578137089,\n",
       " 2928556470,\n",
       " 2901953015,\n",
       " 2385417602,\n",
       " 790017240733278208,\n",
       " 490645569,\n",
       " 4459687272,\n",
       " 2491508162]"
      ]
     },
     "execution_count": 274,
     "metadata": {},
     "output_type": "execute_result"
    }
   ],
   "source": [
    "follows_processed"
   ]
  },
  {
   "cell_type": "code",
   "execution_count": 275,
   "id": "e479c47d",
   "metadata": {
    "scrolled": true
   },
   "outputs": [
    {
     "data": {
      "text/plain": [
       "[1016773517587537920,\n",
       " 1030869656666599424,\n",
       " 4459687272,\n",
       " 875984489138200577,\n",
       " 913028718377005056,\n",
       " 1005564252948582401,\n",
       " 844779426260791296,\n",
       " 837316817324556289,\n",
       " 729462247647551488,\n",
       " 2928556470,\n",
       " 821215184660393986,\n",
       " 747958680386179072,\n",
       " 2385417602,\n",
       " 2901953015,\n",
       " 1004764640486854656,\n",
       " 1058130850578137089,\n",
       " 352132252,\n",
       " 790017240733278208,\n",
       " 1661404440,\n",
       " 1416121214,\n",
       " 4307623643]"
      ]
     },
     "execution_count": 275,
     "metadata": {},
     "output_type": "execute_result"
    }
   ],
   "source": [
    "mentions_already_processed"
   ]
  },
  {
   "cell_type": "code",
   "execution_count": 422,
   "id": "b3000be1",
   "metadata": {},
   "outputs": [],
   "source": [
    "combined = pd.read_pickle('node_and_degree_list.pkl')\n",
    "small = combined.loc[combined.followers_count < thresh]\n",
    "small = small.loc[small.followers_count < thresh]\n"
   ]
  },
  {
   "cell_type": "code",
   "execution_count": 424,
   "id": "484164ef",
   "metadata": {},
   "outputs": [
    {
     "data": {
      "text/plain": [
       "human    265\n",
       "bot      193\n",
       "Name: label, dtype: int64"
      ]
     },
     "execution_count": 424,
     "metadata": {},
     "output_type": "execute_result"
    }
   ],
   "source": [
    "small.label.value_counts()"
   ]
  },
  {
   "cell_type": "code",
   "execution_count": 276,
   "id": "e63aac46",
   "metadata": {},
   "outputs": [],
   "source": [
    "# Get neighbors of a node\n",
    "def add_this_nodes_edgelist(this_acc, curr_edgelist):\n",
    "    visited.add(this_acc)\n",
    "\n",
    "    follow_list = []    # list of user id's who show up in first 100 tweets mentioning this user\n",
    "\n",
    "    # Get the users who mentioned this user and add to edgelist\n",
    "    request = api.get_users_mentions(this_acc, max_results=100, \n",
    "                                     expansions='author_id', \n",
    "                                     user_fields=['public_metrics'])\n",
    "    data = request.json()\n",
    "\n",
    "    # for each mentioning the originating account, record account id, \n",
    "    try:\n",
    "        for acc in data['data']:\n",
    "            follow_list.append(acc['author_id'])\n",
    "\n",
    "    # Catch errors if not authorized to view user\n",
    "    except Exception as e:\n",
    "        print('Exception: issue retrieving follow lists for this account -- Skipping.')\n",
    "        return curr_edgelist\n",
    "        \n",
    "    # aggregate # mentions for user as edge weights\n",
    "    weighted_follow_list = [[x,follow_list.count(x)] for x in set(follow_list)]\n",
    "    edges_to_add = pd.DataFrame(weighted_follow_list).rename(columns={\n",
    "                                                                0: 'originating_id',\n",
    "                                                                1: 'edge_weight'\n",
    "                                                            })\n",
    "    edges_to_add['receiving_id'] = this_acc\n",
    "    curr_edgelist = pd.concat([curr_edgelist, edges_to_add])\n",
    "\n",
    "    return curr_edgelist"
   ]
  },
  {
   "cell_type": "code",
   "execution_count": 277,
   "id": "b4c77d3e",
   "metadata": {},
   "outputs": [],
   "source": [
    "def transition_to_next_separation_degree(curr_edgelist, degrees_of_separation):\n",
    "    try:\n",
    "       # create list of all neighbors in curr_edgelist df\n",
    "        unvisited_neighbors = list(curr_edgelist.originating_id.append(curr_edgelist.receiving_id).unique())\n",
    "\n",
    "        # if any nodes are in visited set, remove\n",
    "        [unvisited_neighbors.remove(i) for i in unvisited_neighbors if i in visited]\n",
    "\n",
    "        print()\n",
    "        print(f'Current Number of edges from starting node {degrees_of_separation}')\n",
    "        print(f'Num unvisited neighbors: {len(unvisited_neighbors)}')\n",
    "        print('------')\n",
    "        degrees_of_separation +=1 \n",
    "    \n",
    "        return curr_edgelist, degrees_of_separation, unvisited_neighbors\n",
    "    \n",
    "    \n",
    "    except Exception as e:\n",
    "        print(e)\n",
    "        print('--------------------EXCEPTION--------------------')\n",
    "        return curr_edgelist, degrees_of_separation, []"
   ]
  },
  {
   "cell_type": "code",
   "execution_count": 278,
   "id": "4510c14d",
   "metadata": {},
   "outputs": [],
   "source": [
    "from tqdm.notebook import tqdm"
   ]
  },
  {
   "cell_type": "code",
   "execution_count": 355,
   "id": "09f5851f",
   "metadata": {},
   "outputs": [
    {
     "data": {
      "text/plain": [
       "36       844779426260791296\n",
       "83       837316817324556289\n",
       "137      913028718377005056\n",
       "175      790017240733278208\n",
       "220     1016773517587537920\n",
       "               ...         \n",
       "804               448529505\n",
       "806               196467013\n",
       "890     1005564252948582401\n",
       "962     1058130850578137089\n",
       "1019     807219840125726721\n",
       "Name: twitter_id, Length: 192, dtype: int64"
      ]
     },
     "execution_count": 355,
     "metadata": {},
     "output_type": "execute_result"
    }
   ],
   "source": [
    "small_bot_accs.twitter_id[1:]"
   ]
  },
  {
   "cell_type": "code",
   "execution_count": 419,
   "id": "33464631",
   "metadata": {},
   "outputs": [
    {
     "data": {
      "text/plain": [
       "[837316817324556289,\n",
       " 913028718377005056,\n",
       " 790017240733278208,\n",
       " 1016773517587537920,\n",
       " 2855732920,\n",
       " 1416121214,\n",
       " 821215184660393986,\n",
       " 1004764640486854656,\n",
       " 352132252,\n",
       " 1661404440,\n",
       " 2928556470,\n",
       " 2901953015,\n",
       " 2491508162,\n",
       " 490645569,\n",
       " 300415996,\n",
       " 709807650,\n",
       " 976973737,\n",
       " 2385417602,\n",
       " 4808016715,\n",
       " 1433472060,\n",
       " 449470627,\n",
       " 1421859620,\n",
       " 1334673584,\n",
       " 1524730152,\n",
       " 875984489138200577,\n",
       " 1567185626,\n",
       " 972532340,\n",
       " 170568448,\n",
       " 139954867,\n",
       " 225313169,\n",
       " 185218294,\n",
       " 2861336274,\n",
       " 288773752,\n",
       " 3166813130,\n",
       " 419353120,\n",
       " 263300013,\n",
       " 211001312,\n",
       " 3018024769,\n",
       " 6781802,\n",
       " 37260832,\n",
       " 179201716,\n",
       " 2309880170,\n",
       " 377341555,\n",
       " 205990455,\n",
       " 1036461709,\n",
       " 4307623643,\n",
       " 844779426260791296,\n",
       " 4113621027,\n",
       " 85989198,\n",
       " 3082647453,\n",
       " 2327994013,\n",
       " 2221432382,\n",
       " 28403745,\n",
       " 705187969,\n",
       " 1081628124,\n",
       " 2943566101,\n",
       " 105821431,\n",
       " 4459687272,\n",
       " 3098765088,\n",
       " 176769813,\n",
       " 2955302197,\n",
       " 1494549962,\n",
       " 608171108,\n",
       " 728249330,\n",
       " 87307603,\n",
       " 3990931,\n",
       " 1201545410,\n",
       " 16257347,\n",
       " 1098366914,\n",
       " 3137992297,\n",
       " 2334005046,\n",
       " 223617437,\n",
       " 36165609,\n",
       " 587364967,\n",
       " 2416820011,\n",
       " 341863906,\n",
       " 1638058898,\n",
       " 78542537,\n",
       " 421077323,\n",
       " 306701131,\n",
       " 161126952,\n",
       " 313981047,\n",
       " 701815436,\n",
       " 768314389,\n",
       " 1081279532,\n",
       " 2857705649,\n",
       " 71382295,\n",
       " 2394340476,\n",
       " 131388296,\n",
       " 2351661019,\n",
       " 38537315,\n",
       " 1030869656666599424,\n",
       " 729462247647551488,\n",
       " 30129478,\n",
       " 322526117,\n",
       " 211557827,\n",
       " 2340008558,\n",
       " 4080133834,\n",
       " 3021259014,\n",
       " 495103914,\n",
       " 2379160873,\n",
       " 127002708,\n",
       " 1171100534,\n",
       " 2268691220,\n",
       " 115873334,\n",
       " 43310150,\n",
       " 200077738,\n",
       " 3348071480,\n",
       " 3322078934,\n",
       " 2363987964,\n",
       " 42858599,\n",
       " 747958680386179072,\n",
       " 1951556792,\n",
       " 366417743,\n",
       " 3150644462,\n",
       " 40398210,\n",
       " 2792831540,\n",
       " 1405381086,\n",
       " 4185111,\n",
       " 105718796,\n",
       " 1337464171,\n",
       " 6690852,\n",
       " 784761385,\n",
       " 3086994153,\n",
       " 3031717200,\n",
       " 1606033945,\n",
       " 2900587879,\n",
       " 504731972,\n",
       " 2177173596,\n",
       " 2900157139,\n",
       " 4880154665,\n",
       " 322758021,\n",
       " 1032457044,\n",
       " 316465945,\n",
       " 3241838887,\n",
       " 150996744,\n",
       " 2898882306,\n",
       " 144082130,\n",
       " 2954147280,\n",
       " 925537664,\n",
       " 89414175,\n",
       " 1401272485,\n",
       " 4849801408,\n",
       " 3920279115,\n",
       " 71478395,\n",
       " 105711392,\n",
       " 564109899,\n",
       " 3016924923,\n",
       " 2298803394,\n",
       " 924967777,\n",
       " 2697652640,\n",
       " 2338730188,\n",
       " 3081645028,\n",
       " 2534800813,\n",
       " 213240534,\n",
       " 87115541,\n",
       " 2492023416,\n",
       " 1342608199,\n",
       " 471838819,\n",
       " 2405972748,\n",
       " 1245496057,\n",
       " 2185105262,\n",
       " 327422553,\n",
       " 950391445,\n",
       " 2333462725,\n",
       " 121284072,\n",
       " 632822483,\n",
       " 545867562,\n",
       " 181549694,\n",
       " 1548750122,\n",
       " 1062317300,\n",
       " 392064313,\n",
       " 509903343,\n",
       " 39255637,\n",
       " 3405310937,\n",
       " 2934134629,\n",
       " 105786154,\n",
       " 200430028,\n",
       " 194909366,\n",
       " 105783456,\n",
       " 34946543,\n",
       " 36848025,\n",
       " 1148137872,\n",
       " 134138478,\n",
       " 109778478,\n",
       " 5611312,\n",
       " 287139302,\n",
       " 1450486789,\n",
       " 448529505,\n",
       " 196467013,\n",
       " 1005564252948582401,\n",
       " 1058130850578137089,\n",
       " 807219840125726721,\n",
       " 884092539418152960,\n",
       " 938469204021469184,\n",
       " 1039491917145432064,\n",
       " 757821654571425792,\n",
       " 750482565056765952,\n",
       " 771058757434572800,\n",
       " 822903103070601216,\n",
       " 957638029639913473,\n",
       " 716788525866332161,\n",
       " 1038380123710545920,\n",
       " 953231816810315777,\n",
       " 998977009056444416,\n",
       " 728072065245319169,\n",
       " 1914493741,\n",
       " 804028724987494402,\n",
       " 743063090183340032,\n",
       " 1054684530592878592,\n",
       " 1056986636674850816,\n",
       " 2266976480,\n",
       " 837414074132606978,\n",
       " 4096069693,\n",
       " 2184009647,\n",
       " 2257456093,\n",
       " 358233640,\n",
       " 904994826,\n",
       " 3367811173,\n",
       " 1388299412,\n",
       " 2959147470,\n",
       " 71073851,\n",
       " 2922179132,\n",
       " 1420308074,\n",
       " 1655904638,\n",
       " 4155011358,\n",
       " 134547013,\n",
       " 3273557347,\n",
       " 773465515,\n",
       " 1271646481,\n",
       " 1417928000,\n",
       " 92074188,\n",
       " 403627397,\n",
       " 729101640,\n",
       " 1129425277,\n",
       " 893663299,\n",
       " 848662740,\n",
       " 463832265,\n",
       " 3202726835,\n",
       " 304520848,\n",
       " 2785960469,\n",
       " 1589902021,\n",
       " 113125130,\n",
       " 451835819,\n",
       " 180577895,\n",
       " 2452137170,\n",
       " 422028358,\n",
       " 101379497,\n",
       " 34323417,\n",
       " 2928691509,\n",
       " 351331309,\n",
       " 2589923834,\n",
       " 2150773897,\n",
       " 115202789,\n",
       " 331989774,\n",
       " 424774065,\n",
       " 422914242,\n",
       " 126743385,\n",
       " 608080265,\n",
       " 716110115506622464,\n",
       " 2744574160,\n",
       " 4082696954,\n",
       " 1151660538,\n",
       " 550610050,\n",
       " 2439526297,\n",
       " 724659744,\n",
       " 593689918,\n",
       " 248226004,\n",
       " 1252317360,\n",
       " 514928121,\n",
       " 3236431915,\n",
       " 464353156,\n",
       " 2361460850,\n",
       " 540777353,\n",
       " 820943966,\n",
       " 386934416,\n",
       " 264555876,\n",
       " 2588183482,\n",
       " 1255771100,\n",
       " 2249271564,\n",
       " 2265168248,\n",
       " 91508386,\n",
       " 2741137937,\n",
       " 447346922,\n",
       " 334102709,\n",
       " 3323335206,\n",
       " 154957091,\n",
       " 544302445,\n",
       " 1029820639,\n",
       " 837075979,\n",
       " 482483706,\n",
       " 2249273336,\n",
       " 443263099,\n",
       " 351017477,\n",
       " 998242564422750209,\n",
       " 353325749,\n",
       " 1583766667,\n",
       " 162780281,\n",
       " 1012481676524576770,\n",
       " 22393012,\n",
       " 424446461,\n",
       " 1047707161571328000,\n",
       " 138643174,\n",
       " 826093333,\n",
       " 3590765440,\n",
       " 288948026,\n",
       " 859364185,\n",
       " 2423734735,\n",
       " 303384170,\n",
       " 1708812864,\n",
       " 2425816217,\n",
       " 1213081351,\n",
       " 217437781,\n",
       " 272230000,\n",
       " 749491351,\n",
       " 2550897515,\n",
       " 2790236045,\n",
       " 242943844,\n",
       " 79103654,\n",
       " 1051021585]"
      ]
     },
     "execution_count": 419,
     "metadata": {},
     "output_type": "execute_result"
    }
   ],
   "source": [
    "mentions_already_processed# = []"
   ]
  },
  {
   "cell_type": "code",
   "execution_count": 420,
   "id": "14fa86bb",
   "metadata": {},
   "outputs": [
    {
     "name": "stdout",
     "output_type": "stream",
     "text": [
      "Starting node == 2199641576\n",
      "\n",
      "Current Number of edges from starting node 0\n",
      "Num unvisited neighbors: 67\n",
      "------\n"
     ]
    },
    {
     "data": {
      "application/vnd.jupyter.widget-view+json": {
       "model_id": "5e95411931864621948ea1a148e58958",
       "version_major": 2,
       "version_minor": 0
      },
      "text/plain": [
       "  0%|          | 0/67 [00:00<?, ?it/s]"
      ]
     },
     "metadata": {},
     "output_type": "display_data"
    },
    {
     "name": "stdout",
     "output_type": "stream",
     "text": [
      "\n",
      "Current Number of edges from starting node 1\n",
      "Num unvisited neighbors: 3268\n",
      "------\n",
      "Starting node == 413403853\n",
      "\n",
      "Current Number of edges from starting node 0\n",
      "Num unvisited neighbors: 39\n",
      "------\n"
     ]
    },
    {
     "data": {
      "application/vnd.jupyter.widget-view+json": {
       "model_id": "41190ad113ca470298d3c4eb44b7c08a",
       "version_major": 2,
       "version_minor": 0
      },
      "text/plain": [
       "  0%|          | 0/39 [00:00<?, ?it/s]"
      ]
     },
     "metadata": {},
     "output_type": "display_data"
    },
    {
     "name": "stdout",
     "output_type": "stream",
     "text": [
      "\n",
      "Current Number of edges from starting node 1\n",
      "Num unvisited neighbors: 1150\n",
      "------\n",
      "Starting node == 252196811\n",
      "\n",
      "Current Number of edges from starting node 0\n",
      "Num unvisited neighbors: 42\n",
      "------\n"
     ]
    },
    {
     "data": {
      "application/vnd.jupyter.widget-view+json": {
       "model_id": "9d89eee7005042b5974a561ba000030d",
       "version_major": 2,
       "version_minor": 0
      },
      "text/plain": [
       "  0%|          | 0/42 [00:00<?, ?it/s]"
      ]
     },
     "metadata": {},
     "output_type": "display_data"
    },
    {
     "name": "stdout",
     "output_type": "stream",
     "text": [
      "\n",
      "Current Number of edges from starting node 1\n",
      "Num unvisited neighbors: 1606\n",
      "------\n",
      "Starting node == 226341562\n",
      "\n",
      "Current Number of edges from starting node 0\n",
      "Num unvisited neighbors: 32\n",
      "------\n"
     ]
    },
    {
     "data": {
      "application/vnd.jupyter.widget-view+json": {
       "model_id": "180aa037794a4815ab036893af7a89b1",
       "version_major": 2,
       "version_minor": 0
      },
      "text/plain": [
       "  0%|          | 0/32 [00:00<?, ?it/s]"
      ]
     },
     "metadata": {},
     "output_type": "display_data"
    },
    {
     "name": "stdout",
     "output_type": "stream",
     "text": [
      "\n",
      "Current Number of edges from starting node 1\n",
      "Num unvisited neighbors: 1189\n",
      "------\n",
      "Starting node == 321420083\n",
      "\n",
      "Current Number of edges from starting node 0\n",
      "Num unvisited neighbors: 24\n",
      "------\n"
     ]
    },
    {
     "data": {
      "application/vnd.jupyter.widget-view+json": {
       "model_id": "ac26060da6254cc0bcee05f4c14500e4",
       "version_major": 2,
       "version_minor": 0
      },
      "text/plain": [
       "  0%|          | 0/24 [00:00<?, ?it/s]"
      ]
     },
     "metadata": {},
     "output_type": "display_data"
    },
    {
     "name": "stdout",
     "output_type": "stream",
     "text": [
      "\n",
      "Current Number of edges from starting node 1\n",
      "Num unvisited neighbors: 854\n",
      "------\n",
      "Starting node == 2899383706\n",
      "\n",
      "Current Number of edges from starting node 0\n",
      "Num unvisited neighbors: 23\n",
      "------\n"
     ]
    },
    {
     "data": {
      "application/vnd.jupyter.widget-view+json": {
       "model_id": "1d638762afe548f4ae0d1e2d0cff9b50",
       "version_major": 2,
       "version_minor": 0
      },
      "text/plain": [
       "  0%|          | 0/23 [00:00<?, ?it/s]"
      ]
     },
     "metadata": {},
     "output_type": "display_data"
    },
    {
     "name": "stdout",
     "output_type": "stream",
     "text": [
      "\n",
      "Current Number of edges from starting node 1\n",
      "Num unvisited neighbors: 637\n",
      "------\n",
      "Starting node == 2857834365\n",
      "\n",
      "Current Number of edges from starting node 0\n",
      "Num unvisited neighbors: 34\n",
      "------\n"
     ]
    },
    {
     "data": {
      "application/vnd.jupyter.widget-view+json": {
       "model_id": "e7db223d90424c809e99c58e79c89ef2",
       "version_major": 2,
       "version_minor": 0
      },
      "text/plain": [
       "  0%|          | 0/34 [00:00<?, ?it/s]"
      ]
     },
     "metadata": {},
     "output_type": "display_data"
    },
    {
     "name": "stdout",
     "output_type": "stream",
     "text": [
      "Exception: issue retrieving follow lists for this account -- Skipping.\n",
      "\n",
      "Current Number of edges from starting node 1\n",
      "Num unvisited neighbors: 672\n",
      "------\n",
      "Starting node == 1031752122\n",
      "\n",
      "Current Number of edges from starting node 0\n",
      "Num unvisited neighbors: 41\n",
      "------\n"
     ]
    },
    {
     "data": {
      "application/vnd.jupyter.widget-view+json": {
       "model_id": "fb2d8e842f634e55864e763dd916d32a",
       "version_major": 2,
       "version_minor": 0
      },
      "text/plain": [
       "  0%|          | 0/41 [00:00<?, ?it/s]"
      ]
     },
     "metadata": {},
     "output_type": "display_data"
    },
    {
     "name": "stdout",
     "output_type": "stream",
     "text": [
      "\n",
      "Current Number of edges from starting node 1\n",
      "Num unvisited neighbors: 1982\n",
      "------\n",
      "Starting node == 872473224\n",
      "\n",
      "Current Number of edges from starting node 0\n",
      "Num unvisited neighbors: 43\n",
      "------\n"
     ]
    },
    {
     "data": {
      "application/vnd.jupyter.widget-view+json": {
       "model_id": "315b4957e6d2489788ee63e03eb1386d",
       "version_major": 2,
       "version_minor": 0
      },
      "text/plain": [
       "  0%|          | 0/43 [00:00<?, ?it/s]"
      ]
     },
     "metadata": {},
     "output_type": "display_data"
    },
    {
     "name": "stdout",
     "output_type": "stream",
     "text": [
      "\n",
      "Current Number of edges from starting node 1\n",
      "Num unvisited neighbors: 1368\n",
      "------\n",
      "Starting node == 523495375\n",
      "\n",
      "Current Number of edges from starting node 0\n",
      "Num unvisited neighbors: 76\n",
      "------\n"
     ]
    },
    {
     "data": {
      "application/vnd.jupyter.widget-view+json": {
       "model_id": "9677cff636fc4243a9705377f67e07bf",
       "version_major": 2,
       "version_minor": 0
      },
      "text/plain": [
       "  0%|          | 0/76 [00:00<?, ?it/s]"
      ]
     },
     "metadata": {},
     "output_type": "display_data"
    },
    {
     "name": "stdout",
     "output_type": "stream",
     "text": [
      "Exception: issue retrieving follow lists for this account -- Skipping.\n",
      "Exception: issue retrieving follow lists for this account -- Skipping.\n",
      "Exception: issue retrieving follow lists for this account -- Skipping.\n",
      "Exception: issue retrieving follow lists for this account -- Skipping.\n",
      "Exception: issue retrieving follow lists for this account -- Skipping.\n",
      "Exception: issue retrieving follow lists for this account -- Skipping.\n",
      "\n",
      "Current Number of edges from starting node 1\n",
      "Num unvisited neighbors: 2556\n",
      "------\n",
      "Starting node == 499219350\n",
      "\n",
      "Current Number of edges from starting node 0\n",
      "Num unvisited neighbors: 37\n",
      "------\n"
     ]
    },
    {
     "data": {
      "application/vnd.jupyter.widget-view+json": {
       "model_id": "3f5078cc7e774292850bf28137b61aa3",
       "version_major": 2,
       "version_minor": 0
      },
      "text/plain": [
       "  0%|          | 0/37 [00:00<?, ?it/s]"
      ]
     },
     "metadata": {},
     "output_type": "display_data"
    },
    {
     "name": "stderr",
     "output_type": "stream",
     "text": [
      "Rate limit exceeded. Sleeping for 677 seconds.\n"
     ]
    },
    {
     "name": "stdout",
     "output_type": "stream",
     "text": [
      "\n",
      "Current Number of edges from starting node 1\n",
      "Num unvisited neighbors: 1184\n",
      "------\n",
      "Starting node == 156016720\n",
      "\n",
      "Current Number of edges from starting node 0\n",
      "Num unvisited neighbors: 17\n",
      "------\n"
     ]
    },
    {
     "data": {
      "application/vnd.jupyter.widget-view+json": {
       "model_id": "9d310fa3695a4902abd733ee58f2b502",
       "version_major": 2,
       "version_minor": 0
      },
      "text/plain": [
       "  0%|          | 0/17 [00:00<?, ?it/s]"
      ]
     },
     "metadata": {},
     "output_type": "display_data"
    },
    {
     "name": "stdout",
     "output_type": "stream",
     "text": [
      "\n",
      "Current Number of edges from starting node 1\n",
      "Num unvisited neighbors: 429\n",
      "------\n",
      "Starting node == 380663119\n",
      "\n",
      "Current Number of edges from starting node 0\n",
      "Num unvisited neighbors: 28\n",
      "------\n"
     ]
    },
    {
     "data": {
      "application/vnd.jupyter.widget-view+json": {
       "model_id": "e406ccc2e0c7492184595639d7d79702",
       "version_major": 2,
       "version_minor": 0
      },
      "text/plain": [
       "  0%|          | 0/28 [00:00<?, ?it/s]"
      ]
     },
     "metadata": {},
     "output_type": "display_data"
    },
    {
     "name": "stdout",
     "output_type": "stream",
     "text": [
      "Exception: issue retrieving follow lists for this account -- Skipping.\n",
      "\n",
      "Current Number of edges from starting node 1\n",
      "Num unvisited neighbors: 1190\n",
      "------\n",
      "Starting node == 418447705\n",
      "\n",
      "Current Number of edges from starting node 0\n",
      "Num unvisited neighbors: 56\n",
      "------\n"
     ]
    },
    {
     "data": {
      "application/vnd.jupyter.widget-view+json": {
       "model_id": "8c04acd685d547cca04401f9754639d4",
       "version_major": 2,
       "version_minor": 0
      },
      "text/plain": [
       "  0%|          | 0/56 [00:00<?, ?it/s]"
      ]
     },
     "metadata": {},
     "output_type": "display_data"
    },
    {
     "name": "stdout",
     "output_type": "stream",
     "text": [
      "\n",
      "Current Number of edges from starting node 1\n",
      "Num unvisited neighbors: 2324\n",
      "------\n",
      "Starting node == 541170773\n",
      "\n",
      "Current Number of edges from starting node 0\n",
      "Num unvisited neighbors: 16\n",
      "------\n"
     ]
    },
    {
     "data": {
      "application/vnd.jupyter.widget-view+json": {
       "model_id": "c4900e4dfa5a4fd2929c8179a8031ba5",
       "version_major": 2,
       "version_minor": 0
      },
      "text/plain": [
       "  0%|          | 0/16 [00:00<?, ?it/s]"
      ]
     },
     "metadata": {},
     "output_type": "display_data"
    },
    {
     "name": "stdout",
     "output_type": "stream",
     "text": [
      "\n",
      "Current Number of edges from starting node 1\n",
      "Num unvisited neighbors: 313\n",
      "------\n",
      "Starting node == 471378714\n",
      "\n",
      "Current Number of edges from starting node 0\n",
      "Num unvisited neighbors: 31\n",
      "------\n"
     ]
    },
    {
     "data": {
      "application/vnd.jupyter.widget-view+json": {
       "model_id": "0ab673baa1b54abdab4a2fe6279ab5b6",
       "version_major": 2,
       "version_minor": 0
      },
      "text/plain": [
       "  0%|          | 0/31 [00:00<?, ?it/s]"
      ]
     },
     "metadata": {},
     "output_type": "display_data"
    },
    {
     "name": "stdout",
     "output_type": "stream",
     "text": [
      "\n",
      "Current Number of edges from starting node 1\n",
      "Num unvisited neighbors: 1203\n",
      "------\n",
      "Starting node == 2498702638\n",
      "\n",
      "Current Number of edges from starting node 0\n",
      "Num unvisited neighbors: 38\n",
      "------\n"
     ]
    },
    {
     "data": {
      "application/vnd.jupyter.widget-view+json": {
       "model_id": "37d898fddec247caa1612aca874d51a6",
       "version_major": 2,
       "version_minor": 0
      },
      "text/plain": [
       "  0%|          | 0/38 [00:00<?, ?it/s]"
      ]
     },
     "metadata": {},
     "output_type": "display_data"
    },
    {
     "name": "stdout",
     "output_type": "stream",
     "text": [
      "\n",
      "Current Number of edges from starting node 1\n",
      "Num unvisited neighbors: 1134\n",
      "------\n",
      "Starting node == 365728243\n",
      "\n",
      "Current Number of edges from starting node 0\n",
      "Num unvisited neighbors: 45\n",
      "------\n"
     ]
    },
    {
     "data": {
      "application/vnd.jupyter.widget-view+json": {
       "model_id": "eb40c00f8224413dab8d7b6cdef9ab1d",
       "version_major": 2,
       "version_minor": 0
      },
      "text/plain": [
       "  0%|          | 0/45 [00:00<?, ?it/s]"
      ]
     },
     "metadata": {},
     "output_type": "display_data"
    },
    {
     "name": "stdout",
     "output_type": "stream",
     "text": [
      "\n",
      "Current Number of edges from starting node 1\n",
      "Num unvisited neighbors: 1887\n",
      "------\n",
      "Starting node == 628971327\n",
      "\n",
      "Current Number of edges from starting node 0\n",
      "Num unvisited neighbors: 17\n",
      "------\n"
     ]
    },
    {
     "data": {
      "application/vnd.jupyter.widget-view+json": {
       "model_id": "d148d62ff9024e3eaebd904b5fb3270a",
       "version_major": 2,
       "version_minor": 0
      },
      "text/plain": [
       "  0%|          | 0/17 [00:00<?, ?it/s]"
      ]
     },
     "metadata": {},
     "output_type": "display_data"
    },
    {
     "name": "stdout",
     "output_type": "stream",
     "text": [
      "\n",
      "Current Number of edges from starting node 1\n",
      "Num unvisited neighbors: 693\n",
      "------\n",
      "Starting node == 229674020\n",
      "\n",
      "Current Number of edges from starting node 0\n",
      "Num unvisited neighbors: 30\n",
      "------\n"
     ]
    },
    {
     "data": {
      "application/vnd.jupyter.widget-view+json": {
       "model_id": "3ef500d7853e4f0aa3e8a2991e2093f2",
       "version_major": 2,
       "version_minor": 0
      },
      "text/plain": [
       "  0%|          | 0/30 [00:00<?, ?it/s]"
      ]
     },
     "metadata": {},
     "output_type": "display_data"
    },
    {
     "name": "stdout",
     "output_type": "stream",
     "text": [
      "\n",
      "Current Number of edges from starting node 1\n",
      "Num unvisited neighbors: 1022\n",
      "------\n",
      "Starting node == 1589907487\n",
      "\n",
      "Current Number of edges from starting node 0\n",
      "Num unvisited neighbors: 24\n",
      "------\n"
     ]
    },
    {
     "data": {
      "application/vnd.jupyter.widget-view+json": {
       "model_id": "8c6f0d64fcec42f1a5b97100394a81d2",
       "version_major": 2,
       "version_minor": 0
      },
      "text/plain": [
       "  0%|          | 0/24 [00:00<?, ?it/s]"
      ]
     },
     "metadata": {},
     "output_type": "display_data"
    },
    {
     "name": "stdout",
     "output_type": "stream",
     "text": [
      "\n",
      "Current Number of edges from starting node 1\n",
      "Num unvisited neighbors: 878\n",
      "------\n",
      "Starting node == 2894661271\n",
      "\n",
      "Current Number of edges from starting node 0\n",
      "Num unvisited neighbors: 21\n",
      "------\n"
     ]
    },
    {
     "data": {
      "application/vnd.jupyter.widget-view+json": {
       "model_id": "ee5c82dae73c4c658294f3e6094d8ec6",
       "version_major": 2,
       "version_minor": 0
      },
      "text/plain": [
       "  0%|          | 0/21 [00:00<?, ?it/s]"
      ]
     },
     "metadata": {},
     "output_type": "display_data"
    },
    {
     "name": "stdout",
     "output_type": "stream",
     "text": [
      "\n",
      "Current Number of edges from starting node 1\n",
      "Num unvisited neighbors: 744\n",
      "------\n",
      "Starting node == 577655361\n",
      "\n",
      "Current Number of edges from starting node 0\n",
      "Num unvisited neighbors: 56\n",
      "------\n"
     ]
    },
    {
     "data": {
      "application/vnd.jupyter.widget-view+json": {
       "model_id": "c83f592e520e490ab5fc83fede8054d4",
       "version_major": 2,
       "version_minor": 0
      },
      "text/plain": [
       "  0%|          | 0/56 [00:00<?, ?it/s]"
      ]
     },
     "metadata": {},
     "output_type": "display_data"
    },
    {
     "name": "stdout",
     "output_type": "stream",
     "text": [
      "\n",
      "Current Number of edges from starting node 1\n",
      "Num unvisited neighbors: 2585\n",
      "------\n",
      "Starting node == 2617776990\n",
      "\n",
      "Current Number of edges from starting node 0\n",
      "Num unvisited neighbors: 23\n",
      "------\n"
     ]
    },
    {
     "data": {
      "application/vnd.jupyter.widget-view+json": {
       "model_id": "6477f881f4f14de1bfa91701a1568b2d",
       "version_major": 2,
       "version_minor": 0
      },
      "text/plain": [
       "  0%|          | 0/23 [00:00<?, ?it/s]"
      ]
     },
     "metadata": {},
     "output_type": "display_data"
    },
    {
     "name": "stdout",
     "output_type": "stream",
     "text": [
      "\n",
      "Current Number of edges from starting node 1\n",
      "Num unvisited neighbors: 699\n",
      "------\n",
      "Starting node == 2167754641\n",
      "\n",
      "Current Number of edges from starting node 0\n",
      "Num unvisited neighbors: 26\n",
      "------\n"
     ]
    },
    {
     "data": {
      "application/vnd.jupyter.widget-view+json": {
       "model_id": "08bfa641f1a04801a92f83c1a99fb220",
       "version_major": 2,
       "version_minor": 0
      },
      "text/plain": [
       "  0%|          | 0/26 [00:00<?, ?it/s]"
      ]
     },
     "metadata": {},
     "output_type": "display_data"
    },
    {
     "name": "stderr",
     "output_type": "stream",
     "text": [
      "Rate limit exceeded. Sleeping for 663 seconds.\n"
     ]
    },
    {
     "name": "stdout",
     "output_type": "stream",
     "text": [
      "\n",
      "Current Number of edges from starting node 1\n",
      "Num unvisited neighbors: 856\n",
      "------\n",
      "Starting node == 723414284\n",
      "\n",
      "Current Number of edges from starting node 0\n",
      "Num unvisited neighbors: 37\n",
      "------\n"
     ]
    },
    {
     "data": {
      "application/vnd.jupyter.widget-view+json": {
       "model_id": "1529640058fc4cf1876cdba80e1ab2dc",
       "version_major": 2,
       "version_minor": 0
      },
      "text/plain": [
       "  0%|          | 0/37 [00:00<?, ?it/s]"
      ]
     },
     "metadata": {},
     "output_type": "display_data"
    },
    {
     "name": "stdout",
     "output_type": "stream",
     "text": [
      "\n",
      "Current Number of edges from starting node 1\n",
      "Num unvisited neighbors: 1614\n",
      "------\n",
      "Starting node == 2960573252\n",
      "\n",
      "Current Number of edges from starting node 0\n",
      "Num unvisited neighbors: 37\n",
      "------\n"
     ]
    },
    {
     "data": {
      "application/vnd.jupyter.widget-view+json": {
       "model_id": "e2cf4bcb86bd442ba4f624c2cee47fea",
       "version_major": 2,
       "version_minor": 0
      },
      "text/plain": [
       "  0%|          | 0/37 [00:00<?, ?it/s]"
      ]
     },
     "metadata": {},
     "output_type": "display_data"
    },
    {
     "name": "stdout",
     "output_type": "stream",
     "text": [
      "Exception: issue retrieving follow lists for this account -- Skipping.\n",
      "\n",
      "Current Number of edges from starting node 1\n",
      "Num unvisited neighbors: 1374\n",
      "------\n",
      "Starting node == 434268450\n",
      "\n",
      "Current Number of edges from starting node 0\n",
      "Num unvisited neighbors: 18\n",
      "------\n"
     ]
    },
    {
     "data": {
      "application/vnd.jupyter.widget-view+json": {
       "model_id": "e11ffeac5e19405b9e6263aa01fc60e8",
       "version_major": 2,
       "version_minor": 0
      },
      "text/plain": [
       "  0%|          | 0/18 [00:00<?, ?it/s]"
      ]
     },
     "metadata": {},
     "output_type": "display_data"
    },
    {
     "name": "stdout",
     "output_type": "stream",
     "text": [
      "Exception: issue retrieving follow lists for this account -- Skipping.\n",
      "\n",
      "Current Number of edges from starting node 1\n",
      "Num unvisited neighbors: 486\n",
      "------\n",
      "Starting node == 2441043272\n",
      "\n",
      "Current Number of edges from starting node 0\n",
      "Num unvisited neighbors: 9\n",
      "------\n"
     ]
    },
    {
     "data": {
      "application/vnd.jupyter.widget-view+json": {
       "model_id": "5a84696a354c43129c5addde640e6b2c",
       "version_major": 2,
       "version_minor": 0
      },
      "text/plain": [
       "  0%|          | 0/9 [00:00<?, ?it/s]"
      ]
     },
     "metadata": {},
     "output_type": "display_data"
    },
    {
     "name": "stdout",
     "output_type": "stream",
     "text": [
      "\n",
      "Current Number of edges from starting node 1\n",
      "Num unvisited neighbors: 491\n",
      "------\n",
      "Starting node == 732838734140444676\n",
      "\n",
      "Current Number of edges from starting node 0\n",
      "Num unvisited neighbors: 7\n",
      "------\n"
     ]
    },
    {
     "data": {
      "application/vnd.jupyter.widget-view+json": {
       "model_id": "a3ab9846a1bd45e2be1c16ca7da0ccbd",
       "version_major": 2,
       "version_minor": 0
      },
      "text/plain": [
       "  0%|          | 0/7 [00:00<?, ?it/s]"
      ]
     },
     "metadata": {},
     "output_type": "display_data"
    },
    {
     "name": "stdout",
     "output_type": "stream",
     "text": [
      "\n",
      "Current Number of edges from starting node 1\n",
      "Num unvisited neighbors: 85\n",
      "------\n",
      "Starting node == 541261629\n",
      "\n",
      "Current Number of edges from starting node 0\n",
      "Num unvisited neighbors: 39\n",
      "------\n"
     ]
    },
    {
     "data": {
      "application/vnd.jupyter.widget-view+json": {
       "model_id": "cfa87d6ad74f47b79e65758f314d9579",
       "version_major": 2,
       "version_minor": 0
      },
      "text/plain": [
       "  0%|          | 0/39 [00:00<?, ?it/s]"
      ]
     },
     "metadata": {},
     "output_type": "display_data"
    },
    {
     "name": "stdout",
     "output_type": "stream",
     "text": [
      "Exception: issue retrieving follow lists for this account -- Skipping.\n",
      "\n",
      "Current Number of edges from starting node 1\n",
      "Num unvisited neighbors: 949\n",
      "------\n",
      "Starting node == 359767085\n",
      "\n",
      "Current Number of edges from starting node 0\n",
      "Num unvisited neighbors: 35\n",
      "------\n"
     ]
    },
    {
     "data": {
      "application/vnd.jupyter.widget-view+json": {
       "model_id": "2a2e5a48562948dda0a626ad48c73421",
       "version_major": 2,
       "version_minor": 0
      },
      "text/plain": [
       "  0%|          | 0/35 [00:00<?, ?it/s]"
      ]
     },
     "metadata": {},
     "output_type": "display_data"
    },
    {
     "name": "stdout",
     "output_type": "stream",
     "text": [
      "\n",
      "Current Number of edges from starting node 1\n",
      "Num unvisited neighbors: 895\n",
      "------\n",
      "Starting node == 2569615681\n",
      "\n",
      "Current Number of edges from starting node 0\n",
      "Num unvisited neighbors: 32\n",
      "------\n"
     ]
    },
    {
     "data": {
      "application/vnd.jupyter.widget-view+json": {
       "model_id": "b3908c8d6208449a96b56e1811240bda",
       "version_major": 2,
       "version_minor": 0
      },
      "text/plain": [
       "  0%|          | 0/32 [00:00<?, ?it/s]"
      ]
     },
     "metadata": {},
     "output_type": "display_data"
    },
    {
     "name": "stdout",
     "output_type": "stream",
     "text": [
      "\n",
      "Current Number of edges from starting node 1\n",
      "Num unvisited neighbors: 731\n",
      "------\n",
      "Starting node == 942925416850907138\n",
      "Exception: issue retrieving follow lists for this account -- Skipping.\n",
      "\n",
      "Current Number of edges from starting node 0\n",
      "Num unvisited neighbors: 0\n",
      "------\n"
     ]
    },
    {
     "data": {
      "application/vnd.jupyter.widget-view+json": {
       "model_id": "4942d0a74c75470b863576558cc9f1e3",
       "version_major": 2,
       "version_minor": 0
      },
      "text/plain": [
       "0it [00:00, ?it/s]"
      ]
     },
     "metadata": {},
     "output_type": "display_data"
    },
    {
     "name": "stdout",
     "output_type": "stream",
     "text": [
      "\n",
      "Current Number of edges from starting node 1\n",
      "Num unvisited neighbors: 0\n",
      "------\n",
      "Starting node == 3319800715\n",
      "\n",
      "Current Number of edges from starting node 0\n",
      "Num unvisited neighbors: 20\n",
      "------\n"
     ]
    },
    {
     "data": {
      "application/vnd.jupyter.widget-view+json": {
       "model_id": "53aed0d0065e477dbaf50de8ac7049b1",
       "version_major": 2,
       "version_minor": 0
      },
      "text/plain": [
       "  0%|          | 0/20 [00:00<?, ?it/s]"
      ]
     },
     "metadata": {},
     "output_type": "display_data"
    },
    {
     "name": "stdout",
     "output_type": "stream",
     "text": [
      "\n",
      "Current Number of edges from starting node 1\n",
      "Num unvisited neighbors: 866\n",
      "------\n",
      "Starting node == 1461303931\n",
      "\n",
      "Current Number of edges from starting node 0\n",
      "Num unvisited neighbors: 36\n",
      "------\n"
     ]
    },
    {
     "data": {
      "application/vnd.jupyter.widget-view+json": {
       "model_id": "26b8412b01f847f78ea6be06c2f1a0de",
       "version_major": 2,
       "version_minor": 0
      },
      "text/plain": [
       "  0%|          | 0/36 [00:00<?, ?it/s]"
      ]
     },
     "metadata": {},
     "output_type": "display_data"
    },
    {
     "name": "stdout",
     "output_type": "stream",
     "text": [
      "\n",
      "Current Number of edges from starting node 1\n",
      "Num unvisited neighbors: 956\n",
      "------\n",
      "Starting node == 454119569\n",
      "\n",
      "Current Number of edges from starting node 0\n",
      "Num unvisited neighbors: 23\n",
      "------\n"
     ]
    },
    {
     "data": {
      "application/vnd.jupyter.widget-view+json": {
       "model_id": "20337523bc6c4c4092fcd9ef5a7a2c01",
       "version_major": 2,
       "version_minor": 0
      },
      "text/plain": [
       "  0%|          | 0/23 [00:00<?, ?it/s]"
      ]
     },
     "metadata": {},
     "output_type": "display_data"
    },
    {
     "name": "stdout",
     "output_type": "stream",
     "text": [
      "Exception: issue retrieving follow lists for this account -- Skipping.\n",
      "Exception: issue retrieving follow lists for this account -- Skipping.\n",
      "\n",
      "Current Number of edges from starting node 1\n",
      "Num unvisited neighbors: 534\n",
      "------\n",
      "Starting node == 2346985328\n",
      "\n",
      "Current Number of edges from starting node 0\n",
      "Num unvisited neighbors: 20\n",
      "------\n"
     ]
    },
    {
     "data": {
      "application/vnd.jupyter.widget-view+json": {
       "model_id": "e28a89a5fb14487d8de54833ffa27711",
       "version_major": 2,
       "version_minor": 0
      },
      "text/plain": [
       "  0%|          | 0/20 [00:00<?, ?it/s]"
      ]
     },
     "metadata": {},
     "output_type": "display_data"
    },
    {
     "name": "stdout",
     "output_type": "stream",
     "text": [
      "\n",
      "Current Number of edges from starting node 1\n",
      "Num unvisited neighbors: 687\n",
      "------\n",
      "Starting node == 237619353\n",
      "\n",
      "Current Number of edges from starting node 0\n",
      "Num unvisited neighbors: 44\n",
      "------\n"
     ]
    },
    {
     "data": {
      "application/vnd.jupyter.widget-view+json": {
       "model_id": "58df34c511d84f1784011a6208425845",
       "version_major": 2,
       "version_minor": 0
      },
      "text/plain": [
       "  0%|          | 0/44 [00:00<?, ?it/s]"
      ]
     },
     "metadata": {},
     "output_type": "display_data"
    },
    {
     "name": "stdout",
     "output_type": "stream",
     "text": [
      "\n",
      "Current Number of edges from starting node 1\n",
      "Num unvisited neighbors: 2484\n",
      "------\n",
      "Starting node == 2287569091\n",
      "\n",
      "Current Number of edges from starting node 0\n",
      "Num unvisited neighbors: 76\n",
      "------\n"
     ]
    },
    {
     "data": {
      "application/vnd.jupyter.widget-view+json": {
       "model_id": "ddd4916eae014979813580fa9eb170bb",
       "version_major": 2,
       "version_minor": 0
      },
      "text/plain": [
       "  0%|          | 0/76 [00:00<?, ?it/s]"
      ]
     },
     "metadata": {},
     "output_type": "display_data"
    },
    {
     "name": "stdout",
     "output_type": "stream",
     "text": [
      "Exception: issue retrieving follow lists for this account -- Skipping.\n"
     ]
    },
    {
     "name": "stderr",
     "output_type": "stream",
     "text": [
      "Rate limit exceeded. Sleeping for 681 seconds.\n"
     ]
    },
    {
     "name": "stdout",
     "output_type": "stream",
     "text": [
      "\n",
      "Current Number of edges from starting node 1\n",
      "Num unvisited neighbors: 3561\n",
      "------\n",
      "Starting node == 412545313\n",
      "\n",
      "Current Number of edges from starting node 0\n",
      "Num unvisited neighbors: 33\n",
      "------\n"
     ]
    },
    {
     "data": {
      "application/vnd.jupyter.widget-view+json": {
       "model_id": "365171006190471992374d86fcb29eff",
       "version_major": 2,
       "version_minor": 0
      },
      "text/plain": [
       "  0%|          | 0/33 [00:00<?, ?it/s]"
      ]
     },
     "metadata": {},
     "output_type": "display_data"
    },
    {
     "name": "stdout",
     "output_type": "stream",
     "text": [
      "Exception: issue retrieving follow lists for this account -- Skipping.\n",
      "\n",
      "Current Number of edges from starting node 1\n",
      "Num unvisited neighbors: 1046\n",
      "------\n",
      "Starting node == 206426946\n",
      "\n",
      "Current Number of edges from starting node 0\n",
      "Num unvisited neighbors: 18\n",
      "------\n"
     ]
    },
    {
     "data": {
      "application/vnd.jupyter.widget-view+json": {
       "model_id": "4ac447fb5f8f420d9c908e48cef1d9f2",
       "version_major": 2,
       "version_minor": 0
      },
      "text/plain": [
       "  0%|          | 0/18 [00:00<?, ?it/s]"
      ]
     },
     "metadata": {},
     "output_type": "display_data"
    },
    {
     "name": "stdout",
     "output_type": "stream",
     "text": [
      "\n",
      "Current Number of edges from starting node 1\n",
      "Num unvisited neighbors: 557\n",
      "------\n",
      "Starting node == 711613560\n",
      "\n",
      "Current Number of edges from starting node 0\n",
      "Num unvisited neighbors: 19\n",
      "------\n"
     ]
    },
    {
     "data": {
      "application/vnd.jupyter.widget-view+json": {
       "model_id": "e9bffcaeb92a416e8c932c8b8aeaa4ce",
       "version_major": 2,
       "version_minor": 0
      },
      "text/plain": [
       "  0%|          | 0/19 [00:00<?, ?it/s]"
      ]
     },
     "metadata": {},
     "output_type": "display_data"
    },
    {
     "name": "stdout",
     "output_type": "stream",
     "text": [
      "\n",
      "Current Number of edges from starting node 1\n",
      "Num unvisited neighbors: 927\n",
      "------\n",
      "Starting node == 1281280700\n",
      "\n",
      "Current Number of edges from starting node 0\n",
      "Num unvisited neighbors: 40\n",
      "------\n"
     ]
    },
    {
     "data": {
      "application/vnd.jupyter.widget-view+json": {
       "model_id": "5d0d33963d114cbc99cea66dc3c6ea8b",
       "version_major": 2,
       "version_minor": 0
      },
      "text/plain": [
       "  0%|          | 0/40 [00:00<?, ?it/s]"
      ]
     },
     "metadata": {},
     "output_type": "display_data"
    },
    {
     "name": "stdout",
     "output_type": "stream",
     "text": [
      "\n",
      "Current Number of edges from starting node 1\n",
      "Num unvisited neighbors: 1599\n",
      "------\n",
      "Starting node == 980252856\n",
      "\n",
      "Current Number of edges from starting node 0\n",
      "Num unvisited neighbors: 25\n",
      "------\n"
     ]
    },
    {
     "data": {
      "application/vnd.jupyter.widget-view+json": {
       "model_id": "24e98f396a4343a9bffe13e869e411b8",
       "version_major": 2,
       "version_minor": 0
      },
      "text/plain": [
       "  0%|          | 0/25 [00:00<?, ?it/s]"
      ]
     },
     "metadata": {},
     "output_type": "display_data"
    },
    {
     "name": "stdout",
     "output_type": "stream",
     "text": [
      "\n",
      "Current Number of edges from starting node 1\n",
      "Num unvisited neighbors: 455\n",
      "------\n",
      "Starting node == 463203444\n",
      "\n",
      "Current Number of edges from starting node 0\n",
      "Num unvisited neighbors: 31\n",
      "------\n"
     ]
    },
    {
     "data": {
      "application/vnd.jupyter.widget-view+json": {
       "model_id": "65ab37f7967a4041bdf11dacaeaf5628",
       "version_major": 2,
       "version_minor": 0
      },
      "text/plain": [
       "  0%|          | 0/31 [00:00<?, ?it/s]"
      ]
     },
     "metadata": {},
     "output_type": "display_data"
    },
    {
     "name": "stdout",
     "output_type": "stream",
     "text": [
      "\n",
      "Current Number of edges from starting node 1\n",
      "Num unvisited neighbors: 820\n",
      "------\n",
      "Starting node == 315895692\n",
      "\n",
      "Current Number of edges from starting node 0\n",
      "Num unvisited neighbors: 26\n",
      "------\n"
     ]
    },
    {
     "data": {
      "application/vnd.jupyter.widget-view+json": {
       "model_id": "1a5243c3f65246da8722e1e058a0ee44",
       "version_major": 2,
       "version_minor": 0
      },
      "text/plain": [
       "  0%|          | 0/26 [00:00<?, ?it/s]"
      ]
     },
     "metadata": {},
     "output_type": "display_data"
    },
    {
     "name": "stdout",
     "output_type": "stream",
     "text": [
      "\n",
      "Current Number of edges from starting node 1\n",
      "Num unvisited neighbors: 829\n",
      "------\n",
      "Starting node == 3189798943\n",
      "\n",
      "Current Number of edges from starting node 0\n",
      "Num unvisited neighbors: 11\n",
      "------\n"
     ]
    },
    {
     "data": {
      "application/vnd.jupyter.widget-view+json": {
       "model_id": "02cc4f2f9e284789bff75b88023f3320",
       "version_major": 2,
       "version_minor": 0
      },
      "text/plain": [
       "  0%|          | 0/11 [00:00<?, ?it/s]"
      ]
     },
     "metadata": {},
     "output_type": "display_data"
    },
    {
     "name": "stdout",
     "output_type": "stream",
     "text": [
      "Exception: issue retrieving follow lists for this account -- Skipping.\n",
      "\n",
      "Current Number of edges from starting node 1\n",
      "Num unvisited neighbors: 455\n",
      "------\n",
      "Starting node == 14183021\n",
      "\n",
      "Current Number of edges from starting node 0\n",
      "Num unvisited neighbors: 24\n",
      "------\n"
     ]
    },
    {
     "data": {
      "application/vnd.jupyter.widget-view+json": {
       "model_id": "0500251bc39f43c79bf1749453887b4a",
       "version_major": 2,
       "version_minor": 0
      },
      "text/plain": [
       "  0%|          | 0/24 [00:00<?, ?it/s]"
      ]
     },
     "metadata": {},
     "output_type": "display_data"
    },
    {
     "name": "stdout",
     "output_type": "stream",
     "text": [
      "\n",
      "Current Number of edges from starting node 1\n",
      "Num unvisited neighbors: 1207\n",
      "------\n",
      "Starting node == 61714263\n",
      "\n",
      "Current Number of edges from starting node 0\n",
      "Num unvisited neighbors: 20\n",
      "------\n"
     ]
    },
    {
     "data": {
      "application/vnd.jupyter.widget-view+json": {
       "model_id": "9865601ecb6b4a89b4471876f450ea7b",
       "version_major": 2,
       "version_minor": 0
      },
      "text/plain": [
       "  0%|          | 0/20 [00:00<?, ?it/s]"
      ]
     },
     "metadata": {},
     "output_type": "display_data"
    },
    {
     "name": "stdout",
     "output_type": "stream",
     "text": [
      "\n",
      "Current Number of edges from starting node 1\n",
      "Num unvisited neighbors: 496\n",
      "------\n",
      "Starting node == 135938060\n",
      "\n",
      "Current Number of edges from starting node 0\n",
      "Num unvisited neighbors: 56\n",
      "------\n"
     ]
    },
    {
     "data": {
      "application/vnd.jupyter.widget-view+json": {
       "model_id": "2efd1e71069442e6afd69abacb0181ac",
       "version_major": 2,
       "version_minor": 0
      },
      "text/plain": [
       "  0%|          | 0/56 [00:00<?, ?it/s]"
      ]
     },
     "metadata": {},
     "output_type": "display_data"
    },
    {
     "name": "stdout",
     "output_type": "stream",
     "text": [
      "\n",
      "Current Number of edges from starting node 1\n",
      "Num unvisited neighbors: 2815\n",
      "------\n",
      "Starting node == 378233374\n",
      "\n",
      "Current Number of edges from starting node 0\n",
      "Num unvisited neighbors: 16\n",
      "------\n"
     ]
    },
    {
     "data": {
      "application/vnd.jupyter.widget-view+json": {
       "model_id": "09bdc12ced1e43abb815ef3d7b560162",
       "version_major": 2,
       "version_minor": 0
      },
      "text/plain": [
       "  0%|          | 0/16 [00:00<?, ?it/s]"
      ]
     },
     "metadata": {},
     "output_type": "display_data"
    },
    {
     "name": "stdout",
     "output_type": "stream",
     "text": [
      "\n",
      "Current Number of edges from starting node 1\n",
      "Num unvisited neighbors: 352\n",
      "------\n",
      "Starting node == 534026385\n",
      "\n",
      "Current Number of edges from starting node 0\n",
      "Num unvisited neighbors: 12\n",
      "------\n"
     ]
    },
    {
     "data": {
      "application/vnd.jupyter.widget-view+json": {
       "model_id": "cff5ebeeb54044cb83ed28336483f5e3",
       "version_major": 2,
       "version_minor": 0
      },
      "text/plain": [
       "  0%|          | 0/12 [00:00<?, ?it/s]"
      ]
     },
     "metadata": {},
     "output_type": "display_data"
    },
    {
     "name": "stdout",
     "output_type": "stream",
     "text": [
      "\n",
      "Current Number of edges from starting node 1\n",
      "Num unvisited neighbors: 274\n",
      "------\n",
      "Starting node == 1166107502\n",
      "\n",
      "Current Number of edges from starting node 0\n",
      "Num unvisited neighbors: 13\n",
      "------\n"
     ]
    },
    {
     "data": {
      "application/vnd.jupyter.widget-view+json": {
       "model_id": "d95eabdd1f7f4463be383577b2598892",
       "version_major": 2,
       "version_minor": 0
      },
      "text/plain": [
       "  0%|          | 0/13 [00:00<?, ?it/s]"
      ]
     },
     "metadata": {},
     "output_type": "display_data"
    },
    {
     "name": "stdout",
     "output_type": "stream",
     "text": [
      "\n",
      "Current Number of edges from starting node 1\n",
      "Num unvisited neighbors: 726\n",
      "------\n",
      "Starting node == 1038692990\n",
      "\n",
      "Current Number of edges from starting node 0\n",
      "Num unvisited neighbors: 61\n",
      "------\n"
     ]
    },
    {
     "data": {
      "application/vnd.jupyter.widget-view+json": {
       "model_id": "ffcaeb276cf648d7b3d97b6bd5846e24",
       "version_major": 2,
       "version_minor": 0
      },
      "text/plain": [
       "  0%|          | 0/61 [00:00<?, ?it/s]"
      ]
     },
     "metadata": {},
     "output_type": "display_data"
    },
    {
     "name": "stdout",
     "output_type": "stream",
     "text": [
      "Exception: issue retrieving follow lists for this account -- Skipping.\n",
      "\n",
      "Current Number of edges from starting node 1\n",
      "Num unvisited neighbors: 2524\n",
      "------\n",
      "Starting node == 786509563927277568\n",
      "\n",
      "Current Number of edges from starting node 0\n",
      "Num unvisited neighbors: 4\n",
      "------\n"
     ]
    },
    {
     "data": {
      "application/vnd.jupyter.widget-view+json": {
       "model_id": "aa8344ced0f7412ca2c0d67f40e1bea3",
       "version_major": 2,
       "version_minor": 0
      },
      "text/plain": [
       "  0%|          | 0/4 [00:00<?, ?it/s]"
      ]
     },
     "metadata": {},
     "output_type": "display_data"
    },
    {
     "name": "stdout",
     "output_type": "stream",
     "text": [
      "\n",
      "Current Number of edges from starting node 1\n",
      "Num unvisited neighbors: 31\n",
      "------\n",
      "Starting node == 365814947\n",
      "\n",
      "Current Number of edges from starting node 0\n",
      "Num unvisited neighbors: 21\n",
      "------\n"
     ]
    },
    {
     "data": {
      "application/vnd.jupyter.widget-view+json": {
       "model_id": "2222454a90294c0885bc3a3bc8bbaea0",
       "version_major": 2,
       "version_minor": 0
      },
      "text/plain": [
       "  0%|          | 0/21 [00:00<?, ?it/s]"
      ]
     },
     "metadata": {},
     "output_type": "display_data"
    },
    {
     "name": "stderr",
     "output_type": "stream",
     "text": [
      "Rate limit exceeded. Sleeping for 663 seconds.\n"
     ]
    },
    {
     "name": "stdout",
     "output_type": "stream",
     "text": [
      "\n",
      "Current Number of edges from starting node 1\n",
      "Num unvisited neighbors: 513\n",
      "------\n",
      "Starting node == 706346715\n",
      "\n",
      "Current Number of edges from starting node 0\n",
      "Num unvisited neighbors: 49\n",
      "------\n"
     ]
    },
    {
     "data": {
      "application/vnd.jupyter.widget-view+json": {
       "model_id": "010acb3b89c149d1bc07786595108d94",
       "version_major": 2,
       "version_minor": 0
      },
      "text/plain": [
       "  0%|          | 0/49 [00:00<?, ?it/s]"
      ]
     },
     "metadata": {},
     "output_type": "display_data"
    },
    {
     "name": "stdout",
     "output_type": "stream",
     "text": [
      "\n",
      "Current Number of edges from starting node 1\n",
      "Num unvisited neighbors: 2505\n",
      "------\n",
      "Starting node == 3289240398\n",
      "\n",
      "Current Number of edges from starting node 0\n",
      "Num unvisited neighbors: 24\n",
      "------\n"
     ]
    },
    {
     "data": {
      "application/vnd.jupyter.widget-view+json": {
       "model_id": "367b179161494854b20e397936621e7f",
       "version_major": 2,
       "version_minor": 0
      },
      "text/plain": [
       "  0%|          | 0/24 [00:00<?, ?it/s]"
      ]
     },
     "metadata": {},
     "output_type": "display_data"
    },
    {
     "name": "stdout",
     "output_type": "stream",
     "text": [
      "\n",
      "Current Number of edges from starting node 1\n",
      "Num unvisited neighbors: 747\n",
      "------\n",
      "Starting node == 1004073678\n",
      "\n",
      "Current Number of edges from starting node 0\n",
      "Num unvisited neighbors: 33\n",
      "------\n"
     ]
    },
    {
     "data": {
      "application/vnd.jupyter.widget-view+json": {
       "model_id": "d6b64e14080840ada76f80a02d55e010",
       "version_major": 2,
       "version_minor": 0
      },
      "text/plain": [
       "  0%|          | 0/33 [00:00<?, ?it/s]"
      ]
     },
     "metadata": {},
     "output_type": "display_data"
    },
    {
     "name": "stdout",
     "output_type": "stream",
     "text": [
      "\n",
      "Current Number of edges from starting node 1\n",
      "Num unvisited neighbors: 705\n",
      "------\n",
      "Starting node == 2961704150\n",
      "\n",
      "Current Number of edges from starting node 0\n",
      "Num unvisited neighbors: 24\n",
      "------\n"
     ]
    },
    {
     "data": {
      "application/vnd.jupyter.widget-view+json": {
       "model_id": "2162ffb144e348babd4c06375aead6fe",
       "version_major": 2,
       "version_minor": 0
      },
      "text/plain": [
       "  0%|          | 0/24 [00:00<?, ?it/s]"
      ]
     },
     "metadata": {},
     "output_type": "display_data"
    },
    {
     "name": "stdout",
     "output_type": "stream",
     "text": [
      "\n",
      "Current Number of edges from starting node 1\n",
      "Num unvisited neighbors: 780\n",
      "------\n",
      "Starting node == 534243387\n",
      "\n",
      "Current Number of edges from starting node 0\n",
      "Num unvisited neighbors: 19\n",
      "------\n"
     ]
    },
    {
     "data": {
      "application/vnd.jupyter.widget-view+json": {
       "model_id": "21813d94831047c5a026006976c5d455",
       "version_major": 2,
       "version_minor": 0
      },
      "text/plain": [
       "  0%|          | 0/19 [00:00<?, ?it/s]"
      ]
     },
     "metadata": {},
     "output_type": "display_data"
    },
    {
     "name": "stdout",
     "output_type": "stream",
     "text": [
      "\n",
      "Current Number of edges from starting node 1\n",
      "Num unvisited neighbors: 315\n",
      "------\n",
      "Starting node == 2443677496\n",
      "\n",
      "Current Number of edges from starting node 0\n",
      "Num unvisited neighbors: 33\n",
      "------\n"
     ]
    },
    {
     "data": {
      "application/vnd.jupyter.widget-view+json": {
       "model_id": "b62568b5c95f42e68107dfc51e6c092b",
       "version_major": 2,
       "version_minor": 0
      },
      "text/plain": [
       "  0%|          | 0/33 [00:00<?, ?it/s]"
      ]
     },
     "metadata": {},
     "output_type": "display_data"
    },
    {
     "name": "stdout",
     "output_type": "stream",
     "text": [
      "\n",
      "Current Number of edges from starting node 1\n",
      "Num unvisited neighbors: 1286\n",
      "------\n",
      "Starting node == 536997660\n",
      "\n",
      "Current Number of edges from starting node 0\n",
      "Num unvisited neighbors: 31\n",
      "------\n"
     ]
    },
    {
     "data": {
      "application/vnd.jupyter.widget-view+json": {
       "model_id": "3d350bee039848cabb74fabf90b432f6",
       "version_major": 2,
       "version_minor": 0
      },
      "text/plain": [
       "  0%|          | 0/31 [00:00<?, ?it/s]"
      ]
     },
     "metadata": {},
     "output_type": "display_data"
    },
    {
     "name": "stdout",
     "output_type": "stream",
     "text": [
      "\n",
      "Current Number of edges from starting node 1\n",
      "Num unvisited neighbors: 644\n",
      "------\n",
      "Starting node == 226646643\n",
      "\n",
      "Current Number of edges from starting node 0\n",
      "Num unvisited neighbors: 46\n",
      "------\n"
     ]
    },
    {
     "data": {
      "application/vnd.jupyter.widget-view+json": {
       "model_id": "79b4c93fccea4f9180adc85448bc2f3e",
       "version_major": 2,
       "version_minor": 0
      },
      "text/plain": [
       "  0%|          | 0/46 [00:00<?, ?it/s]"
      ]
     },
     "metadata": {},
     "output_type": "display_data"
    },
    {
     "name": "stdout",
     "output_type": "stream",
     "text": [
      "\n",
      "Current Number of edges from starting node 1\n",
      "Num unvisited neighbors: 1472\n",
      "------\n",
      "Starting node == 3317108412\n",
      "\n",
      "Current Number of edges from starting node 0\n",
      "Num unvisited neighbors: 66\n",
      "------\n"
     ]
    },
    {
     "data": {
      "application/vnd.jupyter.widget-view+json": {
       "model_id": "5a56bd4b62e14e51bb2be113b90d738f",
       "version_major": 2,
       "version_minor": 0
      },
      "text/plain": [
       "  0%|          | 0/66 [00:00<?, ?it/s]"
      ]
     },
     "metadata": {},
     "output_type": "display_data"
    },
    {
     "name": "stdout",
     "output_type": "stream",
     "text": [
      "Exception: issue retrieving follow lists for this account -- Skipping.\n",
      "\n",
      "Current Number of edges from starting node 1\n",
      "Num unvisited neighbors: 3518\n",
      "------\n",
      "Starting node == 1422608701\n",
      "\n",
      "Current Number of edges from starting node 0\n",
      "Num unvisited neighbors: 54\n",
      "------\n"
     ]
    },
    {
     "data": {
      "application/vnd.jupyter.widget-view+json": {
       "model_id": "a8c5ac931f434a09bb2b7b9d30361f8c",
       "version_major": 2,
       "version_minor": 0
      },
      "text/plain": [
       "  0%|          | 0/54 [00:00<?, ?it/s]"
      ]
     },
     "metadata": {},
     "output_type": "display_data"
    },
    {
     "name": "stdout",
     "output_type": "stream",
     "text": [
      "\n",
      "Current Number of edges from starting node 1\n",
      "Num unvisited neighbors: 1893\n",
      "------\n",
      "Starting node == 383587781\n",
      "\n",
      "Current Number of edges from starting node 0\n",
      "Num unvisited neighbors: 26\n",
      "------\n"
     ]
    },
    {
     "data": {
      "application/vnd.jupyter.widget-view+json": {
       "model_id": "4f81164db58c49db9a49f4fc42fa3750",
       "version_major": 2,
       "version_minor": 0
      },
      "text/plain": [
       "  0%|          | 0/26 [00:00<?, ?it/s]"
      ]
     },
     "metadata": {},
     "output_type": "display_data"
    },
    {
     "name": "stdout",
     "output_type": "stream",
     "text": [
      "\n",
      "Current Number of edges from starting node 1\n",
      "Num unvisited neighbors: 629\n",
      "------\n",
      "Starting node == 2724427200\n",
      "\n",
      "Current Number of edges from starting node 0\n",
      "Num unvisited neighbors: 18\n",
      "------\n"
     ]
    },
    {
     "data": {
      "application/vnd.jupyter.widget-view+json": {
       "model_id": "830824f729724e2792fc1ec3cee59f26",
       "version_major": 2,
       "version_minor": 0
      },
      "text/plain": [
       "  0%|          | 0/18 [00:00<?, ?it/s]"
      ]
     },
     "metadata": {},
     "output_type": "display_data"
    },
    {
     "name": "stdout",
     "output_type": "stream",
     "text": [
      "\n",
      "Current Number of edges from starting node 1\n",
      "Num unvisited neighbors: 780\n",
      "------\n",
      "Starting node == 994311271\n",
      "\n",
      "Current Number of edges from starting node 0\n",
      "Num unvisited neighbors: 47\n",
      "------\n"
     ]
    },
    {
     "data": {
      "application/vnd.jupyter.widget-view+json": {
       "model_id": "3f2bb491020c4ac699df65fe0a474eb2",
       "version_major": 2,
       "version_minor": 0
      },
      "text/plain": [
       "  0%|          | 0/47 [00:00<?, ?it/s]"
      ]
     },
     "metadata": {},
     "output_type": "display_data"
    },
    {
     "name": "stderr",
     "output_type": "stream",
     "text": [
      "Rate limit exceeded. Sleeping for 662 seconds.\n"
     ]
    },
    {
     "name": "stdout",
     "output_type": "stream",
     "text": [
      "\n",
      "Current Number of edges from starting node 1\n",
      "Num unvisited neighbors: 1767\n",
      "------\n",
      "Starting node == 232824777\n",
      "\n",
      "Current Number of edges from starting node 0\n",
      "Num unvisited neighbors: 12\n",
      "------\n"
     ]
    },
    {
     "data": {
      "application/vnd.jupyter.widget-view+json": {
       "model_id": "efef88161a1b4642bca9a4a0eb77a5c0",
       "version_major": 2,
       "version_minor": 0
      },
      "text/plain": [
       "  0%|          | 0/12 [00:00<?, ?it/s]"
      ]
     },
     "metadata": {},
     "output_type": "display_data"
    },
    {
     "name": "stdout",
     "output_type": "stream",
     "text": [
      "\n",
      "Current Number of edges from starting node 1\n",
      "Num unvisited neighbors: 325\n",
      "------\n",
      "Starting node == 228509845\n",
      "\n",
      "Current Number of edges from starting node 0\n",
      "Num unvisited neighbors: 22\n",
      "------\n"
     ]
    },
    {
     "data": {
      "application/vnd.jupyter.widget-view+json": {
       "model_id": "befebb23b15b444494eb77610887086b",
       "version_major": 2,
       "version_minor": 0
      },
      "text/plain": [
       "  0%|          | 0/22 [00:00<?, ?it/s]"
      ]
     },
     "metadata": {},
     "output_type": "display_data"
    },
    {
     "name": "stdout",
     "output_type": "stream",
     "text": [
      "\n",
      "Current Number of edges from starting node 1\n",
      "Num unvisited neighbors: 411\n",
      "------\n",
      "Starting node == 223534835\n",
      "\n",
      "Current Number of edges from starting node 0\n",
      "Num unvisited neighbors: 13\n",
      "------\n"
     ]
    },
    {
     "data": {
      "application/vnd.jupyter.widget-view+json": {
       "model_id": "ed0989973ff14da49f3d4f9cd83e538d",
       "version_major": 2,
       "version_minor": 0
      },
      "text/plain": [
       "  0%|          | 0/13 [00:00<?, ?it/s]"
      ]
     },
     "metadata": {},
     "output_type": "display_data"
    },
    {
     "name": "stdout",
     "output_type": "stream",
     "text": [
      "\n",
      "Current Number of edges from starting node 1\n",
      "Num unvisited neighbors: 290\n",
      "------\n",
      "Starting node == 63604508\n",
      "\n",
      "Current Number of edges from starting node 0\n",
      "Num unvisited neighbors: 21\n",
      "------\n"
     ]
    },
    {
     "data": {
      "application/vnd.jupyter.widget-view+json": {
       "model_id": "75e8079e46b6443cb7750408fca2db4f",
       "version_major": 2,
       "version_minor": 0
      },
      "text/plain": [
       "  0%|          | 0/21 [00:00<?, ?it/s]"
      ]
     },
     "metadata": {},
     "output_type": "display_data"
    },
    {
     "name": "stdout",
     "output_type": "stream",
     "text": [
      "\n",
      "Current Number of edges from starting node 1\n",
      "Num unvisited neighbors: 552\n",
      "------\n",
      "Starting node == 43768063\n",
      "\n",
      "Current Number of edges from starting node 0\n",
      "Num unvisited neighbors: 21\n",
      "------\n"
     ]
    },
    {
     "data": {
      "application/vnd.jupyter.widget-view+json": {
       "model_id": "638c358e1ee74fd8affb27aae09ac724",
       "version_major": 2,
       "version_minor": 0
      },
      "text/plain": [
       "  0%|          | 0/21 [00:00<?, ?it/s]"
      ]
     },
     "metadata": {},
     "output_type": "display_data"
    },
    {
     "name": "stdout",
     "output_type": "stream",
     "text": [
      "\n",
      "Current Number of edges from starting node 1\n",
      "Num unvisited neighbors: 830\n",
      "------\n",
      "Starting node == 105043121\n",
      "\n",
      "Current Number of edges from starting node 0\n",
      "Num unvisited neighbors: 30\n",
      "------\n"
     ]
    },
    {
     "data": {
      "application/vnd.jupyter.widget-view+json": {
       "model_id": "28c2bd828ce743588fa058b7dc4afe21",
       "version_major": 2,
       "version_minor": 0
      },
      "text/plain": [
       "  0%|          | 0/30 [00:00<?, ?it/s]"
      ]
     },
     "metadata": {},
     "output_type": "display_data"
    },
    {
     "name": "stdout",
     "output_type": "stream",
     "text": [
      "\n",
      "Current Number of edges from starting node 1\n",
      "Num unvisited neighbors: 965\n",
      "------\n",
      "Starting node == 415185577\n",
      "\n",
      "Current Number of edges from starting node 0\n",
      "Num unvisited neighbors: 37\n",
      "------\n"
     ]
    },
    {
     "data": {
      "application/vnd.jupyter.widget-view+json": {
       "model_id": "e7bc93da1ad248e79f00655c531c3750",
       "version_major": 2,
       "version_minor": 0
      },
      "text/plain": [
       "  0%|          | 0/37 [00:00<?, ?it/s]"
      ]
     },
     "metadata": {},
     "output_type": "display_data"
    },
    {
     "name": "stdout",
     "output_type": "stream",
     "text": [
      "\n",
      "Current Number of edges from starting node 1\n",
      "Num unvisited neighbors: 1449\n",
      "------\n",
      "Starting node == 87390266\n",
      "\n",
      "Current Number of edges from starting node 0\n",
      "Num unvisited neighbors: 55\n",
      "------\n"
     ]
    },
    {
     "data": {
      "application/vnd.jupyter.widget-view+json": {
       "model_id": "1711d6983bf34c1db688115301671d03",
       "version_major": 2,
       "version_minor": 0
      },
      "text/plain": [
       "  0%|          | 0/55 [00:00<?, ?it/s]"
      ]
     },
     "metadata": {},
     "output_type": "display_data"
    },
    {
     "name": "stdout",
     "output_type": "stream",
     "text": [
      "\n",
      "Current Number of edges from starting node 1\n",
      "Num unvisited neighbors: 2086\n",
      "------\n",
      "Starting node == 885179286\n",
      "\n",
      "Current Number of edges from starting node 0\n",
      "Num unvisited neighbors: 35\n",
      "------\n"
     ]
    },
    {
     "data": {
      "application/vnd.jupyter.widget-view+json": {
       "model_id": "3ac0cca9ed9140a6ba2057419063829a",
       "version_major": 2,
       "version_minor": 0
      },
      "text/plain": [
       "  0%|          | 0/35 [00:00<?, ?it/s]"
      ]
     },
     "metadata": {},
     "output_type": "display_data"
    },
    {
     "name": "stdout",
     "output_type": "stream",
     "text": [
      "\n",
      "Current Number of edges from starting node 1\n",
      "Num unvisited neighbors: 1268\n",
      "------\n",
      "Starting node == 528507656\n",
      "\n",
      "Current Number of edges from starting node 0\n",
      "Num unvisited neighbors: 28\n",
      "------\n"
     ]
    },
    {
     "data": {
      "application/vnd.jupyter.widget-view+json": {
       "model_id": "2efaffe2b3f1455aa86500e2534c332b",
       "version_major": 2,
       "version_minor": 0
      },
      "text/plain": [
       "  0%|          | 0/28 [00:00<?, ?it/s]"
      ]
     },
     "metadata": {},
     "output_type": "display_data"
    },
    {
     "name": "stdout",
     "output_type": "stream",
     "text": [
      "\n",
      "Current Number of edges from starting node 1\n",
      "Num unvisited neighbors: 729\n",
      "------\n",
      "Starting node == 1579099513\n",
      "\n",
      "Current Number of edges from starting node 0\n",
      "Num unvisited neighbors: 24\n",
      "------\n"
     ]
    },
    {
     "data": {
      "application/vnd.jupyter.widget-view+json": {
       "model_id": "8c4c1f37c7f1496bbbac0f9fd890164b",
       "version_major": 2,
       "version_minor": 0
      },
      "text/plain": [
       "  0%|          | 0/24 [00:00<?, ?it/s]"
      ]
     },
     "metadata": {},
     "output_type": "display_data"
    },
    {
     "name": "stdout",
     "output_type": "stream",
     "text": [
      "\n",
      "Current Number of edges from starting node 1\n",
      "Num unvisited neighbors: 714\n",
      "------\n",
      "Starting node == 822815182393065476\n",
      "\n",
      "Current Number of edges from starting node 0\n",
      "Num unvisited neighbors: 3\n",
      "------\n"
     ]
    },
    {
     "data": {
      "application/vnd.jupyter.widget-view+json": {
       "model_id": "deb3d16d8d3f4b05b6b0825637b42d5d",
       "version_major": 2,
       "version_minor": 0
      },
      "text/plain": [
       "  0%|          | 0/3 [00:00<?, ?it/s]"
      ]
     },
     "metadata": {},
     "output_type": "display_data"
    },
    {
     "name": "stdout",
     "output_type": "stream",
     "text": [
      "\n",
      "Current Number of edges from starting node 1\n",
      "Num unvisited neighbors: 85\n",
      "------\n",
      "Starting node == 186811328\n",
      "\n",
      "Current Number of edges from starting node 0\n",
      "Num unvisited neighbors: 53\n",
      "------\n"
     ]
    },
    {
     "data": {
      "application/vnd.jupyter.widget-view+json": {
       "model_id": "f0e0d96661fb4965b69263638d110589",
       "version_major": 2,
       "version_minor": 0
      },
      "text/plain": [
       "  0%|          | 0/53 [00:00<?, ?it/s]"
      ]
     },
     "metadata": {},
     "output_type": "display_data"
    },
    {
     "name": "stdout",
     "output_type": "stream",
     "text": [
      "\n",
      "Current Number of edges from starting node 1\n",
      "Num unvisited neighbors: 2069\n",
      "------\n",
      "Starting node == 2806238839\n",
      "\n",
      "Current Number of edges from starting node 0\n",
      "Num unvisited neighbors: 5\n",
      "------\n"
     ]
    },
    {
     "data": {
      "application/vnd.jupyter.widget-view+json": {
       "model_id": "2d9ace76cb8d4f1cae24569694220302",
       "version_major": 2,
       "version_minor": 0
      },
      "text/plain": [
       "  0%|          | 0/5 [00:00<?, ?it/s]"
      ]
     },
     "metadata": {},
     "output_type": "display_data"
    },
    {
     "name": "stdout",
     "output_type": "stream",
     "text": [
      "\n",
      "Current Number of edges from starting node 1\n",
      "Num unvisited neighbors: 150\n",
      "------\n",
      "Starting node == 238364017\n",
      "\n",
      "Current Number of edges from starting node 0\n",
      "Num unvisited neighbors: 38\n",
      "------\n"
     ]
    },
    {
     "data": {
      "application/vnd.jupyter.widget-view+json": {
       "model_id": "3a68fedb52ee4197b2c8a9252b50319f",
       "version_major": 2,
       "version_minor": 0
      },
      "text/plain": [
       "  0%|          | 0/38 [00:00<?, ?it/s]"
      ]
     },
     "metadata": {},
     "output_type": "display_data"
    },
    {
     "name": "stderr",
     "output_type": "stream",
     "text": [
      "Rate limit exceeded. Sleeping for 674 seconds.\n"
     ]
    },
    {
     "name": "stdout",
     "output_type": "stream",
     "text": [
      "\n",
      "Current Number of edges from starting node 1\n",
      "Num unvisited neighbors: 1121\n",
      "------\n",
      "Starting node == 168731366\n",
      "\n",
      "Current Number of edges from starting node 0\n",
      "Num unvisited neighbors: 38\n",
      "------\n"
     ]
    },
    {
     "data": {
      "application/vnd.jupyter.widget-view+json": {
       "model_id": "b1a5586c85214f5ebddb6cef7926f258",
       "version_major": 2,
       "version_minor": 0
      },
      "text/plain": [
       "  0%|          | 0/38 [00:00<?, ?it/s]"
      ]
     },
     "metadata": {},
     "output_type": "display_data"
    },
    {
     "name": "stdout",
     "output_type": "stream",
     "text": [
      "Exception: issue retrieving follow lists for this account -- Skipping.\n",
      "\n",
      "Current Number of edges from starting node 1\n",
      "Num unvisited neighbors: 1082\n",
      "------\n",
      "Starting node == 2234121841\n",
      "\n",
      "Current Number of edges from starting node 0\n",
      "Num unvisited neighbors: 24\n",
      "------\n"
     ]
    },
    {
     "data": {
      "application/vnd.jupyter.widget-view+json": {
       "model_id": "229aac5c8af34ee1a4b654b96ddfe04c",
       "version_major": 2,
       "version_minor": 0
      },
      "text/plain": [
       "  0%|          | 0/24 [00:00<?, ?it/s]"
      ]
     },
     "metadata": {},
     "output_type": "display_data"
    },
    {
     "name": "stdout",
     "output_type": "stream",
     "text": [
      "\n",
      "Current Number of edges from starting node 1\n",
      "Num unvisited neighbors: 667\n",
      "------\n",
      "Starting node == 2379421646\n",
      "\n",
      "Current Number of edges from starting node 0\n",
      "Num unvisited neighbors: 20\n",
      "------\n"
     ]
    },
    {
     "data": {
      "application/vnd.jupyter.widget-view+json": {
       "model_id": "02a5b080e5944bf8b7cc3c531f98509b",
       "version_major": 2,
       "version_minor": 0
      },
      "text/plain": [
       "  0%|          | 0/20 [00:00<?, ?it/s]"
      ]
     },
     "metadata": {},
     "output_type": "display_data"
    },
    {
     "name": "stdout",
     "output_type": "stream",
     "text": [
      "\n",
      "Current Number of edges from starting node 1\n",
      "Num unvisited neighbors: 688\n",
      "------\n",
      "Starting node == 418187913\n",
      "\n",
      "Current Number of edges from starting node 0\n",
      "Num unvisited neighbors: 13\n",
      "------\n"
     ]
    },
    {
     "data": {
      "application/vnd.jupyter.widget-view+json": {
       "model_id": "ef7679d7d8ec44d0a1d53412b00f17ec",
       "version_major": 2,
       "version_minor": 0
      },
      "text/plain": [
       "  0%|          | 0/13 [00:00<?, ?it/s]"
      ]
     },
     "metadata": {},
     "output_type": "display_data"
    },
    {
     "name": "stdout",
     "output_type": "stream",
     "text": [
      "\n",
      "Current Number of edges from starting node 1\n",
      "Num unvisited neighbors: 357\n",
      "------\n",
      "Starting node == 2924946324\n",
      "\n",
      "Current Number of edges from starting node 0\n",
      "Num unvisited neighbors: 28\n",
      "------\n"
     ]
    },
    {
     "data": {
      "application/vnd.jupyter.widget-view+json": {
       "model_id": "66c332ab306a41699ea697eac82e23c3",
       "version_major": 2,
       "version_minor": 0
      },
      "text/plain": [
       "  0%|          | 0/28 [00:00<?, ?it/s]"
      ]
     },
     "metadata": {},
     "output_type": "display_data"
    },
    {
     "name": "stdout",
     "output_type": "stream",
     "text": [
      "\n",
      "Current Number of edges from starting node 1\n",
      "Num unvisited neighbors: 1203\n",
      "------\n",
      "Starting node == 845360182607589376\n",
      "\n",
      "Current Number of edges from starting node 0\n",
      "Num unvisited neighbors: 2\n",
      "------\n"
     ]
    },
    {
     "data": {
      "application/vnd.jupyter.widget-view+json": {
       "model_id": "7670089d3ac44d67bc007d2e0e282b80",
       "version_major": 2,
       "version_minor": 0
      },
      "text/plain": [
       "  0%|          | 0/2 [00:00<?, ?it/s]"
      ]
     },
     "metadata": {},
     "output_type": "display_data"
    },
    {
     "name": "stdout",
     "output_type": "stream",
     "text": [
      "\n",
      "Current Number of edges from starting node 1\n",
      "Num unvisited neighbors: 86\n",
      "------\n",
      "Starting node == 340470628\n",
      "\n",
      "Current Number of edges from starting node 0\n",
      "Num unvisited neighbors: 11\n",
      "------\n"
     ]
    },
    {
     "data": {
      "application/vnd.jupyter.widget-view+json": {
       "model_id": "983fb145959b44c78dbac8507bcbbe9d",
       "version_major": 2,
       "version_minor": 0
      },
      "text/plain": [
       "  0%|          | 0/11 [00:00<?, ?it/s]"
      ]
     },
     "metadata": {},
     "output_type": "display_data"
    },
    {
     "name": "stdout",
     "output_type": "stream",
     "text": [
      "\n",
      "Current Number of edges from starting node 1\n",
      "Num unvisited neighbors: 258\n",
      "------\n",
      "Starting node == 1554010706\n",
      "\n",
      "Current Number of edges from starting node 0\n",
      "Num unvisited neighbors: 45\n",
      "------\n"
     ]
    },
    {
     "data": {
      "application/vnd.jupyter.widget-view+json": {
       "model_id": "3e19bb3eacc94064a5e7e126a825d430",
       "version_major": 2,
       "version_minor": 0
      },
      "text/plain": [
       "  0%|          | 0/45 [00:00<?, ?it/s]"
      ]
     },
     "metadata": {},
     "output_type": "display_data"
    },
    {
     "name": "stdout",
     "output_type": "stream",
     "text": [
      "\n",
      "Current Number of edges from starting node 1\n",
      "Num unvisited neighbors: 1791\n",
      "------\n",
      "Starting node == 958880016\n",
      "\n",
      "Current Number of edges from starting node 0\n",
      "Num unvisited neighbors: 11\n",
      "------\n"
     ]
    },
    {
     "data": {
      "application/vnd.jupyter.widget-view+json": {
       "model_id": "11b2fd4cd59b451196391ba70123250e",
       "version_major": 2,
       "version_minor": 0
      },
      "text/plain": [
       "  0%|          | 0/11 [00:00<?, ?it/s]"
      ]
     },
     "metadata": {},
     "output_type": "display_data"
    },
    {
     "name": "stdout",
     "output_type": "stream",
     "text": [
      "\n",
      "Current Number of edges from starting node 1\n",
      "Num unvisited neighbors: 112\n",
      "------\n",
      "Starting node == 2163553326\n",
      "\n",
      "Current Number of edges from starting node 0\n",
      "Num unvisited neighbors: 40\n",
      "------\n"
     ]
    },
    {
     "data": {
      "application/vnd.jupyter.widget-view+json": {
       "model_id": "0befe493ed40436bafe4fcab56225eda",
       "version_major": 2,
       "version_minor": 0
      },
      "text/plain": [
       "  0%|          | 0/40 [00:00<?, ?it/s]"
      ]
     },
     "metadata": {},
     "output_type": "display_data"
    },
    {
     "name": "stdout",
     "output_type": "stream",
     "text": [
      "\n",
      "Current Number of edges from starting node 1\n",
      "Num unvisited neighbors: 1331\n",
      "------\n",
      "Starting node == 167118683\n",
      "\n",
      "Current Number of edges from starting node 0\n",
      "Num unvisited neighbors: 32\n",
      "------\n"
     ]
    },
    {
     "data": {
      "application/vnd.jupyter.widget-view+json": {
       "model_id": "fddd3f8a8790455e90c834962ecf3719",
       "version_major": 2,
       "version_minor": 0
      },
      "text/plain": [
       "  0%|          | 0/32 [00:00<?, ?it/s]"
      ]
     },
     "metadata": {},
     "output_type": "display_data"
    },
    {
     "name": "stdout",
     "output_type": "stream",
     "text": [
      "\n",
      "Current Number of edges from starting node 1\n",
      "Num unvisited neighbors: 1131\n",
      "------\n",
      "Starting node == 3174505203\n",
      "\n",
      "Current Number of edges from starting node 0\n",
      "Num unvisited neighbors: 31\n",
      "------\n"
     ]
    },
    {
     "data": {
      "application/vnd.jupyter.widget-view+json": {
       "model_id": "589aaa1890074413a7929440d31ed6b1",
       "version_major": 2,
       "version_minor": 0
      },
      "text/plain": [
       "  0%|          | 0/31 [00:00<?, ?it/s]"
      ]
     },
     "metadata": {},
     "output_type": "display_data"
    },
    {
     "name": "stdout",
     "output_type": "stream",
     "text": [
      "\n",
      "Current Number of edges from starting node 1\n",
      "Num unvisited neighbors: 1451\n",
      "------\n",
      "Starting node == 1571133319\n",
      "\n",
      "Current Number of edges from starting node 0\n",
      "Num unvisited neighbors: 14\n",
      "------\n"
     ]
    },
    {
     "data": {
      "application/vnd.jupyter.widget-view+json": {
       "model_id": "876f4ac39ca346a3a373230b20d3d6b1",
       "version_major": 2,
       "version_minor": 0
      },
      "text/plain": [
       "  0%|          | 0/14 [00:00<?, ?it/s]"
      ]
     },
     "metadata": {},
     "output_type": "display_data"
    },
    {
     "name": "stdout",
     "output_type": "stream",
     "text": [
      "\n",
      "Current Number of edges from starting node 1\n",
      "Num unvisited neighbors: 324\n",
      "------\n",
      "Starting node == 952168021\n",
      "\n",
      "Current Number of edges from starting node 0\n",
      "Num unvisited neighbors: 17\n",
      "------\n"
     ]
    },
    {
     "data": {
      "application/vnd.jupyter.widget-view+json": {
       "model_id": "1a504e809d7e4c2593327256962148c8",
       "version_major": 2,
       "version_minor": 0
      },
      "text/plain": [
       "  0%|          | 0/17 [00:00<?, ?it/s]"
      ]
     },
     "metadata": {},
     "output_type": "display_data"
    },
    {
     "name": "stdout",
     "output_type": "stream",
     "text": [
      "\n",
      "Current Number of edges from starting node 1\n",
      "Num unvisited neighbors: 312\n",
      "------\n",
      "Starting node == 378721847\n",
      "\n",
      "Current Number of edges from starting node 0\n",
      "Num unvisited neighbors: 28\n",
      "------\n"
     ]
    },
    {
     "data": {
      "application/vnd.jupyter.widget-view+json": {
       "model_id": "5deaab20f8554e9baedaf776c48d22d5",
       "version_major": 2,
       "version_minor": 0
      },
      "text/plain": [
       "  0%|          | 0/28 [00:00<?, ?it/s]"
      ]
     },
     "metadata": {},
     "output_type": "display_data"
    },
    {
     "name": "stdout",
     "output_type": "stream",
     "text": [
      "\n",
      "Current Number of edges from starting node 1\n",
      "Num unvisited neighbors: 604\n",
      "------\n",
      "Starting node == 1473354078\n",
      "\n",
      "Current Number of edges from starting node 0\n",
      "Num unvisited neighbors: 20\n",
      "------\n"
     ]
    },
    {
     "data": {
      "application/vnd.jupyter.widget-view+json": {
       "model_id": "33e1e39820254bbd9f3ad6143811670e",
       "version_major": 2,
       "version_minor": 0
      },
      "text/plain": [
       "  0%|          | 0/20 [00:00<?, ?it/s]"
      ]
     },
     "metadata": {},
     "output_type": "display_data"
    },
    {
     "name": "stdout",
     "output_type": "stream",
     "text": [
      "\n",
      "Current Number of edges from starting node 1\n",
      "Num unvisited neighbors: 464\n",
      "------\n",
      "Starting node == 67647998\n",
      "\n",
      "Current Number of edges from starting node 0\n",
      "Num unvisited neighbors: 46\n",
      "------\n"
     ]
    },
    {
     "data": {
      "application/vnd.jupyter.widget-view+json": {
       "model_id": "ed925aeead144432bab2888eb452e626",
       "version_major": 2,
       "version_minor": 0
      },
      "text/plain": [
       "  0%|          | 0/46 [00:00<?, ?it/s]"
      ]
     },
     "metadata": {},
     "output_type": "display_data"
    },
    {
     "name": "stdout",
     "output_type": "stream",
     "text": [
      "\n",
      "Current Number of edges from starting node 1\n",
      "Num unvisited neighbors: 1671\n",
      "------\n",
      "Starting node == 2224260354\n",
      "\n",
      "Current Number of edges from starting node 0\n",
      "Num unvisited neighbors: 11\n",
      "------\n"
     ]
    },
    {
     "data": {
      "application/vnd.jupyter.widget-view+json": {
       "model_id": "5da6507c7db4484281c37a88a911d6a8",
       "version_major": 2,
       "version_minor": 0
      },
      "text/plain": [
       "  0%|          | 0/11 [00:00<?, ?it/s]"
      ]
     },
     "metadata": {},
     "output_type": "display_data"
    },
    {
     "name": "stdout",
     "output_type": "stream",
     "text": [
      "\n",
      "Current Number of edges from starting node 1\n",
      "Num unvisited neighbors: 237\n",
      "------\n"
     ]
    },
    {
     "name": "stderr",
     "output_type": "stream",
     "text": [
      "Rate limit exceeded. Sleeping for 676 seconds.\n"
     ]
    },
    {
     "name": "stdout",
     "output_type": "stream",
     "text": [
      "Starting node == 373706247\n",
      "\n",
      "Current Number of edges from starting node 0\n",
      "Num unvisited neighbors: 12\n",
      "------\n"
     ]
    },
    {
     "data": {
      "application/vnd.jupyter.widget-view+json": {
       "model_id": "4869a4cd984f4f9c90c4eb47e04319bf",
       "version_major": 2,
       "version_minor": 0
      },
      "text/plain": [
       "  0%|          | 0/12 [00:00<?, ?it/s]"
      ]
     },
     "metadata": {},
     "output_type": "display_data"
    },
    {
     "name": "stdout",
     "output_type": "stream",
     "text": [
      "\n",
      "Current Number of edges from starting node 1\n",
      "Num unvisited neighbors: 233\n",
      "------\n",
      "Starting node == 554234854\n",
      "\n",
      "Current Number of edges from starting node 0\n",
      "Num unvisited neighbors: 13\n",
      "------\n"
     ]
    },
    {
     "data": {
      "application/vnd.jupyter.widget-view+json": {
       "model_id": "dd2240cfa1f8461f9d6b38420f16f080",
       "version_major": 2,
       "version_minor": 0
      },
      "text/plain": [
       "  0%|          | 0/13 [00:00<?, ?it/s]"
      ]
     },
     "metadata": {},
     "output_type": "display_data"
    },
    {
     "name": "stdout",
     "output_type": "stream",
     "text": [
      "\n",
      "Current Number of edges from starting node 1\n",
      "Num unvisited neighbors: 364\n",
      "------\n",
      "Starting node == 222165923\n",
      "\n",
      "Current Number of edges from starting node 0\n",
      "Num unvisited neighbors: 31\n",
      "------\n"
     ]
    },
    {
     "data": {
      "application/vnd.jupyter.widget-view+json": {
       "model_id": "91c99d07c1184032b71aaf3b55548cde",
       "version_major": 2,
       "version_minor": 0
      },
      "text/plain": [
       "  0%|          | 0/31 [00:00<?, ?it/s]"
      ]
     },
     "metadata": {},
     "output_type": "display_data"
    },
    {
     "name": "stdout",
     "output_type": "stream",
     "text": [
      "\n",
      "Current Number of edges from starting node 1\n",
      "Num unvisited neighbors: 1380\n",
      "------\n",
      "Starting node == 2730263771\n",
      "\n",
      "Current Number of edges from starting node 0\n",
      "Num unvisited neighbors: 16\n",
      "------\n"
     ]
    },
    {
     "data": {
      "application/vnd.jupyter.widget-view+json": {
       "model_id": "fd6eedc6b98c45b7abf5140947334c23",
       "version_major": 2,
       "version_minor": 0
      },
      "text/plain": [
       "  0%|          | 0/16 [00:00<?, ?it/s]"
      ]
     },
     "metadata": {},
     "output_type": "display_data"
    },
    {
     "name": "stdout",
     "output_type": "stream",
     "text": [
      "\n",
      "Current Number of edges from starting node 1\n",
      "Num unvisited neighbors: 592\n",
      "------\n",
      "Starting node == 1471207375\n",
      "\n",
      "Current Number of edges from starting node 0\n",
      "Num unvisited neighbors: 20\n",
      "------\n"
     ]
    },
    {
     "data": {
      "application/vnd.jupyter.widget-view+json": {
       "model_id": "4ffff24defff4b9da520de98dd1a4b82",
       "version_major": 2,
       "version_minor": 0
      },
      "text/plain": [
       "  0%|          | 0/20 [00:00<?, ?it/s]"
      ]
     },
     "metadata": {},
     "output_type": "display_data"
    },
    {
     "name": "stdout",
     "output_type": "stream",
     "text": [
      "\n",
      "Current Number of edges from starting node 1\n",
      "Num unvisited neighbors: 685\n",
      "------\n",
      "Starting node == 387044761\n",
      "\n",
      "Current Number of edges from starting node 0\n",
      "Num unvisited neighbors: 7\n",
      "------\n"
     ]
    },
    {
     "data": {
      "application/vnd.jupyter.widget-view+json": {
       "model_id": "71745067bbc54c378a300c29f944acf1",
       "version_major": 2,
       "version_minor": 0
      },
      "text/plain": [
       "  0%|          | 0/7 [00:00<?, ?it/s]"
      ]
     },
     "metadata": {},
     "output_type": "display_data"
    },
    {
     "name": "stdout",
     "output_type": "stream",
     "text": [
      "Exception: issue retrieving follow lists for this account -- Skipping.\n",
      "\n",
      "Current Number of edges from starting node 1\n",
      "Num unvisited neighbors: 202\n",
      "------\n",
      "Starting node == 2754429326\n",
      "\n",
      "Current Number of edges from starting node 0\n",
      "Num unvisited neighbors: 27\n",
      "------\n"
     ]
    },
    {
     "data": {
      "application/vnd.jupyter.widget-view+json": {
       "model_id": "37d9a9bc0060452286f5886b105501ec",
       "version_major": 2,
       "version_minor": 0
      },
      "text/plain": [
       "  0%|          | 0/27 [00:00<?, ?it/s]"
      ]
     },
     "metadata": {},
     "output_type": "display_data"
    },
    {
     "name": "stdout",
     "output_type": "stream",
     "text": [
      "\n",
      "Current Number of edges from starting node 1\n",
      "Num unvisited neighbors: 453\n",
      "------\n",
      "Starting node == 71319853\n",
      "\n",
      "Current Number of edges from starting node 0\n",
      "Num unvisited neighbors: 45\n",
      "------\n"
     ]
    },
    {
     "data": {
      "application/vnd.jupyter.widget-view+json": {
       "model_id": "053023746c4d4584b4aa67fe71404e81",
       "version_major": 2,
       "version_minor": 0
      },
      "text/plain": [
       "  0%|          | 0/45 [00:00<?, ?it/s]"
      ]
     },
     "metadata": {},
     "output_type": "display_data"
    },
    {
     "name": "stdout",
     "output_type": "stream",
     "text": [
      "\n",
      "Current Number of edges from starting node 1\n",
      "Num unvisited neighbors: 1520\n",
      "------\n",
      "Starting node == 363900537\n",
      "\n",
      "Current Number of edges from starting node 0\n",
      "Num unvisited neighbors: 23\n",
      "------\n"
     ]
    },
    {
     "data": {
      "application/vnd.jupyter.widget-view+json": {
       "model_id": "fd6bebc2a5ca491ca2e4010cff7c7bc0",
       "version_major": 2,
       "version_minor": 0
      },
      "text/plain": [
       "  0%|          | 0/23 [00:00<?, ?it/s]"
      ]
     },
     "metadata": {},
     "output_type": "display_data"
    },
    {
     "name": "stdout",
     "output_type": "stream",
     "text": [
      "\n",
      "Current Number of edges from starting node 1\n",
      "Num unvisited neighbors: 885\n",
      "------\n",
      "Starting node == 92525602\n",
      "\n",
      "Current Number of edges from starting node 0\n",
      "Num unvisited neighbors: 45\n",
      "------\n"
     ]
    },
    {
     "data": {
      "application/vnd.jupyter.widget-view+json": {
       "model_id": "3d8c1db398644557ad25897e079fc023",
       "version_major": 2,
       "version_minor": 0
      },
      "text/plain": [
       "  0%|          | 0/45 [00:00<?, ?it/s]"
      ]
     },
     "metadata": {},
     "output_type": "display_data"
    },
    {
     "name": "stdout",
     "output_type": "stream",
     "text": [
      "\n",
      "Current Number of edges from starting node 1\n",
      "Num unvisited neighbors: 2362\n",
      "------\n",
      "Starting node == 3888664280\n",
      "\n",
      "Current Number of edges from starting node 0\n",
      "Num unvisited neighbors: 66\n",
      "------\n"
     ]
    },
    {
     "data": {
      "application/vnd.jupyter.widget-view+json": {
       "model_id": "c144735542684722af1eec12d18018e7",
       "version_major": 2,
       "version_minor": 0
      },
      "text/plain": [
       "  0%|          | 0/66 [00:00<?, ?it/s]"
      ]
     },
     "metadata": {},
     "output_type": "display_data"
    },
    {
     "name": "stdout",
     "output_type": "stream",
     "text": [
      "\n",
      "Current Number of edges from starting node 1\n",
      "Num unvisited neighbors: 2376\n",
      "------\n",
      "Starting node == 1338097464\n",
      "\n",
      "Current Number of edges from starting node 0\n",
      "Num unvisited neighbors: 20\n",
      "------\n"
     ]
    },
    {
     "data": {
      "application/vnd.jupyter.widget-view+json": {
       "model_id": "330a379752c840dfb6b2ffd1d92a7393",
       "version_major": 2,
       "version_minor": 0
      },
      "text/plain": [
       "  0%|          | 0/20 [00:00<?, ?it/s]"
      ]
     },
     "metadata": {},
     "output_type": "display_data"
    },
    {
     "name": "stdout",
     "output_type": "stream",
     "text": [
      "Exception: issue retrieving follow lists for this account -- Skipping.\n",
      "\n",
      "Current Number of edges from starting node 1\n",
      "Num unvisited neighbors: 628\n",
      "------\n",
      "Starting node == 3304160639\n",
      "\n",
      "Current Number of edges from starting node 0\n",
      "Num unvisited neighbors: 22\n",
      "------\n"
     ]
    },
    {
     "data": {
      "application/vnd.jupyter.widget-view+json": {
       "model_id": "bde57268c19f4d41ac9f8b919eff5169",
       "version_major": 2,
       "version_minor": 0
      },
      "text/plain": [
       "  0%|          | 0/22 [00:00<?, ?it/s]"
      ]
     },
     "metadata": {},
     "output_type": "display_data"
    },
    {
     "name": "stdout",
     "output_type": "stream",
     "text": [
      "\n",
      "Current Number of edges from starting node 1\n",
      "Num unvisited neighbors: 651\n",
      "------\n",
      "Starting node == 123620874\n",
      "\n",
      "Current Number of edges from starting node 0\n",
      "Num unvisited neighbors: 54\n",
      "------\n"
     ]
    },
    {
     "data": {
      "application/vnd.jupyter.widget-view+json": {
       "model_id": "7b8e0fb6c41945bd9bf4ca3d6eafc1d2",
       "version_major": 2,
       "version_minor": 0
      },
      "text/plain": [
       "  0%|          | 0/54 [00:00<?, ?it/s]"
      ]
     },
     "metadata": {},
     "output_type": "display_data"
    },
    {
     "name": "stdout",
     "output_type": "stream",
     "text": [
      "\n",
      "Current Number of edges from starting node 1\n",
      "Num unvisited neighbors: 1776\n",
      "------\n",
      "Starting node == 128329717\n",
      "\n",
      "Current Number of edges from starting node 0\n",
      "Num unvisited neighbors: 69\n",
      "------\n"
     ]
    },
    {
     "data": {
      "application/vnd.jupyter.widget-view+json": {
       "model_id": "2012c775dc994dc1ab43094092762a9a",
       "version_major": 2,
       "version_minor": 0
      },
      "text/plain": [
       "  0%|          | 0/69 [00:00<?, ?it/s]"
      ]
     },
     "metadata": {},
     "output_type": "display_data"
    },
    {
     "name": "stdout",
     "output_type": "stream",
     "text": [
      "Exception: issue retrieving follow lists for this account -- Skipping.\n"
     ]
    },
    {
     "name": "stderr",
     "output_type": "stream",
     "text": [
      "Rate limit exceeded. Sleeping for 671 seconds.\n"
     ]
    },
    {
     "name": "stdout",
     "output_type": "stream",
     "text": [
      "\n",
      "Current Number of edges from starting node 1\n",
      "Num unvisited neighbors: 3445\n",
      "------\n",
      "Starting node == 2537960194\n",
      "\n",
      "Current Number of edges from starting node 0\n",
      "Num unvisited neighbors: 35\n",
      "------\n"
     ]
    },
    {
     "data": {
      "application/vnd.jupyter.widget-view+json": {
       "model_id": "2f57d789f78d4f889183b7267db095de",
       "version_major": 2,
       "version_minor": 0
      },
      "text/plain": [
       "  0%|          | 0/35 [00:00<?, ?it/s]"
      ]
     },
     "metadata": {},
     "output_type": "display_data"
    },
    {
     "name": "stdout",
     "output_type": "stream",
     "text": [
      "\n",
      "Current Number of edges from starting node 1\n",
      "Num unvisited neighbors: 1081\n",
      "------\n",
      "Starting node == 1335682831\n",
      "\n",
      "Current Number of edges from starting node 0\n",
      "Num unvisited neighbors: 8\n",
      "------\n"
     ]
    },
    {
     "data": {
      "application/vnd.jupyter.widget-view+json": {
       "model_id": "88b043cda54d47e895852897242fc74e",
       "version_major": 2,
       "version_minor": 0
      },
      "text/plain": [
       "  0%|          | 0/8 [00:00<?, ?it/s]"
      ]
     },
     "metadata": {},
     "output_type": "display_data"
    },
    {
     "name": "stdout",
     "output_type": "stream",
     "text": [
      "\n",
      "Current Number of edges from starting node 1\n",
      "Num unvisited neighbors: 382\n",
      "------\n",
      "Starting node == 3066702889\n",
      "\n",
      "Current Number of edges from starting node 0\n",
      "Num unvisited neighbors: 23\n",
      "------\n"
     ]
    },
    {
     "data": {
      "application/vnd.jupyter.widget-view+json": {
       "model_id": "f36935abc34d4d32bd6e4df96c37ebf1",
       "version_major": 2,
       "version_minor": 0
      },
      "text/plain": [
       "  0%|          | 0/23 [00:00<?, ?it/s]"
      ]
     },
     "metadata": {},
     "output_type": "display_data"
    },
    {
     "name": "stdout",
     "output_type": "stream",
     "text": [
      "\n",
      "Current Number of edges from starting node 1\n",
      "Num unvisited neighbors: 772\n",
      "------\n",
      "Starting node == 268751716\n",
      "\n",
      "Current Number of edges from starting node 0\n",
      "Num unvisited neighbors: 53\n",
      "------\n"
     ]
    },
    {
     "data": {
      "application/vnd.jupyter.widget-view+json": {
       "model_id": "90e25b4dc3ef4c7581754c1925de6209",
       "version_major": 2,
       "version_minor": 0
      },
      "text/plain": [
       "  0%|          | 0/53 [00:00<?, ?it/s]"
      ]
     },
     "metadata": {},
     "output_type": "display_data"
    },
    {
     "name": "stdout",
     "output_type": "stream",
     "text": [
      "\n",
      "Current Number of edges from starting node 1\n",
      "Num unvisited neighbors: 1346\n",
      "------\n",
      "Starting node == 705936076565815297\n",
      "\n",
      "Current Number of edges from starting node 0\n",
      "Num unvisited neighbors: 30\n",
      "------\n"
     ]
    },
    {
     "data": {
      "application/vnd.jupyter.widget-view+json": {
       "model_id": "6d2b5c83a0d74df28a03e34323e668dc",
       "version_major": 2,
       "version_minor": 0
      },
      "text/plain": [
       "  0%|          | 0/30 [00:00<?, ?it/s]"
      ]
     },
     "metadata": {},
     "output_type": "display_data"
    },
    {
     "name": "stdout",
     "output_type": "stream",
     "text": [
      "\n",
      "Current Number of edges from starting node 1\n",
      "Num unvisited neighbors: 1313\n",
      "------\n",
      "Starting node == 1006169108\n",
      "\n",
      "Current Number of edges from starting node 0\n",
      "Num unvisited neighbors: 11\n",
      "------\n"
     ]
    },
    {
     "data": {
      "application/vnd.jupyter.widget-view+json": {
       "model_id": "9838c23fca2a4cc98d2727f7b2b19d82",
       "version_major": 2,
       "version_minor": 0
      },
      "text/plain": [
       "  0%|          | 0/11 [00:00<?, ?it/s]"
      ]
     },
     "metadata": {},
     "output_type": "display_data"
    },
    {
     "name": "stdout",
     "output_type": "stream",
     "text": [
      "\n",
      "Current Number of edges from starting node 1\n",
      "Num unvisited neighbors: 172\n",
      "------\n",
      "Starting node == 2787157306\n",
      "\n",
      "Current Number of edges from starting node 0\n",
      "Num unvisited neighbors: 49\n",
      "------\n"
     ]
    },
    {
     "data": {
      "application/vnd.jupyter.widget-view+json": {
       "model_id": "53c5b08f6080490e9e7e6f8b234d3d4e",
       "version_major": 2,
       "version_minor": 0
      },
      "text/plain": [
       "  0%|          | 0/49 [00:00<?, ?it/s]"
      ]
     },
     "metadata": {},
     "output_type": "display_data"
    },
    {
     "name": "stdout",
     "output_type": "stream",
     "text": [
      "Exception: issue retrieving follow lists for this account -- Skipping.\n",
      "\n",
      "Current Number of edges from starting node 1\n",
      "Num unvisited neighbors: 1449\n",
      "------\n",
      "Starting node == 2953383298\n",
      "\n",
      "Current Number of edges from starting node 0\n",
      "Num unvisited neighbors: 31\n",
      "------\n"
     ]
    },
    {
     "data": {
      "application/vnd.jupyter.widget-view+json": {
       "model_id": "2ed148fdccdb42458612bb8cb1ede502",
       "version_major": 2,
       "version_minor": 0
      },
      "text/plain": [
       "  0%|          | 0/31 [00:00<?, ?it/s]"
      ]
     },
     "metadata": {},
     "output_type": "display_data"
    },
    {
     "name": "stdout",
     "output_type": "stream",
     "text": [
      "Exception: issue retrieving follow lists for this account -- Skipping.\n",
      "\n",
      "Current Number of edges from starting node 1\n",
      "Num unvisited neighbors: 825\n",
      "------\n",
      "Starting node == 105554581\n",
      "\n",
      "Current Number of edges from starting node 0\n",
      "Num unvisited neighbors: 2\n",
      "------\n"
     ]
    },
    {
     "data": {
      "application/vnd.jupyter.widget-view+json": {
       "model_id": "9175f9e547ad46359ca35180b990edda",
       "version_major": 2,
       "version_minor": 0
      },
      "text/plain": [
       "  0%|          | 0/2 [00:00<?, ?it/s]"
      ]
     },
     "metadata": {},
     "output_type": "display_data"
    },
    {
     "name": "stdout",
     "output_type": "stream",
     "text": [
      "\n",
      "Current Number of edges from starting node 1\n",
      "Num unvisited neighbors: 64\n",
      "------\n",
      "Starting node == 462007707\n",
      "\n",
      "Current Number of edges from starting node 0\n",
      "Num unvisited neighbors: 30\n",
      "------\n"
     ]
    },
    {
     "data": {
      "application/vnd.jupyter.widget-view+json": {
       "model_id": "49a4a725ceb94fdb87ac27dfec124916",
       "version_major": 2,
       "version_minor": 0
      },
      "text/plain": [
       "  0%|          | 0/30 [00:00<?, ?it/s]"
      ]
     },
     "metadata": {},
     "output_type": "display_data"
    },
    {
     "name": "stdout",
     "output_type": "stream",
     "text": [
      "\n",
      "Current Number of edges from starting node 1\n",
      "Num unvisited neighbors: 1037\n",
      "------\n",
      "Starting node == 876064009874747392\n",
      "\n",
      "Current Number of edges from starting node 0\n",
      "Num unvisited neighbors: 9\n",
      "------\n"
     ]
    },
    {
     "data": {
      "application/vnd.jupyter.widget-view+json": {
       "model_id": "592c26b34fd546f0ae55703f3711cbb7",
       "version_major": 2,
       "version_minor": 0
      },
      "text/plain": [
       "  0%|          | 0/9 [00:00<?, ?it/s]"
      ]
     },
     "metadata": {},
     "output_type": "display_data"
    },
    {
     "name": "stdout",
     "output_type": "stream",
     "text": [
      "\n",
      "Current Number of edges from starting node 1\n",
      "Num unvisited neighbors: 332\n",
      "------\n",
      "Starting node == 1076119924546985985\n",
      "\n",
      "Current Number of edges from starting node 0\n",
      "Num unvisited neighbors: 51\n",
      "------\n"
     ]
    },
    {
     "data": {
      "application/vnd.jupyter.widget-view+json": {
       "model_id": "c6d4be5c4f214bffa76724289c4a772a",
       "version_major": 2,
       "version_minor": 0
      },
      "text/plain": [
       "  0%|          | 0/51 [00:00<?, ?it/s]"
      ]
     },
     "metadata": {},
     "output_type": "display_data"
    },
    {
     "name": "stdout",
     "output_type": "stream",
     "text": [
      "Exception: issue retrieving follow lists for this account -- Skipping.\n",
      "\n",
      "Current Number of edges from starting node 1\n",
      "Num unvisited neighbors: 2045\n",
      "------\n",
      "Starting node == 897377572669009920\n",
      "\n",
      "Current Number of edges from starting node 0\n",
      "Num unvisited neighbors: 1\n",
      "------\n"
     ]
    },
    {
     "data": {
      "application/vnd.jupyter.widget-view+json": {
       "model_id": "1c29b1ab928648a6a24c6b6dabcdbe8b",
       "version_major": 2,
       "version_minor": 0
      },
      "text/plain": [
       "  0%|          | 0/1 [00:00<?, ?it/s]"
      ]
     },
     "metadata": {},
     "output_type": "display_data"
    },
    {
     "name": "stdout",
     "output_type": "stream",
     "text": [
      "\n",
      "Current Number of edges from starting node 1\n",
      "Num unvisited neighbors: 31\n",
      "------\n",
      "Starting node == 3141032242\n",
      "\n",
      "Current Number of edges from starting node 0\n",
      "Num unvisited neighbors: 22\n",
      "------\n"
     ]
    },
    {
     "data": {
      "application/vnd.jupyter.widget-view+json": {
       "model_id": "734e82d4a9604938a302a6a4398a297f",
       "version_major": 2,
       "version_minor": 0
      },
      "text/plain": [
       "  0%|          | 0/22 [00:00<?, ?it/s]"
      ]
     },
     "metadata": {},
     "output_type": "display_data"
    },
    {
     "name": "stdout",
     "output_type": "stream",
     "text": [
      "Exception: issue retrieving follow lists for this account -- Skipping.\n",
      "Exception: issue retrieving follow lists for this account -- Skipping.\n",
      "\n",
      "Current Number of edges from starting node 1\n",
      "Num unvisited neighbors: 652\n",
      "------\n",
      "Starting node == 1329900518\n",
      "\n",
      "Current Number of edges from starting node 0\n",
      "Num unvisited neighbors: 14\n",
      "------\n"
     ]
    },
    {
     "data": {
      "application/vnd.jupyter.widget-view+json": {
       "model_id": "4e2370d07c424b2a96375fa984490817",
       "version_major": 2,
       "version_minor": 0
      },
      "text/plain": [
       "  0%|          | 0/14 [00:00<?, ?it/s]"
      ]
     },
     "metadata": {},
     "output_type": "display_data"
    },
    {
     "name": "stdout",
     "output_type": "stream",
     "text": [
      "\n",
      "Current Number of edges from starting node 1\n",
      "Num unvisited neighbors: 425\n",
      "------\n",
      "Starting node == 716626267\n",
      "\n",
      "Current Number of edges from starting node 0\n",
      "Num unvisited neighbors: 81\n",
      "------\n"
     ]
    },
    {
     "data": {
      "application/vnd.jupyter.widget-view+json": {
       "model_id": "b566704cb64e4142a34c31504d4ec174",
       "version_major": 2,
       "version_minor": 0
      },
      "text/plain": [
       "  0%|          | 0/81 [00:00<?, ?it/s]"
      ]
     },
     "metadata": {},
     "output_type": "display_data"
    },
    {
     "name": "stdout",
     "output_type": "stream",
     "text": [
      "Exception: issue retrieving follow lists for this account -- Skipping.\n"
     ]
    },
    {
     "name": "stderr",
     "output_type": "stream",
     "text": [
      "Rate limit exceeded. Sleeping for 678 seconds.\n"
     ]
    },
    {
     "name": "stdout",
     "output_type": "stream",
     "text": [
      "Exception: issue retrieving follow lists for this account -- Skipping.\n",
      "\n",
      "Current Number of edges from starting node 1\n",
      "Num unvisited neighbors: 2827\n",
      "------\n",
      "Starting node == 770774730190098433\n",
      "\n",
      "Current Number of edges from starting node 0\n",
      "Num unvisited neighbors: 38\n",
      "------\n"
     ]
    },
    {
     "data": {
      "application/vnd.jupyter.widget-view+json": {
       "model_id": "325fb501e6ed4d65ababb5ccf103289a",
       "version_major": 2,
       "version_minor": 0
      },
      "text/plain": [
       "  0%|          | 0/38 [00:00<?, ?it/s]"
      ]
     },
     "metadata": {},
     "output_type": "display_data"
    },
    {
     "name": "stdout",
     "output_type": "stream",
     "text": [
      "\n",
      "Current Number of edges from starting node 1\n",
      "Num unvisited neighbors: 1468\n",
      "------\n",
      "Starting node == 849258957768192004\n",
      "\n",
      "Current Number of edges from starting node 0\n",
      "Num unvisited neighbors: 27\n",
      "------\n"
     ]
    },
    {
     "data": {
      "application/vnd.jupyter.widget-view+json": {
       "model_id": "de83c463daa242749a0c9365d3772bc4",
       "version_major": 2,
       "version_minor": 0
      },
      "text/plain": [
       "  0%|          | 0/27 [00:00<?, ?it/s]"
      ]
     },
     "metadata": {},
     "output_type": "display_data"
    },
    {
     "name": "stdout",
     "output_type": "stream",
     "text": [
      "Exception: issue retrieving follow lists for this account -- Skipping.\n",
      "\n",
      "Current Number of edges from starting node 1\n",
      "Num unvisited neighbors: 1238\n",
      "------\n",
      "Starting node == 456361810\n",
      "\n",
      "Current Number of edges from starting node 0\n",
      "Num unvisited neighbors: 24\n",
      "------\n"
     ]
    },
    {
     "data": {
      "application/vnd.jupyter.widget-view+json": {
       "model_id": "b5e64be1126f485190f910a88092edda",
       "version_major": 2,
       "version_minor": 0
      },
      "text/plain": [
       "  0%|          | 0/24 [00:00<?, ?it/s]"
      ]
     },
     "metadata": {},
     "output_type": "display_data"
    },
    {
     "name": "stdout",
     "output_type": "stream",
     "text": [
      "\n",
      "Current Number of edges from starting node 1\n",
      "Num unvisited neighbors: 959\n",
      "------\n",
      "Starting node == 2197092790\n",
      "\n",
      "Current Number of edges from starting node 0\n",
      "Num unvisited neighbors: 73\n",
      "------\n"
     ]
    },
    {
     "data": {
      "application/vnd.jupyter.widget-view+json": {
       "model_id": "9f9638ee4425420e892656349e15b65e",
       "version_major": 2,
       "version_minor": 0
      },
      "text/plain": [
       "  0%|          | 0/73 [00:00<?, ?it/s]"
      ]
     },
     "metadata": {},
     "output_type": "display_data"
    },
    {
     "name": "stdout",
     "output_type": "stream",
     "text": [
      "Exception: issue retrieving follow lists for this account -- Skipping.\n",
      "Exception: issue retrieving follow lists for this account -- Skipping.\n",
      "Exception: issue retrieving follow lists for this account -- Skipping.\n",
      "Exception: issue retrieving follow lists for this account -- Skipping.\n",
      "\n",
      "Current Number of edges from starting node 1\n",
      "Num unvisited neighbors: 2694\n",
      "------\n"
     ]
    }
   ],
   "source": [
    "# Create Edgelists for each account in the filtered botometer dataset.\n",
    "cols=['originating_id', 'receiving_id', \n",
    "          'edge_weight']\n",
    "#mentions_already_processed = []\n",
    "small_bot_accs = small.loc[small.label == 'human']\n",
    "label = 'human'\n",
    "for starting_acc in small_bot_accs.twitter_id:\n",
    "    if starting_acc in mentions_already_processed:\n",
    "        continue\n",
    "    print(f'Starting node == {starting_acc}')\n",
    "    # Initialization code for populating edgelist starting from node specified by \"starting_acc\"\n",
    "    edgelist = pd.DataFrame(columns=cols)\n",
    "\n",
    "    degrees_of_separation = 0\n",
    "\n",
    "    visited = set()\n",
    "    visited.add(starting_acc)\n",
    "\n",
    "    edgelist = add_this_nodes_edgelist(starting_acc, edgelist) # contains neighbors of starting node\n",
    "    edgelist, degrees_of_separation, unvisited_neighbors = transition_to_next_separation_degree(edgelist, degrees_of_separation)\n",
    "    \n",
    "    # iterate thru all unvisited neighbors with 2 degree of separation from starting (labeled) node\n",
    "    # process df in chunks before concatenating\n",
    "    while degrees_of_separation <= 1:\n",
    "        curr_edgelist = pd.DataFrame(columns=cols)\n",
    "        for i in tqdm(unvisited_neighbors):\n",
    "            curr_edgelist = add_this_nodes_edgelist(i, curr_edgelist)\n",
    "            visited.add(i)\n",
    "        \n",
    "        curr_edgelist, degrees_of_separation, unvisited_neighbors = transition_to_next_separation_degree(curr_edgelist, degrees_of_separation)\n",
    "        edgelist = pd.concat([edgelist, curr_edgelist])\n",
    "\n",
    "    \n",
    "    all_temp = pd.DataFrame(columns = ['originating_id', 'originating_follower_count',\n",
    "       'originating_following_count'])\n",
    "    all_temp2 = pd.DataFrame(columns = ['receiving_id', 'receiving_follower_count',\n",
    "       'receiving_following_count'])\n",
    "\n",
    "    # Add follower/following counts\n",
    "    unique_ids = edgelist['originating_id'].append(edgelist['receiving_id']).unique()\n",
    "\n",
    "    iterations = int(len(unique_ids)/100) + 1\n",
    "    for i in range(iterations):\n",
    "        left = i*100\n",
    "        right = (i+1)*100\n",
    "\n",
    "        temps = unique_ids[left:right]\n",
    "        if len(temps) == 0:\n",
    "            continue\n",
    "\n",
    "        r = api.get_users(ids=list(temps), user_fields='public_metrics')\n",
    "\n",
    "        followers = []\n",
    "        following = []\n",
    "        for acc in r.json()['data']:\n",
    "            followers.append(acc['public_metrics']['followers_count'])\n",
    "            following.append(acc['public_metrics']['following_count'])\n",
    "\n",
    "        temp = pd.DataFrame([temps, followers, following]).transpose().rename(columns={\n",
    "            0: 'originating_id',\n",
    "            1: 'originating_follower_count',\n",
    "            2:  'originating_following_count'\n",
    "        })\n",
    "        temp.originating_id = temp.originating_id.astype(str)\n",
    "\n",
    "        temp2 = pd.DataFrame([temps, followers, following]).transpose().rename(columns={\n",
    "            0: 'receiving_id',\n",
    "            1: 'receiving_follower_count',\n",
    "            2:  'receiving_following_count'\n",
    "        })\n",
    "        temp2.receiving_id = temp2.receiving_id.astype(str)\n",
    "\n",
    "        \n",
    "        all_temp = pd.concat([all_temp, temp])\n",
    "        all_temp2 = pd.concat([all_temp2, temp2])\n",
    "\n",
    "        with_counts = edgelist.merge(all_temp, on='originating_id', how='left')\n",
    "        with_counts = with_counts.merge(all_temp2, on='receiving_id', how='left')\n",
    "    \n",
    "    # Save in directory\n",
    "    fn = 'edgelist_mentions_' + str(starting_acc) + '.pkl'\n",
    "    path = str('mentions/' + label) + '/' + fn\n",
    "    with_counts.to_pickle(path)\n",
    "    \n",
    "    # Add twitter id to already processed list\n",
    "    mentions_already_processed.append(starting_acc)"
   ]
  },
  {
   "cell_type": "code",
   "execution_count": 421,
   "id": "91e8d2cc",
   "metadata": {},
   "outputs": [
    {
     "data": {
      "text/plain": [
       "458"
      ]
     },
     "execution_count": 421,
     "metadata": {},
     "output_type": "execute_result"
    }
   ],
   "source": [
    "len(mentions_already_processed)"
   ]
  },
  {
   "cell_type": "code",
   "execution_count": 386,
   "id": "a9b11252",
   "metadata": {},
   "outputs": [],
   "source": [
    "all_temp = pd.DataFrame(columns = ['originating_id', 'originating_follower_count',\n",
    "       'originating_following_count'])\n",
    "all_temp2 = pd.DataFrame(columns = ['receiving_id', 'receiving_follower_count',\n",
    "       'receiving_following_count'])"
   ]
  },
  {
   "cell_type": "code",
   "execution_count": 396,
   "id": "973d9265",
   "metadata": {},
   "outputs": [],
   "source": [
    "# Add follower/following counts\n",
    "unique_ids = edgelist['originating_id'].append(edgelist['receiving_id']).unique()\n",
    "\n",
    "iterations = int(len(unique_ids)/100) + 1\n",
    "for i in range(iterations):\n",
    "    left = i*100\n",
    "    right = (i+1)*100\n",
    "\n",
    "    temps = unique_ids[left:right]\n",
    "    if len(temps) == 0:\n",
    "        print('ooip')\n",
    "\n",
    "    r = api.get_users(ids=list(temps), user_fields='public_metrics')\n",
    "\n",
    "    followers = []\n",
    "    following = []\n",
    "    for acc in r.json()['data']:\n",
    "        followers.append(acc['public_metrics']['followers_count'])\n",
    "        following.append(acc['public_metrics']['following_count'])\n",
    "\n",
    "    temp = pd.DataFrame([temps, followers, following]).transpose().rename(columns={\n",
    "        0: 'originating_id',\n",
    "        1: 'originating_follower_count',\n",
    "        2:  'originating_following_count'\n",
    "    })\n",
    "    temp.originating_id = temp.originating_id.astype(str)\n",
    "\n",
    "    temp2 = pd.DataFrame([temps, followers, following]).transpose().rename(columns={\n",
    "        0: 'receiving_id',\n",
    "        1: 'receiving_follower_count',\n",
    "        2:  'receiving_following_count'\n",
    "    })\n",
    "    temp2.receiving_id = temp2.receiving_id.astype(str)\n",
    "\n",
    "    all_temp = pd.concat([all_temp, temp])\n",
    "    all_temp2 = pd.concat([all_temp2, temp2])\n",
    "\n",
    "with_counts = edgelist.merge(all_temp, on='originating_id', how='left')\n",
    "with_counts = with_counts.merge(all_temp2, on='receiving_id', how='left')\n",
    "\n",
    "\n",
    "# Save in directory\n",
    "fn = 'edgelist_mentions_' + str(starting_acc) + '.pkl'\n",
    "path = str('mentions/' + label) + '/' + fn\n",
    "with_counts.to_pickle(path)\n",
    "\n",
    "# Add twitter id to already processed list\n",
    "mentions_already_processed.append(starting_acc)"
   ]
  },
  {
   "cell_type": "code",
   "execution_count": 402,
   "id": "9fb018b8",
   "metadata": {},
   "outputs": [
    {
     "data": {
      "text/html": [
       "<div>\n",
       "<style scoped>\n",
       "    .dataframe tbody tr th:only-of-type {\n",
       "        vertical-align: middle;\n",
       "    }\n",
       "\n",
       "    .dataframe tbody tr th {\n",
       "        vertical-align: top;\n",
       "    }\n",
       "\n",
       "    .dataframe thead th {\n",
       "        text-align: right;\n",
       "    }\n",
       "</style>\n",
       "<table border=\"1\" class=\"dataframe\">\n",
       "  <thead>\n",
       "    <tr style=\"text-align: right;\">\n",
       "      <th></th>\n",
       "      <th>originating_id</th>\n",
       "      <th>originating_follower_count</th>\n",
       "      <th>originating_following_count</th>\n",
       "    </tr>\n",
       "  </thead>\n",
       "  <tbody>\n",
       "    <tr>\n",
       "      <th>0</th>\n",
       "      <td>381831007</td>\n",
       "      <td>6050</td>\n",
       "      <td>8247</td>\n",
       "    </tr>\n",
       "    <tr>\n",
       "      <th>1</th>\n",
       "      <td>17137891</td>\n",
       "      <td>1276590</td>\n",
       "      <td>360</td>\n",
       "    </tr>\n",
       "    <tr>\n",
       "      <th>2</th>\n",
       "      <td>269091554</td>\n",
       "      <td>1378</td>\n",
       "      <td>892</td>\n",
       "    </tr>\n",
       "    <tr>\n",
       "      <th>3</th>\n",
       "      <td>55919541</td>\n",
       "      <td>3205</td>\n",
       "      <td>822</td>\n",
       "    </tr>\n",
       "    <tr>\n",
       "      <th>4</th>\n",
       "      <td>323439305</td>\n",
       "      <td>1259</td>\n",
       "      <td>1160</td>\n",
       "    </tr>\n",
       "    <tr>\n",
       "      <th>...</th>\n",
       "      <td>...</td>\n",
       "      <td>...</td>\n",
       "      <td>...</td>\n",
       "    </tr>\n",
       "    <tr>\n",
       "      <th>86</th>\n",
       "      <td>1034079672366067712</td>\n",
       "      <td>172</td>\n",
       "      <td>811</td>\n",
       "    </tr>\n",
       "    <tr>\n",
       "      <th>87</th>\n",
       "      <td>383401068</td>\n",
       "      <td>2528</td>\n",
       "      <td>701</td>\n",
       "    </tr>\n",
       "    <tr>\n",
       "      <th>88</th>\n",
       "      <td>726818840257171457</td>\n",
       "      <td>1099</td>\n",
       "      <td>1039</td>\n",
       "    </tr>\n",
       "    <tr>\n",
       "      <th>89</th>\n",
       "      <td>1062246222</td>\n",
       "      <td>233</td>\n",
       "      <td>164</td>\n",
       "    </tr>\n",
       "    <tr>\n",
       "      <th>90</th>\n",
       "      <td>490645569</td>\n",
       "      <td>748</td>\n",
       "      <td>724</td>\n",
       "    </tr>\n",
       "  </tbody>\n",
       "</table>\n",
       "<p>891 rows × 3 columns</p>\n",
       "</div>"
      ],
      "text/plain": [
       "         originating_id originating_follower_count originating_following_count\n",
       "0             381831007                       6050                        8247\n",
       "1              17137891                    1276590                         360\n",
       "2             269091554                       1378                         892\n",
       "3              55919541                       3205                         822\n",
       "4             323439305                       1259                        1160\n",
       "..                  ...                        ...                         ...\n",
       "86  1034079672366067712                        172                         811\n",
       "87            383401068                       2528                         701\n",
       "88   726818840257171457                       1099                        1039\n",
       "89           1062246222                        233                         164\n",
       "90            490645569                        748                         724\n",
       "\n",
       "[891 rows x 3 columns]"
      ]
     },
     "execution_count": 402,
     "metadata": {},
     "output_type": "execute_result"
    }
   ],
   "source": [
    "all_temp#.shape"
   ]
  },
  {
   "cell_type": "code",
   "execution_count": 398,
   "id": "3eab3256",
   "metadata": {},
   "outputs": [
    {
     "data": {
      "text/plain": [
       "(891, 3)"
      ]
     },
     "execution_count": 398,
     "metadata": {},
     "output_type": "execute_result"
    }
   ],
   "source": [
    "all_temp2.shape"
   ]
  },
  {
   "cell_type": "code",
   "execution_count": 409,
   "id": "bbaa1ba6",
   "metadata": {},
   "outputs": [],
   "source": [
    "with_counts = edgelist.merge(all_temp, on='originating_id', how='left')\n",
    "with_counts = with_counts.merge(all_temp2, on='receiving_id', how='left')\n"
   ]
  },
  {
   "cell_type": "code",
   "execution_count": null,
   "id": "c4784a0e",
   "metadata": {},
   "outputs": [],
   "source": []
  }
 ],
 "metadata": {
  "kernelspec": {
   "display_name": "Python 3",
   "language": "python",
   "name": "python3"
  },
  "language_info": {
   "codemirror_mode": {
    "name": "ipython",
    "version": 3
   },
   "file_extension": ".py",
   "mimetype": "text/x-python",
   "name": "python",
   "nbconvert_exporter": "python",
   "pygments_lexer": "ipython3",
   "version": "3.8.2"
  }
 },
 "nbformat": 4,
 "nbformat_minor": 5
}
