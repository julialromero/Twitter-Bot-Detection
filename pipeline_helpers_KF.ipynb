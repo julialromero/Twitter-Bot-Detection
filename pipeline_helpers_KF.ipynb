{
 "cells": [
  {
   "cell_type": "code",
   "execution_count": 1,
   "id": "a3be8938-2a69-4c78-a2a5-552da832423d",
   "metadata": {},
   "outputs": [],
   "source": [
    "import pandas as pd\n",
    "import numpy as np\n",
    "import networkx as nx\n",
    "import pickle\n",
    "import json\n",
    "import requests\n",
    "import tweepy\n",
    "\n",
    "key = 'B81Sj4ifYRstLZGMyMDM0roG3'\n",
    "secret = 'c1Rg4vdyl2mjMEC7WKDsVLTz2IlqTHy1yezn71Y9cw3LgZaxAW'\n",
    "token = 'AAAAAAAAAAAAAAAAAAAAAD6eWQEAAAAABtT80i7lkSemhYsuOIjy4O4xLQs%3DkfsByhRoXQ9odyT51sECR1vXxOLKxdtOON2Ij4OODdAt8jTcGY'\n",
    "\n",
    "api = tweepy.Client(bearer_token=token, consumer_key=key, consumer_secret=secret, \n",
    "              return_type=requests.Response,\n",
    "              wait_on_rate_limit=True)"
   ]
  },
  {
   "cell_type": "code",
   "execution_count": 2,
   "id": "a61cfb92-6758-472a-a127-82faec4d7984",
   "metadata": {},
   "outputs": [],
   "source": [
    "# Returns the followers/following of the center node in the network (because these aren't in the pickle files)\n",
    "def getCenterNodeFollows(file):\n",
    "    centerNode = file.replace('.pkl','').replace('edgelist_2_deg_','').replace('edgelist_mentions_','').replace('/','').replace('human','').replace('bot','').replace('mentions','')\n",
    "        \n",
    "    r = api.get_user(id=centerNode, user_fields='public_metrics')\n",
    "    user = r.json()\n",
    "\n",
    "    followers = user['data']['public_metrics']['followers_count']\n",
    "    following = user['data']['public_metrics']['following_count']\n",
    "    \n",
    "    return followers, following"
   ]
  },
  {
   "cell_type": "code",
   "execution_count": 26,
   "id": "3644aaa3-eeca-4f5a-83ac-31efaee7c3da",
   "metadata": {},
   "outputs": [],
   "source": [
    "# Takes in a pickle object and returns in/out degree centralities, \n",
    "# clustering coefficient, local homophily metrics, and PageRank for account ID.\n",
    "def node_calculations(file, ID):\n",
    "    full_list = pd.read_pickle(file)\n",
    "    \n",
    "    if 'edge_weight' in full_list.columns:\n",
    "        weightlist = full_list['edge_weight']\n",
    "    else:\n",
    "        weightlist = [1]*len(full_list['originating_id'])\n",
    "    \n",
    "    edgelist = pd.DataFrame({\n",
    "        \"source\": full_list['originating_id'],\n",
    "        \"target\": full_list['receiving_id'],\n",
    "        \"weight\": weightlist,\n",
    "    })\n",
    "    \n",
    "    # store originating ID followers\n",
    "    attr = dict()\n",
    "    for i, row in full_list.iterrows():\n",
    "        if not pd.isna(row['originating_following_count']):\n",
    "            attr[row['originating_id']] = {'in': row['originating_follower_count'], \n",
    "                                           'out': row['originating_following_count']}\n",
    "        if not pd.isna(row['receiving_following_count']):\n",
    "            attr[row['receiving_id']] = {'in': row['receiving_follower_count'], \n",
    "                                         'out': row['receiving_following_count']}\n",
    "            \n",
    "    IDfollowers, IDfollowing = getCenterNodeFollows(file)\n",
    "    attr[ID] = {'in': IDfollowers, 'out': IDfollowing}\n",
    "    # NOTE: nothing in \"attr\" represents the degrees of nodes in OUR network; the attributes represent\n",
    "    # the degrees of nodes in the FULL network\n",
    "    \n",
    "    #print(attr)\n",
    "            \n",
    "    G = nx.from_pandas_edgelist(edgelist, create_using=nx.DiGraph(), edge_attr=True)\n",
    "    nx.set_node_attributes(G, attr)\n",
    "    \n",
    "    nodes = list(G.nodes)\n",
    "    \n",
    "    clustercoeff = nx.clustering(G, ID, weight='weight')\n",
    "    pagerank = nx.pagerank(G, weight='weight')[ID]\n",
    "    \n",
    "    # compute \"local homophily\" for ID's degree structure in two different ways\n",
    "    indeg = len(list(G.predecessors(ID)))\n",
    "    outdeg = len(list(G.successors(ID)))\n",
    "    \n",
    "    outdeg_Assort1 = 0\n",
    "    outdeg_Assort2 = 0\n",
    "    indeg_Assort1 = 0\n",
    "    indeg_Assort2 = 0\n",
    "    \n",
    "    if outdeg != 0:\n",
    "        for node in G.neighbors(ID):\n",
    "            nodeOutdeg = attr[node]['out']\n",
    "            outdeg_Assort1 += nodeOutdeg\n",
    "            if nodeOutdeg >= IDfollowing/2 and nodeOutdeg <= IDfollowing*2:\n",
    "                outdeg_Assort2 += 1\n",
    "                \n",
    "        outdeg_Assort1 = outdeg_Assort1 / (outdeg*IDfollowing)\n",
    "        outdeg_Assort2 = outdeg_Assort2 / outdeg\n",
    "\n",
    "    if indeg != 0: \n",
    "        for node in G.predecessors(ID):    \n",
    "            nodeIndeg = attr[node]['in']\n",
    "            indeg_Assort1 += nodeIndeg\n",
    "            if nodeIndeg >= IDfollowers/2 and nodeIndeg <= IDfollowers*2:\n",
    "                indeg_Assort2 += 1\n",
    "    \n",
    "        indeg_Assort1 = indeg_Assort1 / (indeg*IDfollowers)\n",
    "        indeg_Assort2 = indeg_Assort2 / indeg\n",
    "    \n",
    "    \n",
    "    return (IDfollowers, IDfollowing, clustercoeff, pagerank, indeg_Assort1, outdeg_Assort1, \\\n",
    "            indeg_Assort2, outdeg_Assort2)"
   ]
  },
  {
   "cell_type": "code",
   "execution_count": 27,
   "id": "a608ea40-27f1-499b-a9e4-7542d46fb88c",
   "metadata": {},
   "outputs": [
    {
     "name": "stdout",
     "output_type": "stream",
     "text": [
      "[0.0018591559380531392, 0.161441094880482, 216.7860696517413, 0, 0.16666666666666666, 0]\n"
     ]
    }
   ],
   "source": [
    "file = 'mentions/human/edgelist_mentions_456361810.pkl'\n",
    "ID = 456361810\n",
    "full_list = pd.read_pickle(file)\n",
    "#with pd.option_context('display.max_rows', None, 'display.max_columns', None):  # more options can be specified also\n",
    "    #print(full_list)\n",
    "indeg, outdeg, clustercoeff, pagerank, indeg_A1, outdeg_A1, indeg_A2, outdeg_A2 = node_calculations(file, ID)\n",
    "print([clustercoeff, pagerank, indeg_A1, outdeg_A1, indeg_A2, outdeg_A2])"
   ]
  },
  {
   "cell_type": "code",
   "execution_count": null,
   "id": "217adf26-bea1-4c0d-b028-9e30c09c85a3",
   "metadata": {},
   "outputs": [],
   "source": []
  }
 ],
 "metadata": {
  "kernelspec": {
   "display_name": "Python 3",
   "language": "python",
   "name": "python3"
  },
  "language_info": {
   "codemirror_mode": {
    "name": "ipython",
    "version": 3
   },
   "file_extension": ".py",
   "mimetype": "text/x-python",
   "name": "python",
   "nbconvert_exporter": "python",
   "pygments_lexer": "ipython3",
   "version": "3.8.8"
  }
 },
 "nbformat": 4,
 "nbformat_minor": 5
}
