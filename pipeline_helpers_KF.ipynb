{
 "cells": [
  {
   "cell_type": "code",
   "execution_count": 1,
   "id": "a3be8938-2a69-4c78-a2a5-552da832423d",
   "metadata": {},
   "outputs": [],
   "source": [
    "import pandas as pd\n",
    "import numpy as np\n",
    "import networkx as nx\n",
    "import pickle"
   ]
  },
  {
   "cell_type": "code",
   "execution_count": 117,
   "id": "3644aaa3-eeca-4f5a-83ac-31efaee7c3da",
   "metadata": {},
   "outputs": [],
   "source": [
    "# Takes in a pickle object and returns in/out degree centralities, \n",
    "# clustering coefficient, local homophily metrics, and PageRank for account ID.\n",
    "def node_calculations(file, ID):\n",
    "    full_list = pd.read_pickle(file)\n",
    "    edgelist = full_list[['originating_id', 'receiving_id']]\n",
    "    edgelist.head()\n",
    "    \n",
    "    # store originating ID followers\n",
    "    attr = dict()\n",
    "    for i, row in full_list.iterrows():\n",
    "        if pd.isna(row['originating_following_count']):\n",
    "            attr[row['receiving_id']] = {'in': row['receiving_follower_count'], \n",
    "                                    'out': row['receiving_following_count']}\n",
    "        else:\n",
    "            attr[row['originating_id']] = {'in': row['originating_follower_count'], \n",
    "                                    'out': row['originating_following_count']}\n",
    "            \n",
    "    #print(attr)\n",
    "    G = nx.convert_matrix.from_pandas_edgelist(edgelist, 'originating_id', 'receiving_id', \n",
    "                                               create_using=nx.DiGraph())\n",
    "    nx.set_node_attributes(G, attr)\n",
    "    \n",
    "    nodes = list(G.nodes)\n",
    "    \n",
    "    indeg = G.in_degree(ID)\n",
    "    outdeg = G.out_degree(ID)\n",
    "    clustercoeff = nx.clustering(G, ID)\n",
    "    pagerank = nx.pagerank(G)[ID]\n",
    "    \n",
    "    # compute \"local homophily\" for ID's degree structure in two different ways\n",
    "    outdeg_Assort1 = 0\n",
    "    outdeg_Assort2 = 0\n",
    "    for node in G.neighbors(ID):\n",
    "        nodeOutdeg = attr[node]['out']\n",
    "        outdeg_Assort1 += nodeOutdeg\n",
    "        if nodeOutdeg >= outdeg/2 and nodeOutdeg <= outdeg*2:\n",
    "            outdeg_Assort2 += 1\n",
    "\n",
    "    indeg_Assort1 = 0\n",
    "    indeg_Assort2 = 0\n",
    "    for node in G.predecessors(ID):    \n",
    "        nodeIndeg = attr[node]['in']\n",
    "        indeg_Assort1 += nodeIndeg\n",
    "        if nodeIndeg >= indeg/2 and nodeIndeg <= indeg*2:\n",
    "            indeg_Assort2 += 1    \n",
    "            \n",
    "    followers = len(list(G.predecessors(ID)))\n",
    "    following = len(list(G.neighbors(ID)))\n",
    "    \n",
    "    indeg_Assort1 = indeg_Assort1 / (indeg*followers)\n",
    "    outdeg_Assort1 = outdeg_Assort1 / (outdeg*following)\n",
    "    indeg_Assort2 = indeg_Assort2 / followers\n",
    "    outdeg_Assort2 = outdeg_Assort2 / following\n",
    "    \n",
    "    return indeg, outdeg, clustercoeff, pagerank, indeg_Assort1, outdeg_Assort1, indeg_Assort2, outdeg_Assort2"
   ]
  },
  {
   "cell_type": "code",
   "execution_count": 118,
   "id": "a608ea40-27f1-499b-a9e4-7542d46fb88c",
   "metadata": {},
   "outputs": [
    {
     "name": "stdout",
     "output_type": "stream",
     "text": [
      "[0, 0.0715102154241595, 17.142857142857142, 15.276643990929704, 0.2857142857142857, 0.0]\n"
     ]
    }
   ],
   "source": [
    "file = 'human/edgelist_2_deg_456361810.pkl'\n",
    "ID = 456361810\n",
    "#full_list = pd.read_pickle(file)\n",
    "#with pd.option_context('display.max_rows', None, 'display.max_columns', None):  # more options can be specified also\n",
    "#    print(full_list[['originating_id', 'receiving_id', 'originating_following_count', 'receiving_following_count']])\n",
    "indeg, outdeg, clustercoeff, pagerank, indeg_A1, outdeg_A1, indeg_A2, outdeg_A2 = node_calculations(file, ID)\n",
    "print([clustercoeff, pagerank, indeg_A1, outdeg_A1, indeg_A2, outdeg_A2])"
   ]
  },
  {
   "cell_type": "code",
   "execution_count": null,
   "id": "217adf26-bea1-4c0d-b028-9e30c09c85a3",
   "metadata": {},
   "outputs": [],
   "source": []
  }
 ],
 "metadata": {
  "kernelspec": {
   "display_name": "Python 3",
   "language": "python",
   "name": "python3"
  },
  "language_info": {
   "codemirror_mode": {
    "name": "ipython",
    "version": 3
   },
   "file_extension": ".py",
   "mimetype": "text/x-python",
   "name": "python",
   "nbconvert_exporter": "python",
   "pygments_lexer": "ipython3",
   "version": "3.8.8"
  }
 },
 "nbformat": 4,
 "nbformat_minor": 5
}
