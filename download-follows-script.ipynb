{
 "cells": [
  {
   "cell_type": "code",
   "execution_count": 1,
   "id": "4af467a7",
   "metadata": {},
   "outputs": [],
   "source": [
    "import pandas as pd\n",
    "import numpy as np\n",
    "import networkx as nx\n",
    "import json\n",
    "import requests\n",
    "\n",
    "import tweepy\n",
    "from tweepy import Client\n",
    "\n",
    "key = \"\"\n",
    "secret = \"\"\n",
    "token = \"\"\n",
    "\n",
    "api = tweepy.Client(bearer_token=token, consumer_key=key, consumer_secret=secret, \n",
    "              return_type=requests.Response,\n",
    "              wait_on_rate_limit=True)"
   ]
  },
  {
   "cell_type": "code",
   "execution_count": 35,
   "id": "b18c6ded",
   "metadata": {},
   "outputs": [],
   "source": [
    "already_processed = [1016773517587537920,\n",
    " 837316817324556289,\n",
    " 4307623643,\n",
    " 844779426260791296,\n",
    " 790017240733278208,\n",
    " 913028718377005056,\n",
    " 2855732920,\n",
    " 1416121214,\n",
    " 821215184660393986,\n",
    " 1004764640486854656,\n",
    " 352132252,\n",
    " 1661404440,\n",
    " 2928556470,\n",
    " 2901953015,\n",
    "1058130850578137089]"
   ]
  },
  {
   "cell_type": "code",
   "execution_count": 18,
   "id": "af21fb01",
   "metadata": {},
   "outputs": [],
   "source": [
    "import os\n",
    "\n",
    "already_processed = []\n",
    " \n",
    "for name in os.listdir('bot'):\n",
    "    if os.path.isdir(name):\n",
    "        continue\n",
    "    list_name = name.replace('.pkl','').replace('edgelist_2_edges_from_start_','')\n",
    "    already_processed.append(int(list_name))"
   ]
  },
  {
   "cell_type": "code",
   "execution_count": 4,
   "id": "0290c8a0",
   "metadata": {},
   "outputs": [
    {
     "data": {
      "text/html": [
       "<div>\n",
       "<style scoped>\n",
       "    .dataframe tbody tr th:only-of-type {\n",
       "        vertical-align: middle;\n",
       "    }\n",
       "\n",
       "    .dataframe tbody tr th {\n",
       "        vertical-align: top;\n",
       "    }\n",
       "\n",
       "    .dataframe thead th {\n",
       "        text-align: right;\n",
       "    }\n",
       "</style>\n",
       "<table border=\"1\" class=\"dataframe\">\n",
       "  <thead>\n",
       "    <tr style=\"text-align: right;\">\n",
       "      <th></th>\n",
       "      <th>twitter_id</th>\n",
       "      <th>followers_count</th>\n",
       "      <th>following_count</th>\n",
       "      <th>label</th>\n",
       "    </tr>\n",
       "  </thead>\n",
       "  <tbody>\n",
       "    <tr>\n",
       "      <th>0</th>\n",
       "      <td>461277906</td>\n",
       "      <td>380850</td>\n",
       "      <td>2913</td>\n",
       "      <td>bot</td>\n",
       "    </tr>\n",
       "    <tr>\n",
       "      <th>1</th>\n",
       "      <td>808280162</td>\n",
       "      <td>23363</td>\n",
       "      <td>340</td>\n",
       "      <td>bot</td>\n",
       "    </tr>\n",
       "    <tr>\n",
       "      <th>2</th>\n",
       "      <td>1575510320</td>\n",
       "      <td>120435</td>\n",
       "      <td>108954</td>\n",
       "      <td>bot</td>\n",
       "    </tr>\n",
       "    <tr>\n",
       "      <th>3</th>\n",
       "      <td>2449235599</td>\n",
       "      <td>25581</td>\n",
       "      <td>16</td>\n",
       "      <td>bot</td>\n",
       "    </tr>\n",
       "    <tr>\n",
       "      <th>4</th>\n",
       "      <td>1113769100</td>\n",
       "      <td>73720</td>\n",
       "      <td>77585</td>\n",
       "      <td>bot</td>\n",
       "    </tr>\n",
       "  </tbody>\n",
       "</table>\n",
       "</div>"
      ],
      "text/plain": [
       "   twitter_id  followers_count  following_count label\n",
       "0   461277906           380850             2913   bot\n",
       "1   808280162            23363              340   bot\n",
       "2  1575510320           120435           108954   bot\n",
       "3  2449235599            25581               16   bot\n",
       "4  1113769100            73720            77585   bot"
      ]
     },
     "execution_count": 4,
     "metadata": {},
     "output_type": "execute_result"
    }
   ],
   "source": [
    "combined = pd.read_pickle('node_and_degree_list.pkl')\n",
    "combined.head()"
   ]
  },
  {
   "cell_type": "code",
   "execution_count": 5,
   "id": "7af1e6e7",
   "metadata": {},
   "outputs": [
    {
     "name": "stdout",
     "output_type": "stream",
     "text": [
      "BEFORE FILTERING\n",
      "Total accounts: 2263\n",
      "Bot accounts: 959\n",
      "Human accounts: 1304\n",
      "____________________\n",
      "AFTER FILTERING\n",
      "Total accounts: 458\n",
      "Bot accounts: 193\n",
      "Human accounts: 265\n"
     ]
    }
   ],
   "source": [
    "# Set follower/following threshold\n",
    "thresh = 1000\n",
    "\n",
    "print('BEFORE FILTERING')\n",
    "print(f'Total accounts: {combined.shape[0]}')\n",
    "nb = combined.loc[combined.label == 'bot'].shape[0]\n",
    "nh = combined.loc[combined.label == 'human'].shape[0]\n",
    "print(f'Bot accounts: {nb}')\n",
    "print(f'Human accounts: {nh}')\n",
    "print('____________________')\n",
    "\n",
    "\n",
    "# Drop accounts that exceed threshold\n",
    "small = combined.loc[combined.followers_count < thresh]\n",
    "small = small.loc[small.followers_count < thresh]\n",
    "\n",
    "print('AFTER FILTERING')\n",
    "print(f'Total accounts: {small.shape[0]}')\n",
    "nb = small.loc[small.label == 'bot'].shape[0]\n",
    "nh = small.loc[small.label == 'human'].shape[0]\n",
    "print(f'Bot accounts: {nb}')\n",
    "print(f'Human accounts: {nh}')"
   ]
  },
  {
   "cell_type": "code",
   "execution_count": 6,
   "id": "04212324",
   "metadata": {},
   "outputs": [
    {
     "data": {
      "text/html": [
       "<div>\n",
       "<style scoped>\n",
       "    .dataframe tbody tr th:only-of-type {\n",
       "        vertical-align: middle;\n",
       "    }\n",
       "\n",
       "    .dataframe tbody tr th {\n",
       "        vertical-align: top;\n",
       "    }\n",
       "\n",
       "    .dataframe thead th {\n",
       "        text-align: right;\n",
       "    }\n",
       "</style>\n",
       "<table border=\"1\" class=\"dataframe\">\n",
       "  <thead>\n",
       "    <tr style=\"text-align: right;\">\n",
       "      <th></th>\n",
       "      <th>twitter_id</th>\n",
       "      <th>followers_count</th>\n",
       "      <th>following_count</th>\n",
       "      <th>label</th>\n",
       "    </tr>\n",
       "  </thead>\n",
       "  <tbody>\n",
       "    <tr>\n",
       "      <th>24</th>\n",
       "      <td>4307623643</td>\n",
       "      <td>59</td>\n",
       "      <td>4</td>\n",
       "      <td>bot</td>\n",
       "    </tr>\n",
       "    <tr>\n",
       "      <th>36</th>\n",
       "      <td>844779426260791296</td>\n",
       "      <td>768</td>\n",
       "      <td>1</td>\n",
       "      <td>bot</td>\n",
       "    </tr>\n",
       "    <tr>\n",
       "      <th>83</th>\n",
       "      <td>837316817324556289</td>\n",
       "      <td>182</td>\n",
       "      <td>6</td>\n",
       "      <td>bot</td>\n",
       "    </tr>\n",
       "    <tr>\n",
       "      <th>137</th>\n",
       "      <td>913028718377005056</td>\n",
       "      <td>87</td>\n",
       "      <td>147</td>\n",
       "      <td>bot</td>\n",
       "    </tr>\n",
       "    <tr>\n",
       "      <th>175</th>\n",
       "      <td>790017240733278208</td>\n",
       "      <td>19</td>\n",
       "      <td>47</td>\n",
       "      <td>bot</td>\n",
       "    </tr>\n",
       "  </tbody>\n",
       "</table>\n",
       "</div>"
      ],
      "text/plain": [
       "             twitter_id  followers_count  following_count label\n",
       "24           4307623643               59                4   bot\n",
       "36   844779426260791296              768                1   bot\n",
       "83   837316817324556289              182                6   bot\n",
       "137  913028718377005056               87              147   bot\n",
       "175  790017240733278208               19               47   bot"
      ]
     },
     "execution_count": 6,
     "metadata": {},
     "output_type": "execute_result"
    }
   ],
   "source": [
    "# Small df contains accounts meeting threshold criteria\n",
    "small.head()"
   ]
  },
  {
   "cell_type": "code",
   "execution_count": 20,
   "id": "e63aac46",
   "metadata": {},
   "outputs": [],
   "source": [
    "# Create curr_edgelist for a network including nodes up to 3 degrees of separation (3 links away)\n",
    "def add_this_nodes_edgelist(this_acc, curr_edgelist):\n",
    "    next_page_token = None\n",
    "    visited.add(this_acc)\n",
    "\n",
    "    action = 'followers'\n",
    "    follow_list = []\n",
    "    this_acc_num_following = []    \n",
    "    this_acc_num_followers = []\n",
    "    while True:\n",
    "        # Get immediate followers/following of node and add these to curr_edgelist\n",
    "        if action == 'followers':\n",
    "            request = api.get_users_followers(id=this_acc, user_auth=False, \n",
    "                max_results=1000, pagination_token=next_page_token, user_fields=['public_metrics'])\n",
    "        elif action == 'following':\n",
    "            request = api.get_users_following(id=this_acc, user_auth=False, \n",
    "                max_results=1000, pagination_token=next_page_token, user_fields=['public_metrics'])\n",
    "\n",
    "        data = request.json()\n",
    "\n",
    "        # for each account following/followed by the originating account, record account id, \n",
    "        # num following, and num followed by\n",
    "        try:\n",
    "            for acc in data['data']:\n",
    "                follow_list.append(acc['id'])\n",
    "                num_following = acc['public_metrics']['following_count']\n",
    "                num_followed_by = acc['public_metrics']['followers_count']\n",
    "                this_acc_num_following.append(num_following)\n",
    "                this_acc_num_followers.append(num_followed_by)\n",
    "\n",
    "            this_acc_list = [this_acc for i in range(len(follow_list))]\n",
    "\n",
    "        # Catch errors if not authorized to view user\n",
    "        except Exception as e:\n",
    "            print('Exception: issue retrieving follow lists for this account -- Skipping.')\n",
    "            return curr_edgelist\n",
    "            \n",
    "            \n",
    "        if 'next_token' in data['meta'].keys():    # get page token for next request\n",
    "                next_page_token = data['meta']['next_token']\n",
    "        \n",
    "        # when all data recorded transition to next action\n",
    "        else:\n",
    "            next_page_token = None\n",
    "            if action == 'followers':\n",
    "                d = {'originating_id': follow_list,\n",
    "                    'receiving_id': this_acc_list,\n",
    "                    'originating_following_count': this_acc_num_following, \n",
    "                    'originating_follower_count': this_acc_num_followers}\n",
    "                edges_to_add = pd.DataFrame(d)\n",
    "                curr_edgelist = pd.concat([curr_edgelist, edges_to_add])\n",
    "\n",
    "                action = 'following'\n",
    "\n",
    "                # reset lists\n",
    "                follow_list = []\n",
    "                this_acc_num_following = []    \n",
    "                this_acc_num_followers = []\n",
    "\n",
    "            elif action == 'following':\n",
    "                d = {'originating_id': this_acc_list,\n",
    "                    'receiving_id': follow_list,\n",
    "                    'receiving_following_count': this_acc_num_following, \n",
    "                    'receiving_follower_count': this_acc_num_followers}\n",
    "                edges_to_add = pd.DataFrame(d)\n",
    "                curr_edgelist = pd.concat([curr_edgelist, edges_to_add])\n",
    "\n",
    "                next_page_token = None\n",
    "\n",
    "                return curr_edgelist"
   ]
  },
  {
   "cell_type": "code",
   "execution_count": 21,
   "id": "b4c77d3e",
   "metadata": {},
   "outputs": [],
   "source": [
    "def transition_to_next_separation_degree(curr_edgelist, degrees_of_separation):\n",
    "    try:\n",
    "        # Drop all nodes with followers or following more than threshold\n",
    "        to_drop = (curr_edgelist.originating_following_count > thresh) | \\\n",
    "            (curr_edgelist.originating_follower_count > thresh) | \\\n",
    "            (curr_edgelist.receiving_following_count > thresh) | \\\n",
    "            (curr_edgelist.receiving_follower_count > thresh)\n",
    "        curr_edgelist.drop(index = curr_edgelist[to_drop].index, inplace=True)\n",
    "\n",
    "        # create list of all neighbors in curr_edgelist df\n",
    "        unvisited_neighbors = list(curr_edgelist.originating_id.append(curr_edgelist.receiving_id).unique())\n",
    "\n",
    "        # if any nodes are in visited set, remove\n",
    "        [unvisited_neighbors.remove(i) for i in unvisited_neighbors if i in visited]\n",
    "\n",
    "        print()\n",
    "        print(f'Current Number of edges from starting node {degrees_of_separation}')\n",
    "        print(f'Num unvisited neighbors: {len(unvisited_neighbors)}')\n",
    "        print('--------------------')\n",
    "        degrees_of_separation +=1 \n",
    "    \n",
    "        return curr_edgelist, degrees_of_separation, unvisited_neighbors\n",
    "    \n",
    "    \n",
    "    except Exception as e:\n",
    "        print(e)\n",
    "        print('--------------------EXCEPTION--------------------')\n",
    "        return curr_edgelist, degrees_of_separation, []\n",
    "        \n",
    "    "
   ]
  },
  {
   "cell_type": "code",
   "execution_count": 23,
   "id": "a3d343c6",
   "metadata": {},
   "outputs": [],
   "source": [
    "from tqdm.notebook import tqdm"
   ]
  },
  {
   "cell_type": "code",
   "execution_count": 30,
   "id": "14fa86bb",
   "metadata": {},
   "outputs": [
    {
     "name": "stderr",
     "output_type": "stream",
     "text": [
      "Rate limit exceeded. Sleeping for 876 seconds.\n"
     ]
    },
    {
     "name": "stdout",
     "output_type": "stream",
     "text": [
      "Starting node == 300415996\n",
      "\n",
      "Current Number of edges from starting node 0\n",
      "Num unvisited neighbors: 136\n",
      "--------------------\n"
     ]
    },
    {
     "data": {
      "application/vnd.jupyter.widget-view+json": {
       "model_id": "774e2d348ef440948f32f89db93d7c88",
       "version_major": 2,
       "version_minor": 0
      },
      "text/plain": [
       "  0%|          | 0/136 [00:00<?, ?it/s]"
      ]
     },
     "metadata": {},
     "output_type": "display_data"
    },
    {
     "name": "stdout",
     "output_type": "stream",
     "text": [
      "1402529913987600384\n",
      "846307598378811392\n",
      "786582588559286272\n",
      "125393322\n",
      "767549297386659840\n",
      "831777377000779780\n",
      "813654995262316545\n",
      "816530471819427840\n",
      "195670049\n",
      "771670290736701440\n",
      "771138358152089601\n",
      "765720415700299776\n",
      "Exception: issue retrieving follow lists for this account -- Skipping.\n",
      "759364968638578688\n",
      "744894763212537856\n",
      "730334058538897411\n"
     ]
    },
    {
     "name": "stderr",
     "output_type": "stream",
     "text": [
      "Rate limit exceeded. Sleeping for 893 seconds.\n"
     ]
    },
    {
     "name": "stdout",
     "output_type": "stream",
     "text": [
      "734678028769329152\n",
      "715375580854620160\n",
      "723532203548790784\n",
      "4762818252\n",
      "Exception: issue retrieving follow lists for this account -- Skipping.\n",
      "4671819870\n",
      "4728121514\n",
      "2986709809\n",
      "Exception: issue retrieving follow lists for this account -- Skipping.\n",
      "4066302252\n",
      "1347085232\n",
      "Exception: issue retrieving follow lists for this account -- Skipping.\n",
      "3243790615\n",
      "3190605458\n",
      "Exception: issue retrieving follow lists for this account -- Skipping.\n",
      "2534639978\n",
      "3161877002\n",
      "2974078902\n"
     ]
    },
    {
     "name": "stderr",
     "output_type": "stream",
     "text": [
      "Rate limit exceeded. Sleeping for 895 seconds.\n"
     ]
    },
    {
     "name": "stdout",
     "output_type": "stream",
     "text": [
      "3004208796\n",
      "155097977\n",
      "2991447254\n",
      "99436371\n",
      "Exception: issue retrieving follow lists for this account -- Skipping.\n",
      "2466123434\n",
      "2679277352\n",
      "845685049\n",
      "2635029818\n",
      "1899966775\n",
      "625484382\n",
      "1550623928\n",
      "2292596504\n",
      "1338858175\n",
      "2395100882\n",
      "955245901\n"
     ]
    },
    {
     "name": "stderr",
     "output_type": "stream",
     "text": [
      "Rate limit exceeded. Sleeping for 891 seconds.\n"
     ]
    },
    {
     "name": "stdout",
     "output_type": "stream",
     "text": [
      "2443596372\n",
      "2421160171\n",
      "2364870925\n",
      "1140955412\n",
      "1961551116\n",
      "1022143200\n",
      "973646976\n",
      "1547265576\n",
      "220888313\n",
      "1560671604\n",
      "1446377174\n",
      "1453414951\n",
      "1238901194\n",
      "1240408279\n",
      "777685760\n"
     ]
    },
    {
     "name": "stderr",
     "output_type": "stream",
     "text": [
      "Rate limit exceeded. Sleeping for 893 seconds.\n"
     ]
    },
    {
     "name": "stdout",
     "output_type": "stream",
     "text": [
      "456445665\n",
      "603504901\n",
      "65357136\n",
      "157739282\n",
      "1018279136\n",
      "572465662\n",
      "192795062\n",
      "586289374\n",
      "482693165\n",
      "786628238\n",
      "631007234\n",
      "584352009\n",
      "589638191\n",
      "171396756\n",
      "600960141\n"
     ]
    },
    {
     "name": "stderr",
     "output_type": "stream",
     "text": [
      "Rate limit exceeded. Sleeping for 892 seconds.\n"
     ]
    },
    {
     "name": "stdout",
     "output_type": "stream",
     "text": [
      "573867603\n",
      "556180022\n",
      "526033230\n",
      "486606565\n",
      "451254922\n",
      "93409673\n",
      "389859031\n",
      "389311883\n",
      "130428012\n",
      "2801225138\n",
      "203401200\n",
      "1886812470\n",
      "592365990\n",
      "2258787577\n",
      "246119404\n"
     ]
    },
    {
     "name": "stderr",
     "output_type": "stream",
     "text": [
      "Rate limit exceeded. Sleeping for 893 seconds.\n"
     ]
    },
    {
     "name": "stdout",
     "output_type": "stream",
     "text": [
      "1272913009\n",
      "Exception: issue retrieving follow lists for this account -- Skipping.\n",
      "2392865858\n",
      "2384598518\n",
      "1215012774\n",
      "2200625209\n",
      "2148473071\n",
      "485299820\n",
      "1641153614\n",
      "1456144776\n",
      "1347239628\n",
      "1398361279\n",
      "455815417\n",
      "1434639073\n",
      "951412650\n",
      "819609397\n"
     ]
    },
    {
     "name": "stderr",
     "output_type": "stream",
     "text": [
      "Rate limit exceeded. Sleeping for 892 seconds.\n"
     ]
    },
    {
     "name": "stdout",
     "output_type": "stream",
     "text": [
      "945877831\n",
      "244564254\n",
      "1032166207\n",
      "106048323\n",
      "923210612\n",
      "Exception: issue retrieving follow lists for this account -- Skipping.\n",
      "198361594\n",
      "1188379333\n",
      "1008323202\n",
      "177128257\n",
      "854440488\n",
      "914170320\n",
      "564921084\n",
      "Exception: issue retrieving follow lists for this account -- Skipping.\n",
      "408698074\n",
      "Exception: issue retrieving follow lists for this account -- Skipping.\n",
      "565378192\n",
      "626016455\n"
     ]
    },
    {
     "name": "stderr",
     "output_type": "stream",
     "text": [
      "Rate limit exceeded. Sleeping for 894 seconds.\n"
     ]
    },
    {
     "name": "stdout",
     "output_type": "stream",
     "text": [
      "431301912\n",
      "Exception: issue retrieving follow lists for this account -- Skipping.\n",
      "552723358\n",
      "862681694\n",
      "818419963\n",
      "536283218\n",
      "507399254\n",
      "456496237\n",
      "489387976\n",
      "467216574\n",
      "142065885\n",
      "465383249\n",
      "459255006\n",
      "468244729\n",
      "467370009\n",
      "458883892\n"
     ]
    },
    {
     "name": "stderr",
     "output_type": "stream",
     "text": [
      "Rate limit exceeded. Sleeping for 893 seconds.\n"
     ]
    },
    {
     "name": "stdout",
     "output_type": "stream",
     "text": [
      "456795660\n",
      "454563200\n",
      "\n",
      "Current Number of edges from starting node 1\n",
      "Num unvisited neighbors: 4\n",
      "--------------------\n",
      "Starting node == 709807650\n",
      "\n",
      "Current Number of edges from starting node 0\n",
      "Num unvisited neighbors: 193\n",
      "--------------------\n"
     ]
    },
    {
     "data": {
      "application/vnd.jupyter.widget-view+json": {
       "model_id": "d09553d367c4459892f3a8fd326c78cf",
       "version_major": 2,
       "version_minor": 0
      },
      "text/plain": [
       "  0%|          | 0/193 [00:00<?, ?it/s]"
      ]
     },
     "metadata": {},
     "output_type": "display_data"
    },
    {
     "name": "stdout",
     "output_type": "stream",
     "text": [
      "872579774987866114\n",
      "811563359678119936\n",
      "799795952387313664\n",
      "769239321723412482\n",
      "4766055637\n",
      "4806980909\n",
      "1045439371\n",
      "981768510\n",
      "803895499\n",
      "1156648794\n",
      "536956605\n",
      "894223944\n"
     ]
    },
    {
     "name": "stderr",
     "output_type": "stream",
     "text": [
      "Rate limit exceeded. Sleeping for 870 seconds.\n"
     ]
    },
    {
     "name": "stdout",
     "output_type": "stream",
     "text": [
      "905604197692956677\n",
      "Exception: issue retrieving follow lists for this account -- Skipping.\n",
      "835485233873104896\n",
      "975586376753274880\n",
      "Exception: issue retrieving follow lists for this account -- Skipping.\n",
      "1136682387717480448\n",
      "842848818202779649\n",
      "Exception: issue retrieving follow lists for this account -- Skipping.\n",
      "997819062779613184\n",
      "Exception: issue retrieving follow lists for this account -- Skipping.\n",
      "3029670380\n",
      "Exception: issue retrieving follow lists for this account -- Skipping.\n",
      "3049810186\n",
      "3026263317\n",
      "3011912150\n",
      "2492050298\n",
      "2459815879\n",
      "2380825986\n",
      "2357329480\n",
      "2351306531\n"
     ]
    },
    {
     "name": "stderr",
     "output_type": "stream",
     "text": [
      "Rate limit exceeded. Sleeping for 895 seconds.\n"
     ]
    },
    {
     "name": "stdout",
     "output_type": "stream",
     "text": [
      "2167129743\n",
      "Exception: issue retrieving follow lists for this account -- Skipping.\n",
      "491296665\n",
      "Exception: issue retrieving follow lists for this account -- Skipping.\n",
      "2221686682\n",
      "Exception: issue retrieving follow lists for this account -- Skipping.\n",
      "1914185330\n",
      "2202307083\n",
      "2156342025\n",
      "1627396064\n",
      "2192805022\n",
      "2190359787\n",
      "2176885372\n",
      "1972874736\n",
      "1689676950\n",
      "1733070024\n",
      "1601953076\n",
      "610677527\n"
     ]
    },
    {
     "name": "stderr",
     "output_type": "stream",
     "text": [
      "Rate limit exceeded. Sleeping for 892 seconds.\n"
     ]
    },
    {
     "name": "stdout",
     "output_type": "stream",
     "text": [
      "438601694\n",
      "620132523\n",
      "939548076\n",
      "1449880074\n",
      "1413212124\n",
      "1104400694\n",
      "Exception: issue retrieving follow lists for this account -- Skipping.\n",
      "1670490511\n",
      "1679796949\n",
      "1319910582\n",
      "Exception: issue retrieving follow lists for this account -- Skipping.\n",
      "1262104920\n",
      "1662995929\n",
      "874472756\n",
      "Exception: issue retrieving follow lists for this account -- Skipping.\n",
      "359208725\n",
      "1142186826\n"
     ]
    },
    {
     "name": "stderr",
     "output_type": "stream",
     "text": [
      "Rate limit exceeded. Sleeping for 893 seconds.\n"
     ]
    },
    {
     "name": "stdout",
     "output_type": "stream",
     "text": [
      "501979499\n",
      "Exception: issue retrieving follow lists for this account -- Skipping.\n",
      "186966201\n",
      "1586076924\n",
      "493424363\n",
      "Exception: issue retrieving follow lists for this account -- Skipping.\n",
      "1228568498\n",
      "727670412\n",
      "905210485\n",
      "583836431\n",
      "1545871452\n",
      "1403432538\n",
      "450897543\n",
      "1441929408\n",
      "563533946\n",
      "Exception: issue retrieving follow lists for this account -- Skipping.\n",
      "557293546\n",
      "439373585\n",
      "1040151558\n"
     ]
    },
    {
     "name": "stderr",
     "output_type": "stream",
     "text": [
      "Rate limit exceeded. Sleeping for 892 seconds.\n"
     ]
    },
    {
     "name": "stdout",
     "output_type": "stream",
     "text": [
      "1403559612\n",
      "1008387727\n",
      "868411986\n",
      "604534451\n",
      "1036697940\n",
      "330056276\n",
      "1331983466\n",
      "Exception: issue retrieving follow lists for this account -- Skipping.\n",
      "1223394842\n",
      "Exception: issue retrieving follow lists for this account -- Skipping.\n",
      "1265203590\n",
      "1150086733\n",
      "1218993001\n",
      "1234865521\n",
      "1303980894\n",
      "1245333462\n",
      "817949197\n"
     ]
    },
    {
     "name": "stderr",
     "output_type": "stream",
     "text": [
      "Rate limit exceeded. Sleeping for 893 seconds.\n"
     ]
    },
    {
     "name": "stdout",
     "output_type": "stream",
     "text": [
      "1208959789\n",
      "1241756347\n",
      "1251868009\n",
      "Exception: issue retrieving follow lists for this account -- Skipping.\n",
      "861177546\n",
      "1179945145\n",
      "748249854\n",
      "Exception: issue retrieving follow lists for this account -- Skipping.\n",
      "249588881\n",
      "793466390\n",
      "Exception: issue retrieving follow lists for this account -- Skipping.\n",
      "350980199\n",
      "1004362453\n",
      "400079307\n",
      "Exception: issue retrieving follow lists for this account -- Skipping.\n",
      "584593531\n",
      "569120904\n",
      "1128869269\n",
      "556150478\n"
     ]
    },
    {
     "name": "stderr",
     "output_type": "stream",
     "text": [
      "Rate limit exceeded. Sleeping for 894 seconds.\n"
     ]
    },
    {
     "name": "stdout",
     "output_type": "stream",
     "text": [
      "Exception: issue retrieving follow lists for this account -- Skipping.\n",
      "1143557390\n",
      "731740465\n",
      "1241179406\n",
      "936578576\n",
      "1147481042\n",
      "Exception: issue retrieving follow lists for this account -- Skipping.\n",
      "1064920525\n",
      "721136448\n",
      "Exception: issue retrieving follow lists for this account -- Skipping.\n",
      "1069179870\n",
      "1090211672\n",
      "803075828\n",
      "Exception: issue retrieving follow lists for this account -- Skipping.\n",
      "574738065\n",
      "525898444\n",
      "540198527\n",
      "1034367594\n",
      "1107494582\n"
     ]
    },
    {
     "name": "stderr",
     "output_type": "stream",
     "text": [
      "Rate limit exceeded. Sleeping for 894 seconds.\n"
     ]
    },
    {
     "name": "stdout",
     "output_type": "stream",
     "text": [
      "960993973\n",
      "1146212161\n",
      "1031505302\n",
      "853054442\n",
      "1191340909\n",
      "1207211168\n",
      "569751931\n",
      "1176503270\n",
      "1122829094\n",
      "1151390634\n",
      "1150705862\n",
      "1109781576\n",
      "1147935806\n",
      "1120296630\n",
      "1132413698\n"
     ]
    },
    {
     "name": "stderr",
     "output_type": "stream",
     "text": [
      "Rate limit exceeded. Sleeping for 893 seconds.\n"
     ]
    },
    {
     "name": "stdout",
     "output_type": "stream",
     "text": [
      "919776498\n",
      "610485343\n",
      "967013064\n",
      "1122125754\n",
      "580866042\n",
      "915305780\n",
      "1138352798\n",
      "1142474371\n",
      "1014725671\n",
      "1146474781\n",
      "347633745\n",
      "981066565\n",
      "1114950379\n",
      "1139276382\n",
      "622466763\n"
     ]
    },
    {
     "name": "stderr",
     "output_type": "stream",
     "text": [
      "Rate limit exceeded. Sleeping for 893 seconds.\n"
     ]
    },
    {
     "name": "stdout",
     "output_type": "stream",
     "text": [
      "1134786804\n",
      "1083294092\n",
      "1135173884\n",
      "804840612\n",
      "Exception: issue retrieving follow lists for this account -- Skipping.\n",
      "601238166\n",
      "1017244034\n",
      "1161290288\n",
      "472828867\n",
      "1157918923\n",
      "Exception: issue retrieving follow lists for this account -- Skipping.\n",
      "719330006\n",
      "Exception: issue retrieving follow lists for this account -- Skipping.\n",
      "1141590548\n",
      "520856126\n",
      "355895789\n",
      "576448771\n"
     ]
    },
    {
     "name": "stderr",
     "output_type": "stream",
     "text": [
      "Rate limit exceeded. Sleeping for 894 seconds.\n"
     ]
    },
    {
     "name": "stdout",
     "output_type": "stream",
     "text": [
      "451124092\n",
      "Exception: issue retrieving follow lists for this account -- Skipping.\n",
      "1143659654\n",
      "1136948527\n",
      "1032529554\n",
      "361570263\n",
      "862922125\n",
      "574396521\n",
      "441292755\n",
      "Exception: issue retrieving follow lists for this account -- Skipping.\n",
      "1147931269\n",
      "1004468654\n",
      "542834223\n",
      "Exception: issue retrieving follow lists for this account -- Skipping.\n",
      "545913395\n",
      "1072694496\n",
      "917827256\n",
      "786561174\n",
      "Exception: issue retrieving follow lists for this account -- Skipping.\n",
      "738895896\n"
     ]
    },
    {
     "name": "stderr",
     "output_type": "stream",
     "text": [
      "Rate limit exceeded. Sleeping for 893 seconds.\n"
     ]
    },
    {
     "name": "stdout",
     "output_type": "stream",
     "text": [
      "1108058874\n",
      "855410329\n",
      "709598240\n",
      "542682863\n",
      "Exception: issue retrieving follow lists for this account -- Skipping.\n",
      "634098976\n",
      "715067124\n",
      "418653456\n",
      "629656017\n",
      "606789662\n",
      "768536023\n",
      "584637863\n",
      "1121618654\n",
      "467676694\n",
      "Exception: issue retrieving follow lists for this account -- Skipping.\n",
      "942143670\n",
      "608740806\n"
     ]
    },
    {
     "name": "stderr",
     "output_type": "stream",
     "text": [
      "Rate limit exceeded. Sleeping for 891 seconds.\n"
     ]
    },
    {
     "name": "stdout",
     "output_type": "stream",
     "text": [
      "566520087\n",
      "Exception: issue retrieving follow lists for this account -- Skipping.\n",
      "\n",
      "Current Number of edges from starting node 1\n",
      "Num unvisited neighbors: 34\n",
      "--------------------\n",
      "Starting node == 976973737\n",
      "\n",
      "Current Number of edges from starting node 0\n",
      "Num unvisited neighbors: 618\n",
      "--------------------\n"
     ]
    },
    {
     "data": {
      "application/vnd.jupyter.widget-view+json": {
       "model_id": "da1a38e2d8024001bb4cea855edbff68",
       "version_major": 2,
       "version_minor": 0
      },
      "text/plain": [
       "  0%|          | 0/618 [00:00<?, ?it/s]"
      ]
     },
     "metadata": {},
     "output_type": "display_data"
    },
    {
     "name": "stdout",
     "output_type": "stream",
     "text": [
      "1397564027283427330\n",
      "1413751550917451778\n",
      "952971996681396225\n",
      "1349479796439396359\n",
      "245435993\n",
      "896881323989708800\n",
      "1317856230560436225\n",
      "1286723513374715912\n",
      "755817290\n",
      "1714801376\n",
      "2242619563\n",
      "248051274\n",
      "1199405663853727748\n"
     ]
    },
    {
     "name": "stderr",
     "output_type": "stream",
     "text": [
      "Rate limit exceeded. Sleeping for 842 seconds.\n"
     ]
    },
    {
     "name": "stdout",
     "output_type": "stream",
     "text": [
      "1194461748998348800\n",
      "1192607167850909698\n",
      "1175988513382248449\n",
      "Exception: issue retrieving follow lists for this account -- Skipping.\n",
      "2711149499\n",
      "853453304189386754\n",
      "2846720895\n",
      "744686860610330624\n",
      "1726822736\n",
      "1071036985391886337\n",
      "4903435840\n",
      "476066365\n",
      "Exception: issue retrieving follow lists for this account -- Skipping.\n",
      "971550292482211840\n",
      "Exception: issue retrieving follow lists for this account -- Skipping.\n",
      "847286994648539136\n",
      "551281557\n",
      "549848382\n"
     ]
    },
    {
     "name": "stderr",
     "output_type": "stream",
     "text": [
      "Rate limit exceeded. Sleeping for 894 seconds.\n"
     ]
    },
    {
     "name": "stdout",
     "output_type": "stream",
     "text": [
      "2968375804\n",
      "868781435775221760\n",
      "140209569\n",
      "2709451366\n",
      "2736905709\n",
      "804758912872353792\n",
      "781257614248247297\n",
      "478287266\n",
      "840704527\n",
      "Exception: issue retrieving follow lists for this account -- Skipping.\n",
      "298503718\n",
      "3298220622\n",
      "1918240184\n",
      "456531537\n",
      "Exception: issue retrieving follow lists for this account -- Skipping.\n",
      "2686247229\n",
      "348037070\n"
     ]
    },
    {
     "name": "stderr",
     "output_type": "stream",
     "text": [
      "Rate limit exceeded. Sleeping for 893 seconds.\n"
     ]
    },
    {
     "name": "stdout",
     "output_type": "stream",
     "text": [
      "2461117805\n",
      "721119802333470720\n",
      "2980679152\n",
      "756507644\n",
      "2926387660\n",
      "1714790137\n",
      "Exception: issue retrieving follow lists for this account -- Skipping.\n",
      "587939713\n",
      "3468435275\n",
      "2878638261\n",
      "704691148581957632\n",
      "Exception: issue retrieving follow lists for this account -- Skipping.\n",
      "1445009413\n",
      "696730489282031616\n",
      "611527590\n",
      "981857660\n"
     ]
    },
    {
     "name": "stderr",
     "output_type": "stream",
     "text": [
      "Rate limit exceeded. Sleeping for 894 seconds.\n"
     ]
    },
    {
     "name": "stdout",
     "output_type": "stream",
     "text": [
      "4788234381\n",
      "Exception: issue retrieving follow lists for this account -- Skipping.\n",
      "4697374956\n",
      "3185668503\n",
      "598847761\n",
      "2546512114\n",
      "2312114910\n",
      "1702664612\n",
      "4167123281\n",
      "4150282709\n",
      "Exception: issue retrieving follow lists for this account -- Skipping.\n",
      "319357994\n",
      "3042609775\n",
      "4151705713\n",
      "3753472708\n",
      "Exception: issue retrieving follow lists for this account -- Skipping.\n",
      "331737826\n",
      "3963561373\n",
      "307094098\n"
     ]
    },
    {
     "name": "stderr",
     "output_type": "stream",
     "text": [
      "Rate limit exceeded. Sleeping for 893 seconds.\n"
     ]
    },
    {
     "name": "stdout",
     "output_type": "stream",
     "text": [
      "123307687\n",
      "3719742679\n",
      "3344531265\n",
      "3650429414\n",
      "494695478\n",
      "Exception: issue retrieving follow lists for this account -- Skipping.\n",
      "1963574017\n",
      "3555372793\n",
      "3392894584\n",
      "3321978505\n",
      "3155770405\n",
      "Exception: issue retrieving follow lists for this account -- Skipping.\n",
      "2185079238\n",
      "Exception: issue retrieving follow lists for this account -- Skipping.\n",
      "2208205649\n",
      "Exception: issue retrieving follow lists for this account -- Skipping.\n",
      "3043946439\n",
      "565704165\n"
     ]
    },
    {
     "name": "stderr",
     "output_type": "stream",
     "text": [
      "Rate limit exceeded. Sleeping for 894 seconds.\n"
     ]
    },
    {
     "name": "stdout",
     "output_type": "stream",
     "text": [
      "181778441\n",
      "Exception: issue retrieving follow lists for this account -- Skipping.\n",
      "3230031822\n",
      "449443281\n",
      "1161909721\n",
      "3241357125\n",
      "769781365\n",
      "2908742569\n",
      "2931359933\n",
      "Exception: issue retrieving follow lists for this account -- Skipping.\n",
      "2385890156\n",
      "3152852577\n",
      "2269670598\n",
      "564923735\n",
      "Exception: issue retrieving follow lists for this account -- Skipping.\n",
      "2149140372\n",
      "3132199739\n",
      "2617809679\n",
      "3082633977\n"
     ]
    },
    {
     "name": "stderr",
     "output_type": "stream",
     "text": [
      "Rate limit exceeded. Sleeping for 893 seconds.\n"
     ]
    },
    {
     "name": "stdout",
     "output_type": "stream",
     "text": [
      "3077856336\n",
      "1343767680\n",
      "761692152\n",
      "Exception: issue retrieving follow lists for this account -- Skipping.\n",
      "366346273\n",
      "Exception: issue retrieving follow lists for this account -- Skipping.\n",
      "160047367\n",
      "492656134\n",
      "3043722527\n",
      "591438340\n",
      "3038156957\n",
      "372473221\n",
      "2875995300\n",
      "626813109\n",
      "2960978902\n",
      "2959238411\n"
     ]
    },
    {
     "name": "stderr",
     "output_type": "stream",
     "text": [
      "Rate limit exceeded. Sleeping for 894 seconds.\n"
     ]
    },
    {
     "name": "stdout",
     "output_type": "stream",
     "text": [
      "590626626\n",
      "Exception: issue retrieving follow lists for this account -- Skipping.\n",
      "2938634685\n",
      "319376512\n",
      "Exception: issue retrieving follow lists for this account -- Skipping.\n",
      "2918912087\n",
      "2582516401\n",
      "1164041072\n",
      "2817990909\n",
      "2896665719\n",
      "956091720\n",
      "2672098005\n",
      "2864650355\n",
      "2306687268\n",
      "1616282430\n",
      "Exception: issue retrieving follow lists for this account -- Skipping.\n",
      "375367561\n",
      "Exception: issue retrieving follow lists for this account -- Skipping.\n",
      "572357270\n",
      "330482689\n"
     ]
    },
    {
     "name": "stderr",
     "output_type": "stream",
     "text": [
      "Rate limit exceeded. Sleeping for 894 seconds.\n"
     ]
    },
    {
     "name": "stdout",
     "output_type": "stream",
     "text": [
      "2831687835\n",
      "2830762804\n",
      "2854995488\n",
      "212801997\n",
      "389659429\n",
      "Exception: issue retrieving follow lists for this account -- Skipping.\n",
      "239998773\n",
      "Exception: issue retrieving follow lists for this account -- Skipping.\n",
      "2759675477\n",
      "1497579055\n",
      "844626384\n",
      "569414149\n",
      "2471640468\n",
      "1920953252\n",
      "1093571586\n",
      "1028904163\n",
      "Exception: issue retrieving follow lists for this account -- Skipping.\n",
      "1411845559\n",
      "Exception: issue retrieving follow lists for this account -- Skipping.\n",
      "538645282\n"
     ]
    },
    {
     "name": "stderr",
     "output_type": "stream",
     "text": [
      "Rate limit exceeded. Sleeping for 894 seconds.\n"
     ]
    },
    {
     "name": "stdout",
     "output_type": "stream",
     "text": [
      "2450683589\n",
      "1629259724\n",
      "2425530591\n",
      "2384008764\n",
      "2357669103\n",
      "531761047\n",
      "2349479819\n",
      "2349002632\n",
      "2347999011\n",
      "1706035795\n",
      "Exception: issue retrieving follow lists for this account -- Skipping.\n",
      "1056792788\n",
      "383507005\n",
      "Exception: issue retrieving follow lists for this account -- Skipping.\n",
      "485027896\n",
      "2335930092\n"
     ]
    },
    {
     "name": "stderr",
     "output_type": "stream",
     "text": [
      "Rate limit exceeded. Sleeping for 894 seconds.\n"
     ]
    },
    {
     "name": "stdout",
     "output_type": "stream",
     "text": [
      "809838103\n",
      "2332439628\n",
      "2310605203\n",
      "2312750268\n",
      "2283165234\n",
      "2284534254\n",
      "478103556\n",
      "2314395505\n",
      "2314229084\n",
      "2208143066\n",
      "Exception: issue retrieving follow lists for this account -- Skipping.\n",
      "1861906904\n",
      "1132430107\n",
      "2155622738\n",
      "83696012\n"
     ]
    },
    {
     "name": "stderr",
     "output_type": "stream",
     "text": [
      "Rate limit exceeded. Sleeping for 894 seconds.\n"
     ]
    },
    {
     "name": "stdout",
     "output_type": "stream",
     "text": [
      "1149347396\n",
      "Exception: issue retrieving follow lists for this account -- Skipping.\n",
      "456985471\n",
      "2273662472\n",
      "1961432102\n",
      "534970394\n",
      "Exception: issue retrieving follow lists for this account -- Skipping.\n",
      "276332687\n",
      "445891875\n",
      "Exception: issue retrieving follow lists for this account -- Skipping.\n",
      "1008764611\n",
      "2165807527\n",
      "539410011\n",
      "1319293597\n",
      "212806618\n",
      "2224589821\n",
      "1102676754\n",
      "2211878064\n",
      "Exception: issue retrieving follow lists for this account -- Skipping.\n",
      "169368938\n",
      "1703614502\n",
      "Exception: issue retrieving follow lists for this account -- Skipping.\n",
      "787559305\n",
      "156868553\n",
      "324703121\n",
      "265710931\n",
      "268592448\n",
      "219166178\n",
      "1102225009\n",
      "1485856316\n",
      "331351891\n",
      "Exception: issue retrieving follow lists for this account -- Skipping.\n",
      "319251700\n",
      "Exception: issue retrieving follow lists for this account -- Skipping.\n",
      "110544221\n",
      "1880456515\n",
      "232644840\n"
     ]
    },
    {
     "name": "stderr",
     "output_type": "stream",
     "text": [
      "Rate limit exceeded. Sleeping for 882 seconds.\n"
     ]
    },
    {
     "name": "stdout",
     "output_type": "stream",
     "text": [
      "578258112\n",
      "Exception: issue retrieving follow lists for this account -- Skipping.\n",
      "554601748\n",
      "294909398\n",
      "415168357\n",
      "1258065895\n",
      "963163843\n",
      "Exception: issue retrieving follow lists for this account -- Skipping.\n",
      "1703743315\n",
      "440443030\n",
      "1573900951\n",
      "729262141\n",
      "280098693\n",
      "413460446\n",
      "495617999\n",
      "1043346763\n",
      "561660747\n"
     ]
    },
    {
     "name": "stderr",
     "output_type": "stream",
     "text": [
      "Rate limit exceeded. Sleeping for 891 seconds.\n"
     ]
    },
    {
     "name": "stdout",
     "output_type": "stream",
     "text": [
      "1126124018\n",
      "1592250403\n",
      "1450057514\n",
      "549288841\n",
      "223170096\n",
      "619654493\n",
      "1281825744\n",
      "232735798\n",
      "965491602\n",
      "905587242\n",
      "1261782980\n",
      "Exception: issue retrieving follow lists for this account -- Skipping.\n",
      "413600426\n",
      "57931808\n",
      "561510044\n",
      "603178847\n",
      "860598949\n"
     ]
    },
    {
     "name": "stderr",
     "output_type": "stream",
     "text": [
      "Rate limit exceeded. Sleeping for 892 seconds.\n"
     ]
    },
    {
     "name": "stdout",
     "output_type": "stream",
     "text": [
      "Exception: issue retrieving follow lists for this account -- Skipping.\n",
      "297635377\n",
      "745735812\n",
      "822330140\n",
      "302346993\n",
      "969295273\n",
      "350613719\n",
      "Exception: issue retrieving follow lists for this account -- Skipping.\n",
      "451219372\n",
      "503513451\n",
      "Exception: issue retrieving follow lists for this account -- Skipping.\n",
      "256751339\n",
      "444254562\n",
      "326554272\n",
      "Exception: issue retrieving follow lists for this account -- Skipping.\n",
      "965800720065802240\n",
      "75839298\n",
      "4032864255\n"
     ]
    },
    {
     "name": "stderr",
     "output_type": "stream",
     "text": [
      "Rate limit exceeded. Sleeping for 894 seconds.\n"
     ]
    },
    {
     "name": "stdout",
     "output_type": "stream",
     "text": [
      "797630635\n",
      "1325817833884950528\n",
      "1330495680159297538\n",
      "Exception: issue retrieving follow lists for this account -- Skipping.\n",
      "1285792295409852417\n",
      "1478740957\n",
      "1251910149805137921\n",
      "Exception: issue retrieving follow lists for this account -- Skipping.\n",
      "525995797\n",
      "604925881\n",
      "871022576\n",
      "2619470254\n",
      "1173967955870310401\n",
      "1234472517500383232\n",
      "2340989096\n",
      "2735488451\n",
      "619985375\n"
     ]
    },
    {
     "name": "stderr",
     "output_type": "stream",
     "text": [
      "Rate limit exceeded. Sleeping for 892 seconds.\n"
     ]
    },
    {
     "name": "stdout",
     "output_type": "stream",
     "text": [
      "1213033422345490432\n",
      "110016924\n",
      "1176610459925078016\n",
      "3775104569\n",
      "1176881057754488833\n",
      "2557640426\n",
      "Exception: issue retrieving follow lists for this account -- Skipping.\n",
      "29045454\n",
      "2762463503\n",
      "457837820\n",
      "470288641\n",
      "281234120\n",
      "2947940008\n",
      "739522854\n",
      "3077972529\n",
      "604901708\n"
     ]
    },
    {
     "name": "stderr",
     "output_type": "stream",
     "text": [
      "Rate limit exceeded. Sleeping for 890 seconds.\n"
     ]
    },
    {
     "name": "stdout",
     "output_type": "stream",
     "text": [
      "1125805262\n",
      "2725293072\n",
      "272254007\n",
      "Exception: issue retrieving follow lists for this account -- Skipping.\n",
      "183729455\n",
      "272676012\n",
      "3228988324\n",
      "725391497047232514\n",
      "3074053664\n",
      "126203645\n",
      "Exception: issue retrieving follow lists for this account -- Skipping.\n",
      "2839201020\n",
      "139272996\n",
      "222835800\n",
      "341300137\n",
      "256246325\n",
      "Exception: issue retrieving follow lists for this account -- Skipping.\n",
      "3383346423\n",
      "Exception: issue retrieving follow lists for this account -- Skipping.\n",
      "235437159\n"
     ]
    },
    {
     "name": "stderr",
     "output_type": "stream",
     "text": [
      "Rate limit exceeded. Sleeping for 893 seconds.\n"
     ]
    },
    {
     "name": "stdout",
     "output_type": "stream",
     "text": [
      "550617795\n",
      "4893942694\n",
      "961525693\n",
      "584075863\n",
      "1574252815\n",
      "1621005073\n",
      "1427928529\n",
      "2713640417\n",
      "Exception: issue retrieving follow lists for this account -- Skipping.\n",
      "164133004\n",
      "2803150022\n",
      "2548767337\n",
      "Exception: issue retrieving follow lists for this account -- Skipping.\n",
      "369266566\n",
      "Exception: issue retrieving follow lists for this account -- Skipping.\n",
      "234602447\n",
      "221573809\n"
     ]
    },
    {
     "name": "stderr",
     "output_type": "stream",
     "text": [
      "Rate limit exceeded. Sleeping for 893 seconds.\n"
     ]
    },
    {
     "name": "stdout",
     "output_type": "stream",
     "text": [
      "709581600795848704\n",
      "42506014\n",
      "1475025169\n",
      "3386842594\n",
      "Exception: issue retrieving follow lists for this account -- Skipping.\n",
      "305944509\n",
      "4650319954\n",
      "66561660\n",
      "1634118062\n",
      "430311981\n",
      "2396448289\n",
      "402973254\n",
      "1075201890\n",
      "Exception: issue retrieving follow lists for this account -- Skipping.\n",
      "1941296496\n",
      "1077947544\n",
      "2618860660\n"
     ]
    },
    {
     "name": "stderr",
     "output_type": "stream",
     "text": [
      "Rate limit exceeded. Sleeping for 891 seconds.\n"
     ]
    },
    {
     "name": "stdout",
     "output_type": "stream",
     "text": [
      "3883349560\n",
      "2425273600\n",
      "1695356821\n",
      "1709086560\n",
      "1078087104\n",
      "Exception: issue retrieving follow lists for this account -- Skipping.\n",
      "2580958653\n",
      "Exception: issue retrieving follow lists for this account -- Skipping.\n",
      "2189346116\n",
      "3910619301\n",
      "1803571356\n",
      "237036635\n",
      "3983330726\n",
      "2574348527\n",
      "3233844045\n",
      "4026522674\n",
      "1950382686\n"
     ]
    },
    {
     "name": "stderr",
     "output_type": "stream",
     "text": [
      "Rate limit exceeded. Sleeping for 891 seconds.\n"
     ]
    },
    {
     "name": "stdout",
     "output_type": "stream",
     "text": [
      "3435204539\n",
      "64099047\n",
      "Exception: issue retrieving follow lists for this account -- Skipping.\n",
      "566874457\n",
      "172993561\n",
      "255142515\n",
      "1732963741\n",
      "3525846977\n",
      "2883596470\n",
      "539604453\n",
      "1463342186\n",
      "2864106461\n",
      "410417172\n",
      "544698545\n",
      "2437084286\n",
      "Exception: issue retrieving follow lists for this account -- Skipping.\n",
      "201498791\n"
     ]
    },
    {
     "name": "stderr",
     "output_type": "stream",
     "text": [
      "Rate limit exceeded. Sleeping for 892 seconds.\n"
     ]
    },
    {
     "name": "stdout",
     "output_type": "stream",
     "text": [
      "2827218648\n",
      "1110535506\n",
      "Exception: issue retrieving follow lists for this account -- Skipping.\n",
      "1871123486\n",
      "Exception: issue retrieving follow lists for this account -- Skipping.\n",
      "3100664680\n",
      "Exception: issue retrieving follow lists for this account -- Skipping.\n",
      "3371664539\n",
      "554333078\n",
      "2574671596\n",
      "155114417\n",
      "1572097988\n",
      "339679683\n",
      "2964478745\n",
      "1223236513\n",
      "546376495\n",
      "3253130000\n"
     ]
    },
    {
     "name": "stderr",
     "output_type": "stream",
     "text": [
      "Rate limit exceeded. Sleeping for 894 seconds.\n"
     ]
    },
    {
     "name": "stdout",
     "output_type": "stream",
     "text": [
      "3154119666\n",
      "Exception: issue retrieving follow lists for this account -- Skipping.\n",
      "3258550794\n",
      "3229493225\n",
      "2327859042\n",
      "3031512293\n",
      "871823982\n",
      "Exception: issue retrieving follow lists for this account -- Skipping.\n",
      "1049116662\n",
      "3082918172\n",
      "356555308\n",
      "Exception: issue retrieving follow lists for this account -- Skipping.\n",
      "109402321\n",
      "1125393660\n",
      "836285928\n",
      "3227493256\n",
      "327036495\n",
      "556260460\n",
      "427456224\n"
     ]
    },
    {
     "name": "stderr",
     "output_type": "stream",
     "text": [
      "Rate limit exceeded. Sleeping for 891 seconds.\n"
     ]
    },
    {
     "name": "stdout",
     "output_type": "stream",
     "text": [
      "Exception: issue retrieving follow lists for this account -- Skipping.\n",
      "600633490\n",
      "Exception: issue retrieving follow lists for this account -- Skipping.\n",
      "2387609684\n",
      "367455328\n",
      "401117503\n",
      "826983528\n",
      "1095900678\n",
      "Exception: issue retrieving follow lists for this account -- Skipping.\n",
      "3137967043\n",
      "138880492\n",
      "760676468\n",
      "3259059849\n",
      "Exception: issue retrieving follow lists for this account -- Skipping.\n",
      "2429243898\n",
      "357300420\n",
      "597848252\n",
      "566462380\n",
      "3234413249\n"
     ]
    },
    {
     "name": "stderr",
     "output_type": "stream",
     "text": [
      "Rate limit exceeded. Sleeping for 891 seconds.\n"
     ]
    },
    {
     "name": "stdout",
     "output_type": "stream",
     "text": [
      "3049964977\n",
      "3101811994\n",
      "3187750835\n",
      "1382234240\n",
      "2426124277\n",
      "206809051\n",
      "2881439317\n",
      "803337078\n",
      "Exception: issue retrieving follow lists for this account -- Skipping.\n",
      "1030720837\n",
      "151905306\n",
      "2984902608\n",
      "Exception: issue retrieving follow lists for this account -- Skipping.\n",
      "637087456\n",
      "Exception: issue retrieving follow lists for this account -- Skipping.\n",
      "840748183\n",
      "534806981\n",
      "3132370570\n"
     ]
    },
    {
     "name": "stderr",
     "output_type": "stream",
     "text": [
      "Rate limit exceeded. Sleeping for 892 seconds.\n"
     ]
    },
    {
     "name": "stdout",
     "output_type": "stream",
     "text": [
      "Exception: issue retrieving follow lists for this account -- Skipping.\n",
      "3132372881\n",
      "3073553947\n",
      "Exception: issue retrieving follow lists for this account -- Skipping.\n",
      "3122615439\n",
      "1832414252\n",
      "Exception: issue retrieving follow lists for this account -- Skipping.\n",
      "2172748517\n",
      "Exception: issue retrieving follow lists for this account -- Skipping.\n",
      "2221087490\n",
      "Exception: issue retrieving follow lists for this account -- Skipping.\n",
      "127643573\n",
      "1589796397\n",
      "1927909382\n",
      "1431876571\n",
      "1387216729\n",
      "3084875957\n",
      "311060418\n",
      "364625613\n",
      "68916425\n"
     ]
    },
    {
     "name": "stderr",
     "output_type": "stream",
     "text": [
      "Rate limit exceeded. Sleeping for 892 seconds.\n"
     ]
    },
    {
     "name": "stdout",
     "output_type": "stream",
     "text": [
      "347507821\n",
      "548407619\n",
      "464192262\n",
      "3054454463\n",
      "1672080403\n",
      "Exception: issue retrieving follow lists for this account -- Skipping.\n",
      "384645594\n",
      "489413410\n",
      "1566741014\n",
      "3026039380\n",
      "389798547\n",
      "278790043\n",
      "1106755158\n",
      "144400904\n",
      "2422616570\n"
     ]
    },
    {
     "name": "stderr",
     "output_type": "stream",
     "text": [
      "Rate limit exceeded. Sleeping for 892 seconds.\n"
     ]
    },
    {
     "name": "stdout",
     "output_type": "stream",
     "text": [
      "556236842\n",
      "Exception: issue retrieving follow lists for this account -- Skipping.\n",
      "2887726936\n",
      "2519457744\n",
      "2956443831\n",
      "518037232\n",
      "259502770\n",
      "2943275867\n",
      "506936768\n",
      "Exception: issue retrieving follow lists for this account -- Skipping.\n",
      "357102889\n",
      "1078038284\n",
      "Exception: issue retrieving follow lists for this account -- Skipping.\n",
      "742006914\n",
      "2721489219\n",
      "867440762\n",
      "Exception: issue retrieving follow lists for this account -- Skipping.\n",
      "285801968\n",
      "337962777\n",
      "254057761\n"
     ]
    },
    {
     "name": "stderr",
     "output_type": "stream",
     "text": [
      "Rate limit exceeded. Sleeping for 891 seconds.\n"
     ]
    },
    {
     "name": "stdout",
     "output_type": "stream",
     "text": [
      "533783061\n",
      "312309668\n",
      "Exception: issue retrieving follow lists for this account -- Skipping.\n",
      "486963495\n",
      "2246669508\n",
      "2881294135\n",
      "1515002959\n",
      "Exception: issue retrieving follow lists for this account -- Skipping.\n",
      "70523955\n",
      "109994796\n",
      "Exception: issue retrieving follow lists for this account -- Skipping.\n",
      "112072985\n",
      "2681249216\n",
      "571234001\n",
      "2821059571\n",
      "624321210\n",
      "2366378814\n"
     ]
    },
    {
     "name": "stderr",
     "output_type": "stream",
     "text": [
      "Rate limit exceeded. Sleeping for 892 seconds.\n"
     ]
    },
    {
     "name": "stdout",
     "output_type": "stream",
     "text": [
      "2613467808\n",
      "Exception: issue retrieving follow lists for this account -- Skipping.\n",
      "2801139233\n",
      "236613728\n",
      "754690002\n",
      "2299132640\n",
      "384134775\n",
      "264005598\n",
      "105341111\n",
      "2547210397\n",
      "444764016\n",
      "611927037\n",
      "606656268\n",
      "Exception: issue retrieving follow lists for this account -- Skipping.\n",
      "534914810\n",
      "2496206335\n",
      "Exception: issue retrieving follow lists for this account -- Skipping.\n",
      "187629090\n",
      "Exception: issue retrieving follow lists for this account -- Skipping.\n",
      "409649138\n",
      "Exception: issue retrieving follow lists for this account -- Skipping.\n",
      "868915770\n"
     ]
    },
    {
     "name": "stderr",
     "output_type": "stream",
     "text": [
      "Rate limit exceeded. Sleeping for 891 seconds.\n"
     ]
    },
    {
     "name": "stdout",
     "output_type": "stream",
     "text": [
      "237517349\n",
      "339345021\n",
      "212798655\n",
      "1884604968\n",
      "Exception: issue retrieving follow lists for this account -- Skipping.\n",
      "1901680778\n",
      "2332835547\n",
      "188087780\n",
      "Exception: issue retrieving follow lists for this account -- Skipping.\n",
      "243849456\n",
      "544647741\n",
      "Exception: issue retrieving follow lists for this account -- Skipping.\n",
      "336947767\n",
      "Exception: issue retrieving follow lists for this account -- Skipping.\n",
      "1172234478\n",
      "2342811192\n",
      "266220594\n",
      "Exception: issue retrieving follow lists for this account -- Skipping.\n",
      "122486159\n"
     ]
    },
    {
     "name": "stderr",
     "output_type": "stream",
     "text": [
      "Rate limit exceeded. Sleeping for 892 seconds.\n"
     ]
    },
    {
     "name": "stdout",
     "output_type": "stream",
     "text": [
      "289663567\n",
      "Exception: issue retrieving follow lists for this account -- Skipping.\n",
      "623944916\n",
      "Exception: issue retrieving follow lists for this account -- Skipping.\n",
      "246598896\n",
      "753375722\n",
      "Exception: issue retrieving follow lists for this account -- Skipping.\n",
      "253153999\n",
      "Exception: issue retrieving follow lists for this account -- Skipping.\n",
      "777112158\n",
      "1727279545\n",
      "2314110680\n",
      "266798507\n",
      "Exception: issue retrieving follow lists for this account -- Skipping.\n",
      "1120001407\n",
      "401074971\n",
      "1895018701\n",
      "86844286\n",
      "1631282826\n",
      "Exception: issue retrieving follow lists for this account -- Skipping.\n",
      "2217849717\n"
     ]
    },
    {
     "name": "stderr",
     "output_type": "stream",
     "text": [
      "Rate limit exceeded. Sleeping for 893 seconds.\n"
     ]
    },
    {
     "name": "stdout",
     "output_type": "stream",
     "text": [
      "2234299695\n",
      "Exception: issue retrieving follow lists for this account -- Skipping.\n",
      "2211442623\n",
      "328181266\n",
      "Exception: issue retrieving follow lists for this account -- Skipping.\n",
      "1087877850\n",
      "410977090\n",
      "51526885\n",
      "Exception: issue retrieving follow lists for this account -- Skipping.\n",
      "1066341582\n",
      "458748313\n",
      "1864855022\n",
      "Exception: issue retrieving follow lists for this account -- Skipping.\n",
      "2155859785\n",
      "Exception: issue retrieving follow lists for this account -- Skipping.\n",
      "287725829\n",
      "Exception: issue retrieving follow lists for this account -- Skipping.\n",
      "1291944798\n",
      "Exception: issue retrieving follow lists for this account -- Skipping.\n",
      "718312365\n",
      "1557075948\n",
      "Exception: issue retrieving follow lists for this account -- Skipping.\n",
      "757873770\n"
     ]
    },
    {
     "name": "stderr",
     "output_type": "stream",
     "text": [
      "Rate limit exceeded. Sleeping for 892 seconds.\n"
     ]
    },
    {
     "name": "stdout",
     "output_type": "stream",
     "text": [
      "942566948\n",
      "454619982\n",
      "Exception: issue retrieving follow lists for this account -- Skipping.\n",
      "1512060092\n",
      "1274678498\n",
      "1141213626\n",
      "134513505\n",
      "780534900\n",
      "278238538\n",
      "Exception: issue retrieving follow lists for this account -- Skipping.\n",
      "596874324\n",
      "629174217\n",
      "254688759\n",
      "431135292\n",
      "1029423397\n",
      "454288232\n",
      "579827149\n"
     ]
    },
    {
     "name": "stderr",
     "output_type": "stream",
     "text": [
      "Rate limit exceeded. Sleeping for 890 seconds.\n"
     ]
    },
    {
     "name": "stdout",
     "output_type": "stream",
     "text": [
      "242586312\n",
      "1158269198\n",
      "1122398257\n",
      "52660802\n",
      "275294336\n",
      "Exception: issue retrieving follow lists for this account -- Skipping.\n",
      "454493134\n",
      "Exception: issue retrieving follow lists for this account -- Skipping.\n",
      "1173201920\n",
      "Exception: issue retrieving follow lists for this account -- Skipping.\n",
      "135659421\n",
      "252750406\n",
      "206861841\n",
      "Exception: issue retrieving follow lists for this account -- Skipping.\n",
      "1571201437\n",
      "314746377\n",
      "1036240681\n",
      "1340326332\n",
      "329912253\n"
     ]
    },
    {
     "name": "stderr",
     "output_type": "stream",
     "text": [
      "Rate limit exceeded. Sleeping for 892 seconds.\n"
     ]
    },
    {
     "name": "stdout",
     "output_type": "stream",
     "text": [
      "166893870\n",
      "241792951\n",
      "452003140\n",
      "435387275\n",
      "360987503\n",
      "386099056\n",
      "1383298837\n",
      "Exception: issue retrieving follow lists for this account -- Skipping.\n",
      "433284408\n",
      "Exception: issue retrieving follow lists for this account -- Skipping.\n",
      "1261250791\n",
      "81019901\n",
      "245133766\n",
      "Exception: issue retrieving follow lists for this account -- Skipping.\n",
      "517052821\n",
      "Exception: issue retrieving follow lists for this account -- Skipping.\n",
      "393707947\n",
      "157432196\n",
      "Exception: issue retrieving follow lists for this account -- Skipping.\n",
      "542681601\n"
     ]
    },
    {
     "name": "stderr",
     "output_type": "stream",
     "text": [
      "Rate limit exceeded. Sleeping for 894 seconds.\n"
     ]
    },
    {
     "name": "stdout",
     "output_type": "stream",
     "text": [
      "29324838\n",
      "354139937\n",
      "333564910\n",
      "Exception: issue retrieving follow lists for this account -- Skipping.\n",
      "829990722\n",
      "282845082\n",
      "256744343\n",
      "93088659\n",
      "486228877\n",
      "Exception: issue retrieving follow lists for this account -- Skipping.\n",
      "721556244\n",
      "303570943\n",
      "80951055\n",
      "260501165\n",
      "Exception: issue retrieving follow lists for this account -- Skipping.\n",
      "423154553\n",
      "250890414\n",
      "257754609\n"
     ]
    },
    {
     "name": "stderr",
     "output_type": "stream",
     "text": [
      "Rate limit exceeded. Sleeping for 892 seconds.\n"
     ]
    },
    {
     "name": "stdout",
     "output_type": "stream",
     "text": [
      "41712702\n",
      "365259456\n",
      "Exception: issue retrieving follow lists for this account -- Skipping.\n",
      "381815856\n",
      "268503934\n",
      "630372103\n",
      "553956723\n",
      "Exception: issue retrieving follow lists for this account -- Skipping.\n",
      "360356655\n",
      "Exception: issue retrieving follow lists for this account -- Skipping.\n",
      "512480357\n",
      "453405945\n",
      "87336322\n",
      "Exception: issue retrieving follow lists for this account -- Skipping.\n",
      "240893668\n",
      "862196580\n",
      "547284978\n",
      "Exception: issue retrieving follow lists for this account -- Skipping.\n",
      "533465980\n",
      "416055308\n"
     ]
    },
    {
     "name": "stderr",
     "output_type": "stream",
     "text": [
      "Rate limit exceeded. Sleeping for 893 seconds.\n"
     ]
    },
    {
     "name": "stdout",
     "output_type": "stream",
     "text": [
      "396925682\n",
      "456414460\n",
      "603264862\n",
      "592072924\n",
      "Exception: issue retrieving follow lists for this account -- Skipping.\n",
      "400398330\n",
      "Exception: issue retrieving follow lists for this account -- Skipping.\n",
      "173016376\n",
      "Exception: issue retrieving follow lists for this account -- Skipping.\n",
      "\n",
      "Current Number of edges from starting node 1\n",
      "Num unvisited neighbors: 24\n",
      "--------------------\n",
      "Starting node == 4808016715\n",
      "Exception: issue retrieving follow lists for this account -- Skipping.\n",
      "\n",
      "Current Number of edges from starting node 0\n",
      "Num unvisited neighbors: 0\n",
      "--------------------\n"
     ]
    },
    {
     "data": {
      "application/vnd.jupyter.widget-view+json": {
       "model_id": "8aea82e121014757a966414dd101726a",
       "version_major": 2,
       "version_minor": 0
      },
      "text/plain": [
       "0it [00:00, ?it/s]"
      ]
     },
     "metadata": {},
     "output_type": "display_data"
    },
    {
     "name": "stdout",
     "output_type": "stream",
     "text": [
      "\n",
      "Current Number of edges from starting node 1\n",
      "Num unvisited neighbors: 0\n",
      "--------------------\n",
      "Starting node == 1433472060\n",
      "\n",
      "Current Number of edges from starting node 0\n",
      "Num unvisited neighbors: 53\n",
      "--------------------\n"
     ]
    },
    {
     "data": {
      "application/vnd.jupyter.widget-view+json": {
       "model_id": "db32f3189f80465cad7875ed673f4226",
       "version_major": 2,
       "version_minor": 0
      },
      "text/plain": [
       "  0%|          | 0/53 [00:00<?, ?it/s]"
      ]
     },
     "metadata": {},
     "output_type": "display_data"
    },
    {
     "name": "stdout",
     "output_type": "stream",
     "text": [
      "1093329399737389057\n",
      "938499205462659079\n",
      "860520245743808512\n",
      "Exception: issue retrieving follow lists for this account -- Skipping.\n",
      "963149802\n",
      "3259458594\n",
      "725060322046926849\n",
      "723875299327397890\n",
      "3281930869\n",
      "3319918487\n",
      "2927870996\n",
      "2894104189\n",
      "2792837798\n",
      "2784706748\n"
     ]
    },
    {
     "name": "stderr",
     "output_type": "stream",
     "text": [
      "Rate limit exceeded. Sleeping for 893 seconds.\n"
     ]
    },
    {
     "name": "stdout",
     "output_type": "stream",
     "text": [
      "2722783566\n",
      "2592835872\n",
      "2549569303\n",
      "2388397313\n",
      "1697052810\n",
      "2561296202\n",
      "2429563996\n",
      "2496532825\n",
      "2216699932\n",
      "2462593497\n",
      "1679781547\n",
      "2430584823\n",
      "705136505\n",
      "1416580716\n"
     ]
    },
    {
     "name": "stderr",
     "output_type": "stream",
     "text": [
      "Rate limit exceeded. Sleeping for 892 seconds.\n"
     ]
    },
    {
     "name": "stdout",
     "output_type": "stream",
     "text": [
      "3142560750\n",
      "Exception: issue retrieving follow lists for this account -- Skipping.\n",
      "469585044\n",
      "373590323\n",
      "2241770512\n",
      "3185559446\n",
      "2272604239\n",
      "2996208530\n",
      "2388662211\n",
      "Exception: issue retrieving follow lists for this account -- Skipping.\n",
      "2421378501\n",
      "2806317085\n",
      "Exception: issue retrieving follow lists for this account -- Skipping.\n",
      "2417885623\n",
      "2601989864\n",
      "1639764810\n",
      "2369603494\n",
      "2572457582\n"
     ]
    },
    {
     "name": "stderr",
     "output_type": "stream",
     "text": [
      "Rate limit exceeded. Sleeping for 892 seconds.\n"
     ]
    },
    {
     "name": "stdout",
     "output_type": "stream",
     "text": [
      "1442190553\n",
      "Exception: issue retrieving follow lists for this account -- Skipping.\n",
      "1493731970\n",
      "2218122286\n",
      "Exception: issue retrieving follow lists for this account -- Skipping.\n",
      "719807017\n",
      "953797724\n",
      "1688932784\n",
      "592969545\n",
      "2490792419\n",
      "Exception: issue retrieving follow lists for this account -- Skipping.\n",
      "1425208886\n",
      "1673838217\n",
      "447308809\n",
      "\n",
      "Current Number of edges from starting node 1\n",
      "Num unvisited neighbors: 0\n",
      "--------------------\n",
      "Starting node == 449470627\n",
      "\n",
      "Current Number of edges from starting node 0\n",
      "Num unvisited neighbors: 341\n",
      "--------------------\n"
     ]
    },
    {
     "data": {
      "application/vnd.jupyter.widget-view+json": {
       "model_id": "ca054deb9fdf4ba6ac29e0fd2a7ce80b",
       "version_major": 2,
       "version_minor": 0
      },
      "text/plain": [
       "  0%|          | 0/341 [00:00<?, ?it/s]"
      ]
     },
     "metadata": {},
     "output_type": "display_data"
    },
    {
     "name": "stdout",
     "output_type": "stream",
     "text": [
      "1466882579009789957\n",
      "4778156375\n",
      "1458628995344486400\n"
     ]
    },
    {
     "name": "stderr",
     "output_type": "stream",
     "text": [
      "Rate limit exceeded. Sleeping for 892 seconds.\n"
     ]
    },
    {
     "name": "stdout",
     "output_type": "stream",
     "text": [
      "1389659301413806083\n",
      "Exception: issue retrieving follow lists for this account -- Skipping.\n",
      "1455405344700747781\n",
      "1256255807529852928\n",
      "1437629095467266051\n",
      "1621387615\n",
      "1151165679866929154\n",
      "1263869409510260748\n",
      "1357316429792567296\n",
      "1339042380280893440\n",
      "Exception: issue retrieving follow lists for this account -- Skipping.\n",
      "1283150745215348741\n",
      "4913690525\n",
      "1081276275254284295\n",
      "356733436\n",
      "Exception: issue retrieving follow lists for this account -- Skipping.\n",
      "3013723100\n",
      "Exception: issue retrieving follow lists for this account -- Skipping.\n",
      "1008456872859402241\n",
      "757603410\n",
      "Exception: issue retrieving follow lists for this account -- Skipping.\n",
      "1212771160896593921\n"
     ]
    },
    {
     "name": "stderr",
     "output_type": "stream",
     "text": [
      "Rate limit exceeded. Sleeping for 894 seconds.\n"
     ]
    },
    {
     "name": "stdout",
     "output_type": "stream",
     "text": [
      "Exception: issue retrieving follow lists for this account -- Skipping.\n",
      "1206874262616842240\n",
      "4020626523\n",
      "1169352070442434562\n",
      "1202155902834544640\n",
      "Exception: issue retrieving follow lists for this account -- Skipping.\n",
      "885775395882192896\n",
      "493075623\n",
      "Exception: issue retrieving follow lists for this account -- Skipping.\n",
      "2813614532\n",
      "1070864187084161025\n",
      "Exception: issue retrieving follow lists for this account -- Skipping.\n",
      "1047564741315637250\n",
      "439985748\n",
      "Exception: issue retrieving follow lists for this account -- Skipping.\n",
      "1001995091509219333\n",
      "947966617731977217\n",
      "783380001622286336\n"
     ]
    },
    {
     "name": "stderr",
     "output_type": "stream",
     "text": [
      "Rate limit exceeded. Sleeping for 896 seconds.\n"
     ]
    },
    {
     "name": "stdout",
     "output_type": "stream",
     "text": [
      "3416038385\n",
      "Exception: issue retrieving follow lists for this account -- Skipping.\n",
      "933180383365021696\n",
      "906775613175889920\n",
      "884505213700329472\n",
      "871500255103156224\n",
      "2544424592\n",
      "838387585336688640\n",
      "799245866674569216\n",
      "796076517117853696\n",
      "786416104268673025\n",
      "785858655547695104\n",
      "785559582286422018\n",
      "1680689329\n",
      "773627309827948545\n",
      "2161326345\n",
      "Exception: issue retrieving follow lists for this account -- Skipping.\n",
      "754949765549490176\n"
     ]
    },
    {
     "name": "stderr",
     "output_type": "stream",
     "text": [
      "Rate limit exceeded. Sleeping for 894 seconds.\n"
     ]
    },
    {
     "name": "stdout",
     "output_type": "stream",
     "text": [
      "763095142966452224\n",
      "Exception: issue retrieving follow lists for this account -- Skipping.\n",
      "759071871774121984\n",
      "752721534213554176\n",
      "717936670734204928\n",
      "707350509670244352\n",
      "730159359460773888\n",
      "729338041878384645\n",
      "715174598996848641\n",
      "Exception: issue retrieving follow lists for this account -- Skipping.\n",
      "706405959183294464\n",
      "726116352134643713\n",
      "725678369912795136\n",
      "719313573277773824\n",
      "721386410469502976\n",
      "701012800408330240\n"
     ]
    },
    {
     "name": "stderr",
     "output_type": "stream",
     "text": [
      "Rate limit exceeded. Sleeping for 894 seconds.\n"
     ]
    },
    {
     "name": "stdout",
     "output_type": "stream",
     "text": [
      "2957483497\n",
      "Exception: issue retrieving follow lists for this account -- Skipping.\n",
      "3315774066\n",
      "Exception: issue retrieving follow lists for this account -- Skipping.\n",
      "710103234753466369\n",
      "716734647145799680\n",
      "705692393404833792\n",
      "4318326813\n",
      "712506606978732033\n",
      "711674913975889921\n",
      "710271872273948672\n",
      "4595595755\n",
      "Exception: issue retrieving follow lists for this account -- Skipping.\n",
      "709435503796420608\n",
      "704348489107574785\n",
      "708124743178850305\n",
      "4901030518\n",
      "705554481\n",
      "Exception: issue retrieving follow lists for this account -- Skipping.\n",
      "705777319856705536\n"
     ]
    },
    {
     "name": "stderr",
     "output_type": "stream",
     "text": [
      "Rate limit exceeded. Sleeping for 892 seconds.\n"
     ]
    },
    {
     "name": "stdout",
     "output_type": "stream",
     "text": [
      "700430022776135680\n",
      "4521042981\n",
      "703325708081356800\n",
      "700410756559458305\n",
      "701091383906582529\n",
      "4877573182\n",
      "700613708834332672\n",
      "4920062902\n",
      "4907268965\n",
      "4895160874\n",
      "4899126076\n",
      "3146714336\n",
      "4868066831\n",
      "4766568120\n",
      "3248405221\n"
     ]
    },
    {
     "name": "stderr",
     "output_type": "stream",
     "text": [
      "Rate limit exceeded. Sleeping for 892 seconds.\n"
     ]
    },
    {
     "name": "stdout",
     "output_type": "stream",
     "text": [
      "4874079105\n",
      "4820514328\n",
      "4848517219\n",
      "4740668422\n",
      "4842731277\n",
      "4851511403\n",
      "4179579329\n",
      "4698526998\n",
      "4309477456\n",
      "4557260423\n",
      "3962602697\n",
      "3515369239\n",
      "4382456955\n",
      "3656216612\n",
      "3699536298\n"
     ]
    },
    {
     "name": "stderr",
     "output_type": "stream",
     "text": [
      "Rate limit exceeded. Sleeping for 893 seconds.\n"
     ]
    },
    {
     "name": "stdout",
     "output_type": "stream",
     "text": [
      "4251703601\n",
      "4327459216\n",
      "4057331596\n",
      "4249991547\n",
      "3230063834\n",
      "3297181872\n",
      "77049429\n",
      "4229182385\n",
      "Exception: issue retrieving follow lists for this account -- Skipping.\n",
      "4236904955\n",
      "3284659740\n",
      "Exception: issue retrieving follow lists for this account -- Skipping.\n",
      "4197196997\n",
      "1401085117\n",
      "2783200974\n",
      "637094953\n",
      "Exception: issue retrieving follow lists for this account -- Skipping.\n",
      "3746230515\n"
     ]
    },
    {
     "name": "stderr",
     "output_type": "stream",
     "text": [
      "Rate limit exceeded. Sleeping for 893 seconds.\n"
     ]
    },
    {
     "name": "stdout",
     "output_type": "stream",
     "text": [
      "4048212561\n",
      "2831552815\n",
      "4024454669\n",
      "3607493839\n",
      "612477219\n",
      "Exception: issue retrieving follow lists for this account -- Skipping.\n",
      "2989754930\n",
      "3267629061\n",
      "3441268333\n",
      "3637110313\n",
      "3312113251\n",
      "2445711008\n",
      "2871494275\n",
      "2915075730\n",
      "3013487570\n",
      "2950306574\n"
     ]
    },
    {
     "name": "stderr",
     "output_type": "stream",
     "text": [
      "Rate limit exceeded. Sleeping for 892 seconds.\n"
     ]
    },
    {
     "name": "stdout",
     "output_type": "stream",
     "text": [
      "2949324578\n",
      "2902514783\n",
      "2357171608\n",
      "2893810189\n",
      "2877196214\n",
      "454231609\n",
      "2866988454\n",
      "2792277325\n",
      "2863813310\n",
      "2838304693\n",
      "2326037393\n",
      "2790661686\n",
      "2745182755\n",
      "2734310418\n",
      "2423688613\n"
     ]
    },
    {
     "name": "stderr",
     "output_type": "stream",
     "text": [
      "Rate limit exceeded. Sleeping for 893 seconds.\n"
     ]
    },
    {
     "name": "stdout",
     "output_type": "stream",
     "text": [
      "2749798745\n",
      "2708201875\n",
      "2638786747\n",
      "2377086477\n",
      "2496827478\n",
      "2582639832\n",
      "2556504918\n",
      "2479358314\n",
      "2416790536\n",
      "2502487222\n",
      "1287254347\n",
      "2392156931\n",
      "1661343030\n",
      "1552800234\n",
      "2343319961\n"
     ]
    },
    {
     "name": "stderr",
     "output_type": "stream",
     "text": [
      "Rate limit exceeded. Sleeping for 892 seconds.\n"
     ]
    },
    {
     "name": "stdout",
     "output_type": "stream",
     "text": [
      "2161075084\n",
      "2214256437\n",
      "1281559862\n",
      "2259496344\n",
      "2186318974\n",
      "2220202383\n",
      "1884103628\n",
      "2192013958\n",
      "2192938161\n",
      "2162460431\n",
      "2187212667\n",
      "1481854740\n",
      "2177824487\n",
      "2178728854\n",
      "1104301340\n"
     ]
    },
    {
     "name": "stderr",
     "output_type": "stream",
     "text": [
      "Rate limit exceeded. Sleeping for 894 seconds.\n"
     ]
    },
    {
     "name": "stdout",
     "output_type": "stream",
     "text": [
      "532510811\n",
      "1672943766\n",
      "1870695571\n",
      "1849389776\n",
      "719077452\n",
      "1184534335\n",
      "1686174259\n",
      "492568635\n",
      "1292056214\n",
      "Exception: issue retrieving follow lists for this account -- Skipping.\n",
      "1692217928\n",
      "1566767652\n",
      "1362515911\n",
      "1213989385\n",
      "1017776090\n",
      "1286896525\n"
     ]
    },
    {
     "name": "stderr",
     "output_type": "stream",
     "text": [
      "Rate limit exceeded. Sleeping for 892 seconds.\n"
     ]
    },
    {
     "name": "stdout",
     "output_type": "stream",
     "text": [
      "1526413652\n",
      "1453008968\n",
      "1151637654\n",
      "1561176948\n",
      "523206121\n",
      "1549145286\n",
      "1543716722\n",
      "Exception: issue retrieving follow lists for this account -- Skipping.\n",
      "1514987558\n",
      "1441478155\n",
      "1162935260\n",
      "1487463188\n",
      "1479229686\n",
      "511808018\n",
      "1390501266\n",
      "1324554374\n"
     ]
    },
    {
     "name": "stderr",
     "output_type": "stream",
     "text": [
      "Rate limit exceeded. Sleeping for 893 seconds.\n"
     ]
    },
    {
     "name": "stdout",
     "output_type": "stream",
     "text": [
      "545807438\n",
      "1400310596\n",
      "1307757115\n",
      "1239812587\n",
      "1252720604\n",
      "1333414345\n",
      "738618481\n",
      "902406222\n",
      "554190792\n",
      "531086351\n",
      "358367149\n",
      "1251607590\n",
      "1306040750\n",
      "610695957\n",
      "985923164\n"
     ]
    },
    {
     "name": "stderr",
     "output_type": "stream",
     "text": [
      "Rate limit exceeded. Sleeping for 892 seconds.\n"
     ]
    },
    {
     "name": "stdout",
     "output_type": "stream",
     "text": [
      "1227413899\n",
      "1283411060\n",
      "1198118197\n",
      "1196836831\n",
      "1023415304\n",
      "975574758\n",
      "1269672091\n",
      "1079047148\n",
      "1188643201\n",
      "1173098076\n",
      "1137423806\n",
      "1117375308\n",
      "809360580\n",
      "1123902990\n"
     ]
    },
    {
     "name": "stderr",
     "output_type": "stream",
     "text": [
      "Rate limit exceeded. Sleeping for 894 seconds.\n"
     ]
    },
    {
     "name": "stdout",
     "output_type": "stream",
     "text": [
      "1023314760\n",
      "Exception: issue retrieving follow lists for this account -- Skipping.\n",
      "1106609989\n",
      "1058987233\n",
      "1085960551\n",
      "1106979630\n",
      "938305026\n",
      "1068438050\n",
      "951701090\n",
      "632827003\n",
      "1094812778\n",
      "1073297599\n",
      "1086594788\n",
      "267773732\n",
      "573127671\n",
      "996264740\n",
      "842284796\n"
     ]
    },
    {
     "name": "stderr",
     "output_type": "stream",
     "text": [
      "Rate limit exceeded. Sleeping for 893 seconds.\n"
     ]
    },
    {
     "name": "stdout",
     "output_type": "stream",
     "text": [
      "983377434\n",
      "932646133\n",
      "890426394\n",
      "588114050\n",
      "729086252\n",
      "944365626\n",
      "930957559\n",
      "742645422\n",
      "897830574\n",
      "863224520\n",
      "813017088\n",
      "627328237\n",
      "820906458\n",
      "312004396\n",
      "810660966\n"
     ]
    },
    {
     "name": "stderr",
     "output_type": "stream",
     "text": [
      "Rate limit exceeded. Sleeping for 892 seconds.\n"
     ]
    },
    {
     "name": "stdout",
     "output_type": "stream",
     "text": [
      "459066700\n",
      "501872257\n",
      "327664274\n",
      "752008507\n",
      "740978869\n",
      "555500503\n",
      "716091980\n",
      "737555582\n",
      "552585562\n",
      "710010962\n",
      "592104521\n",
      "718703528\n",
      "713647795\n",
      "636937116\n",
      "551909879\n"
     ]
    },
    {
     "name": "stderr",
     "output_type": "stream",
     "text": [
      "Rate limit exceeded. Sleeping for 892 seconds.\n"
     ]
    },
    {
     "name": "stdout",
     "output_type": "stream",
     "text": [
      "558119813\n",
      "392357498\n",
      "251050633\n",
      "466706974\n",
      "540590861\n",
      "599958340\n",
      "606492380\n",
      "552133596\n",
      "486773825\n",
      "564907705\n",
      "559884586\n",
      "576167705\n",
      "520620335\n",
      "588279171\n",
      "517481823\n"
     ]
    },
    {
     "name": "stderr",
     "output_type": "stream",
     "text": [
      "Rate limit exceeded. Sleeping for 892 seconds.\n"
     ]
    },
    {
     "name": "stdout",
     "output_type": "stream",
     "text": [
      "311931180\n",
      "564526496\n",
      "332470950\n",
      "542861868\n",
      "550656339\n",
      "548596185\n",
      "565651983\n",
      "504862755\n",
      "562933258\n",
      "557653596\n",
      "557048921\n",
      "454148393\n",
      "243874745\n",
      "65318998\n",
      "536563276\n"
     ]
    },
    {
     "name": "stderr",
     "output_type": "stream",
     "text": [
      "Rate limit exceeded. Sleeping for 892 seconds.\n"
     ]
    },
    {
     "name": "stdout",
     "output_type": "stream",
     "text": [
      "412903965\n",
      "358708872\n",
      "Exception: issue retrieving follow lists for this account -- Skipping.\n",
      "543436504\n",
      "432667035\n",
      "503600901\n",
      "418637838\n",
      "526112299\n",
      "240596174\n",
      "428414537\n",
      "446773829\n",
      "501718597\n",
      "501586526\n",
      "483229499\n",
      "478174010\n",
      "1461259630324113410\n"
     ]
    },
    {
     "name": "stderr",
     "output_type": "stream",
     "text": [
      "Rate limit exceeded. Sleeping for 893 seconds.\n"
     ]
    },
    {
     "name": "stdout",
     "output_type": "stream",
     "text": [
      "1448920889786093568\n",
      "1371051484016693249\n",
      "Exception: issue retrieving follow lists for this account -- Skipping.\n",
      "1273337569447682048\n",
      "Exception: issue retrieving follow lists for this account -- Skipping.\n",
      "3242740915\n",
      "Exception: issue retrieving follow lists for this account -- Skipping.\n",
      "3490299433\n",
      "Exception: issue retrieving follow lists for this account -- Skipping.\n",
      "804194707\n",
      "409689681\n",
      "\n",
      "Current Number of edges from starting node 1\n",
      "Num unvisited neighbors: 0\n",
      "--------------------\n",
      "Starting node == 1421859620\n",
      "Exception: issue retrieving follow lists for this account -- Skipping.\n",
      "\n",
      "Current Number of edges from starting node 0\n",
      "Num unvisited neighbors: 0\n",
      "--------------------\n"
     ]
    },
    {
     "data": {
      "application/vnd.jupyter.widget-view+json": {
       "model_id": "aa7f55c6fe27414c847b0b93992a14fa",
       "version_major": 2,
       "version_minor": 0
      },
      "text/plain": [
       "0it [00:00, ?it/s]"
      ]
     },
     "metadata": {},
     "output_type": "display_data"
    },
    {
     "name": "stdout",
     "output_type": "stream",
     "text": [
      "\n",
      "Current Number of edges from starting node 1\n",
      "Num unvisited neighbors: 0\n",
      "--------------------\n",
      "Starting node == 1334673584\n",
      "\n",
      "Current Number of edges from starting node 0\n",
      "Num unvisited neighbors: 757\n",
      "--------------------\n"
     ]
    },
    {
     "data": {
      "application/vnd.jupyter.widget-view+json": {
       "model_id": "9ffdf9af469940e19e8119c3ca62f0c9",
       "version_major": 2,
       "version_minor": 0
      },
      "text/plain": [
       "  0%|          | 0/757 [00:00<?, ?it/s]"
      ]
     },
     "metadata": {},
     "output_type": "display_data"
    },
    {
     "name": "stdout",
     "output_type": "stream",
     "text": [
      "1251034140612288513\n",
      "Exception: issue retrieving follow lists for this account -- Skipping.\n",
      "1213996598075613185\n",
      "1092728099744100352\n",
      "778929985985785857\n",
      "867058475783774208\n",
      "752017059303739392\n"
     ]
    },
    {
     "name": "stderr",
     "output_type": "stream",
     "text": [
      "Rate limit exceeded. Sleeping for 373 seconds.\n"
     ]
    },
    {
     "name": "stdout",
     "output_type": "stream",
     "text": [
      "3269689218\n",
      "3147047471\n",
      "2966882089\n",
      "2960739402\n",
      "2542173206\n",
      "2845917409\n",
      "Exception: issue retrieving follow lists for this account -- Skipping.\n",
      "1564273441\n",
      "2668705021\n",
      "2562161887\n",
      "2431673114\n",
      "1128658044\n",
      "2274511230\n",
      "1133541042\n",
      "2432081695\n",
      "2247814068\n"
     ]
    },
    {
     "name": "stderr",
     "output_type": "stream",
     "text": [
      "Rate limit exceeded. Sleeping for 892 seconds.\n"
     ]
    },
    {
     "name": "stdout",
     "output_type": "stream",
     "text": [
      "2299018862\n",
      "406966629\n",
      "2250076884\n",
      "2370097033\n",
      "1320433406\n",
      "Exception: issue retrieving follow lists for this account -- Skipping.\n",
      "2270561670\n",
      "Exception: issue retrieving follow lists for this account -- Skipping.\n",
      "2320871971\n",
      "2322490920\n",
      "2311367312\n",
      "2298810210\n",
      "200544926\n",
      "2253244537\n",
      "2227521912\n",
      "1539341821\n",
      "Exception: issue retrieving follow lists for this account -- Skipping.\n",
      "1034061607\n"
     ]
    },
    {
     "name": "stderr",
     "output_type": "stream",
     "text": [
      "Rate limit exceeded. Sleeping for 895 seconds.\n"
     ]
    },
    {
     "name": "stdout",
     "output_type": "stream",
     "text": [
      "1941410232\n",
      "1903675500\n",
      "1894154508\n",
      "1475347879\n",
      "1207933952\n",
      "765420336\n",
      "1856524807\n",
      "1851389138\n",
      "1256894809\n",
      "1088194495\n",
      "1555452306\n",
      "1721427132\n",
      "Exception: issue retrieving follow lists for this account -- Skipping.\n",
      "1605946969\n",
      "295130029\n",
      "Exception: issue retrieving follow lists for this account -- Skipping.\n",
      "1701323844\n"
     ]
    },
    {
     "name": "stderr",
     "output_type": "stream",
     "text": [
      "Rate limit exceeded. Sleeping for 895 seconds.\n"
     ]
    },
    {
     "name": "stdout",
     "output_type": "stream",
     "text": [
      "1700315184\n",
      "1461866822\n",
      "Exception: issue retrieving follow lists for this account -- Skipping.\n",
      "1662409166\n",
      "Exception: issue retrieving follow lists for this account -- Skipping.\n",
      "1316557832\n",
      "1562962514\n",
      "1628388594\n",
      "Exception: issue retrieving follow lists for this account -- Skipping.\n",
      "1655515148\n",
      "1637643092\n",
      "1633345512\n",
      "1234237417\n",
      "1211980388\n",
      "1381521151\n",
      "1643299112\n",
      "811184677\n",
      "1639677853\n"
     ]
    },
    {
     "name": "stderr",
     "output_type": "stream",
     "text": [
      "Rate limit exceeded. Sleeping for 894 seconds.\n"
     ]
    },
    {
     "name": "stdout",
     "output_type": "stream",
     "text": [
      "1210438069\n",
      "1079715386\n",
      "1513520318\n",
      "1283290088\n",
      "1634596795\n",
      "1512779881\n",
      "1401204685\n",
      "Exception: issue retrieving follow lists for this account -- Skipping.\n",
      "1629917090\n",
      "1538479837\n",
      "1625172158\n",
      "1577771208\n",
      "1032254978\n",
      "1405530836\n",
      "1574007781\n",
      "1458831811\n"
     ]
    },
    {
     "name": "stderr",
     "output_type": "stream",
     "text": [
      "Rate limit exceeded. Sleeping for 892 seconds.\n"
     ]
    },
    {
     "name": "stdout",
     "output_type": "stream",
     "text": [
      "1537769617\n",
      "1584899635\n",
      "1456913946\n",
      "1617770658\n",
      "1445676186\n",
      "1142465126\n",
      "1608396025\n",
      "1576004131\n",
      "333789331\n",
      "1489240892\n",
      "1185047551\n",
      "982671145\n",
      "1595204341\n",
      "1060799646\n",
      "1450910358\n"
     ]
    },
    {
     "name": "stderr",
     "output_type": "stream",
     "text": [
      "Rate limit exceeded. Sleeping for 892 seconds.\n"
     ]
    },
    {
     "name": "stdout",
     "output_type": "stream",
     "text": [
      "1325895685\n",
      "1251135744\n",
      "1032921578\n",
      "1616826672\n",
      "1316354220\n",
      "Exception: issue retrieving follow lists for this account -- Skipping.\n",
      "1375978255\n",
      "1536565220\n",
      "Exception: issue retrieving follow lists for this account -- Skipping.\n",
      "1592668022\n",
      "1608265807\n",
      "1229620428\n",
      "Exception: issue retrieving follow lists for this account -- Skipping.\n",
      "1376791344\n",
      "1509864042\n",
      "1574332278\n",
      "1590717314\n",
      "1425018900\n"
     ]
    },
    {
     "name": "stderr",
     "output_type": "stream",
     "text": [
      "Rate limit exceeded. Sleeping for 893 seconds.\n"
     ]
    },
    {
     "name": "stdout",
     "output_type": "stream",
     "text": [
      "522392195\n",
      "1156171710\n",
      "1492842914\n",
      "1364510282\n",
      "Exception: issue retrieving follow lists for this account -- Skipping.\n",
      "1497897193\n",
      "1475552533\n",
      "1466493847\n",
      "1459397701\n",
      "536350291\n",
      "1165319155\n",
      "481959779\n",
      "1442868307\n",
      "973998510\n",
      "992427020\n",
      "1422380882\n"
     ]
    },
    {
     "name": "stderr",
     "output_type": "stream",
     "text": [
      "Rate limit exceeded. Sleeping for 893 seconds.\n"
     ]
    },
    {
     "name": "stdout",
     "output_type": "stream",
     "text": [
      "1412504012\n",
      "871686098\n",
      "1271804444\n",
      "Exception: issue retrieving follow lists for this account -- Skipping.\n",
      "773207220\n",
      "1433353992\n",
      "1124917681\n",
      "1381145162\n",
      "1422843307\n",
      "1425382724\n",
      "1423051764\n",
      "1100130416\n",
      "1063382288\n",
      "1384571443\n",
      "1412512016\n",
      "1414401812\n",
      "908614080\n",
      "994471279\n",
      "878174251\n",
      "712448640\n",
      "903441841\n",
      "975131448\n",
      "Exception: issue retrieving follow lists for this account -- Skipping.\n",
      "895150862\n",
      "1189450712\n",
      "Exception: issue retrieving follow lists for this account -- Skipping.\n",
      "1354443193\n",
      "1263362971\n"
     ]
    },
    {
     "name": "stderr",
     "output_type": "stream",
     "text": [
      "Rate limit exceeded. Sleeping for 883 seconds.\n"
     ]
    },
    {
     "name": "stdout",
     "output_type": "stream",
     "text": [
      "1274428514\n",
      "Exception: issue retrieving follow lists for this account -- Skipping.\n",
      "1279878277\n",
      "1061668980\n",
      "1396657190\n",
      "1331365706\n",
      "1228833925\n"
     ]
    },
    {
     "name": "stderr",
     "output_type": "stream",
     "text": [
      "Rate limit exceeded. Sleeping for 3 seconds.\n"
     ]
    },
    {
     "name": "stdout",
     "output_type": "stream",
     "text": [
      "1369334462\n",
      "1351609843\n",
      "Exception: issue retrieving follow lists for this account -- Skipping.\n",
      "1384377188\n",
      "991062145\n",
      "1387024669\n",
      "771321240\n",
      "523200615\n",
      "1386735931\n",
      "1369673676\n",
      "823206013\n"
     ]
    },
    {
     "name": "stderr",
     "output_type": "stream",
     "text": [
      "Rate limit exceeded. Sleeping for 889 seconds.\n"
     ]
    },
    {
     "name": "stdout",
     "output_type": "stream",
     "text": [
      "724141370\n",
      "1369366892\n",
      "1381436551\n",
      "1318869272\n",
      "317395461\n",
      "1139805546\n"
     ]
    },
    {
     "name": "stderr",
     "output_type": "stream",
     "text": [
      "Rate limit exceeded. Sleeping for 4 seconds.\n"
     ]
    },
    {
     "name": "stdout",
     "output_type": "stream",
     "text": [
      "1193776219\n",
      "916475574\n",
      "1311331081\n",
      "Exception: issue retrieving follow lists for this account -- Skipping.\n",
      "833321449\n",
      "368895678\n",
      "Exception: issue retrieving follow lists for this account -- Skipping.\n",
      "598138473\n",
      "988637269\n",
      "1353881228\n",
      "1243310330\n"
     ]
    },
    {
     "name": "stderr",
     "output_type": "stream",
     "text": [
      "Rate limit exceeded. Sleeping for 889 seconds.\n"
     ]
    },
    {
     "name": "stdout",
     "output_type": "stream",
     "text": [
      "977717906\n",
      "1153961918\n",
      "Exception: issue retrieving follow lists for this account -- Skipping.\n",
      "1374392767\n",
      "1288784251\n",
      "845118996\n",
      "1369580143\n",
      "1112812176\n",
      "Exception: issue retrieving follow lists for this account -- Skipping.\n",
      "1369467133\n",
      "1266155930\n",
      "1331202301\n",
      "1152312584\n",
      "1041517290\n",
      "Exception: issue retrieving follow lists for this account -- Skipping.\n",
      "553513763\n",
      "1324462297\n"
     ]
    },
    {
     "name": "stderr",
     "output_type": "stream",
     "text": [
      "Rate limit exceeded. Sleeping for 894 seconds.\n"
     ]
    },
    {
     "name": "stdout",
     "output_type": "stream",
     "text": [
      "1294151917\n",
      "Exception: issue retrieving follow lists for this account -- Skipping.\n",
      "852634920\n",
      "Exception: issue retrieving follow lists for this account -- Skipping.\n",
      "914293159\n",
      "1364674244\n",
      "1042069706\n",
      "1322162281\n",
      "1329246812\n",
      "905676336\n",
      "Exception: issue retrieving follow lists for this account -- Skipping.\n",
      "1242545293\n",
      "1138536156\n",
      "757122643\n",
      "Exception: issue retrieving follow lists for this account -- Skipping.\n",
      "1048037178\n",
      "745047324\n",
      "Exception: issue retrieving follow lists for this account -- Skipping.\n",
      "1271387784\n",
      "559961069\n",
      "557470204\n"
     ]
    },
    {
     "name": "stderr",
     "output_type": "stream",
     "text": [
      "Rate limit exceeded. Sleeping for 894 seconds.\n"
     ]
    },
    {
     "name": "stdout",
     "output_type": "stream",
     "text": [
      "568710820\n",
      "Exception: issue retrieving follow lists for this account -- Skipping.\n",
      "1073650418\n",
      "1192385766\n",
      "1133927545\n",
      "1135655040\n",
      "616217157\n",
      "1295411658\n",
      "1295505926\n",
      "1261149912\n",
      "874140380\n",
      "1189078928\n",
      "1214364768\n",
      "Exception: issue retrieving follow lists for this account -- Skipping.\n",
      "1334677428\n",
      "1230003720\n",
      "1178033244\n"
     ]
    },
    {
     "name": "stderr",
     "output_type": "stream",
     "text": [
      "Rate limit exceeded. Sleeping for 891 seconds.\n"
     ]
    },
    {
     "name": "stdout",
     "output_type": "stream",
     "text": [
      "904262136\n",
      "1348736234\n",
      "1351910160\n",
      "1241049295\n",
      "1208083118\n",
      "1303055041\n",
      "893260098\n",
      "1325607342\n",
      "1316012960\n",
      "1282965384\n",
      "1352302645\n",
      "1034012186\n",
      "1024076803\n",
      "1130235967\n",
      "1062274639\n"
     ]
    },
    {
     "name": "stderr",
     "output_type": "stream",
     "text": [
      "Rate limit exceeded. Sleeping for 890 seconds.\n"
     ]
    },
    {
     "name": "stdout",
     "output_type": "stream",
     "text": [
      "1302233928\n",
      "1300604868\n",
      "391841982\n",
      "Exception: issue retrieving follow lists for this account -- Skipping.\n",
      "1270970317\n",
      "940925102\n",
      "1268817792\n",
      "1136747605\n",
      "1048688036\n",
      "1338784824\n",
      "1341707810\n",
      "879469272\n",
      "1287311989\n",
      "1332960510\n",
      "1214456989\n",
      "1329534223\n"
     ]
    },
    {
     "name": "stderr",
     "output_type": "stream",
     "text": [
      "Rate limit exceeded. Sleeping for 888 seconds.\n"
     ]
    },
    {
     "name": "stdout",
     "output_type": "stream",
     "text": [
      "1087819902\n",
      "1337987888\n",
      "821606628\n",
      "1019746148\n",
      "1323990126\n",
      "1127994955\n",
      "1096519771\n",
      "1086276540\n",
      "1085018965\n",
      "847595827\n",
      "810053640\n",
      "1123885310\n",
      "1144045230\n",
      "977661187\n",
      "1315514101\n"
     ]
    },
    {
     "name": "stderr",
     "output_type": "stream",
     "text": [
      "Rate limit exceeded. Sleeping for 890 seconds.\n"
     ]
    },
    {
     "name": "stdout",
     "output_type": "stream",
     "text": [
      "1306537195\n",
      "1130821188\n",
      "1266857719\n",
      "1335721494\n",
      "Exception: issue retrieving follow lists for this account -- Skipping.\n",
      "315661339\n",
      "938348876\n",
      "1201311926\n",
      "Exception: issue retrieving follow lists for this account -- Skipping.\n",
      "1288014301\n",
      "1323794676\n",
      "565380113\n",
      "530837332\n",
      "981628412\n",
      "982500764\n",
      "445948667\n",
      "1128036096\n"
     ]
    },
    {
     "name": "stderr",
     "output_type": "stream",
     "text": [
      "Rate limit exceeded. Sleeping for 891 seconds.\n"
     ]
    },
    {
     "name": "stdout",
     "output_type": "stream",
     "text": [
      "1320234816\n",
      "991506636\n",
      "1276649322\n",
      "1306556977\n",
      "1117156062\n",
      "465478782\n",
      "1178495960\n",
      "1282272116\n",
      "548318145\n",
      "Exception: issue retrieving follow lists for this account -- Skipping.\n",
      "1092005414\n",
      "1325684372\n",
      "552307522\n",
      "Exception: issue retrieving follow lists for this account -- Skipping.\n",
      "1215489926\n",
      "327683409\n",
      "1175156875\n"
     ]
    },
    {
     "name": "stderr",
     "output_type": "stream",
     "text": [
      "Rate limit exceeded. Sleeping for 892 seconds.\n"
     ]
    },
    {
     "name": "stdout",
     "output_type": "stream",
     "text": [
      "1050255830\n",
      "Exception: issue retrieving follow lists for this account -- Skipping.\n",
      "992442781\n",
      "988876836\n",
      "910156123\n",
      "1327455474\n",
      "1012475780\n",
      "1114720099\n",
      "1285892436\n",
      "461144701\n",
      "1386561732\n",
      "1034099125\n",
      "Exception: issue retrieving follow lists for this account -- Skipping.\n",
      "1430738833\n",
      "1307659285\n",
      "1427467682\n",
      "1016691871\n",
      "606605771\n"
     ]
    },
    {
     "name": "stderr",
     "output_type": "stream",
     "text": [
      "Rate limit exceeded. Sleeping for 875 seconds.\n"
     ]
    },
    {
     "name": "stdout",
     "output_type": "stream",
     "text": [
      "1525090387\n",
      "1119297324\n",
      "1215131065\n",
      "1268779100\n",
      "1312676707\n",
      "Exception: issue retrieving follow lists for this account -- Skipping.\n",
      "1456118052\n",
      "Exception: issue retrieving follow lists for this account -- Skipping.\n",
      "1100637415\n",
      "585281021\n",
      "486265465\n",
      "1103881850\n",
      "1603192094\n",
      "605505010\n",
      "912219289\n",
      "1383447199\n"
     ]
    },
    {
     "name": "stderr",
     "output_type": "stream",
     "text": [
      "Rate limit exceeded. Sleeping for 892 seconds.\n"
     ]
    },
    {
     "name": "stdout",
     "output_type": "stream",
     "text": [
      "1565636990\n",
      "1448014266\n",
      "Exception: issue retrieving follow lists for this account -- Skipping.\n",
      "1528499749\n",
      "Exception: issue retrieving follow lists for this account -- Skipping.\n",
      "1605324510\n",
      "1329185546\n",
      "Exception: issue retrieving follow lists for this account -- Skipping.\n",
      "1091764316\n",
      "415639557\n",
      "1520962088\n",
      "410546719\n",
      "1331738504\n",
      "1425698910\n",
      "1184973410\n",
      "Exception: issue retrieving follow lists for this account -- Skipping.\n",
      "1610676199\n",
      "1459190245\n"
     ]
    },
    {
     "name": "stderr",
     "output_type": "stream",
     "text": [
      "Rate limit exceeded. Sleeping for 891 seconds.\n"
     ]
    },
    {
     "name": "stdout",
     "output_type": "stream",
     "text": [
      "1522115419\n",
      "Exception: issue retrieving follow lists for this account -- Skipping.\n",
      "1539927668\n",
      "630873881\n",
      "1541482754\n",
      "1283005842\n",
      "Exception: issue retrieving follow lists for this account -- Skipping.\n",
      "1490498006\n",
      "1583396239\n",
      "1616768059\n",
      "1168638091\n",
      "1456546562\n",
      "1422098198\n",
      "1405204388\n",
      "520978327\n",
      "Exception: issue retrieving follow lists for this account -- Skipping.\n",
      "1174375490\n",
      "Exception: issue retrieving follow lists for this account -- Skipping.\n",
      "1612051183\n",
      "1572015134\n"
     ]
    },
    {
     "name": "stderr",
     "output_type": "stream",
     "text": [
      "Rate limit exceeded. Sleeping for 892 seconds.\n"
     ]
    },
    {
     "name": "stdout",
     "output_type": "stream",
     "text": [
      "1462508022\n",
      "1396967125\n",
      "1152427873\n",
      "1349618575\n",
      "1412800495\n",
      "632631367\n",
      "1593599665\n",
      "1574064842\n",
      "1498342266\n",
      "527119658\n",
      "1047871262\n",
      "Exception: issue retrieving follow lists for this account -- Skipping.\n",
      "1147943090\n",
      "1320190752\n",
      "1044483836\n"
     ]
    },
    {
     "name": "stderr",
     "output_type": "stream",
     "text": [
      "Rate limit exceeded. Sleeping for 890 seconds.\n"
     ]
    },
    {
     "name": "stdout",
     "output_type": "stream",
     "text": [
      "910480273\n",
      "Exception: issue retrieving follow lists for this account -- Skipping.\n",
      "1342037964\n",
      "1494203251\n",
      "1493062718\n",
      "172737172\n",
      "1515796788\n",
      "1425677366\n",
      "1369670294\n",
      "Exception: issue retrieving follow lists for this account -- Skipping.\n",
      "1382106200\n",
      "1061833944\n",
      "1565778884\n",
      "1572732230\n",
      "1592205637\n",
      "1470008796\n",
      "1523643787\n",
      "1035963192\n"
     ]
    },
    {
     "name": "stderr",
     "output_type": "stream",
     "text": [
      "Rate limit exceeded. Sleeping for 890 seconds.\n"
     ]
    },
    {
     "name": "stdout",
     "output_type": "stream",
     "text": [
      "1297159596\n",
      "1453894081\n",
      "884175704\n",
      "1306424269\n",
      "1285245302\n",
      "Exception: issue retrieving follow lists for this account -- Skipping.\n",
      "1157465636\n",
      "1406761585\n",
      "1324939285\n",
      "398542612\n",
      "Exception: issue retrieving follow lists for this account -- Skipping.\n",
      "1407727298\n",
      "1336858746\n",
      "323768425\n",
      "267082357\n",
      "1391873040\n",
      "Exception: issue retrieving follow lists for this account -- Skipping.\n",
      "1303691851\n"
     ]
    },
    {
     "name": "stderr",
     "output_type": "stream",
     "text": [
      "Rate limit exceeded. Sleeping for 893 seconds.\n"
     ]
    },
    {
     "name": "stdout",
     "output_type": "stream",
     "text": [
      "1327763366\n",
      "1361179098\n",
      "1369329397\n",
      "185653732\n",
      "Exception: issue retrieving follow lists for this account -- Skipping.\n",
      "1389594679\n",
      "1292961511\n",
      "Exception: issue retrieving follow lists for this account -- Skipping.\n",
      "1356489512\n",
      "1100943085\n",
      "623600057\n",
      "1241668230\n",
      "Exception: issue retrieving follow lists for this account -- Skipping.\n",
      "1121171545\n",
      "1369582466\n",
      "1378077398\n",
      "1124245794\n",
      "Exception: issue retrieving follow lists for this account -- Skipping.\n",
      "990548575\n"
     ]
    },
    {
     "name": "stderr",
     "output_type": "stream",
     "text": [
      "Rate limit exceeded. Sleeping for 891 seconds.\n"
     ]
    },
    {
     "name": "stdout",
     "output_type": "stream",
     "text": [
      "1203435168\n",
      "762351396\n",
      "268538691\n",
      "319545009\n",
      "Exception: issue retrieving follow lists for this account -- Skipping.\n",
      "767139582\n",
      "120387784\n",
      "232901357\n",
      "1381879914\n",
      "Exception: issue retrieving follow lists for this account -- Skipping.\n",
      "1371835094\n",
      "Exception: issue retrieving follow lists for this account -- Skipping.\n",
      "940608546\n",
      "Exception: issue retrieving follow lists for this account -- Skipping.\n",
      "1034264834\n",
      "832805142\n",
      "851265870\n",
      "1041415585\n",
      "722090454\n"
     ]
    },
    {
     "name": "stderr",
     "output_type": "stream",
     "text": [
      "Rate limit exceeded. Sleeping for 893 seconds.\n"
     ]
    },
    {
     "name": "stdout",
     "output_type": "stream",
     "text": [
      "1026377875\n",
      "1188567072\n",
      "1212151754\n",
      "1201539373\n",
      "878924558\n",
      "1030633284\n",
      "Exception: issue retrieving follow lists for this account -- Skipping.\n",
      "492884821\n",
      "Exception: issue retrieving follow lists for this account -- Skipping.\n",
      "1106425644\n",
      "1361621774\n",
      "560085174\n",
      "Exception: issue retrieving follow lists for this account -- Skipping.\n",
      "1287575672\n",
      "1303436155\n",
      "1336113091\n",
      "1351425980\n",
      "285077599\n"
     ]
    },
    {
     "name": "stderr",
     "output_type": "stream",
     "text": [
      "Rate limit exceeded. Sleeping for 893 seconds.\n"
     ]
    },
    {
     "name": "stdout",
     "output_type": "stream",
     "text": [
      "1070378138\n",
      "766670990\n",
      "1241088752\n",
      "1331491932\n",
      "1071079795\n",
      "1338317023\n",
      "1349776650\n",
      "968092094\n",
      "1369350348\n",
      "749663420\n",
      "Exception: issue retrieving follow lists for this account -- Skipping.\n",
      "1070745175\n",
      "Exception: issue retrieving follow lists for this account -- Skipping.\n",
      "1212349501\n",
      "1264371384\n",
      "Exception: issue retrieving follow lists for this account -- Skipping.\n",
      "1186254570\n",
      "1365522271\n"
     ]
    },
    {
     "name": "stderr",
     "output_type": "stream",
     "text": [
      "Rate limit exceeded. Sleeping for 892 seconds.\n"
     ]
    },
    {
     "name": "stdout",
     "output_type": "stream",
     "text": [
      "914661234\n",
      "Exception: issue retrieving follow lists for this account -- Skipping.\n",
      "1006118149\n",
      "1154584944\n",
      "1054263516\n",
      "1094964968\n",
      "1262289774\n",
      "962551452\n",
      "1091748499\n",
      "1209046632\n",
      "178271569\n",
      "1171729854\n",
      "967455548\n",
      "Exception: issue retrieving follow lists for this account -- Skipping.\n",
      "1182060564\n",
      "Exception: issue retrieving follow lists for this account -- Skipping.\n",
      "578577715\n",
      "1242667758\n"
     ]
    },
    {
     "name": "stderr",
     "output_type": "stream",
     "text": [
      "Rate limit exceeded. Sleeping for 891 seconds.\n"
     ]
    },
    {
     "name": "stdout",
     "output_type": "stream",
     "text": [
      "Exception: issue retrieving follow lists for this account -- Skipping.\n",
      "217014828\n",
      "1238954618\n",
      "1258589444\n",
      "Exception: issue retrieving follow lists for this account -- Skipping.\n",
      "1059980478\n",
      "1218592369\n",
      "533025282\n",
      "1326624865\n",
      "1353900666\n",
      "1106278963\n",
      "1017326371\n",
      "1097387628\n",
      "1275072236\n",
      "Exception: issue retrieving follow lists for this account -- Skipping.\n",
      "1333543196\n",
      "1243528478\n",
      "828559616\n"
     ]
    },
    {
     "name": "stderr",
     "output_type": "stream",
     "text": [
      "Rate limit exceeded. Sleeping for 890 seconds.\n"
     ]
    },
    {
     "name": "stdout",
     "output_type": "stream",
     "text": [
      "Exception: issue retrieving follow lists for this account -- Skipping.\n",
      "464716196\n",
      "455715407\n",
      "1229233009\n",
      "1333296086\n",
      "565969339\n",
      "1334285305\n",
      "136239202\n",
      "Exception: issue retrieving follow lists for this account -- Skipping.\n",
      "1275203736\n",
      "Exception: issue retrieving follow lists for this account -- Skipping.\n",
      "1103713897\n",
      "1200379477\n",
      "779690401\n",
      "Exception: issue retrieving follow lists for this account -- Skipping.\n",
      "1221301345\n",
      "Exception: issue retrieving follow lists for this account -- Skipping.\n",
      "1306402939\n",
      "1331330353\n",
      "1219554768\n"
     ]
    },
    {
     "name": "stderr",
     "output_type": "stream",
     "text": [
      "Rate limit exceeded. Sleeping for 891 seconds.\n"
     ]
    },
    {
     "name": "stdout",
     "output_type": "stream",
     "text": [
      "1071718536\n",
      "1333465885\n",
      "1188702054\n",
      "1296467923\n",
      "345257351\n",
      "1229765893\n",
      "Exception: issue retrieving follow lists for this account -- Skipping.\n",
      "1245613058\n",
      "1245448454\n",
      "Exception: issue retrieving follow lists for this account -- Skipping.\n",
      "771632113\n",
      "1162450117\n",
      "410662392\n",
      "850759694\n",
      "1060128745\n",
      "1348682232\n",
      "Exception: issue retrieving follow lists for this account -- Skipping.\n",
      "292617726\n"
     ]
    },
    {
     "name": "stderr",
     "output_type": "stream",
     "text": [
      "Rate limit exceeded. Sleeping for 892 seconds.\n"
     ]
    },
    {
     "name": "stdout",
     "output_type": "stream",
     "text": [
      "544029285\n",
      "999162222\n",
      "1088762150\n",
      "Exception: issue retrieving follow lists for this account -- Skipping.\n",
      "1125090546\n",
      "519392086\n",
      "1312163492\n",
      "1310559792\n",
      "1229858923\n",
      "Exception: issue retrieving follow lists for this account -- Skipping.\n",
      "1142430217\n",
      "1333473301\n",
      "1243747531\n",
      "533008833\n",
      "1340920320\n",
      "1215569534\n",
      "1328066492\n"
     ]
    },
    {
     "name": "stderr",
     "output_type": "stream",
     "text": [
      "Rate limit exceeded. Sleeping for 890 seconds.\n"
     ]
    },
    {
     "name": "stdout",
     "output_type": "stream",
     "text": [
      "1308819420\n",
      "1261718004\n",
      "249901501\n",
      "1124596855\n",
      "942951378\n",
      "Exception: issue retrieving follow lists for this account -- Skipping.\n",
      "1068358747\n",
      "551969750\n",
      "Exception: issue retrieving follow lists for this account -- Skipping.\n",
      "1319950494\n",
      "1054068433\n",
      "Exception: issue retrieving follow lists for this account -- Skipping.\n",
      "424835530\n",
      "636793470\n",
      "Exception: issue retrieving follow lists for this account -- Skipping.\n",
      "494148527\n",
      "519286549\n",
      "1310926051\n",
      "Exception: issue retrieving follow lists for this account -- Skipping.\n",
      "1210277126\n"
     ]
    },
    {
     "name": "stderr",
     "output_type": "stream",
     "text": [
      "Rate limit exceeded. Sleeping for 892 seconds.\n"
     ]
    },
    {
     "name": "stdout",
     "output_type": "stream",
     "text": [
      "1006388712\n",
      "1174147110\n",
      "1037168064\n",
      "1331572879\n",
      "1259201052\n",
      "625593494\n",
      "Exception: issue retrieving follow lists for this account -- Skipping.\n",
      "1234233433\n",
      "Exception: issue retrieving follow lists for this account -- Skipping.\n",
      "857798552\n",
      "Exception: issue retrieving follow lists for this account -- Skipping.\n",
      "1259817416\n",
      "Exception: issue retrieving follow lists for this account -- Skipping.\n",
      "773792113\n",
      "1335198980\n",
      "440793196\n",
      "879635449\n",
      "Exception: issue retrieving follow lists for this account -- Skipping.\n",
      "1124500604\n",
      "1082068400\n"
     ]
    },
    {
     "name": "stderr",
     "output_type": "stream",
     "text": [
      "Rate limit exceeded. Sleeping for 892 seconds.\n"
     ]
    },
    {
     "name": "stdout",
     "output_type": "stream",
     "text": [
      "419503345\n",
      "1082405484\n",
      "1105580251\n",
      "Exception: issue retrieving follow lists for this account -- Skipping.\n",
      "1072772605\n",
      "1111708020\n",
      "Exception: issue retrieving follow lists for this account -- Skipping.\n",
      "1110411632\n",
      "1101107792\n",
      "Exception: issue retrieving follow lists for this account -- Skipping.\n",
      "1072887529\n",
      "533147517\n",
      "599142241\n",
      "Exception: issue retrieving follow lists for this account -- Skipping.\n",
      "1214629604\n",
      "552747956\n",
      "962240966\n",
      "1284606709\n",
      "Exception: issue retrieving follow lists for this account -- Skipping.\n",
      "1271307271\n"
     ]
    },
    {
     "name": "stderr",
     "output_type": "stream",
     "text": [
      "Rate limit exceeded. Sleeping for 892 seconds.\n"
     ]
    },
    {
     "name": "stdout",
     "output_type": "stream",
     "text": [
      "1164385680\n",
      "1277546521\n",
      "822941264\n",
      "742327213\n",
      "Exception: issue retrieving follow lists for this account -- Skipping.\n",
      "1138270506\n",
      "1261325473\n",
      "Exception: issue retrieving follow lists for this account -- Skipping.\n",
      "256910368\n",
      "238996673\n",
      "571454258\n",
      "Exception: issue retrieving follow lists for this account -- Skipping.\n",
      "1224094183\n",
      "527954385\n",
      "810659552\n",
      "1097525468\n",
      "610806537\n",
      "487497022\n"
     ]
    },
    {
     "name": "stderr",
     "output_type": "stream",
     "text": [
      "Rate limit exceeded. Sleeping for 892 seconds.\n"
     ]
    },
    {
     "name": "stdout",
     "output_type": "stream",
     "text": [
      "1125083574\n",
      "1029879758\n",
      "1049565462\n",
      "Exception: issue retrieving follow lists for this account -- Skipping.\n",
      "1161944172\n",
      "1332271699\n",
      "1157301763\n",
      "1283464892\n",
      "1274091223\n",
      "1227165589\n",
      "1285502786\n",
      "1014948996\n",
      "1227208741\n",
      "996907770\n",
      "1280427151\n",
      "Exception: issue retrieving follow lists for this account -- Skipping.\n",
      "500177103\n"
     ]
    },
    {
     "name": "stderr",
     "output_type": "stream",
     "text": [
      "Rate limit exceeded. Sleeping for 891 seconds.\n"
     ]
    },
    {
     "name": "stdout",
     "output_type": "stream",
     "text": [
      "492965542\n",
      "405559974\n",
      "626444469\n",
      "507074786\n",
      "303010859\n",
      "138394520\n",
      "607952965\n",
      "459869044\n",
      "Exception: issue retrieving follow lists for this account -- Skipping.\n",
      "479373057\n",
      "423421911\n",
      "613352696\n",
      "Exception: issue retrieving follow lists for this account -- Skipping.\n",
      "559165258\n",
      "563470402\n",
      "Exception: issue retrieving follow lists for this account -- Skipping.\n",
      "1051414111\n",
      "973653632\n"
     ]
    },
    {
     "name": "stderr",
     "output_type": "stream",
     "text": [
      "Rate limit exceeded. Sleeping for 890 seconds.\n"
     ]
    },
    {
     "name": "stdout",
     "output_type": "stream",
     "text": [
      "908409630\n",
      "903702948\n",
      "597375910\n",
      "919766822\n",
      "88586635\n",
      "988946917\n",
      "942493273\n",
      "1137198097\n",
      "713493006\n",
      "Exception: issue retrieving follow lists for this account -- Skipping.\n",
      "1113952987\n",
      "861579667\n",
      "1142570898\n",
      "Exception: issue retrieving follow lists for this account -- Skipping.\n",
      "1105569870\n",
      "1122183108\n",
      "1145572100\n"
     ]
    },
    {
     "name": "stderr",
     "output_type": "stream",
     "text": [
      "Rate limit exceeded. Sleeping for 892 seconds.\n"
     ]
    },
    {
     "name": "stdout",
     "output_type": "stream",
     "text": [
      "839464350\n",
      "Exception: issue retrieving follow lists for this account -- Skipping.\n",
      "975735276\n",
      "980486570\n",
      "998708534\n",
      "719840791\n",
      "Exception: issue retrieving follow lists for this account -- Skipping.\n",
      "526476291\n",
      "1144929733\n",
      "1233888211\n",
      "598372671\n",
      "Exception: issue retrieving follow lists for this account -- Skipping.\n",
      "259292880\n",
      "Exception: issue retrieving follow lists for this account -- Skipping.\n",
      "1184317639\n",
      "1172022836\n",
      "547572687\n",
      "Exception: issue retrieving follow lists for this account -- Skipping.\n",
      "1063050978\n",
      "Exception: issue retrieving follow lists for this account -- Skipping.\n",
      "1156616664\n"
     ]
    },
    {
     "name": "stderr",
     "output_type": "stream",
     "text": [
      "Rate limit exceeded. Sleeping for 893 seconds.\n"
     ]
    },
    {
     "name": "stdout",
     "output_type": "stream",
     "text": [
      "Exception: issue retrieving follow lists for this account -- Skipping.\n",
      "314586706\n",
      "1050475604\n",
      "Exception: issue retrieving follow lists for this account -- Skipping.\n",
      "542118115\n",
      "957554778\n",
      "839636480\n",
      "473698995\n",
      "948893208\n",
      "Exception: issue retrieving follow lists for this account -- Skipping.\n",
      "720355268\n",
      "1033187574\n",
      "214335912\n",
      "1021766838\n",
      "740273408\n",
      "371600240\n",
      "Exception: issue retrieving follow lists for this account -- Skipping.\n",
      "599655407\n"
     ]
    },
    {
     "name": "stderr",
     "output_type": "stream",
     "text": [
      "Rate limit exceeded. Sleeping for 892 seconds.\n"
     ]
    },
    {
     "name": "stdout",
     "output_type": "stream",
     "text": [
      "956558448\n",
      "Exception: issue retrieving follow lists for this account -- Skipping.\n",
      "1133444594\n",
      "1049995975\n",
      "946186490\n",
      "460246311\n",
      "925320457\n",
      "Exception: issue retrieving follow lists for this account -- Skipping.\n",
      "945094808\n",
      "916629110\n",
      "Exception: issue retrieving follow lists for this account -- Skipping.\n",
      "543253700\n",
      "261565016\n",
      "626132135\n",
      "955155073\n",
      "1142618576\n",
      "633448647\n",
      "722213274\n",
      "713839002\n"
     ]
    },
    {
     "name": "stderr",
     "output_type": "stream",
     "text": [
      "Rate limit exceeded. Sleeping for 887 seconds.\n"
     ]
    },
    {
     "name": "stdout",
     "output_type": "stream",
     "text": [
      "566328849\n",
      "629189983\n",
      "260822680\n",
      "Exception: issue retrieving follow lists for this account -- Skipping.\n",
      "910501963\n",
      "430755026\n",
      "255863161\n",
      "793270646\n",
      "1060684663\n",
      "1235390766\n",
      "1110321194\n",
      "1093572505\n",
      "1093719188\n",
      "1062417236\n",
      "897059210\n",
      "622887640\n"
     ]
    },
    {
     "name": "stderr",
     "output_type": "stream",
     "text": [
      "Rate limit exceeded. Sleeping for 890 seconds.\n"
     ]
    },
    {
     "name": "stdout",
     "output_type": "stream",
     "text": [
      "1268911825\n",
      "734182620\n",
      "937829078\n",
      "831972636\n",
      "1284665186\n",
      "1124277714\n",
      "575348940\n",
      "598313697\n",
      "1261997282\n",
      "1271804912\n",
      "1331463799\n",
      "1064620854\n",
      "600669503\n",
      "1070304253\n",
      "857954941\n"
     ]
    },
    {
     "name": "stderr",
     "output_type": "stream",
     "text": [
      "Rate limit exceeded. Sleeping for 890 seconds.\n"
     ]
    },
    {
     "name": "stdout",
     "output_type": "stream",
     "text": [
      "Exception: issue retrieving follow lists for this account -- Skipping.\n",
      "609680092\n",
      "630301891\n",
      "927123109\n",
      "798488556\n",
      "229826778\n",
      "1121831816\n",
      "232809542\n",
      "1151245891\n",
      "782527088\n",
      "1028016600\n",
      "Exception: issue retrieving follow lists for this account -- Skipping.\n",
      "542475147\n",
      "536386003\n",
      "548407682\n",
      "1077800851\n",
      "1080150043\n"
     ]
    },
    {
     "name": "stderr",
     "output_type": "stream",
     "text": [
      "Rate limit exceeded. Sleeping for 891 seconds.\n"
     ]
    },
    {
     "name": "stdout",
     "output_type": "stream",
     "text": [
      "1068500744\n",
      "Exception: issue retrieving follow lists for this account -- Skipping.\n",
      "969936043\n",
      "862666434\n",
      "1062418274\n",
      "1114308608\n",
      "1089402192\n",
      "879440822\n",
      "Exception: issue retrieving follow lists for this account -- Skipping.\n",
      "1105655646\n",
      "854763534\n",
      "1060495969\n",
      "740205230\n",
      "497823336\n",
      "922958324\n",
      "1046725939\n",
      "1010707632\n"
     ]
    },
    {
     "name": "stderr",
     "output_type": "stream",
     "text": [
      "Rate limit exceeded. Sleeping for 890 seconds.\n"
     ]
    },
    {
     "name": "stdout",
     "output_type": "stream",
     "text": [
      "702112770\n",
      "1085648400\n",
      "Exception: issue retrieving follow lists for this account -- Skipping.\n",
      "624155671\n",
      "892138602\n",
      "Exception: issue retrieving follow lists for this account -- Skipping.\n",
      "1264000206\n",
      "\n",
      "Current Number of edges from starting node 1\n",
      "Num unvisited neighbors: 27\n",
      "--------------------\n",
      "Starting node == 1524730152\n",
      "Exception: issue retrieving follow lists for this account -- Skipping.\n",
      "\n",
      "Current Number of edges from starting node 0\n",
      "Num unvisited neighbors: 0\n",
      "--------------------\n"
     ]
    },
    {
     "data": {
      "application/vnd.jupyter.widget-view+json": {
       "model_id": "17da0d4ba52e4deeb739a022865e1dbe",
       "version_major": 2,
       "version_minor": 0
      },
      "text/plain": [
       "0it [00:00, ?it/s]"
      ]
     },
     "metadata": {},
     "output_type": "display_data"
    },
    {
     "name": "stdout",
     "output_type": "stream",
     "text": [
      "\n",
      "Current Number of edges from starting node 1\n",
      "Num unvisited neighbors: 0\n",
      "--------------------\n",
      "Starting node == 1567185626\n",
      "\n",
      "Current Number of edges from starting node 0\n",
      "Num unvisited neighbors: 739\n",
      "--------------------\n"
     ]
    },
    {
     "data": {
      "application/vnd.jupyter.widget-view+json": {
       "model_id": "51b96210e61847b3b8a7d5ea0368c003",
       "version_major": 2,
       "version_minor": 0
      },
      "text/plain": [
       "  0%|          | 0/739 [00:00<?, ?it/s]"
      ]
     },
     "metadata": {},
     "output_type": "display_data"
    },
    {
     "name": "stdout",
     "output_type": "stream",
     "text": [
      "773168775407341570\n",
      "Exception: issue retrieving follow lists for this account -- Skipping.\n",
      "716959681030139904\n",
      "1156276326682120193\n",
      "90823705\n",
      "1376106881433800705\n",
      "1414239877051289605\n",
      "309547500\n",
      "1355079904014946307\n",
      "1359360760388800515\n",
      "721164661534515200\n",
      "107120896\n",
      "1161187506991198210\n",
      "1277196752089518081\n"
     ]
    },
    {
     "name": "stderr",
     "output_type": "stream",
     "text": [
      "Rate limit exceeded. Sleeping for 891 seconds.\n"
     ]
    },
    {
     "name": "stdout",
     "output_type": "stream",
     "text": [
      "822366260155404288\n",
      "1246773786692579328\n",
      "882990031295492096\n",
      "1081573212582887424\n",
      "1316844980\n",
      "1082513503498395649\n",
      "1235500970945081344\n",
      "3392056279\n",
      "1219787325560897536\n",
      "631534601\n",
      "71687841\n",
      "970294540673286145\n",
      "1075799778271756288\n",
      "1183970484943126528\n",
      "824081837886582784\n"
     ]
    },
    {
     "name": "stderr",
     "output_type": "stream",
     "text": [
      "Rate limit exceeded. Sleeping for 889 seconds.\n"
     ]
    },
    {
     "name": "stdout",
     "output_type": "stream",
     "text": [
      "133657734\n",
      "1102534073342259200\n",
      "506006017\n",
      "218721401\n",
      "910281138614054912\n",
      "2849637379\n",
      "1100168704308928512\n",
      "1050711218078408705\n",
      "80852390\n",
      "Exception: issue retrieving follow lists for this account -- Skipping.\n",
      "3153115513\n",
      "1051709500300775426\n",
      "1020274003645292544\n",
      "2718471852\n",
      "879742454\n",
      "2388880554\n"
     ]
    },
    {
     "name": "stderr",
     "output_type": "stream",
     "text": [
      "Rate limit exceeded. Sleeping for 892 seconds.\n"
     ]
    },
    {
     "name": "stdout",
     "output_type": "stream",
     "text": [
      "856042647235907584\n",
      "399500471\n",
      "4856631739\n",
      "1037549151481819136\n",
      "770885106072326144\n",
      "2880957571\n",
      "101204889\n",
      "Exception: issue retrieving follow lists for this account -- Skipping.\n",
      "1011738014928678912\n",
      "766241513340866560\n",
      "1949233838\n",
      "947878417839489025\n",
      "950706728701603840\n",
      "1176183578\n",
      "818073297015316480\n",
      "814123895645011968\n"
     ]
    },
    {
     "name": "stderr",
     "output_type": "stream",
     "text": [
      "Rate limit exceeded. Sleeping for 893 seconds.\n"
     ]
    },
    {
     "name": "stdout",
     "output_type": "stream",
     "text": [
      "834055790742761473\n",
      "919485843273760768\n",
      "205664574\n",
      "901636845154426880\n",
      "Exception: issue retrieving follow lists for this account -- Skipping.\n",
      "85575319\n",
      "Exception: issue retrieving follow lists for this account -- Skipping.\n",
      "933878526410874881\n",
      "2609362778\n",
      "4773655693\n",
      "837847148066549760\n",
      "3233302230\n",
      "3270082045\n",
      "3303149850\n",
      "4236615012\n",
      "Exception: issue retrieving follow lists for this account -- Skipping.\n",
      "801979356574728192\n",
      "2861956561\n",
      "835542134325297152\n"
     ]
    },
    {
     "name": "stderr",
     "output_type": "stream",
     "text": [
      "Rate limit exceeded. Sleeping for 892 seconds.\n"
     ]
    },
    {
     "name": "stdout",
     "output_type": "stream",
     "text": [
      "807728831645630464\n",
      "813144664568012801\n",
      "1063181004\n",
      "14099567\n",
      "889577513898221569\n",
      "Exception: issue retrieving follow lists for this account -- Skipping.\n",
      "812942829357907969\n",
      "812451699134636032\n",
      "2440440878\n",
      "Exception: issue retrieving follow lists for this account -- Skipping.\n",
      "867674137430441984\n",
      "746261948749094912\n",
      "744879011742916608\n",
      "2995156597\n",
      "2229816162\n",
      "3250395966\n"
     ]
    },
    {
     "name": "stderr",
     "output_type": "stream",
     "text": [
      "Rate limit exceeded. Sleeping for 891 seconds.\n"
     ]
    },
    {
     "name": "stdout",
     "output_type": "stream",
     "text": [
      "726904787506106368\n",
      "72849481\n",
      "853823727116537856\n",
      "3024783704\n",
      "2961652010\n",
      "1870123184\n",
      "840554798025863168\n",
      "836934956890759168\n",
      "2839643058\n",
      "805373859926982656\n",
      "708857490440491008\n",
      "3301356485\n",
      "847664010216456194\n",
      "708205968182497280\n",
      "846705819005566977\n"
     ]
    },
    {
     "name": "stderr",
     "output_type": "stream",
     "text": [
      "Rate limit exceeded. Sleeping for 893 seconds.\n"
     ]
    },
    {
     "name": "stdout",
     "output_type": "stream",
     "text": [
      "798482744460218368\n",
      "1659616850\n",
      "810458988945018881\n",
      "843849430243586048\n",
      "1520874662\n",
      "832575231701110784\n",
      "721487565178535936\n",
      "707579965731045376\n",
      "232232329\n",
      "Exception: issue retrieving follow lists for this account -- Skipping.\n",
      "4729172972\n",
      "226580340\n",
      "3156378487\n",
      "3093352969\n",
      "818243805405016065\n",
      "4655760133\n"
     ]
    },
    {
     "name": "stderr",
     "output_type": "stream",
     "text": [
      "Rate limit exceeded. Sleeping for 893 seconds.\n"
     ]
    },
    {
     "name": "stdout",
     "output_type": "stream",
     "text": [
      "615852872\n",
      "4808399778\n",
      "738937370502799361\n",
      "764715991414693888\n",
      "2231437394\n",
      "Exception: issue retrieving follow lists for this account -- Skipping.\n",
      "4025274498\n",
      "Exception: issue retrieving follow lists for this account -- Skipping.\n",
      "703177313827971073\n",
      "109252714\n",
      "809709632016875521\n",
      "Exception: issue retrieving follow lists for this account -- Skipping.\n",
      "608872224\n",
      "2223228480\n",
      "781385550905290752\n",
      "3903316100\n",
      "2880574326\n",
      "Exception: issue retrieving follow lists for this account -- Skipping.\n",
      "2976992310\n"
     ]
    },
    {
     "name": "stderr",
     "output_type": "stream",
     "text": [
      "Rate limit exceeded. Sleeping for 894 seconds.\n"
     ]
    },
    {
     "name": "stdout",
     "output_type": "stream",
     "text": [
      "3247589749\n",
      "798457224846655488\n",
      "763791240533991424\n",
      "3240713101\n",
      "4721288461\n",
      "126031677\n",
      "Exception: issue retrieving follow lists for this account -- Skipping.\n",
      "760012018875195392\n",
      "Exception: issue retrieving follow lists for this account -- Skipping.\n",
      "778376895377186816\n",
      "3185091716\n",
      "Exception: issue retrieving follow lists for this account -- Skipping.\n",
      "774968583520522242\n",
      "798412914726227968\n",
      "2656864525\n",
      "1092152496\n",
      "3152516060\n",
      "708793413001302017\n"
     ]
    },
    {
     "name": "stderr",
     "output_type": "stream",
     "text": [
      "Rate limit exceeded. Sleeping for 893 seconds.\n"
     ]
    },
    {
     "name": "stdout",
     "output_type": "stream",
     "text": [
      "792215392189943808\n",
      "4471170318\n",
      "723808406897741827\n",
      "752500374993375232\n",
      "781194247647047680\n",
      "3119811702\n",
      "2882213108\n",
      "3073144045\n",
      "1624512997\n",
      "2565346695\n",
      "750608139666411520\n",
      "3174881383\n",
      "757968174176350208\n",
      "753942191395844101\n",
      "3698094019\n",
      "162375853\n"
     ]
    },
    {
     "name": "stderr",
     "output_type": "stream",
     "text": [
      "Rate limit exceeded. Sleeping for 893 seconds.\n"
     ]
    },
    {
     "name": "stdout",
     "output_type": "stream",
     "text": [
      "1029520724\n",
      "162720823\n",
      "Exception: issue retrieving follow lists for this account -- Skipping.\n",
      "2833625014\n",
      "1680165979\n",
      "Exception: issue retrieving follow lists for this account -- Skipping.\n",
      "3271886779\n",
      "742777584061059072\n",
      "738661133284823040\n",
      "3041850564\n",
      "Exception: issue retrieving follow lists for this account -- Skipping.\n",
      "3114650462\n",
      "Exception: issue retrieving follow lists for this account -- Skipping.\n",
      "710049499285065729\n",
      "1832922774\n",
      "731024199163109376\n",
      "3312120157\n",
      "2917975010\n"
     ]
    },
    {
     "name": "stderr",
     "output_type": "stream",
     "text": [
      "Rate limit exceeded. Sleeping for 894 seconds.\n"
     ]
    },
    {
     "name": "stdout",
     "output_type": "stream",
     "text": [
      "2870484986\n",
      "709916158686658562\n",
      "3232577844\n",
      "Exception: issue retrieving follow lists for this account -- Skipping.\n",
      "344782559\n",
      "4272058396\n",
      "2399866784\n",
      "701710690336124929\n",
      "3069064843\n",
      "4188200905\n",
      "114100709\n",
      "4795833296\n",
      "2854391989\n",
      "3089924160\n",
      "Exception: issue retrieving follow lists for this account -- Skipping.\n",
      "4924277112\n",
      "3053096142\n"
     ]
    },
    {
     "name": "stderr",
     "output_type": "stream",
     "text": [
      "Rate limit exceeded. Sleeping for 893 seconds.\n"
     ]
    },
    {
     "name": "stdout",
     "output_type": "stream",
     "text": [
      "4631475192\n",
      "4575481518\n",
      "Exception: issue retrieving follow lists for this account -- Skipping.\n",
      "3411870494\n",
      "4438683320\n",
      "3213212585\n",
      "2965577268\n",
      "Exception: issue retrieving follow lists for this account -- Skipping.\n",
      "3959643373\n",
      "2871067404\n",
      "3182781194\n",
      "2944001538\n",
      "3317217374\n",
      "3530276714\n",
      "2845904352\n",
      "162608379\n",
      "Exception: issue retrieving follow lists for this account -- Skipping.\n",
      "3230043739\n"
     ]
    },
    {
     "name": "stderr",
     "output_type": "stream",
     "text": [
      "Rate limit exceeded. Sleeping for 894 seconds.\n"
     ]
    },
    {
     "name": "stdout",
     "output_type": "stream",
     "text": [
      "3321266370\n",
      "Exception: issue retrieving follow lists for this account -- Skipping.\n",
      "3704520493\n",
      "Exception: issue retrieving follow lists for this account -- Skipping.\n",
      "2809200115\n",
      "3064940240\n",
      "Exception: issue retrieving follow lists for this account -- Skipping.\n",
      "3646937232\n",
      "2967839322\n",
      "2839799870\n",
      "3016669073\n",
      "2243525378\n",
      "3380244080\n",
      "3329032832\n",
      "3317887141\n",
      "3074605352\n",
      "749245093\n",
      "3294378829\n"
     ]
    },
    {
     "name": "stderr",
     "output_type": "stream",
     "text": [
      "Rate limit exceeded. Sleeping for 894 seconds.\n"
     ]
    },
    {
     "name": "stdout",
     "output_type": "stream",
     "text": [
      "3175456896\n",
      "3280469047\n",
      "119163700\n",
      "2928412350\n",
      "3052689812\n",
      "630306051\n",
      "2500717579\n",
      "3249763842\n",
      "3244218553\n",
      "3268284643\n",
      "Exception: issue retrieving follow lists for this account -- Skipping.\n",
      "3266543630\n",
      "2606715734\n",
      "3233464028\n",
      "317616021\n"
     ]
    },
    {
     "name": "stderr",
     "output_type": "stream",
     "text": [
      "Rate limit exceeded. Sleeping for 893 seconds.\n"
     ]
    },
    {
     "name": "stdout",
     "output_type": "stream",
     "text": [
      "2898214586\n",
      "Exception: issue retrieving follow lists for this account -- Skipping.\n",
      "2763455772\n",
      "2749636463\n",
      "2592488731\n",
      "Exception: issue retrieving follow lists for this account -- Skipping.\n",
      "3186172208\n",
      "Exception: issue retrieving follow lists for this account -- Skipping.\n",
      "394962193\n",
      "3011291228\n",
      "3221918834\n",
      "2580456169\n",
      "3007747609\n",
      "2909944740\n",
      "2927663840\n",
      "125934176\n",
      "3212942939\n",
      "135721564\n",
      "134798014\n"
     ]
    },
    {
     "name": "stderr",
     "output_type": "stream",
     "text": [
      "Rate limit exceeded. Sleeping for 894 seconds.\n"
     ]
    },
    {
     "name": "stdout",
     "output_type": "stream",
     "text": [
      "3080858821\n",
      "2904649446\n",
      "710025354\n",
      "1298878470\n",
      "292849372\n",
      "3099890226\n",
      "3125879730\n",
      "2896213410\n",
      "3094289730\n",
      "3009039589\n",
      "228937730\n",
      "3055418047\n",
      "3030436582\n",
      "3098378761\n",
      "2177396050\n"
     ]
    },
    {
     "name": "stderr",
     "output_type": "stream",
     "text": [
      "Rate limit exceeded. Sleeping for 893 seconds.\n"
     ]
    },
    {
     "name": "stdout",
     "output_type": "stream",
     "text": [
      "2928547556\n",
      "3062505469\n",
      "3061643779\n",
      "3048839713\n",
      "3010254842\n",
      "2664701484\n",
      "2885341374\n",
      "2841493465\n",
      "Exception: issue retrieving follow lists for this account -- Skipping.\n",
      "2716931066\n",
      "2630410084\n",
      "3017200634\n",
      "1459788780\n",
      "2846327016\n",
      "3010347684\n",
      "Exception: issue retrieving follow lists for this account -- Skipping.\n",
      "2969814846\n"
     ]
    },
    {
     "name": "stderr",
     "output_type": "stream",
     "text": [
      "Rate limit exceeded. Sleeping for 894 seconds.\n"
     ]
    },
    {
     "name": "stdout",
     "output_type": "stream",
     "text": [
      "2900925415\n",
      "2760669924\n",
      "2700525824\n",
      "2440853736\n",
      "2856870752\n",
      "1427570526\n",
      "2779666866\n",
      "3008986116\n",
      "3004260241\n",
      "2943478908\n",
      "2999253758\n",
      "2887650841\n",
      "2854133994\n",
      "2988525311\n",
      "Exception: issue retrieving follow lists for this account -- Skipping.\n",
      "2966409656\n",
      "Exception: issue retrieving follow lists for this account -- Skipping.\n",
      "2202365430\n"
     ]
    },
    {
     "name": "stderr",
     "output_type": "stream",
     "text": [
      "Rate limit exceeded. Sleeping for 892 seconds.\n"
     ]
    },
    {
     "name": "stdout",
     "output_type": "stream",
     "text": [
      "2957359794\n",
      "2428243694\n",
      "2949781388\n",
      "1453705112\n",
      "2953794632\n",
      "2791510965\n",
      "2901762115\n",
      "2795956658\n",
      "Exception: issue retrieving follow lists for this account -- Skipping.\n",
      "2658995894\n",
      "2303271072\n",
      "2935583340\n",
      "2910454333\n",
      "2596424707\n",
      "1955402964\n"
     ]
    },
    {
     "name": "stderr",
     "output_type": "stream",
     "text": [
      "Rate limit exceeded. Sleeping for 893 seconds.\n"
     ]
    },
    {
     "name": "stdout",
     "output_type": "stream",
     "text": [
      "2864402166\n",
      "2616990336\n",
      "2279326368\n",
      "2582636251\n",
      "2516520235\n",
      "2918424656\n",
      "2850259326\n",
      "2915577812\n",
      "Exception: issue retrieving follow lists for this account -- Skipping.\n",
      "2913407120\n",
      "Exception: issue retrieving follow lists for this account -- Skipping.\n",
      "2725952281\n",
      "826797900\n",
      "1677622988\n",
      "1566954150\n",
      "1013244434\n",
      "2806982864\n"
     ]
    },
    {
     "name": "stderr",
     "output_type": "stream",
     "text": [
      "Rate limit exceeded. Sleeping for 892 seconds.\n"
     ]
    },
    {
     "name": "stdout",
     "output_type": "stream",
     "text": [
      "2905050283\n",
      "2853061662\n",
      "2501458801\n",
      "2432933340\n",
      "2885220101\n",
      "2609572854\n",
      "2543394024\n",
      "2678475668\n",
      "2895808668\n",
      "2884364394\n",
      "2431847953\n",
      "2782610455\n",
      "2887116732\n",
      "2891379150\n",
      "2836540543\n"
     ]
    },
    {
     "name": "stderr",
     "output_type": "stream",
     "text": [
      "Rate limit exceeded. Sleeping for 892 seconds.\n"
     ]
    },
    {
     "name": "stdout",
     "output_type": "stream",
     "text": [
      "1462161996\n",
      "2804547912\n",
      "2881412520\n"
     ]
    },
    {
     "ename": "ReadTimeout",
     "evalue": "HTTPSConnectionPool(host='api.twitter.com', port=443): Read timed out. (read timeout=None)",
     "output_type": "error",
     "traceback": [
      "\u001b[0;31m---------------------------------------------------------------------------\u001b[0m",
      "\u001b[0;31mTimeoutError\u001b[0m                              Traceback (most recent call last)",
      "\u001b[0;32m~/anaconda3/lib/python3.8/site-packages/urllib3/connectionpool.py\u001b[0m in \u001b[0;36m_make_request\u001b[0;34m(self, conn, method, url, timeout, chunked, **httplib_request_kw)\u001b[0m\n\u001b[1;32m    444\u001b[0m                     \u001b[0;31m# Otherwise it looks like a bug in the code.\u001b[0m\u001b[0;34m\u001b[0m\u001b[0;34m\u001b[0m\u001b[0;34m\u001b[0m\u001b[0m\n\u001b[0;32m--> 445\u001b[0;31m                     \u001b[0msix\u001b[0m\u001b[0;34m.\u001b[0m\u001b[0mraise_from\u001b[0m\u001b[0;34m(\u001b[0m\u001b[0me\u001b[0m\u001b[0;34m,\u001b[0m \u001b[0;32mNone\u001b[0m\u001b[0;34m)\u001b[0m\u001b[0;34m\u001b[0m\u001b[0;34m\u001b[0m\u001b[0m\n\u001b[0m\u001b[1;32m    446\u001b[0m         \u001b[0;32mexcept\u001b[0m \u001b[0;34m(\u001b[0m\u001b[0mSocketTimeout\u001b[0m\u001b[0;34m,\u001b[0m \u001b[0mBaseSSLError\u001b[0m\u001b[0;34m,\u001b[0m \u001b[0mSocketError\u001b[0m\u001b[0;34m)\u001b[0m \u001b[0;32mas\u001b[0m \u001b[0me\u001b[0m\u001b[0;34m:\u001b[0m\u001b[0;34m\u001b[0m\u001b[0;34m\u001b[0m\u001b[0m\n",
      "\u001b[0;32m~/anaconda3/lib/python3.8/site-packages/urllib3/packages/six.py\u001b[0m in \u001b[0;36mraise_from\u001b[0;34m(value, from_value)\u001b[0m\n",
      "\u001b[0;32m~/anaconda3/lib/python3.8/site-packages/urllib3/connectionpool.py\u001b[0m in \u001b[0;36m_make_request\u001b[0;34m(self, conn, method, url, timeout, chunked, **httplib_request_kw)\u001b[0m\n\u001b[1;32m    439\u001b[0m                 \u001b[0;32mtry\u001b[0m\u001b[0;34m:\u001b[0m\u001b[0;34m\u001b[0m\u001b[0;34m\u001b[0m\u001b[0m\n\u001b[0;32m--> 440\u001b[0;31m                     \u001b[0mhttplib_response\u001b[0m \u001b[0;34m=\u001b[0m \u001b[0mconn\u001b[0m\u001b[0;34m.\u001b[0m\u001b[0mgetresponse\u001b[0m\u001b[0;34m(\u001b[0m\u001b[0;34m)\u001b[0m\u001b[0;34m\u001b[0m\u001b[0;34m\u001b[0m\u001b[0m\n\u001b[0m\u001b[1;32m    441\u001b[0m                 \u001b[0;32mexcept\u001b[0m \u001b[0mBaseException\u001b[0m \u001b[0;32mas\u001b[0m \u001b[0me\u001b[0m\u001b[0;34m:\u001b[0m\u001b[0;34m\u001b[0m\u001b[0;34m\u001b[0m\u001b[0m\n",
      "\u001b[0;32m~/anaconda3/lib/python3.8/http/client.py\u001b[0m in \u001b[0;36mgetresponse\u001b[0;34m(self)\u001b[0m\n\u001b[1;32m   1321\u001b[0m             \u001b[0;32mtry\u001b[0m\u001b[0;34m:\u001b[0m\u001b[0;34m\u001b[0m\u001b[0;34m\u001b[0m\u001b[0m\n\u001b[0;32m-> 1322\u001b[0;31m                 \u001b[0mresponse\u001b[0m\u001b[0;34m.\u001b[0m\u001b[0mbegin\u001b[0m\u001b[0;34m(\u001b[0m\u001b[0;34m)\u001b[0m\u001b[0;34m\u001b[0m\u001b[0;34m\u001b[0m\u001b[0m\n\u001b[0m\u001b[1;32m   1323\u001b[0m             \u001b[0;32mexcept\u001b[0m \u001b[0mConnectionError\u001b[0m\u001b[0;34m:\u001b[0m\u001b[0;34m\u001b[0m\u001b[0;34m\u001b[0m\u001b[0m\n",
      "\u001b[0;32m~/anaconda3/lib/python3.8/http/client.py\u001b[0m in \u001b[0;36mbegin\u001b[0;34m(self)\u001b[0m\n\u001b[1;32m    302\u001b[0m         \u001b[0;32mwhile\u001b[0m \u001b[0;32mTrue\u001b[0m\u001b[0;34m:\u001b[0m\u001b[0;34m\u001b[0m\u001b[0;34m\u001b[0m\u001b[0m\n\u001b[0;32m--> 303\u001b[0;31m             \u001b[0mversion\u001b[0m\u001b[0;34m,\u001b[0m \u001b[0mstatus\u001b[0m\u001b[0;34m,\u001b[0m \u001b[0mreason\u001b[0m \u001b[0;34m=\u001b[0m \u001b[0mself\u001b[0m\u001b[0;34m.\u001b[0m\u001b[0m_read_status\u001b[0m\u001b[0;34m(\u001b[0m\u001b[0;34m)\u001b[0m\u001b[0;34m\u001b[0m\u001b[0;34m\u001b[0m\u001b[0m\n\u001b[0m\u001b[1;32m    304\u001b[0m             \u001b[0;32mif\u001b[0m \u001b[0mstatus\u001b[0m \u001b[0;34m!=\u001b[0m \u001b[0mCONTINUE\u001b[0m\u001b[0;34m:\u001b[0m\u001b[0;34m\u001b[0m\u001b[0;34m\u001b[0m\u001b[0m\n",
      "\u001b[0;32m~/anaconda3/lib/python3.8/http/client.py\u001b[0m in \u001b[0;36m_read_status\u001b[0;34m(self)\u001b[0m\n\u001b[1;32m    263\u001b[0m     \u001b[0;32mdef\u001b[0m \u001b[0m_read_status\u001b[0m\u001b[0;34m(\u001b[0m\u001b[0mself\u001b[0m\u001b[0;34m)\u001b[0m\u001b[0;34m:\u001b[0m\u001b[0;34m\u001b[0m\u001b[0;34m\u001b[0m\u001b[0m\n\u001b[0;32m--> 264\u001b[0;31m         \u001b[0mline\u001b[0m \u001b[0;34m=\u001b[0m \u001b[0mstr\u001b[0m\u001b[0;34m(\u001b[0m\u001b[0mself\u001b[0m\u001b[0;34m.\u001b[0m\u001b[0mfp\u001b[0m\u001b[0;34m.\u001b[0m\u001b[0mreadline\u001b[0m\u001b[0;34m(\u001b[0m\u001b[0m_MAXLINE\u001b[0m \u001b[0;34m+\u001b[0m \u001b[0;36m1\u001b[0m\u001b[0;34m)\u001b[0m\u001b[0;34m,\u001b[0m \u001b[0;34m\"iso-8859-1\"\u001b[0m\u001b[0;34m)\u001b[0m\u001b[0;34m\u001b[0m\u001b[0;34m\u001b[0m\u001b[0m\n\u001b[0m\u001b[1;32m    265\u001b[0m         \u001b[0;32mif\u001b[0m \u001b[0mlen\u001b[0m\u001b[0;34m(\u001b[0m\u001b[0mline\u001b[0m\u001b[0;34m)\u001b[0m \u001b[0;34m>\u001b[0m \u001b[0m_MAXLINE\u001b[0m\u001b[0;34m:\u001b[0m\u001b[0;34m\u001b[0m\u001b[0;34m\u001b[0m\u001b[0m\n",
      "\u001b[0;32m~/anaconda3/lib/python3.8/socket.py\u001b[0m in \u001b[0;36mreadinto\u001b[0;34m(self, b)\u001b[0m\n\u001b[1;32m    668\u001b[0m             \u001b[0;32mtry\u001b[0m\u001b[0;34m:\u001b[0m\u001b[0;34m\u001b[0m\u001b[0;34m\u001b[0m\u001b[0m\n\u001b[0;32m--> 669\u001b[0;31m                 \u001b[0;32mreturn\u001b[0m \u001b[0mself\u001b[0m\u001b[0;34m.\u001b[0m\u001b[0m_sock\u001b[0m\u001b[0;34m.\u001b[0m\u001b[0mrecv_into\u001b[0m\u001b[0;34m(\u001b[0m\u001b[0mb\u001b[0m\u001b[0;34m)\u001b[0m\u001b[0;34m\u001b[0m\u001b[0;34m\u001b[0m\u001b[0m\n\u001b[0m\u001b[1;32m    670\u001b[0m             \u001b[0;32mexcept\u001b[0m \u001b[0mtimeout\u001b[0m\u001b[0;34m:\u001b[0m\u001b[0;34m\u001b[0m\u001b[0;34m\u001b[0m\u001b[0m\n",
      "\u001b[0;32m~/anaconda3/lib/python3.8/ssl.py\u001b[0m in \u001b[0;36mrecv_into\u001b[0;34m(self, buffer, nbytes, flags)\u001b[0m\n\u001b[1;32m   1240\u001b[0m                   self.__class__)\n\u001b[0;32m-> 1241\u001b[0;31m             \u001b[0;32mreturn\u001b[0m \u001b[0mself\u001b[0m\u001b[0;34m.\u001b[0m\u001b[0mread\u001b[0m\u001b[0;34m(\u001b[0m\u001b[0mnbytes\u001b[0m\u001b[0;34m,\u001b[0m \u001b[0mbuffer\u001b[0m\u001b[0;34m)\u001b[0m\u001b[0;34m\u001b[0m\u001b[0;34m\u001b[0m\u001b[0m\n\u001b[0m\u001b[1;32m   1242\u001b[0m         \u001b[0;32melse\u001b[0m\u001b[0;34m:\u001b[0m\u001b[0;34m\u001b[0m\u001b[0;34m\u001b[0m\u001b[0m\n",
      "\u001b[0;32m~/anaconda3/lib/python3.8/ssl.py\u001b[0m in \u001b[0;36mread\u001b[0;34m(self, len, buffer)\u001b[0m\n\u001b[1;32m   1098\u001b[0m             \u001b[0;32mif\u001b[0m \u001b[0mbuffer\u001b[0m \u001b[0;32mis\u001b[0m \u001b[0;32mnot\u001b[0m \u001b[0;32mNone\u001b[0m\u001b[0;34m:\u001b[0m\u001b[0;34m\u001b[0m\u001b[0;34m\u001b[0m\u001b[0m\n\u001b[0;32m-> 1099\u001b[0;31m                 \u001b[0;32mreturn\u001b[0m \u001b[0mself\u001b[0m\u001b[0;34m.\u001b[0m\u001b[0m_sslobj\u001b[0m\u001b[0;34m.\u001b[0m\u001b[0mread\u001b[0m\u001b[0;34m(\u001b[0m\u001b[0mlen\u001b[0m\u001b[0;34m,\u001b[0m \u001b[0mbuffer\u001b[0m\u001b[0;34m)\u001b[0m\u001b[0;34m\u001b[0m\u001b[0;34m\u001b[0m\u001b[0m\n\u001b[0m\u001b[1;32m   1100\u001b[0m             \u001b[0;32melse\u001b[0m\u001b[0;34m:\u001b[0m\u001b[0;34m\u001b[0m\u001b[0;34m\u001b[0m\u001b[0m\n",
      "\u001b[0;31mTimeoutError\u001b[0m: [Errno 60] Operation timed out",
      "\nDuring handling of the above exception, another exception occurred:\n",
      "\u001b[0;31mReadTimeoutError\u001b[0m                          Traceback (most recent call last)",
      "\u001b[0;32m~/anaconda3/lib/python3.8/site-packages/requests/adapters.py\u001b[0m in \u001b[0;36msend\u001b[0;34m(self, request, stream, timeout, verify, cert, proxies)\u001b[0m\n\u001b[1;32m    438\u001b[0m             \u001b[0;32mif\u001b[0m \u001b[0;32mnot\u001b[0m \u001b[0mchunked\u001b[0m\u001b[0;34m:\u001b[0m\u001b[0;34m\u001b[0m\u001b[0;34m\u001b[0m\u001b[0m\n\u001b[0;32m--> 439\u001b[0;31m                 resp = conn.urlopen(\n\u001b[0m\u001b[1;32m    440\u001b[0m                     \u001b[0mmethod\u001b[0m\u001b[0;34m=\u001b[0m\u001b[0mrequest\u001b[0m\u001b[0;34m.\u001b[0m\u001b[0mmethod\u001b[0m\u001b[0;34m,\u001b[0m\u001b[0;34m\u001b[0m\u001b[0;34m\u001b[0m\u001b[0m\n",
      "\u001b[0;32m~/anaconda3/lib/python3.8/site-packages/urllib3/connectionpool.py\u001b[0m in \u001b[0;36murlopen\u001b[0;34m(self, method, url, body, headers, retries, redirect, assert_same_host, timeout, pool_timeout, release_conn, chunked, body_pos, **response_kw)\u001b[0m\n\u001b[1;32m    754\u001b[0m \u001b[0;34m\u001b[0m\u001b[0m\n\u001b[0;32m--> 755\u001b[0;31m             retries = retries.increment(\n\u001b[0m\u001b[1;32m    756\u001b[0m                 \u001b[0mmethod\u001b[0m\u001b[0;34m,\u001b[0m \u001b[0murl\u001b[0m\u001b[0;34m,\u001b[0m \u001b[0merror\u001b[0m\u001b[0;34m=\u001b[0m\u001b[0me\u001b[0m\u001b[0;34m,\u001b[0m \u001b[0m_pool\u001b[0m\u001b[0;34m=\u001b[0m\u001b[0mself\u001b[0m\u001b[0;34m,\u001b[0m \u001b[0m_stacktrace\u001b[0m\u001b[0;34m=\u001b[0m\u001b[0msys\u001b[0m\u001b[0;34m.\u001b[0m\u001b[0mexc_info\u001b[0m\u001b[0;34m(\u001b[0m\u001b[0;34m)\u001b[0m\u001b[0;34m[\u001b[0m\u001b[0;36m2\u001b[0m\u001b[0;34m]\u001b[0m\u001b[0;34m\u001b[0m\u001b[0;34m\u001b[0m\u001b[0m\n",
      "\u001b[0;32m~/anaconda3/lib/python3.8/site-packages/urllib3/util/retry.py\u001b[0m in \u001b[0;36mincrement\u001b[0;34m(self, method, url, response, error, _pool, _stacktrace)\u001b[0m\n\u001b[1;32m    531\u001b[0m             \u001b[0;32mif\u001b[0m \u001b[0mread\u001b[0m \u001b[0;32mis\u001b[0m \u001b[0;32mFalse\u001b[0m \u001b[0;32mor\u001b[0m \u001b[0;32mnot\u001b[0m \u001b[0mself\u001b[0m\u001b[0;34m.\u001b[0m\u001b[0m_is_method_retryable\u001b[0m\u001b[0;34m(\u001b[0m\u001b[0mmethod\u001b[0m\u001b[0;34m)\u001b[0m\u001b[0;34m:\u001b[0m\u001b[0;34m\u001b[0m\u001b[0;34m\u001b[0m\u001b[0m\n\u001b[0;32m--> 532\u001b[0;31m                 \u001b[0;32mraise\u001b[0m \u001b[0msix\u001b[0m\u001b[0;34m.\u001b[0m\u001b[0mreraise\u001b[0m\u001b[0;34m(\u001b[0m\u001b[0mtype\u001b[0m\u001b[0;34m(\u001b[0m\u001b[0merror\u001b[0m\u001b[0;34m)\u001b[0m\u001b[0;34m,\u001b[0m \u001b[0merror\u001b[0m\u001b[0;34m,\u001b[0m \u001b[0m_stacktrace\u001b[0m\u001b[0;34m)\u001b[0m\u001b[0;34m\u001b[0m\u001b[0;34m\u001b[0m\u001b[0m\n\u001b[0m\u001b[1;32m    533\u001b[0m             \u001b[0;32melif\u001b[0m \u001b[0mread\u001b[0m \u001b[0;32mis\u001b[0m \u001b[0;32mnot\u001b[0m \u001b[0;32mNone\u001b[0m\u001b[0;34m:\u001b[0m\u001b[0;34m\u001b[0m\u001b[0;34m\u001b[0m\u001b[0m\n",
      "\u001b[0;32m~/anaconda3/lib/python3.8/site-packages/urllib3/packages/six.py\u001b[0m in \u001b[0;36mreraise\u001b[0;34m(tp, value, tb)\u001b[0m\n\u001b[1;32m    734\u001b[0m                 \u001b[0;32mraise\u001b[0m \u001b[0mvalue\u001b[0m\u001b[0;34m.\u001b[0m\u001b[0mwith_traceback\u001b[0m\u001b[0;34m(\u001b[0m\u001b[0mtb\u001b[0m\u001b[0;34m)\u001b[0m\u001b[0;34m\u001b[0m\u001b[0;34m\u001b[0m\u001b[0m\n\u001b[0;32m--> 735\u001b[0;31m             \u001b[0;32mraise\u001b[0m \u001b[0mvalue\u001b[0m\u001b[0;34m\u001b[0m\u001b[0;34m\u001b[0m\u001b[0m\n\u001b[0m\u001b[1;32m    736\u001b[0m         \u001b[0;32mfinally\u001b[0m\u001b[0;34m:\u001b[0m\u001b[0;34m\u001b[0m\u001b[0;34m\u001b[0m\u001b[0m\n",
      "\u001b[0;32m~/anaconda3/lib/python3.8/site-packages/urllib3/connectionpool.py\u001b[0m in \u001b[0;36murlopen\u001b[0;34m(self, method, url, body, headers, retries, redirect, assert_same_host, timeout, pool_timeout, release_conn, chunked, body_pos, **response_kw)\u001b[0m\n\u001b[1;32m    698\u001b[0m             \u001b[0;31m# Make the request on the httplib connection object.\u001b[0m\u001b[0;34m\u001b[0m\u001b[0;34m\u001b[0m\u001b[0;34m\u001b[0m\u001b[0m\n\u001b[0;32m--> 699\u001b[0;31m             httplib_response = self._make_request(\n\u001b[0m\u001b[1;32m    700\u001b[0m                 \u001b[0mconn\u001b[0m\u001b[0;34m,\u001b[0m\u001b[0;34m\u001b[0m\u001b[0;34m\u001b[0m\u001b[0m\n",
      "\u001b[0;32m~/anaconda3/lib/python3.8/site-packages/urllib3/connectionpool.py\u001b[0m in \u001b[0;36m_make_request\u001b[0;34m(self, conn, method, url, timeout, chunked, **httplib_request_kw)\u001b[0m\n\u001b[1;32m    446\u001b[0m         \u001b[0;32mexcept\u001b[0m \u001b[0;34m(\u001b[0m\u001b[0mSocketTimeout\u001b[0m\u001b[0;34m,\u001b[0m \u001b[0mBaseSSLError\u001b[0m\u001b[0;34m,\u001b[0m \u001b[0mSocketError\u001b[0m\u001b[0;34m)\u001b[0m \u001b[0;32mas\u001b[0m \u001b[0me\u001b[0m\u001b[0;34m:\u001b[0m\u001b[0;34m\u001b[0m\u001b[0;34m\u001b[0m\u001b[0m\n\u001b[0;32m--> 447\u001b[0;31m             \u001b[0mself\u001b[0m\u001b[0;34m.\u001b[0m\u001b[0m_raise_timeout\u001b[0m\u001b[0;34m(\u001b[0m\u001b[0merr\u001b[0m\u001b[0;34m=\u001b[0m\u001b[0me\u001b[0m\u001b[0;34m,\u001b[0m \u001b[0murl\u001b[0m\u001b[0;34m=\u001b[0m\u001b[0murl\u001b[0m\u001b[0;34m,\u001b[0m \u001b[0mtimeout_value\u001b[0m\u001b[0;34m=\u001b[0m\u001b[0mread_timeout\u001b[0m\u001b[0;34m)\u001b[0m\u001b[0;34m\u001b[0m\u001b[0;34m\u001b[0m\u001b[0m\n\u001b[0m\u001b[1;32m    448\u001b[0m             \u001b[0;32mraise\u001b[0m\u001b[0;34m\u001b[0m\u001b[0;34m\u001b[0m\u001b[0m\n",
      "\u001b[0;32m~/anaconda3/lib/python3.8/site-packages/urllib3/connectionpool.py\u001b[0m in \u001b[0;36m_raise_timeout\u001b[0;34m(self, err, url, timeout_value)\u001b[0m\n\u001b[1;32m    352\u001b[0m         ):  # Python < 2.7.4\n\u001b[0;32m--> 353\u001b[0;31m             raise ReadTimeoutError(\n\u001b[0m\u001b[1;32m    354\u001b[0m                 \u001b[0mself\u001b[0m\u001b[0;34m,\u001b[0m \u001b[0murl\u001b[0m\u001b[0;34m,\u001b[0m \u001b[0;34m\"Read timed out. (read timeout=%s)\"\u001b[0m \u001b[0;34m%\u001b[0m \u001b[0mtimeout_value\u001b[0m\u001b[0;34m\u001b[0m\u001b[0;34m\u001b[0m\u001b[0m\n",
      "\u001b[0;31mReadTimeoutError\u001b[0m: HTTPSConnectionPool(host='api.twitter.com', port=443): Read timed out. (read timeout=None)",
      "\nDuring handling of the above exception, another exception occurred:\n",
      "\u001b[0;31mReadTimeout\u001b[0m                               Traceback (most recent call last)",
      "\u001b[0;32m<ipython-input-30-3ddf12410e53>\u001b[0m in \u001b[0;36m<module>\u001b[0;34m\u001b[0m\n\u001b[1;32m     28\u001b[0m         \u001b[0;32mfor\u001b[0m \u001b[0mi\u001b[0m \u001b[0;32min\u001b[0m \u001b[0mtqdm\u001b[0m\u001b[0;34m(\u001b[0m\u001b[0munvisited_neighbors\u001b[0m\u001b[0;34m)\u001b[0m\u001b[0;34m:\u001b[0m\u001b[0;34m\u001b[0m\u001b[0;34m\u001b[0m\u001b[0m\n\u001b[1;32m     29\u001b[0m             \u001b[0mprint\u001b[0m\u001b[0;34m(\u001b[0m\u001b[0mi\u001b[0m\u001b[0;34m)\u001b[0m\u001b[0;34m\u001b[0m\u001b[0;34m\u001b[0m\u001b[0m\n\u001b[0;32m---> 30\u001b[0;31m             \u001b[0mcurr_edgelist\u001b[0m \u001b[0;34m=\u001b[0m \u001b[0madd_this_nodes_edgelist\u001b[0m\u001b[0;34m(\u001b[0m\u001b[0mi\u001b[0m\u001b[0;34m,\u001b[0m \u001b[0mcurr_edgelist\u001b[0m\u001b[0;34m)\u001b[0m\u001b[0;34m\u001b[0m\u001b[0;34m\u001b[0m\u001b[0m\n\u001b[0m\u001b[1;32m     31\u001b[0m             \u001b[0mvisited\u001b[0m\u001b[0;34m.\u001b[0m\u001b[0madd\u001b[0m\u001b[0;34m(\u001b[0m\u001b[0mi\u001b[0m\u001b[0;34m)\u001b[0m\u001b[0;34m\u001b[0m\u001b[0;34m\u001b[0m\u001b[0m\n\u001b[1;32m     32\u001b[0m \u001b[0;34m\u001b[0m\u001b[0m\n",
      "\u001b[0;32m<ipython-input-20-cf198229a337>\u001b[0m in \u001b[0;36madd_this_nodes_edgelist\u001b[0;34m(this_acc, curr_edgelist)\u001b[0m\n\u001b[1;32m     11\u001b[0m         \u001b[0;31m# Get immediate followers/following of node and add these to curr_edgelist\u001b[0m\u001b[0;34m\u001b[0m\u001b[0;34m\u001b[0m\u001b[0;34m\u001b[0m\u001b[0m\n\u001b[1;32m     12\u001b[0m         \u001b[0;32mif\u001b[0m \u001b[0maction\u001b[0m \u001b[0;34m==\u001b[0m \u001b[0;34m'followers'\u001b[0m\u001b[0;34m:\u001b[0m\u001b[0;34m\u001b[0m\u001b[0;34m\u001b[0m\u001b[0m\n\u001b[0;32m---> 13\u001b[0;31m             request = api.get_users_followers(id=this_acc, user_auth=False, \n\u001b[0m\u001b[1;32m     14\u001b[0m                 max_results=1000, pagination_token=next_page_token, user_fields=['public_metrics'])\n\u001b[1;32m     15\u001b[0m         \u001b[0;32melif\u001b[0m \u001b[0maction\u001b[0m \u001b[0;34m==\u001b[0m \u001b[0;34m'following'\u001b[0m\u001b[0;34m:\u001b[0m\u001b[0;34m\u001b[0m\u001b[0;34m\u001b[0m\u001b[0m\n",
      "\u001b[0;32m~/anaconda3/lib/python3.8/site-packages/tweepy/client.py\u001b[0m in \u001b[0;36mget_users_followers\u001b[0;34m(self, id, user_auth, **params)\u001b[0m\n\u001b[1;32m   1410\u001b[0m         \u001b[0mhttps\u001b[0m\u001b[0;34m:\u001b[0m\u001b[0;34m//\u001b[0m\u001b[0mdeveloper\u001b[0m\u001b[0;34m.\u001b[0m\u001b[0mtwitter\u001b[0m\u001b[0;34m.\u001b[0m\u001b[0mcom\u001b[0m\u001b[0;34m/\u001b[0m\u001b[0men\u001b[0m\u001b[0;34m/\u001b[0m\u001b[0mdocs\u001b[0m\u001b[0;34m/\u001b[0m\u001b[0mtwitter\u001b[0m\u001b[0;34m-\u001b[0m\u001b[0mapi\u001b[0m\u001b[0;34m/\u001b[0m\u001b[0musers\u001b[0m\u001b[0;34m/\u001b[0m\u001b[0mfollows\u001b[0m\u001b[0;34m/\u001b[0m\u001b[0mapi\u001b[0m\u001b[0;34m-\u001b[0m\u001b[0mreference\u001b[0m\u001b[0;34m/\u001b[0m\u001b[0mget\u001b[0m\u001b[0;34m-\u001b[0m\u001b[0musers\u001b[0m\u001b[0;34m-\u001b[0m\u001b[0mid\u001b[0m\u001b[0;34m-\u001b[0m\u001b[0mfollowers\u001b[0m\u001b[0;34m\u001b[0m\u001b[0;34m\u001b[0m\u001b[0m\n\u001b[1;32m   1411\u001b[0m         \"\"\"\n\u001b[0;32m-> 1412\u001b[0;31m         return self._make_request(\n\u001b[0m\u001b[1;32m   1413\u001b[0m             \u001b[0;34m\"GET\"\u001b[0m\u001b[0;34m,\u001b[0m \u001b[0;34mf\"/2/users/{id}/followers\"\u001b[0m\u001b[0;34m,\u001b[0m \u001b[0mparams\u001b[0m\u001b[0;34m=\u001b[0m\u001b[0mparams\u001b[0m\u001b[0;34m,\u001b[0m\u001b[0;34m\u001b[0m\u001b[0;34m\u001b[0m\u001b[0m\n\u001b[1;32m   1414\u001b[0m             endpoint_parameters=(\n",
      "\u001b[0;32m~/anaconda3/lib/python3.8/site-packages/tweepy/client.py\u001b[0m in \u001b[0;36m_make_request\u001b[0;34m(self, method, route, params, endpoint_parameters, json, data_type, user_auth)\u001b[0m\n\u001b[1;32m    164\u001b[0m                 \u001b[0mlog\u001b[0m\u001b[0;34m.\u001b[0m\u001b[0mwarn\u001b[0m\u001b[0;34m(\u001b[0m\u001b[0;34mf\"Unexpected parameter: {param_name}\"\u001b[0m\u001b[0;34m)\u001b[0m\u001b[0;34m\u001b[0m\u001b[0;34m\u001b[0m\u001b[0m\n\u001b[1;32m    165\u001b[0m \u001b[0;34m\u001b[0m\u001b[0m\n\u001b[0;32m--> 166\u001b[0;31m         response = self.request(method, route, params=request_params,\n\u001b[0m\u001b[1;32m    167\u001b[0m                                 json=json, user_auth=user_auth)\n\u001b[1;32m    168\u001b[0m \u001b[0;34m\u001b[0m\u001b[0m\n",
      "\u001b[0;32m~/anaconda3/lib/python3.8/site-packages/tweepy/client.py\u001b[0m in \u001b[0;36mrequest\u001b[0;34m(self, method, route, params, json, user_auth)\u001b[0m\n\u001b[1;32m    106\u001b[0m         )\n\u001b[1;32m    107\u001b[0m \u001b[0;34m\u001b[0m\u001b[0m\n\u001b[0;32m--> 108\u001b[0;31m         with self.session.request(\n\u001b[0m\u001b[1;32m    109\u001b[0m             \u001b[0mmethod\u001b[0m\u001b[0;34m,\u001b[0m \u001b[0mhost\u001b[0m \u001b[0;34m+\u001b[0m \u001b[0mroute\u001b[0m\u001b[0;34m,\u001b[0m \u001b[0mparams\u001b[0m\u001b[0;34m=\u001b[0m\u001b[0mparams\u001b[0m\u001b[0;34m,\u001b[0m \u001b[0mjson\u001b[0m\u001b[0;34m=\u001b[0m\u001b[0mjson\u001b[0m\u001b[0;34m,\u001b[0m \u001b[0mheaders\u001b[0m\u001b[0;34m=\u001b[0m\u001b[0mheaders\u001b[0m\u001b[0;34m,\u001b[0m\u001b[0;34m\u001b[0m\u001b[0;34m\u001b[0m\u001b[0m\n\u001b[1;32m    110\u001b[0m             \u001b[0mauth\u001b[0m\u001b[0;34m=\u001b[0m\u001b[0mauth\u001b[0m\u001b[0;34m\u001b[0m\u001b[0;34m\u001b[0m\u001b[0m\n",
      "\u001b[0;32m~/anaconda3/lib/python3.8/site-packages/requests/sessions.py\u001b[0m in \u001b[0;36mrequest\u001b[0;34m(self, method, url, params, data, headers, cookies, files, auth, timeout, allow_redirects, proxies, hooks, stream, verify, cert, json)\u001b[0m\n\u001b[1;32m    540\u001b[0m         }\n\u001b[1;32m    541\u001b[0m         \u001b[0msend_kwargs\u001b[0m\u001b[0;34m.\u001b[0m\u001b[0mupdate\u001b[0m\u001b[0;34m(\u001b[0m\u001b[0msettings\u001b[0m\u001b[0;34m)\u001b[0m\u001b[0;34m\u001b[0m\u001b[0;34m\u001b[0m\u001b[0m\n\u001b[0;32m--> 542\u001b[0;31m         \u001b[0mresp\u001b[0m \u001b[0;34m=\u001b[0m \u001b[0mself\u001b[0m\u001b[0;34m.\u001b[0m\u001b[0msend\u001b[0m\u001b[0;34m(\u001b[0m\u001b[0mprep\u001b[0m\u001b[0;34m,\u001b[0m \u001b[0;34m**\u001b[0m\u001b[0msend_kwargs\u001b[0m\u001b[0;34m)\u001b[0m\u001b[0;34m\u001b[0m\u001b[0;34m\u001b[0m\u001b[0m\n\u001b[0m\u001b[1;32m    543\u001b[0m \u001b[0;34m\u001b[0m\u001b[0m\n\u001b[1;32m    544\u001b[0m         \u001b[0;32mreturn\u001b[0m \u001b[0mresp\u001b[0m\u001b[0;34m\u001b[0m\u001b[0;34m\u001b[0m\u001b[0m\n",
      "\u001b[0;32m~/anaconda3/lib/python3.8/site-packages/requests/sessions.py\u001b[0m in \u001b[0;36msend\u001b[0;34m(self, request, **kwargs)\u001b[0m\n\u001b[1;32m    653\u001b[0m \u001b[0;34m\u001b[0m\u001b[0m\n\u001b[1;32m    654\u001b[0m         \u001b[0;31m# Send the request\u001b[0m\u001b[0;34m\u001b[0m\u001b[0;34m\u001b[0m\u001b[0;34m\u001b[0m\u001b[0m\n\u001b[0;32m--> 655\u001b[0;31m         \u001b[0mr\u001b[0m \u001b[0;34m=\u001b[0m \u001b[0madapter\u001b[0m\u001b[0;34m.\u001b[0m\u001b[0msend\u001b[0m\u001b[0;34m(\u001b[0m\u001b[0mrequest\u001b[0m\u001b[0;34m,\u001b[0m \u001b[0;34m**\u001b[0m\u001b[0mkwargs\u001b[0m\u001b[0;34m)\u001b[0m\u001b[0;34m\u001b[0m\u001b[0;34m\u001b[0m\u001b[0m\n\u001b[0m\u001b[1;32m    656\u001b[0m \u001b[0;34m\u001b[0m\u001b[0m\n\u001b[1;32m    657\u001b[0m         \u001b[0;31m# Total elapsed time of the request (approximately)\u001b[0m\u001b[0;34m\u001b[0m\u001b[0;34m\u001b[0m\u001b[0;34m\u001b[0m\u001b[0m\n",
      "\u001b[0;32m~/anaconda3/lib/python3.8/site-packages/requests/adapters.py\u001b[0m in \u001b[0;36msend\u001b[0;34m(self, request, stream, timeout, verify, cert, proxies)\u001b[0m\n\u001b[1;32m    527\u001b[0m                 \u001b[0;32mraise\u001b[0m \u001b[0mSSLError\u001b[0m\u001b[0;34m(\u001b[0m\u001b[0me\u001b[0m\u001b[0;34m,\u001b[0m \u001b[0mrequest\u001b[0m\u001b[0;34m=\u001b[0m\u001b[0mrequest\u001b[0m\u001b[0;34m)\u001b[0m\u001b[0;34m\u001b[0m\u001b[0;34m\u001b[0m\u001b[0m\n\u001b[1;32m    528\u001b[0m             \u001b[0;32melif\u001b[0m \u001b[0misinstance\u001b[0m\u001b[0;34m(\u001b[0m\u001b[0me\u001b[0m\u001b[0;34m,\u001b[0m \u001b[0mReadTimeoutError\u001b[0m\u001b[0;34m)\u001b[0m\u001b[0;34m:\u001b[0m\u001b[0;34m\u001b[0m\u001b[0;34m\u001b[0m\u001b[0m\n\u001b[0;32m--> 529\u001b[0;31m                 \u001b[0;32mraise\u001b[0m \u001b[0mReadTimeout\u001b[0m\u001b[0;34m(\u001b[0m\u001b[0me\u001b[0m\u001b[0;34m,\u001b[0m \u001b[0mrequest\u001b[0m\u001b[0;34m=\u001b[0m\u001b[0mrequest\u001b[0m\u001b[0;34m)\u001b[0m\u001b[0;34m\u001b[0m\u001b[0;34m\u001b[0m\u001b[0m\n\u001b[0m\u001b[1;32m    530\u001b[0m             \u001b[0;32melse\u001b[0m\u001b[0;34m:\u001b[0m\u001b[0;34m\u001b[0m\u001b[0;34m\u001b[0m\u001b[0m\n\u001b[1;32m    531\u001b[0m                 \u001b[0;32mraise\u001b[0m\u001b[0;34m\u001b[0m\u001b[0;34m\u001b[0m\u001b[0m\n",
      "\u001b[0;31mReadTimeout\u001b[0m: HTTPSConnectionPool(host='api.twitter.com', port=443): Read timed out. (read timeout=None)"
     ]
    }
   ],
   "source": [
    "cols=['originating_id', 'receiving_id', \n",
    "          'originating_following_count', 'originating_follower_count',\n",
    "         'receiving_following_count', 'receiving_follower_count']\n",
    "\n",
    "# Process human accounts \n",
    "small_bot_accs = small.loc[small.label == 'bot']\n",
    "\n",
    "# Create Edgelists for each account in the filtered botometer dataset.\n",
    "for starting_acc, label in zip(small_bot_accs.twitter_id, small_bot_accs.label):\n",
    "    if starting_acc in already_processed:\n",
    "        continue\n",
    "    print(f'Starting node == {starting_acc}')\n",
    "    # Initialization code for populating edgelist starting from node specified by \"starting_acc\"\n",
    "    edgelist = pd.DataFrame(columns=cols)\n",
    "\n",
    "    degrees_of_separation = 0\n",
    "\n",
    "    visited = set()\n",
    "    visited.add(starting_acc)\n",
    "\n",
    "    edgelist = add_this_nodes_edgelist(starting_acc, edgelist) \n",
    "    edgelist, degrees_of_separation, unvisited_neighbors = transition_to_next_separation_degree(edgelist, degrees_of_separation)\n",
    "    \n",
    "    # iterate thru all unvisited neighbors with 2 degree of separation from starting (labeled) node\n",
    "    # process df in chunks before concatenating\n",
    "    while degrees_of_separation <= 1:\n",
    "        curr_edgelist = pd.DataFrame(columns=cols)\n",
    "        for i in tqdm(unvisited_neighbors):\n",
    "            print(i)\n",
    "            curr_edgelist = add_this_nodes_edgelist(i, curr_edgelist)\n",
    "            visited.add(i)\n",
    "        \n",
    "        curr_edgelist, degrees_of_separation, unvisited_neighbors = transition_to_next_separation_degree(curr_edgelist, degrees_of_separation)\n",
    "        edgelist = pd.concat([edgelist, curr_edgelist])\n",
    "\n",
    "    # Save in directory\n",
    "    fn = 'edgelist_2_edges_from_start_' + str(starting_acc) + '.pkl'\n",
    "    path = str(label) + '/' + fn\n",
    "    edgelist.to_pickle(path)\n",
    "    \n",
    "    # Add twitter id to already processed list\n",
    "    already_processed.append(starting_acc)"
   ]
  },
  {
   "cell_type": "code",
   "execution_count": null,
   "id": "f6e27920",
   "metadata": {},
   "outputs": [
    {
     "data": {
      "application/vnd.jupyter.widget-view+json": {
       "model_id": "04ad4e3bd38548d7926d97f091255554",
       "version_major": 2,
       "version_minor": 0
      },
      "text/plain": [
       "  0%|          | 0/739 [00:00<?, ?it/s]"
      ]
     },
     "metadata": {},
     "output_type": "display_data"
    },
    {
     "name": "stdout",
     "output_type": "stream",
     "text": [
      "773168775407341570\n",
      "Exception: issue retrieving follow lists for this account -- Skipping.\n",
      "716959681030139904\n",
      "1156276326682120193\n",
      "90823705\n",
      "1376106881433800705\n",
      "1414239877051289605\n",
      "309547500\n",
      "1355079904014946307\n",
      "1359360760388800515\n",
      "721164661534515200\n",
      "107120896\n",
      "1161187506991198210\n",
      "1277196752089518081\n",
      "822366260155404288\n",
      "1246773786692579328\n"
     ]
    },
    {
     "name": "stderr",
     "output_type": "stream",
     "text": [
      "Rate limit exceeded. Sleeping for 889 seconds.\n"
     ]
    },
    {
     "name": "stdout",
     "output_type": "stream",
     "text": [
      "882990031295492096\n",
      "1081573212582887424\n",
      "1316844980\n",
      "1082513503498395649\n",
      "1235500970945081344\n",
      "3392056279\n",
      "1219787325560897536\n",
      "631534601\n",
      "71687841\n",
      "970294540673286145\n",
      "1075799778271756288\n",
      "1183970484943126528\n",
      "824081837886582784\n",
      "133657734\n",
      "1102534073342259200\n"
     ]
    },
    {
     "name": "stderr",
     "output_type": "stream",
     "text": [
      "Rate limit exceeded. Sleeping for 887 seconds.\n"
     ]
    },
    {
     "name": "stdout",
     "output_type": "stream",
     "text": [
      "506006017\n",
      "218721401\n",
      "910281138614054912\n",
      "2849637379\n",
      "1100168704308928512\n",
      "1050711218078408705\n",
      "80852390\n",
      "Exception: issue retrieving follow lists for this account -- Skipping.\n",
      "3153115513\n",
      "1051709500300775426\n",
      "1020274003645292544\n",
      "2718471852\n",
      "879742454\n",
      "2388880554\n",
      "856042647235907584\n",
      "399500471\n"
     ]
    },
    {
     "name": "stderr",
     "output_type": "stream",
     "text": [
      "Rate limit exceeded. Sleeping for 889 seconds.\n"
     ]
    },
    {
     "name": "stdout",
     "output_type": "stream",
     "text": [
      "4856631739\n",
      "1037549151481819136\n",
      "770885106072326144\n",
      "2880957571\n",
      "101204889\n",
      "Exception: issue retrieving follow lists for this account -- Skipping.\n",
      "1011738014928678912\n",
      "766241513340866560\n",
      "1949233838\n",
      "947878417839489025\n",
      "950706728701603840\n",
      "1176183578\n",
      "818073297015316480\n",
      "814123895645011968\n",
      "834055790742761473\n",
      "919485843273760768\n"
     ]
    },
    {
     "name": "stderr",
     "output_type": "stream",
     "text": [
      "Rate limit exceeded. Sleeping for 890 seconds.\n"
     ]
    },
    {
     "name": "stdout",
     "output_type": "stream",
     "text": [
      "205664574\n",
      "901636845154426880\n",
      "Exception: issue retrieving follow lists for this account -- Skipping.\n",
      "85575319\n",
      "Exception: issue retrieving follow lists for this account -- Skipping.\n",
      "933878526410874881\n",
      "2609362778\n",
      "4773655693\n",
      "837847148066549760\n",
      "3233302230\n",
      "3270082045\n",
      "3303149850\n",
      "4236615012\n",
      "Exception: issue retrieving follow lists for this account -- Skipping.\n",
      "801979356574728192\n",
      "2861956561\n",
      "835542134325297152\n",
      "807728831645630464\n"
     ]
    },
    {
     "name": "stderr",
     "output_type": "stream",
     "text": [
      "Rate limit exceeded. Sleeping for 891 seconds.\n"
     ]
    },
    {
     "name": "stdout",
     "output_type": "stream",
     "text": [
      "813144664568012801\n",
      "1063181004\n",
      "14099567\n",
      "889577513898221569\n",
      "Exception: issue retrieving follow lists for this account -- Skipping.\n",
      "812942829357907969\n",
      "812451699134636032\n",
      "2440440878\n",
      "Exception: issue retrieving follow lists for this account -- Skipping.\n",
      "867674137430441984\n",
      "746261948749094912\n",
      "744879011742916608\n",
      "2995156597\n",
      "2229816162\n",
      "3250395966\n",
      "726904787506106368\n",
      "72849481\n"
     ]
    },
    {
     "name": "stderr",
     "output_type": "stream",
     "text": [
      "Rate limit exceeded. Sleeping for 890 seconds.\n"
     ]
    },
    {
     "name": "stdout",
     "output_type": "stream",
     "text": [
      "853823727116537856\n",
      "3024783704\n",
      "2961652010\n",
      "1870123184\n",
      "840554798025863168\n",
      "836934956890759168\n",
      "2839643058\n",
      "805373859926982656\n",
      "708857490440491008\n",
      "3301356485\n",
      "847664010216456194\n",
      "708205968182497280\n",
      "846705819005566977\n",
      "798482744460218368\n",
      "1659616850\n"
     ]
    },
    {
     "name": "stderr",
     "output_type": "stream",
     "text": [
      "Rate limit exceeded. Sleeping for 890 seconds.\n"
     ]
    },
    {
     "name": "stdout",
     "output_type": "stream",
     "text": [
      "810458988945018881\n",
      "843849430243586048\n",
      "Exception: issue retrieving follow lists for this account -- Skipping.\n",
      "1520874662\n",
      "832575231701110784\n",
      "721487565178535936\n",
      "707579965731045376\n",
      "232232329\n",
      "Exception: issue retrieving follow lists for this account -- Skipping.\n",
      "4729172972\n",
      "226580340\n",
      "3156378487\n",
      "3093352969\n",
      "818243805405016065\n",
      "4655760133\n",
      "615852872\n",
      "4808399778\n"
     ]
    },
    {
     "name": "stderr",
     "output_type": "stream",
     "text": [
      "Rate limit exceeded. Sleeping for 892 seconds.\n"
     ]
    },
    {
     "name": "stdout",
     "output_type": "stream",
     "text": [
      "738937370502799361\n",
      "764715991414693888\n",
      "2231437394\n",
      "Exception: issue retrieving follow lists for this account -- Skipping.\n",
      "4025274498\n",
      "Exception: issue retrieving follow lists for this account -- Skipping.\n",
      "703177313827971073\n",
      "109252714\n",
      "809709632016875521\n",
      "Exception: issue retrieving follow lists for this account -- Skipping.\n",
      "608872224\n",
      "2223228480\n",
      "781385550905290752\n",
      "3903316100\n",
      "2880574326\n",
      "Exception: issue retrieving follow lists for this account -- Skipping.\n",
      "2976992310\n",
      "3247589749\n",
      "798457224846655488\n"
     ]
    },
    {
     "name": "stderr",
     "output_type": "stream",
     "text": [
      "Rate limit exceeded. Sleeping for 891 seconds.\n"
     ]
    },
    {
     "name": "stdout",
     "output_type": "stream",
     "text": [
      "763791240533991424\n",
      "3240713101\n",
      "4721288461\n",
      "126031677\n",
      "Exception: issue retrieving follow lists for this account -- Skipping.\n",
      "760012018875195392\n",
      "Exception: issue retrieving follow lists for this account -- Skipping.\n",
      "778376895377186816\n",
      "3185091716\n",
      "Exception: issue retrieving follow lists for this account -- Skipping.\n",
      "774968583520522242\n",
      "798412914726227968\n",
      "2656864525\n",
      "1092152496\n",
      "3152516060\n",
      "708793413001302017\n",
      "792215392189943808\n",
      "4471170318\n"
     ]
    },
    {
     "name": "stderr",
     "output_type": "stream",
     "text": [
      "Rate limit exceeded. Sleeping for 890 seconds.\n"
     ]
    },
    {
     "name": "stdout",
     "output_type": "stream",
     "text": [
      "723808406897741827\n",
      "752500374993375232\n",
      "781194247647047680\n",
      "3119811702\n",
      "2882213108\n",
      "3073144045\n",
      "1624512997\n",
      "2565346695\n",
      "750608139666411520\n",
      "3174881383\n",
      "757968174176350208\n",
      "753942191395844101\n",
      "3698094019\n",
      "162375853\n",
      "1029520724\n"
     ]
    },
    {
     "name": "stderr",
     "output_type": "stream",
     "text": [
      "Rate limit exceeded. Sleeping for 890 seconds.\n"
     ]
    },
    {
     "name": "stdout",
     "output_type": "stream",
     "text": [
      "162720823\n",
      "Exception: issue retrieving follow lists for this account -- Skipping.\n",
      "2833625014\n",
      "1680165979\n",
      "Exception: issue retrieving follow lists for this account -- Skipping.\n",
      "3271886779\n",
      "742777584061059072\n",
      "738661133284823040\n",
      "3041850564\n",
      "Exception: issue retrieving follow lists for this account -- Skipping.\n",
      "3114650462\n",
      "Exception: issue retrieving follow lists for this account -- Skipping.\n",
      "710049499285065729\n",
      "1832922774\n",
      "731024199163109376\n",
      "3312120157\n",
      "2917975010\n",
      "2870484986\n",
      "709916158686658562\n"
     ]
    },
    {
     "name": "stderr",
     "output_type": "stream",
     "text": [
      "Rate limit exceeded. Sleeping for 891 seconds.\n"
     ]
    },
    {
     "name": "stdout",
     "output_type": "stream",
     "text": [
      "3232577844\n",
      "Exception: issue retrieving follow lists for this account -- Skipping.\n",
      "344782559\n",
      "4272058396\n",
      "2399866784\n",
      "701710690336124929\n",
      "3069064843\n",
      "4188200905\n",
      "114100709\n",
      "4795833296\n",
      "2854391989\n",
      "3089924160\n",
      "Exception: issue retrieving follow lists for this account -- Skipping.\n",
      "4924277112\n",
      "3053096142\n",
      "4631475192\n"
     ]
    },
    {
     "name": "stderr",
     "output_type": "stream",
     "text": [
      "Rate limit exceeded. Sleeping for 891 seconds.\n"
     ]
    },
    {
     "name": "stdout",
     "output_type": "stream",
     "text": [
      "4575481518\n",
      "Exception: issue retrieving follow lists for this account -- Skipping.\n",
      "3411870494\n",
      "4438683320\n",
      "3213212585\n",
      "2965577268\n",
      "Exception: issue retrieving follow lists for this account -- Skipping.\n",
      "3959643373\n",
      "2871067404\n",
      "3182781194\n",
      "2944001538\n",
      "3317217374\n",
      "3530276714\n",
      "2845904352\n",
      "162608379\n",
      "Exception: issue retrieving follow lists for this account -- Skipping.\n",
      "3230043739\n",
      "3321266370\n",
      "Exception: issue retrieving follow lists for this account -- Skipping.\n",
      "3704520493\n",
      "Exception: issue retrieving follow lists for this account -- Skipping.\n",
      "2809200115\n"
     ]
    },
    {
     "name": "stderr",
     "output_type": "stream",
     "text": [
      "Rate limit exceeded. Sleeping for 892 seconds.\n"
     ]
    },
    {
     "name": "stdout",
     "output_type": "stream",
     "text": [
      "3064940240\n",
      "Exception: issue retrieving follow lists for this account -- Skipping.\n",
      "3646937232\n",
      "2967839322\n",
      "2839799870\n",
      "3016669073\n",
      "2243525378\n",
      "3380244080\n",
      "3329032832\n",
      "3317887141\n",
      "3074605352\n",
      "749245093\n",
      "3294378829\n",
      "3175456896\n",
      "3280469047\n"
     ]
    },
    {
     "name": "stderr",
     "output_type": "stream",
     "text": [
      "Rate limit exceeded. Sleeping for 890 seconds.\n"
     ]
    },
    {
     "name": "stdout",
     "output_type": "stream",
     "text": [
      "119163700\n",
      "2928412350\n",
      "3052689812\n",
      "630306051\n",
      "2500717579\n",
      "3249763842\n",
      "3244218553\n",
      "3268284643\n",
      "Exception: issue retrieving follow lists for this account -- Skipping.\n",
      "3266543630\n",
      "2606715734\n",
      "3233464028\n",
      "317616021\n",
      "2898214586\n",
      "Exception: issue retrieving follow lists for this account -- Skipping.\n",
      "2763455772\n",
      "2749636463\n"
     ]
    },
    {
     "name": "stderr",
     "output_type": "stream",
     "text": [
      "Rate limit exceeded. Sleeping for 889 seconds.\n"
     ]
    },
    {
     "name": "stdout",
     "output_type": "stream",
     "text": [
      "2592488731\n",
      "Exception: issue retrieving follow lists for this account -- Skipping.\n",
      "3186172208\n",
      "Exception: issue retrieving follow lists for this account -- Skipping.\n",
      "394962193\n",
      "3011291228\n",
      "3221918834\n",
      "2580456169\n",
      "3007747609\n",
      "2909944740\n",
      "2927663840\n",
      "125934176\n",
      "3212942939\n",
      "135721564\n",
      "134798014\n",
      "3080858821\n",
      "2904649446\n"
     ]
    },
    {
     "name": "stderr",
     "output_type": "stream",
     "text": [
      "Rate limit exceeded. Sleeping for 890 seconds.\n"
     ]
    },
    {
     "name": "stdout",
     "output_type": "stream",
     "text": [
      "710025354\n",
      "1298878470\n",
      "292849372\n",
      "3099890226\n",
      "3125879730\n",
      "2896213410\n",
      "3094289730\n",
      "3009039589\n",
      "228937730\n",
      "3055418047\n",
      "3030436582\n",
      "3098378761\n",
      "2177396050\n",
      "2928547556\n",
      "3062505469\n"
     ]
    },
    {
     "name": "stderr",
     "output_type": "stream",
     "text": [
      "Rate limit exceeded. Sleeping for 890 seconds.\n"
     ]
    },
    {
     "name": "stdout",
     "output_type": "stream",
     "text": [
      "3061643779\n",
      "3048839713\n",
      "3010254842\n",
      "2664701484\n",
      "2885341374\n",
      "2841493465\n",
      "Exception: issue retrieving follow lists for this account -- Skipping.\n",
      "2716931066\n",
      "2630410084\n",
      "3017200634\n",
      "1459788780\n",
      "2846327016\n",
      "3010347684\n",
      "Exception: issue retrieving follow lists for this account -- Skipping.\n",
      "2969814846\n",
      "2900925415\n",
      "2760669924\n"
     ]
    },
    {
     "name": "stderr",
     "output_type": "stream",
     "text": [
      "Rate limit exceeded. Sleeping for 891 seconds.\n"
     ]
    },
    {
     "name": "stdout",
     "output_type": "stream",
     "text": [
      "2700525824\n",
      "2440853736\n",
      "2856870752\n",
      "1427570526\n",
      "2779666866\n",
      "3008986116\n",
      "3004260241\n",
      "2943478908\n",
      "2999253758\n",
      "2887650841\n",
      "2854133994\n",
      "2988525311\n",
      "Exception: issue retrieving follow lists for this account -- Skipping.\n",
      "2966409656\n",
      "Exception: issue retrieving follow lists for this account -- Skipping.\n",
      "2202365430\n",
      "2957359794\n"
     ]
    },
    {
     "name": "stderr",
     "output_type": "stream",
     "text": [
      "Rate limit exceeded. Sleeping for 889 seconds.\n"
     ]
    },
    {
     "name": "stdout",
     "output_type": "stream",
     "text": [
      "2428243694\n",
      "2949781388\n",
      "1453705112\n",
      "2953794632\n",
      "2791510965\n",
      "2901762115\n",
      "2795956658\n",
      "Exception: issue retrieving follow lists for this account -- Skipping.\n",
      "2658995894\n",
      "2303271072\n",
      "2935583340\n",
      "2910454333\n",
      "2596424707\n",
      "1955402964\n",
      "2864402166\n",
      "2616990336\n"
     ]
    },
    {
     "name": "stderr",
     "output_type": "stream",
     "text": [
      "Rate limit exceeded. Sleeping for 888 seconds.\n"
     ]
    },
    {
     "name": "stdout",
     "output_type": "stream",
     "text": [
      "2279326368\n",
      "2582636251\n",
      "2516520235\n",
      "2918424656\n",
      "2850259326\n",
      "2915577812\n",
      "Exception: issue retrieving follow lists for this account -- Skipping.\n",
      "2913407120\n",
      "Exception: issue retrieving follow lists for this account -- Skipping.\n",
      "2725952281\n",
      "826797900\n",
      "1677622988\n",
      "1566954150\n",
      "1013244434\n",
      "2806982864\n",
      "2905050283\n",
      "2853061662\n"
     ]
    },
    {
     "name": "stderr",
     "output_type": "stream",
     "text": [
      "Rate limit exceeded. Sleeping for 890 seconds.\n"
     ]
    },
    {
     "name": "stdout",
     "output_type": "stream",
     "text": [
      "2501458801\n",
      "2432933340\n",
      "2885220101\n",
      "2609572854\n",
      "2543394024\n",
      "2678475668\n",
      "2895808668\n",
      "2884364394\n",
      "2431847953\n",
      "2782610455\n",
      "2887116732\n",
      "2891379150\n",
      "2836540543\n",
      "1462161996\n",
      "2804547912\n"
     ]
    },
    {
     "name": "stderr",
     "output_type": "stream",
     "text": [
      "Rate limit exceeded. Sleeping for 889 seconds.\n"
     ]
    },
    {
     "name": "stdout",
     "output_type": "stream",
     "text": [
      "2881412520\n",
      "309751923\n",
      "2879922972\n",
      "2860506439\n",
      "2500540788\n",
      "1214031817\n",
      "2778118279\n",
      "2871125359\n",
      "Exception: issue retrieving follow lists for this account -- Skipping.\n",
      "2871017713\n",
      "2601340615\n",
      "Exception: issue retrieving follow lists for this account -- Skipping.\n",
      "2414255774\n",
      "2870654204\n",
      "1285314649\n",
      "2870433288\n",
      "Exception: issue retrieving follow lists for this account -- Skipping.\n",
      "2255299754\n"
     ]
    },
    {
     "name": "stderr",
     "output_type": "stream",
     "text": [
      "Rate limit exceeded. Sleeping for 892 seconds.\n"
     ]
    },
    {
     "name": "stdout",
     "output_type": "stream",
     "text": [
      "2865150498\n",
      "2283143100\n",
      "Exception: issue retrieving follow lists for this account -- Skipping.\n",
      "2859968731\n",
      "2561629148\n",
      "2606965321\n",
      "2846868008\n",
      "2306509213\n",
      "2198772907\n",
      "2576324676\n",
      "2409144788\n",
      "Exception: issue retrieving follow lists for this account -- Skipping.\n",
      "2417022715\n",
      "2850507038\n",
      "1624490502\n",
      "2568330757\n"
     ]
    },
    {
     "name": "stderr",
     "output_type": "stream",
     "text": [
      "Rate limit exceeded. Sleeping for 891 seconds.\n"
     ]
    },
    {
     "name": "stdout",
     "output_type": "stream",
     "text": [
      "2841263750\n",
      "Exception: issue retrieving follow lists for this account -- Skipping.\n",
      "2839202084\n",
      "2387260729\n",
      "Exception: issue retrieving follow lists for this account -- Skipping.\n",
      "2835146406\n",
      "Exception: issue retrieving follow lists for this account -- Skipping.\n",
      "596134244\n",
      "2369094116\n",
      "170675530\n",
      "2357444724\n",
      "Exception: issue retrieving follow lists for this account -- Skipping.\n",
      "2751466723\n",
      "2605483429\n",
      "Exception: issue retrieving follow lists for this account -- Skipping.\n",
      "1682316331\n",
      "2834192269\n",
      "2512572828\n",
      "2489598001\n",
      "2834843816\n",
      "2817088495\n"
     ]
    },
    {
     "name": "stderr",
     "output_type": "stream",
     "text": [
      "Rate limit exceeded. Sleeping for 889 seconds.\n"
     ]
    },
    {
     "name": "stdout",
     "output_type": "stream",
     "text": [
      "2822623957\n",
      "2250349759\n",
      "2813910966\n",
      "2803125134\n",
      "Exception: issue retrieving follow lists for this account -- Skipping.\n",
      "380855178\n",
      "426012954\n",
      "1461274357\n",
      "2796239436\n",
      "2798835553\n",
      "2778396920\n",
      "2332988011\n",
      "1675903417\n",
      "2357918298\n",
      "2769411283\n",
      "Exception: issue retrieving follow lists for this account -- Skipping.\n",
      "2780743476\n"
     ]
    },
    {
     "name": "stderr",
     "output_type": "stream",
     "text": [
      "Rate limit exceeded. Sleeping for 887 seconds.\n"
     ]
    },
    {
     "name": "stdout",
     "output_type": "stream",
     "text": [
      "1903772521\n",
      "1896872310\n",
      "2778275484\n",
      "2757405848\n",
      "901898713\n",
      "2730924499\n",
      "2500483898\n",
      "2609611849\n",
      "2637754740\n",
      "2714695076\n",
      "2570889294\n",
      "2389284816\n",
      "2705891275\n",
      "2280519828\n",
      "Exception: issue retrieving follow lists for this account -- Skipping.\n",
      "2687651066\n"
     ]
    },
    {
     "name": "stderr",
     "output_type": "stream",
     "text": [
      "Rate limit exceeded. Sleeping for 889 seconds.\n"
     ]
    },
    {
     "name": "stdout",
     "output_type": "stream",
     "text": [
      "2679273894\n",
      "2679750097\n",
      "2463445076\n",
      "1853885665\n",
      "1331707514\n",
      "2479859112\n",
      "2656629199\n",
      "Exception: issue retrieving follow lists for this account -- Skipping.\n",
      "2479732250\n",
      "2649793699\n",
      "2653565389\n",
      "487691153\n",
      "Exception: issue retrieving follow lists for this account -- Skipping.\n",
      "2637724447\n",
      "1524946645\n",
      "Exception: issue retrieving follow lists for this account -- Skipping.\n",
      "2530019052\n",
      "139044096\n"
     ]
    },
    {
     "name": "stderr",
     "output_type": "stream",
     "text": [
      "Rate limit exceeded. Sleeping for 889 seconds.\n"
     ]
    },
    {
     "name": "stdout",
     "output_type": "stream",
     "text": [
      "2151176928\n",
      "2522499883\n",
      "2416148678\n",
      "2436273948\n",
      "2413900016\n",
      "2529346638\n",
      "2499296702\n",
      "2455190972\n",
      "2596040077\n",
      "2507378857\n",
      "Exception: issue retrieving follow lists for this account -- Skipping.\n",
      "2592992564\n",
      "2520326245\n",
      "2590320768\n",
      "Exception: issue retrieving follow lists for this account -- Skipping.\n",
      "2367044220\n",
      "245771402\n"
     ]
    },
    {
     "name": "stderr",
     "output_type": "stream",
     "text": [
      "Rate limit exceeded. Sleeping for 889 seconds.\n"
     ]
    },
    {
     "name": "stdout",
     "output_type": "stream",
     "text": [
      "2479819526\n",
      "2524375880\n",
      "2472285511\n",
      "2579957808\n",
      "2568673644\n",
      "2440142941\n",
      "2573950159\n",
      "516254691\n",
      "Exception: issue retrieving follow lists for this account -- Skipping.\n",
      "2544870300\n",
      "2525304182\n",
      "2408661246\n",
      "2397527288\n",
      "2366432792\n",
      "2433545106\n",
      "2549764196\n"
     ]
    },
    {
     "name": "stderr",
     "output_type": "stream",
     "text": [
      "Rate limit exceeded. Sleeping for 885 seconds.\n"
     ]
    },
    {
     "name": "stdout",
     "output_type": "stream",
     "text": [
      "2336291383\n",
      "2508654751\n",
      "501995603\n",
      "2259878329\n",
      "2570188510\n",
      "1178009000\n",
      "2503143678\n",
      "2471942263\n",
      "2460970134\n",
      "2519094170\n",
      "406130606\n",
      "2241094429\n",
      "1487585480\n",
      "1400889943\n",
      "1464177943\n"
     ]
    },
    {
     "name": "stderr",
     "output_type": "stream",
     "text": [
      "Rate limit exceeded. Sleeping for 885 seconds.\n"
     ]
    },
    {
     "name": "stdout",
     "output_type": "stream",
     "text": [
      "229426337\n",
      "2500507230\n",
      "2499478826\n",
      "2223365066\n",
      "2482898383\n",
      "2482163390\n",
      "2485504734\n",
      "2328851652\n",
      "Exception: issue retrieving follow lists for this account -- Skipping.\n",
      "2479018387\n",
      "2285229854\n",
      "2440013982\n",
      "1448970896\n",
      "2419127754\n",
      "2422451462\n",
      "2416622594\n"
     ]
    },
    {
     "name": "stderr",
     "output_type": "stream",
     "text": [
      "Rate limit exceeded. Sleeping for 885 seconds.\n"
     ]
    },
    {
     "name": "stdout",
     "output_type": "stream",
     "text": [
      "2229359227\n",
      "2413556588\n",
      "2376310530\n",
      "Exception: issue retrieving follow lists for this account -- Skipping.\n",
      "2393527752\n",
      "1969112113\n",
      "2391799020\n",
      "209606046\n",
      "2373723943\n",
      "2222534100\n",
      "2365074942\n",
      "2328887701\n",
      "2290677620\n",
      "2354911472\n",
      "1217551459\n",
      "179377851\n"
     ]
    },
    {
     "name": "stderr",
     "output_type": "stream",
     "text": [
      "Rate limit exceeded. Sleeping for 888 seconds.\n"
     ]
    },
    {
     "name": "stdout",
     "output_type": "stream",
     "text": [
      "1923351950\n",
      "Exception: issue retrieving follow lists for this account -- Skipping.\n",
      "2257710764\n",
      "2323053265\n",
      "2344237364\n",
      "2332226762\n",
      "1707458119\n",
      "2251866870\n",
      "125234254\n",
      "2321075754\n",
      "1029697453\n",
      "2208697556\n",
      "2256254629\n",
      "384879014\n",
      "Exception: issue retrieving follow lists for this account -- Skipping.\n",
      "2180739888\n",
      "Exception: issue retrieving follow lists for this account -- Skipping.\n",
      "487382041\n"
     ]
    },
    {
     "name": "stderr",
     "output_type": "stream",
     "text": [
      "Rate limit exceeded. Sleeping for 891 seconds.\n"
     ]
    },
    {
     "name": "stdout",
     "output_type": "stream",
     "text": [
      "Exception: issue retrieving follow lists for this account -- Skipping.\n",
      "2242184437\n",
      "2240052126\n",
      "1971225596\n",
      "2325562237\n",
      "1127903347\n",
      "2311039734\n",
      "2197727851\n",
      "2307405422\n",
      "400431126\n",
      "2304151021\n",
      "2304419520\n",
      "200767144\n",
      "2275541563\n",
      "2304659564\n",
      "2188043964\n"
     ]
    },
    {
     "name": "stderr",
     "output_type": "stream",
     "text": [
      "Rate limit exceeded. Sleeping for 890 seconds.\n"
     ]
    },
    {
     "name": "stdout",
     "output_type": "stream",
     "text": [
      "1564008948\n",
      "1540519795\n",
      "2286705343\n",
      "1662024104\n",
      "2190294822\n",
      "2283618512\n",
      "2275898131\n",
      "2212902416\n",
      "2282039292\n",
      "2239068967\n",
      "837176160\n",
      "1642012676\n",
      "2272765454\n",
      "1327344228\n",
      "2275920211\n"
     ]
    },
    {
     "name": "stderr",
     "output_type": "stream",
     "text": [
      "Rate limit exceeded. Sleeping for 890 seconds.\n"
     ]
    },
    {
     "name": "stdout",
     "output_type": "stream",
     "text": [
      "742581661\n",
      "2272797985\n",
      "2149525688\n",
      "268687831\n",
      "1425663391\n",
      "Exception: issue retrieving follow lists for this account -- Skipping.\n",
      "1146519272\n",
      "2239114034\n",
      "2265384510\n",
      "2264688218\n",
      "2262450432\n",
      "2262418813\n",
      "2260256498\n",
      "1969060304\n",
      "2260087752\n",
      "2253452342\n"
     ]
    },
    {
     "name": "stderr",
     "output_type": "stream",
     "text": [
      "Rate limit exceeded. Sleeping for 890 seconds.\n"
     ]
    },
    {
     "name": "stdout",
     "output_type": "stream",
     "text": [
      "2257802354\n",
      "1527113046\n",
      "2195531274\n",
      "2243053496\n",
      "1271422567\n",
      "2250800154\n",
      "2221090026\n",
      "1596154951\n",
      "1608444902\n",
      "287486341\n",
      "2248315410\n",
      "Exception: issue retrieving follow lists for this account -- Skipping.\n",
      "1652788213\n",
      "2241560130\n",
      "2240912592\n",
      "Exception: issue retrieving follow lists for this account -- Skipping.\n",
      "227297024\n"
     ]
    },
    {
     "name": "stderr",
     "output_type": "stream",
     "text": [
      "Rate limit exceeded. Sleeping for 890 seconds.\n"
     ]
    },
    {
     "name": "stdout",
     "output_type": "stream",
     "text": [
      "2213274410\n",
      "1684642968\n",
      "2180678397\n",
      "2232618906\n",
      "1198993730\n",
      "2168368435\n",
      "2225151139\n",
      "2212663549\n",
      "2172146035\n",
      "2181298302\n",
      "2213503688\n",
      "2212610642\n",
      "2164385978\n",
      "1958596633\n",
      "2202675440\n"
     ]
    },
    {
     "name": "stderr",
     "output_type": "stream",
     "text": [
      "Rate limit exceeded. Sleeping for 888 seconds.\n"
     ]
    },
    {
     "name": "stdout",
     "output_type": "stream",
     "text": [
      "354330075\n",
      "2154153902\n",
      "2199646734\n",
      "2191583551\n",
      "1476182245\n",
      "2198935088\n",
      "2149993146\n",
      "2189914874\n",
      "2175296576\n",
      "2194377619\n",
      "2161586760\n",
      "2150311897\n",
      "1906977162\n",
      "1711638740\n",
      "2148099480\n"
     ]
    },
    {
     "name": "stderr",
     "output_type": "stream",
     "text": [
      "Rate limit exceeded. Sleeping for 888 seconds.\n"
     ]
    },
    {
     "name": "stdout",
     "output_type": "stream",
     "text": [
      "2167916628\n",
      "2158769678\n",
      "2187536821\n",
      "2188411392\n",
      "294124963\n",
      "1509889693\n",
      "2184114170\n",
      "1969729218\n",
      "Exception: issue retrieving follow lists for this account -- Skipping.\n",
      "1289893105\n",
      "1912885483\n",
      "2180464646\n",
      "Exception: issue retrieving follow lists for this account -- Skipping.\n",
      "1657953889\n",
      "1879096470\n",
      "2181685189\n",
      "2181660511\n"
     ]
    },
    {
     "name": "stderr",
     "output_type": "stream",
     "text": [
      "Rate limit exceeded. Sleeping for 889 seconds.\n"
     ]
    },
    {
     "name": "stdout",
     "output_type": "stream",
     "text": [
      "2174478408\n",
      "1527603338\n",
      "2172291990\n",
      "2158943389\n",
      "1888737571\n",
      "2151215316\n",
      "946078796\n",
      "1862901301\n",
      "2148017509\n",
      "347576565\n",
      "Exception: issue retrieving follow lists for this account -- Skipping.\n",
      "1974758581\n",
      "1962655777\n",
      "272308539\n",
      "1711792454\n"
     ]
    },
    {
     "name": "stderr",
     "output_type": "stream",
     "text": [
      "Rate limit exceeded. Sleeping for 888 seconds.\n"
     ]
    },
    {
     "name": "stdout",
     "output_type": "stream",
     "text": [
      "1584666121\n",
      "Exception: issue retrieving follow lists for this account -- Skipping.\n",
      "627392544\n",
      "1957852615\n",
      "1404053016\n",
      "1945731200\n",
      "1658546102\n",
      "1931516725\n",
      "Exception: issue retrieving follow lists for this account -- Skipping.\n",
      "1927994425\n",
      "1926711565\n",
      "Exception: issue retrieving follow lists for this account -- Skipping.\n",
      "1921455984\n",
      "1919843936\n",
      "1732229803\n",
      "1688158940\n",
      "1896552992\n",
      "1888268010\n",
      "1887114385\n"
     ]
    },
    {
     "name": "stderr",
     "output_type": "stream",
     "text": [
      "Rate limit exceeded. Sleeping for 890 seconds.\n"
     ]
    },
    {
     "name": "stdout",
     "output_type": "stream",
     "text": [
      "1696000826\n",
      "1879591884\n",
      "1503278995\n",
      "1643180054\n",
      "479677224\n",
      "1865884788\n",
      "1866451596\n",
      "1588782992\n",
      "1855634263\n",
      "1742906868\n",
      "1685573660\n",
      "1733941754\n",
      "153412497\n",
      "1734206394\n",
      "1728972937\n"
     ]
    },
    {
     "name": "stderr",
     "output_type": "stream",
     "text": [
      "Rate limit exceeded. Sleeping for 886 seconds.\n"
     ]
    },
    {
     "name": "stdout",
     "output_type": "stream",
     "text": [
      "490280412\n",
      "1699757174\n",
      "1652994428\n",
      "1702460610\n",
      "1682771330\n",
      "1711019245\n",
      "1316587093\n",
      "1701281083\n",
      "1691566014\n",
      "1689911768\n",
      "257838674\n",
      "1685904198\n",
      "1654649546\n",
      "1683455581\n",
      "1682550714\n"
     ]
    },
    {
     "name": "stderr",
     "output_type": "stream",
     "text": [
      "Rate limit exceeded. Sleeping for 888 seconds.\n"
     ]
    },
    {
     "name": "stdout",
     "output_type": "stream",
     "text": [
      "624356586\n",
      "1680404359\n",
      "1680262892\n",
      "153814459\n",
      "Exception: issue retrieving follow lists for this account -- Skipping.\n",
      "1677879967\n",
      "1675538161\n",
      "1670808079\n",
      "1384782072\n",
      "1399271749\n",
      "498843067\n",
      "Exception: issue retrieving follow lists for this account -- Skipping.\n",
      "1577839830\n",
      "1643183107\n",
      "1650678494\n",
      "1620662431\n"
     ]
    },
    {
     "name": "stderr",
     "output_type": "stream",
     "text": [
      "Rate limit exceeded. Sleeping for 890 seconds.\n"
     ]
    },
    {
     "name": "stdout",
     "output_type": "stream",
     "text": [
      "1648226161\n",
      "Exception: issue retrieving follow lists for this account -- Skipping.\n",
      "901457450\n",
      "1634528527\n",
      "1642989499\n",
      "598910579\n",
      "Exception: issue retrieving follow lists for this account -- Skipping.\n",
      "1313789774\n",
      "1598064588\n",
      "1580101770\n",
      "1591494900\n",
      "1621527342\n",
      "109514493\n",
      "1533687750\n",
      "1401680839\n",
      "1571557662\n",
      "1483585195\n",
      "1409985205\n"
     ]
    },
    {
     "name": "stderr",
     "output_type": "stream",
     "text": [
      "Rate limit exceeded. Sleeping for 888 seconds.\n"
     ]
    },
    {
     "name": "stdout",
     "output_type": "stream",
     "text": [
      "1589260308\n",
      "1583542519\n",
      "1458791388\n",
      "1585631120\n",
      "1479358825\n",
      "1497130200\n",
      "742354056\n",
      "2855710518\n",
      "1287748128351719424\n",
      "1301519604590796806\n",
      "1259835651597299712\n",
      "Exception: issue retrieving follow lists for this account -- Skipping.\n",
      "1062580292135731200\n",
      "2399977776\n",
      "851695052778741760\n",
      "2496004098\n"
     ]
    },
    {
     "name": "stderr",
     "output_type": "stream",
     "text": [
      "Rate limit exceeded. Sleeping for 886 seconds.\n"
     ]
    },
    {
     "name": "stdout",
     "output_type": "stream",
     "text": [
      "904658605692993536\n",
      "1547416926\n",
      "73883129\n",
      "Exception: issue retrieving follow lists for this account -- Skipping.\n",
      "2617211575\n",
      "Exception: issue retrieving follow lists for this account -- Skipping.\n"
     ]
    }
   ],
   "source": [
    "while degrees_of_separation <= 1:\n",
    "    for i in tqdm(unvisited_neighbors):\n",
    "        print(i)\n",
    "        curr_edgelist = add_this_nodes_edgelist(i, curr_edgelist)\n",
    "        visited.add(i)\n",
    "\n",
    "    curr_edgelist, degrees_of_separation, unvisited_neighbors = transition_to_next_separation_degree(curr_edgelist, degrees_of_separation)\n",
    "    edgelist = pd.concat([edgelist, curr_edgelist])\n",
    "\n",
    "# Save in directory\n",
    "fn = 'edgelist_2_edges_from_start_' + str(starting_acc) + '.pkl'\n",
    "path = str(label) + '/' + fn\n",
    "edgelist.to_pickle(path)\n",
    "\n",
    "# Add twitter id to already processed list\n",
    "already_processed.append(starting_acc)"
   ]
  },
  {
   "cell_type": "code",
   "execution_count": null,
   "id": "9867d929",
   "metadata": {},
   "outputs": [],
   "source": []
  }
 ],
 "metadata": {
  "kernelspec": {
   "display_name": "Python 3",
   "language": "python",
   "name": "python3"
  },
  "language_info": {
   "codemirror_mode": {
    "name": "ipython",
    "version": 3
   },
   "file_extension": ".py",
   "mimetype": "text/x-python",
   "name": "python",
   "nbconvert_exporter": "python",
   "pygments_lexer": "ipython3",
   "version": "3.8.2"
  }
 },
 "nbformat": 4,
 "nbformat_minor": 5
}
