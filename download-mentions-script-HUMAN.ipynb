{
 "cells": [
  {
   "cell_type": "markdown",
   "id": "eb3bc45a",
   "metadata": {},
   "source": [
    "Only include accounts with <1000 follows\n",
    "\n",
    "Mentions:\n",
    "1) Gets tweets that mention the user. Retrieve most recent 100 tweets that mention user\n",
    "- Client.get_users_mentions(twitter_id, max_results=100, pagination_token=next_page_token)\n",
    "- 180 requests per 15-minute"
   ]
  },
  {
   "cell_type": "code",
   "execution_count": 20,
   "id": "4af467a7",
   "metadata": {},
   "outputs": [],
   "source": [
    "import pandas as pd\n",
    "import numpy as np\n",
    "import networkx as nx\n",
    "import json\n",
    "import requests"
   ]
  },
  {
   "cell_type": "code",
   "execution_count": 21,
   "id": "8c9ab5d3",
   "metadata": {},
   "outputs": [],
   "source": [
    "import tweepy\n",
    "from tweepy import Client\n",
    "\n",
    "key = 'B81Sj4ifYRstLZGMyMDM0roG3'\n",
    "secret = 'c1Rg4vdyl2mjMEC7WKDsVLTz2IlqTHy1yezn71Y9cw3LgZaxAW'\n",
    "token = 'AAAAAAAAAAAAAAAAAAAAAD6eWQEAAAAABtT80i7lkSemhYsuOIjy4O4xLQs%3DkfsByhRoXQ9odyT51sECR1vXxOLKxdtOON2Ij4OODdAt8jTcGY'\n",
    "\n",
    "# key='CSh1kvK1gpxzyhl8GYuMa0RIv'\n",
    "# secret='yfgNtKNVeqdjqktu9lR4eK0oEt68KjXhVV8jJOJgvqrvpFbL9N'\n",
    "# token='AAAAAAAAAAAAAAAAAAAAAOCeVAEAAAAABD8nomZEvbNVV3p7dFOVkhm5Kv8%3DritcqLa43rGxvmEUXtuSVp6fwDKsONk6hbgPVGyjmqI72ueB9W'\n",
    "\n",
    "api = tweepy.Client(bearer_token=token, consumer_key=key, consumer_secret=secret, \n",
    "              return_type=requests.Response,\n",
    "              wait_on_rate_limit=True)"
   ]
  },
  {
   "cell_type": "code",
   "execution_count": 22,
   "id": "90540367",
   "metadata": {},
   "outputs": [],
   "source": [
    "import os\n",
    "\n",
    "follows_processed = []\n",
    "mentions_already_processed = []\n",
    " \n",
    "for name in os.listdir('human'):\n",
    "    if os.path.isdir(name):\n",
    "        continue\n",
    "    list_name = name.replace('.pkl','').replace('edgelist_2_deg_','')\n",
    "    follows_processed.append(int(list_name))\n",
    "    \n",
    "    \n",
    "for name in os.listdir('mentions/human'):\n",
    "    if os.path.isdir(name):\n",
    "        continue\n",
    "    list_name = name.replace('.pkl','').replace('edgelist_mentions_','')\n",
    "    mentions_already_processed.append(int(list_name))"
   ]
  },
  {
   "cell_type": "code",
   "execution_count": 23,
   "id": "42c711a3",
   "metadata": {},
   "outputs": [
    {
     "data": {
      "text/plain": [
       "[1039491917145432064,\n",
       " 1047707161571328000,\n",
       " 1012481676524576770,\n",
       " 998977009056444416,\n",
       " 998242564422750209,\n",
       " 884092539418152960,\n",
       " 1914493741,\n",
       " 743063090183340032,\n",
       " 849258957768192004,\n",
       " 770774730190098433,\n",
       " 804028724987494402,\n",
       " 822815182393065476,\n",
       " 845360182607589376,\n",
       " 822903103070601216,\n",
       " 771058757434572800,\n",
       " 757821654571425792,\n",
       " 938469204021469184,\n",
       " 1038380123710545920,\n",
       " 876064009874747392,\n",
       " 942925416850907138,\n",
       " 2266976480,\n",
       " 786509563927277568,\n",
       " 1056986636674850816,\n",
       " 732838734140444676,\n",
       " 750482565056765952,\n",
       " 897377572669009920,\n",
       " 837414074132606978,\n",
       " 3319800715,\n",
       " 456361810,\n",
       " 957638029639913473,\n",
       " 2197092790,\n",
       " 3141032242]"
      ]
     },
     "execution_count": 23,
     "metadata": {},
     "output_type": "execute_result"
    }
   ],
   "source": [
    "follows_processed"
   ]
  },
  {
   "cell_type": "code",
   "execution_count": 24,
   "id": "e70680fc",
   "metadata": {},
   "outputs": [
    {
     "data": {
      "text/plain": [
       "[]"
      ]
     },
     "execution_count": 24,
     "metadata": {},
     "output_type": "execute_result"
    }
   ],
   "source": [
    "mentions_already_processed"
   ]
  },
  {
   "cell_type": "code",
   "execution_count": 25,
   "id": "e63aac46",
   "metadata": {},
   "outputs": [],
   "source": [
    "# Get neighbors of a node\n",
    "def add_this_nodes_edgelist(this_acc, curr_edgelist):\n",
    "    visited.add(this_acc)\n",
    "\n",
    "    follow_list = []    # list of user id's who show up in first 100 tweets mentioning this user\n",
    "\n",
    "    # Get the users who mentioned this user and add to edgelist\n",
    "    request = api.get_users_mentions(this_acc, max_results=100, \n",
    "                                     expansions='author_id', \n",
    "                                    )\n",
    "    data = request.json()\n",
    "\n",
    "    # for each mentioning the originating account, record account id, \n",
    "    try:\n",
    "        for acc in data['data']:\n",
    "            follow_list.append(acc['author_id'])\n",
    "\n",
    "    # Catch errors if not authorized to view user\n",
    "    except Exception as e:\n",
    "        print('Exception: issue retrieving follow lists for this account -- Skipping.')\n",
    "        return curr_edgelist\n",
    "        \n",
    "    # aggregate # mentions for user as edge weights\n",
    "    weighted_follow_list = [[x,follow_list.count(x)] for x in set(follow_list)]\n",
    "    edges_to_add = pd.DataFrame(weighted_follow_list).rename(columns={\n",
    "                                                                0: 'originating_id',\n",
    "                                                                1: 'edge_weight'\n",
    "                                                            })\n",
    "    edges_to_add['receiving_id'] = this_acc\n",
    "    curr_edgelist = pd.concat([curr_edgelist, edges_to_add])\n",
    "\n",
    "    return curr_edgelist"
   ]
  },
  {
   "cell_type": "code",
   "execution_count": 26,
   "id": "b4c77d3e",
   "metadata": {},
   "outputs": [],
   "source": [
    "def transition_to_next_separation_degree(curr_edgelist, degrees_of_separation):\n",
    "    try:\n",
    "       # create list of all neighbors in curr_edgelist df\n",
    "        unvisited_neighbors = list(curr_edgelist.originating_id.append(curr_edgelist.receiving_id).unique())\n",
    "\n",
    "        # if any nodes are in visited set, remove\n",
    "        [unvisited_neighbors.remove(i) for i in unvisited_neighbors if i in visited]\n",
    "\n",
    "        print()\n",
    "        print(f'Current Number of edges from starting node {degrees_of_separation}')\n",
    "        print(f'Num unvisited neighbors: {len(unvisited_neighbors)}')\n",
    "        print('--------------------')\n",
    "        degrees_of_separation +=1 \n",
    "    \n",
    "        return curr_edgelist, degrees_of_separation, unvisited_neighbors\n",
    "    \n",
    "    \n",
    "    except Exception as e:\n",
    "        print(e)\n",
    "        print('--------------------EXCEPTION--------------------')\n",
    "        return curr_edgelist, degrees_of_separation, []\n",
    "        \n",
    "    "
   ]
  },
  {
   "cell_type": "code",
   "execution_count": 27,
   "id": "d314824b",
   "metadata": {},
   "outputs": [],
   "source": [
    "from tqdm.notebook import tqdm"
   ]
  },
  {
   "cell_type": "code",
   "execution_count": 28,
   "id": "14fa86bb",
   "metadata": {},
   "outputs": [
    {
     "name": "stdout",
     "output_type": "stream",
     "text": [
      "Starting node == 1039491917145432064\n",
      "\n",
      "Current Number of edges from starting node 0\n",
      "Num unvisited neighbors: 80\n",
      "--------------------\n"
     ]
    },
    {
     "data": {
      "application/vnd.jupyter.widget-view+json": {
       "model_id": "e1f4976701b1444fba9622a2529105b2",
       "version_major": 2,
       "version_minor": 0
      },
      "text/plain": [
       "  0%|          | 0/80 [00:00<?, ?it/s]"
      ]
     },
     "metadata": {},
     "output_type": "display_data"
    },
    {
     "name": "stdout",
     "output_type": "stream",
     "text": [
      "Exception: issue retrieving follow lists for this account -- Skipping.\n",
      "Exception: issue retrieving follow lists for this account -- Skipping.\n",
      "\n",
      "Current Number of edges from starting node 1\n",
      "Num unvisited neighbors: 3907\n",
      "--------------------\n",
      "Starting node == 1047707161571328000\n",
      "\n",
      "Current Number of edges from starting node 0\n",
      "Num unvisited neighbors: 12\n",
      "--------------------\n"
     ]
    },
    {
     "data": {
      "application/vnd.jupyter.widget-view+json": {
       "model_id": "ca2a318386f24eb5bedbf149492c10ea",
       "version_major": 2,
       "version_minor": 0
      },
      "text/plain": [
       "  0%|          | 0/12 [00:00<?, ?it/s]"
      ]
     },
     "metadata": {},
     "output_type": "display_data"
    },
    {
     "name": "stdout",
     "output_type": "stream",
     "text": [
      "\n",
      "Current Number of edges from starting node 1\n",
      "Num unvisited neighbors: 332\n",
      "--------------------\n",
      "Starting node == 1012481676524576770\n",
      "\n",
      "Current Number of edges from starting node 0\n",
      "Num unvisited neighbors: 7\n",
      "--------------------\n"
     ]
    },
    {
     "data": {
      "application/vnd.jupyter.widget-view+json": {
       "model_id": "1bf7126f84534938947e1b6e7a3f9195",
       "version_major": 2,
       "version_minor": 0
      },
      "text/plain": [
       "  0%|          | 0/7 [00:00<?, ?it/s]"
      ]
     },
     "metadata": {},
     "output_type": "display_data"
    },
    {
     "name": "stdout",
     "output_type": "stream",
     "text": [
      "\n",
      "Current Number of edges from starting node 1\n",
      "Num unvisited neighbors: 227\n",
      "--------------------\n",
      "Starting node == 998977009056444416\n",
      "\n",
      "Current Number of edges from starting node 0\n",
      "Num unvisited neighbors: 78\n",
      "--------------------\n"
     ]
    },
    {
     "data": {
      "application/vnd.jupyter.widget-view+json": {
       "model_id": "2ff53f27cef244b682c9e71e9ff472aa",
       "version_major": 2,
       "version_minor": 0
      },
      "text/plain": [
       "  0%|          | 0/78 [00:00<?, ?it/s]"
      ]
     },
     "metadata": {},
     "output_type": "display_data"
    },
    {
     "name": "stdout",
     "output_type": "stream",
     "text": [
      "Exception: issue retrieving follow lists for this account -- Skipping.\n",
      "\n",
      "Current Number of edges from starting node 1\n",
      "Num unvisited neighbors: 3812\n",
      "--------------------\n",
      "Starting node == 998242564422750209\n",
      "Exception: issue retrieving follow lists for this account -- Skipping.\n",
      "\n",
      "Current Number of edges from starting node 0\n",
      "Num unvisited neighbors: 0\n",
      "--------------------\n"
     ]
    },
    {
     "data": {
      "application/vnd.jupyter.widget-view+json": {
       "model_id": "a2db7b4adee541c3a0989bfbc72f6c02",
       "version_major": 2,
       "version_minor": 0
      },
      "text/plain": [
       "0it [00:00, ?it/s]"
      ]
     },
     "metadata": {},
     "output_type": "display_data"
    },
    {
     "name": "stdout",
     "output_type": "stream",
     "text": [
      "\n",
      "Current Number of edges from starting node 1\n",
      "Num unvisited neighbors: 0\n",
      "--------------------\n",
      "Starting node == 884092539418152960\n",
      "\n",
      "Current Number of edges from starting node 0\n",
      "Num unvisited neighbors: 2\n",
      "--------------------\n"
     ]
    },
    {
     "data": {
      "application/vnd.jupyter.widget-view+json": {
       "model_id": "90552a87f3884c4fa48ab2743ee1fd74",
       "version_major": 2,
       "version_minor": 0
      },
      "text/plain": [
       "  0%|          | 0/2 [00:00<?, ?it/s]"
      ]
     },
     "metadata": {},
     "output_type": "display_data"
    },
    {
     "name": "stdout",
     "output_type": "stream",
     "text": [
      "\n",
      "Current Number of edges from starting node 1\n",
      "Num unvisited neighbors: 93\n",
      "--------------------\n",
      "Starting node == 1914493741\n",
      "\n",
      "Current Number of edges from starting node 0\n",
      "Num unvisited neighbors: 19\n",
      "--------------------\n"
     ]
    },
    {
     "data": {
      "application/vnd.jupyter.widget-view+json": {
       "model_id": "d8fbe3459c064ec2badf75d2a8e3ff13",
       "version_major": 2,
       "version_minor": 0
      },
      "text/plain": [
       "  0%|          | 0/19 [00:00<?, ?it/s]"
      ]
     },
     "metadata": {},
     "output_type": "display_data"
    },
    {
     "name": "stdout",
     "output_type": "stream",
     "text": [
      "\n",
      "Current Number of edges from starting node 1\n",
      "Num unvisited neighbors: 734\n",
      "--------------------\n",
      "Starting node == 743063090183340032\n",
      "\n",
      "Current Number of edges from starting node 0\n",
      "Num unvisited neighbors: 10\n",
      "--------------------\n"
     ]
    },
    {
     "data": {
      "application/vnd.jupyter.widget-view+json": {
       "model_id": "4cf1451fbe594cd897a0e92c77d8a3ca",
       "version_major": 2,
       "version_minor": 0
      },
      "text/plain": [
       "  0%|          | 0/10 [00:00<?, ?it/s]"
      ]
     },
     "metadata": {},
     "output_type": "display_data"
    },
    {
     "name": "stdout",
     "output_type": "stream",
     "text": [
      "\n",
      "Current Number of edges from starting node 1\n",
      "Num unvisited neighbors: 384\n",
      "--------------------\n",
      "Starting node == 849258957768192004\n",
      "\n",
      "Current Number of edges from starting node 0\n",
      "Num unvisited neighbors: 27\n",
      "--------------------\n"
     ]
    },
    {
     "data": {
      "application/vnd.jupyter.widget-view+json": {
       "model_id": "e0ae9a68605142258fe89cd7ffe6231b",
       "version_major": 2,
       "version_minor": 0
      },
      "text/plain": [
       "  0%|          | 0/27 [00:00<?, ?it/s]"
      ]
     },
     "metadata": {},
     "output_type": "display_data"
    },
    {
     "name": "stdout",
     "output_type": "stream",
     "text": [
      "Exception: issue retrieving follow lists for this account -- Skipping.\n",
      "\n",
      "Current Number of edges from starting node 1\n",
      "Num unvisited neighbors: 1243\n",
      "--------------------\n",
      "Starting node == 770774730190098433\n",
      "\n",
      "Current Number of edges from starting node 0\n",
      "Num unvisited neighbors: 38\n",
      "--------------------\n"
     ]
    },
    {
     "data": {
      "application/vnd.jupyter.widget-view+json": {
       "model_id": "46ff68cdf8bd4b679ff99b131ee81068",
       "version_major": 2,
       "version_minor": 0
      },
      "text/plain": [
       "  0%|          | 0/38 [00:00<?, ?it/s]"
      ]
     },
     "metadata": {},
     "output_type": "display_data"
    },
    {
     "name": "stdout",
     "output_type": "stream",
     "text": [
      "\n",
      "Current Number of edges from starting node 1\n",
      "Num unvisited neighbors: 1482\n",
      "--------------------\n",
      "Starting node == 804028724987494402\n",
      "Exception: issue retrieving follow lists for this account -- Skipping.\n",
      "\n",
      "Current Number of edges from starting node 0\n",
      "Num unvisited neighbors: 0\n",
      "--------------------\n"
     ]
    },
    {
     "data": {
      "application/vnd.jupyter.widget-view+json": {
       "model_id": "52364c2bb1ef4361a9086b6ce078c46c",
       "version_major": 2,
       "version_minor": 0
      },
      "text/plain": [
       "0it [00:00, ?it/s]"
      ]
     },
     "metadata": {},
     "output_type": "display_data"
    },
    {
     "name": "stdout",
     "output_type": "stream",
     "text": [
      "\n",
      "Current Number of edges from starting node 1\n",
      "Num unvisited neighbors: 0\n",
      "--------------------\n",
      "Starting node == 822815182393065476\n",
      "\n",
      "Current Number of edges from starting node 0\n",
      "Num unvisited neighbors: 3\n",
      "--------------------\n"
     ]
    },
    {
     "data": {
      "application/vnd.jupyter.widget-view+json": {
       "model_id": "b9550495b1ae4daaa3bc08aa27c5bfc4",
       "version_major": 2,
       "version_minor": 0
      },
      "text/plain": [
       "  0%|          | 0/3 [00:00<?, ?it/s]"
      ]
     },
     "metadata": {},
     "output_type": "display_data"
    },
    {
     "name": "stdout",
     "output_type": "stream",
     "text": [
      "\n",
      "Current Number of edges from starting node 1\n",
      "Num unvisited neighbors: 86\n",
      "--------------------\n",
      "Starting node == 845360182607589376\n",
      "\n",
      "Current Number of edges from starting node 0\n",
      "Num unvisited neighbors: 2\n",
      "--------------------\n"
     ]
    },
    {
     "data": {
      "application/vnd.jupyter.widget-view+json": {
       "model_id": "9e86c4869fa3434d804d08ffd9c4ff18",
       "version_major": 2,
       "version_minor": 0
      },
      "text/plain": [
       "  0%|          | 0/2 [00:00<?, ?it/s]"
      ]
     },
     "metadata": {},
     "output_type": "display_data"
    },
    {
     "name": "stdout",
     "output_type": "stream",
     "text": [
      "\n",
      "Current Number of edges from starting node 1\n",
      "Num unvisited neighbors: 86\n",
      "--------------------\n",
      "Starting node == 822903103070601216\n",
      "\n",
      "Current Number of edges from starting node 0\n",
      "Num unvisited neighbors: 2\n",
      "--------------------\n"
     ]
    },
    {
     "data": {
      "application/vnd.jupyter.widget-view+json": {
       "model_id": "09de8b672f2048318deca502fabaf9af",
       "version_major": 2,
       "version_minor": 0
      },
      "text/plain": [
       "  0%|          | 0/2 [00:00<?, ?it/s]"
      ]
     },
     "metadata": {},
     "output_type": "display_data"
    },
    {
     "name": "stdout",
     "output_type": "stream",
     "text": [
      "\n",
      "Current Number of edges from starting node 1\n",
      "Num unvisited neighbors: 144\n",
      "--------------------\n",
      "Starting node == 771058757434572800\n",
      "\n",
      "Current Number of edges from starting node 0\n",
      "Num unvisited neighbors: 78\n",
      "--------------------\n"
     ]
    },
    {
     "data": {
      "application/vnd.jupyter.widget-view+json": {
       "model_id": "8ce1536dfa8b4fc6810a328bf4b77cc1",
       "version_major": 2,
       "version_minor": 0
      },
      "text/plain": [
       "  0%|          | 0/78 [00:00<?, ?it/s]"
      ]
     },
     "metadata": {},
     "output_type": "display_data"
    },
    {
     "name": "stdout",
     "output_type": "stream",
     "text": [
      "Exception: issue retrieving follow lists for this account -- Skipping.\n",
      "Exception: issue retrieving follow lists for this account -- Skipping.\n",
      "Exception: issue retrieving follow lists for this account -- Skipping.\n",
      "Exception: issue retrieving follow lists for this account -- Skipping.\n",
      "Exception: issue retrieving follow lists for this account -- Skipping.\n",
      "\n",
      "Current Number of edges from starting node 1\n",
      "Num unvisited neighbors: 2744\n",
      "--------------------\n",
      "Starting node == 757821654571425792\n",
      "Exception: issue retrieving follow lists for this account -- Skipping.\n",
      "\n",
      "Current Number of edges from starting node 0\n",
      "Num unvisited neighbors: 0\n",
      "--------------------\n"
     ]
    },
    {
     "data": {
      "application/vnd.jupyter.widget-view+json": {
       "model_id": "be5ca01125e54269b27d74d49be20aa9",
       "version_major": 2,
       "version_minor": 0
      },
      "text/plain": [
       "0it [00:00, ?it/s]"
      ]
     },
     "metadata": {},
     "output_type": "display_data"
    },
    {
     "name": "stdout",
     "output_type": "stream",
     "text": [
      "\n",
      "Current Number of edges from starting node 1\n",
      "Num unvisited neighbors: 0\n",
      "--------------------\n",
      "Starting node == 938469204021469184\n",
      "\n",
      "Current Number of edges from starting node 0\n",
      "Num unvisited neighbors: 77\n",
      "--------------------\n"
     ]
    },
    {
     "data": {
      "application/vnd.jupyter.widget-view+json": {
       "model_id": "b70660a83ca34697861e92a0f9e3567f",
       "version_major": 2,
       "version_minor": 0
      },
      "text/plain": [
       "  0%|          | 0/77 [00:00<?, ?it/s]"
      ]
     },
     "metadata": {},
     "output_type": "display_data"
    },
    {
     "name": "stdout",
     "output_type": "stream",
     "text": [
      "Exception: issue retrieving follow lists for this account -- Skipping.\n",
      "Exception: issue retrieving follow lists for this account -- Skipping.\n",
      "\n",
      "Current Number of edges from starting node 1\n",
      "Num unvisited neighbors: 3163\n",
      "--------------------\n",
      "Starting node == 1038380123710545920\n",
      "\n",
      "Current Number of edges from starting node 0\n",
      "Num unvisited neighbors: 1\n",
      "--------------------\n"
     ]
    },
    {
     "data": {
      "application/vnd.jupyter.widget-view+json": {
       "model_id": "79fd9f643b214cdb93a5f934f19ed1b6",
       "version_major": 2,
       "version_minor": 0
      },
      "text/plain": [
       "  0%|          | 0/1 [00:00<?, ?it/s]"
      ]
     },
     "metadata": {},
     "output_type": "display_data"
    },
    {
     "name": "stdout",
     "output_type": "stream",
     "text": [
      "\n",
      "Current Number of edges from starting node 1\n",
      "Num unvisited neighbors: 44\n",
      "--------------------\n",
      "Starting node == 876064009874747392\n",
      "\n",
      "Current Number of edges from starting node 0\n",
      "Num unvisited neighbors: 9\n",
      "--------------------\n"
     ]
    },
    {
     "data": {
      "application/vnd.jupyter.widget-view+json": {
       "model_id": "765d16fdfca74414b8fba9d190967912",
       "version_major": 2,
       "version_minor": 0
      },
      "text/plain": [
       "  0%|          | 0/9 [00:00<?, ?it/s]"
      ]
     },
     "metadata": {},
     "output_type": "display_data"
    },
    {
     "name": "stdout",
     "output_type": "stream",
     "text": [
      "\n",
      "Current Number of edges from starting node 1\n",
      "Num unvisited neighbors: 317\n",
      "--------------------\n",
      "Starting node == 942925416850907138\n",
      "Exception: issue retrieving follow lists for this account -- Skipping.\n",
      "\n",
      "Current Number of edges from starting node 0\n",
      "Num unvisited neighbors: 0\n",
      "--------------------\n"
     ]
    },
    {
     "data": {
      "application/vnd.jupyter.widget-view+json": {
       "model_id": "495657e5e8394e7fa8f6e9281931dc8c",
       "version_major": 2,
       "version_minor": 0
      },
      "text/plain": [
       "0it [00:00, ?it/s]"
      ]
     },
     "metadata": {},
     "output_type": "display_data"
    },
    {
     "name": "stdout",
     "output_type": "stream",
     "text": [
      "\n",
      "Current Number of edges from starting node 1\n",
      "Num unvisited neighbors: 0\n",
      "--------------------\n",
      "Starting node == 2266976480\n",
      "\n",
      "Current Number of edges from starting node 0\n",
      "Num unvisited neighbors: 3\n",
      "--------------------\n"
     ]
    },
    {
     "data": {
      "application/vnd.jupyter.widget-view+json": {
       "model_id": "52bd417858044d45846290a5c8297c65",
       "version_major": 2,
       "version_minor": 0
      },
      "text/plain": [
       "  0%|          | 0/3 [00:00<?, ?it/s]"
      ]
     },
     "metadata": {},
     "output_type": "display_data"
    },
    {
     "name": "stdout",
     "output_type": "stream",
     "text": [
      "\n",
      "Current Number of edges from starting node 1\n",
      "Num unvisited neighbors: 138\n",
      "--------------------\n",
      "Starting node == 786509563927277568\n",
      "\n",
      "Current Number of edges from starting node 0\n",
      "Num unvisited neighbors: 4\n",
      "--------------------\n"
     ]
    },
    {
     "data": {
      "application/vnd.jupyter.widget-view+json": {
       "model_id": "b9fa168c2e264123a3e671d0b5a75cf6",
       "version_major": 2,
       "version_minor": 0
      },
      "text/plain": [
       "  0%|          | 0/4 [00:00<?, ?it/s]"
      ]
     },
     "metadata": {},
     "output_type": "display_data"
    },
    {
     "name": "stderr",
     "output_type": "stream",
     "text": [
      "Rate limit exceeded. Sleeping for 379 seconds.\n"
     ]
    },
    {
     "name": "stdout",
     "output_type": "stream",
     "text": [
      "\n",
      "Current Number of edges from starting node 1\n",
      "Num unvisited neighbors: 30\n",
      "--------------------\n",
      "Starting node == 1056986636674850816\n",
      "\n",
      "Current Number of edges from starting node 0\n",
      "Num unvisited neighbors: 2\n",
      "--------------------\n"
     ]
    },
    {
     "data": {
      "application/vnd.jupyter.widget-view+json": {
       "model_id": "77a328831f8c465eaa89afc6c8cb850c",
       "version_major": 2,
       "version_minor": 0
      },
      "text/plain": [
       "  0%|          | 0/2 [00:00<?, ?it/s]"
      ]
     },
     "metadata": {},
     "output_type": "display_data"
    },
    {
     "name": "stdout",
     "output_type": "stream",
     "text": [
      "\n",
      "Current Number of edges from starting node 1\n",
      "Num unvisited neighbors: 91\n",
      "--------------------\n",
      "Starting node == 732838734140444676\n",
      "\n",
      "Current Number of edges from starting node 0\n",
      "Num unvisited neighbors: 6\n",
      "--------------------\n"
     ]
    },
    {
     "data": {
      "application/vnd.jupyter.widget-view+json": {
       "model_id": "ac2189d33e8745b6a8be450e116f2daf",
       "version_major": 2,
       "version_minor": 0
      },
      "text/plain": [
       "  0%|          | 0/6 [00:00<?, ?it/s]"
      ]
     },
     "metadata": {},
     "output_type": "display_data"
    },
    {
     "name": "stdout",
     "output_type": "stream",
     "text": [
      "\n",
      "Current Number of edges from starting node 1\n",
      "Num unvisited neighbors: 75\n",
      "--------------------\n",
      "Starting node == 750482565056765952\n",
      "\n",
      "Current Number of edges from starting node 0\n",
      "Num unvisited neighbors: 19\n",
      "--------------------\n"
     ]
    },
    {
     "data": {
      "application/vnd.jupyter.widget-view+json": {
       "model_id": "c06293352c66476faed8ab8806179cd3",
       "version_major": 2,
       "version_minor": 0
      },
      "text/plain": [
       "  0%|          | 0/19 [00:00<?, ?it/s]"
      ]
     },
     "metadata": {},
     "output_type": "display_data"
    },
    {
     "name": "stdout",
     "output_type": "stream",
     "text": [
      "Exception: issue retrieving follow lists for this account -- Skipping.\n",
      "Exception: issue retrieving follow lists for this account -- Skipping.\n",
      "Exception: issue retrieving follow lists for this account -- Skipping.\n",
      "\n",
      "Current Number of edges from starting node 1\n",
      "Num unvisited neighbors: 736\n",
      "--------------------\n",
      "Starting node == 897377572669009920\n",
      "\n",
      "Current Number of edges from starting node 0\n",
      "Num unvisited neighbors: 1\n",
      "--------------------\n"
     ]
    },
    {
     "data": {
      "application/vnd.jupyter.widget-view+json": {
       "model_id": "f0c0bb774d7b4f9f968847bb7a468d75",
       "version_major": 2,
       "version_minor": 0
      },
      "text/plain": [
       "  0%|          | 0/1 [00:00<?, ?it/s]"
      ]
     },
     "metadata": {},
     "output_type": "display_data"
    },
    {
     "name": "stdout",
     "output_type": "stream",
     "text": [
      "\n",
      "Current Number of edges from starting node 1\n",
      "Num unvisited neighbors: 31\n",
      "--------------------\n",
      "Starting node == 837414074132606978\n",
      "\n",
      "Current Number of edges from starting node 0\n",
      "Num unvisited neighbors: 7\n",
      "--------------------\n"
     ]
    },
    {
     "data": {
      "application/vnd.jupyter.widget-view+json": {
       "model_id": "a7c41b50454d4caa8c4405113d18f400",
       "version_major": 2,
       "version_minor": 0
      },
      "text/plain": [
       "  0%|          | 0/7 [00:00<?, ?it/s]"
      ]
     },
     "metadata": {},
     "output_type": "display_data"
    },
    {
     "name": "stdout",
     "output_type": "stream",
     "text": [
      "\n",
      "Current Number of edges from starting node 1\n",
      "Num unvisited neighbors: 190\n",
      "--------------------\n",
      "Starting node == 3319800715\n",
      "\n",
      "Current Number of edges from starting node 0\n",
      "Num unvisited neighbors: 21\n",
      "--------------------\n"
     ]
    },
    {
     "data": {
      "application/vnd.jupyter.widget-view+json": {
       "model_id": "a21986dfb0314854bfb9e8f0e36f8c5f",
       "version_major": 2,
       "version_minor": 0
      },
      "text/plain": [
       "  0%|          | 0/21 [00:00<?, ?it/s]"
      ]
     },
     "metadata": {},
     "output_type": "display_data"
    },
    {
     "name": "stdout",
     "output_type": "stream",
     "text": [
      "\n",
      "Current Number of edges from starting node 1\n",
      "Num unvisited neighbors: 904\n",
      "--------------------\n",
      "Starting node == 456361810\n",
      "\n",
      "Current Number of edges from starting node 0\n",
      "Num unvisited neighbors: 24\n",
      "--------------------\n"
     ]
    },
    {
     "data": {
      "application/vnd.jupyter.widget-view+json": {
       "model_id": "d8c88aeeece5499f95b3a8f6d952a737",
       "version_major": 2,
       "version_minor": 0
      },
      "text/plain": [
       "  0%|          | 0/24 [00:00<?, ?it/s]"
      ]
     },
     "metadata": {},
     "output_type": "display_data"
    },
    {
     "name": "stdout",
     "output_type": "stream",
     "text": [
      "\n",
      "Current Number of edges from starting node 1\n",
      "Num unvisited neighbors: 954\n",
      "--------------------\n",
      "Starting node == 957638029639913473\n",
      "Exception: issue retrieving follow lists for this account -- Skipping.\n",
      "\n",
      "Current Number of edges from starting node 0\n",
      "Num unvisited neighbors: 0\n",
      "--------------------\n"
     ]
    },
    {
     "data": {
      "application/vnd.jupyter.widget-view+json": {
       "model_id": "ca509426dafb4cd6875226492e0c4313",
       "version_major": 2,
       "version_minor": 0
      },
      "text/plain": [
       "0it [00:00, ?it/s]"
      ]
     },
     "metadata": {},
     "output_type": "display_data"
    },
    {
     "name": "stdout",
     "output_type": "stream",
     "text": [
      "\n",
      "Current Number of edges from starting node 1\n",
      "Num unvisited neighbors: 0\n",
      "--------------------\n",
      "Starting node == 2197092790\n",
      "\n",
      "Current Number of edges from starting node 0\n",
      "Num unvisited neighbors: 73\n",
      "--------------------\n"
     ]
    },
    {
     "data": {
      "application/vnd.jupyter.widget-view+json": {
       "model_id": "3d51bea619ad4144a107c829faa33ac0",
       "version_major": 2,
       "version_minor": 0
      },
      "text/plain": [
       "  0%|          | 0/73 [00:00<?, ?it/s]"
      ]
     },
     "metadata": {},
     "output_type": "display_data"
    },
    {
     "name": "stdout",
     "output_type": "stream",
     "text": [
      "Exception: issue retrieving follow lists for this account -- Skipping.\n",
      "Exception: issue retrieving follow lists for this account -- Skipping.\n",
      "Exception: issue retrieving follow lists for this account -- Skipping.\n",
      "Exception: issue retrieving follow lists for this account -- Skipping.\n",
      "\n",
      "Current Number of edges from starting node 1\n",
      "Num unvisited neighbors: 2693\n",
      "--------------------\n",
      "Starting node == 3141032242\n",
      "\n",
      "Current Number of edges from starting node 0\n",
      "Num unvisited neighbors: 22\n",
      "--------------------\n"
     ]
    },
    {
     "data": {
      "application/vnd.jupyter.widget-view+json": {
       "model_id": "94b0370d5513440faf865098d5cfb8b1",
       "version_major": 2,
       "version_minor": 0
      },
      "text/plain": [
       "  0%|          | 0/22 [00:00<?, ?it/s]"
      ]
     },
     "metadata": {},
     "output_type": "display_data"
    },
    {
     "name": "stdout",
     "output_type": "stream",
     "text": [
      "Exception: issue retrieving follow lists for this account -- Skipping.\n",
      "Exception: issue retrieving follow lists for this account -- Skipping.\n",
      "\n",
      "Current Number of edges from starting node 1\n",
      "Num unvisited neighbors: 649\n",
      "--------------------\n"
     ]
    }
   ],
   "source": [
    "# Create Edgelists for each account in the filtered botometer dataset.\n",
    "cols=['originating_id', 'receiving_id', 'edge_weight']\n",
    "      \n",
    "label = 'human'\n",
    "for starting_acc in follows_processed:\n",
    "    if starting_acc in mentions_already_processed:\n",
    "        continue\n",
    "    print(f'Starting node == {starting_acc}')\n",
    "    # Initialization code for populating edgelist starting from node specified by \"starting_acc\"\n",
    "    edgelist = pd.DataFrame(columns=cols)\n",
    "\n",
    "    degrees_of_separation = 0\n",
    "\n",
    "    visited = set()\n",
    "    visited.add(starting_acc)\n",
    "\n",
    "    edgelist = add_this_nodes_edgelist(starting_acc, edgelist) # contains neighbors of starting node\n",
    "    edgelist, degrees_of_separation, unvisited_neighbors = transition_to_next_separation_degree(edgelist, degrees_of_separation)\n",
    "    \n",
    "    # iterate thru all unvisited neighbors with 2 degree of separation from starting (labeled) node\n",
    "    # process df in chunks before concatenating\n",
    "    while degrees_of_separation <= 1:\n",
    "        curr_edgelist = pd.DataFrame(columns=cols)\n",
    "        for i in tqdm(unvisited_neighbors):\n",
    "            curr_edgelist = add_this_nodes_edgelist(i, curr_edgelist)\n",
    "            visited.add(i)\n",
    "        \n",
    "        curr_edgelist, degrees_of_separation, unvisited_neighbors = transition_to_next_separation_degree(curr_edgelist, degrees_of_separation)\n",
    "        edgelist = pd.concat([edgelist, curr_edgelist])\n",
    "\n",
    "    # Save in directory\n",
    "    fn = 'edgelist_mentions_' + str(starting_acc) + '.pkl'\n",
    "    path = str('mentions/' + label) + '/' + fn\n",
    "    edgelist.to_pickle(path)\n",
    "    \n",
    "    # Add twitter id to already processed list\n",
    "    mentions_already_processed.append(starting_acc)"
   ]
  },
  {
   "cell_type": "code",
   "execution_count": null,
   "id": "09c073b6",
   "metadata": {},
   "outputs": [],
   "source": []
  }
 ],
 "metadata": {
  "kernelspec": {
   "display_name": "Python 3",
   "language": "python",
   "name": "python3"
  },
  "language_info": {
   "codemirror_mode": {
    "name": "ipython",
    "version": 3
   },
   "file_extension": ".py",
   "mimetype": "text/x-python",
   "name": "python",
   "nbconvert_exporter": "python",
   "pygments_lexer": "ipython3",
   "version": "3.8.2"
  }
 },
 "nbformat": 4,
 "nbformat_minor": 5
}
