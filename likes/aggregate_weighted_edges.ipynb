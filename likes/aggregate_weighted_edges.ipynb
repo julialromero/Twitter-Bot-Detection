{
 "cells": [
  {
   "cell_type": "code",
   "execution_count": 123,
   "id": "b38b0395",
   "metadata": {},
   "outputs": [],
   "source": [
    "import pandas as pd\n",
    "import numpy as np\n",
    "import networkx as nx\n",
    "import json\n",
    "import requests\n",
    "import os\n",
    "\n",
    "import tweepy\n",
    "from tweepy import Client\n",
    "\n",
    "\n",
    "api = tweepy.Client(bearer_token=token, consumer_key=key, consumer_secret=secret, \n",
    "              return_type=requests.Response,\n",
    "              wait_on_rate_limit=True)"
   ]
  },
  {
   "cell_type": "code",
   "execution_count": 131,
   "id": "f05edd7f",
   "metadata": {},
   "outputs": [],
   "source": [
    "already_processed = []"
   ]
  },
  {
   "cell_type": "code",
   "execution_count": 146,
   "id": "09fc3fbe",
   "metadata": {},
   "outputs": [],
   "source": [
    "label = 'human'\n",
    "\n"
   ]
  },
  {
   "cell_type": "code",
   "execution_count": 147,
   "id": "b417039c",
   "metadata": {},
   "outputs": [],
   "source": [
    "for name in os.listdir(label):\n",
    "    if os.path.isdir(name):\n",
    "        continue\n",
    "    this_acc = name.replace('likes_human_','')\n",
    "    already_processed.append(int(this_acc))\n",
    "\n",
    "    path =  label + '/' + name\n",
    "    edgelist = pd.read_pickle(path)\n",
    "    \n",
    "    if edgelist.shape[0] == 0:\n",
    "        continue\n",
    "    \n",
    "    to_merge = edgelist.loc[(edgelist.originating_follower_count.notna()) \n",
    "                        | (edgelist.originating_following_count.notna())].drop(columns='receiving_id')\n",
    "\n",
    "    agg = edgelist.groupby(['originating_id', 'receiving_id']).size().reset_index().rename(columns={\n",
    "        0: 'edge_weight'\n",
    "    })\n",
    "\n",
    "    agg = agg.sort_values(by='edge_weight', ascending=False)\n",
    "\n",
    "    merged = agg.merge(to_merge, on='originating_id', how='left').drop_duplicates()\n",
    "    merged['receiving_following_count'] = np.nan\n",
    "    merged['receiving_follower_count'] = np.nan\n",
    "\n",
    "    returned = add_follow_counts(merged)\n",
    "\n",
    "    returned.to_pickle('final_data/' + label + '/' + this_acc)"
   ]
  },
  {
   "cell_type": "code",
   "execution_count": 141,
   "id": "9173fd81",
   "metadata": {},
   "outputs": [],
   "source": [
    "def add_follow_counts(edgelist):\n",
    "    edgelist = edgelist[['originating_id', 'receiving_id', 'edge_weight']]\n",
    "    all_temp = pd.DataFrame(columns = ['originating_id', 'originating_follower_count',\n",
    "       'originating_following_count'])\n",
    "    all_temp2 = pd.DataFrame(columns = ['receiving_id', 'receiving_follower_count',\n",
    "       'receiving_following_count'])\n",
    "\n",
    "    # Add follower/following counts\n",
    "    unique_ids = edgelist['originating_id'].append(edgelist['receiving_id']).unique()\n",
    "\n",
    "    iterations = int(len(unique_ids)/100) + 1\n",
    "    for i in range(iterations):\n",
    "        left = i*100\n",
    "        right = (i+1)*100\n",
    "\n",
    "        temps = unique_ids[left:right]\n",
    "        if len(temps) == 0:\n",
    "            continue\n",
    "\n",
    "        r = api.get_users(ids=list(temps), user_fields='public_metrics')\n",
    "\n",
    "        followers = []\n",
    "        following = []\n",
    "        for acc in r.json()['data']:\n",
    "            followers.append(acc['public_metrics']['followers_count'])\n",
    "            following.append(acc['public_metrics']['following_count'])\n",
    "\n",
    "        temp = pd.DataFrame([list(temps), followers, following]).transpose().rename(columns={\n",
    "            0: 'originating_id',\n",
    "            1: 'originating_follower_count',\n",
    "            2:  'originating_following_count'\n",
    "        })\n",
    "        temp.originating_id = temp.originating_id.astype(str)\n",
    "\n",
    "        temp2 = pd.DataFrame([list(temps), followers, following]).transpose().rename(columns={\n",
    "            0: 'receiving_id',\n",
    "            1: 'receiving_follower_count',\n",
    "            2:  'receiving_following_count'\n",
    "        })\n",
    "        temp2.receiving_id = temp2.receiving_id.astype(str)\n",
    "\n",
    "\n",
    "        all_temp = pd.concat([all_temp, temp])\n",
    "        all_temp2 = pd.concat([all_temp2, temp2])\n",
    "\n",
    "        with_counts = edgelist.merge(all_temp, on='originating_id', how='left')\n",
    "        with_counts = with_counts.merge(all_temp2, on='receiving_id', how='left')\n",
    "        \n",
    "        with_counts = with_counts.drop_duplicates()\n",
    "    return with_counts"
   ]
  },
  {
   "cell_type": "code",
   "execution_count": null,
   "id": "2307bfca",
   "metadata": {},
   "outputs": [],
   "source": []
  }
 ],
 "metadata": {
  "kernelspec": {
   "display_name": "Python 3",
   "language": "python",
   "name": "python3"
  },
  "language_info": {
   "codemirror_mode": {
    "name": "ipython",
    "version": 3
   },
   "file_extension": ".py",
   "mimetype": "text/x-python",
   "name": "python",
   "nbconvert_exporter": "python",
   "pygments_lexer": "ipython3",
   "version": "3.8.2"
  }
 },
 "nbformat": 4,
 "nbformat_minor": 5
}
