{
 "cells": [
  {
   "cell_type": "code",
   "execution_count": 123,
   "id": "75e578f8",
   "metadata": {},
   "outputs": [],
   "source": [
    "import pandas as pd\n",
    "import numpy as np\n",
    "import networkx as nx\n",
    "import json\n",
    "import requests\n",
    "import os\n",
    "\n",
    "import tweepy\n",
    "from tweepy import Client\n",
    "\n",
    "\n",
    "api = tweepy.Client(bearer_token=token, consumer_key=key, consumer_secret=secret, \n",
    "              return_type=requests.Response,\n",
    "              wait_on_rate_limit=True)"
   ]
  },
  {
   "cell_type": "code",
   "execution_count": 178,
   "id": "1f5e4720",
   "metadata": {},
   "outputs": [],
   "source": [
    "already_processed = []\n",
    "\n",
    "label = 'human'\n",
    "\n",
    "for name in os.listdir(label):\n",
    "    if os.path.isdir(name):\n",
    "        continue\n",
    "    this_acc = name\n",
    "    already_processed.append(int(this_acc))\n"
   ]
  },
  {
   "cell_type": "code",
   "execution_count": 179,
   "id": "ab8e7372",
   "metadata": {},
   "outputs": [
    {
     "data": {
      "text/plain": [
       "[1655904638,\n",
       " 884092539418152960,\n",
       " 4307623643,\n",
       " 1388299412,\n",
       " 2959147470,\n",
       " 998977009056444416,\n",
       " 844779426260791296,\n",
       " 728072065245319169,\n",
       " 1420308074,\n",
       " 1039491917145432064,\n",
       " 904994826,\n",
       " 2184009647,\n",
       " 822903103070601216,\n",
       " 1056986636674850816,\n",
       " 4096069693,\n",
       " 743063090183340032,\n",
       " 771058757434572800,\n",
       " 953231816810315777,\n",
       " 71073851,\n",
       " 716788525866332161,\n",
       " 358233640]"
      ]
     },
     "execution_count": 179,
     "metadata": {},
     "output_type": "execute_result"
    }
   ],
   "source": [
    "already_processed"
   ]
  },
  {
   "cell_type": "code",
   "execution_count": 180,
   "id": "68db516b",
   "metadata": {},
   "outputs": [
    {
     "name": "stdout",
     "output_type": "stream",
     "text": [
      "957638029639913473\n",
      "2257456093\n",
      "3367811173\n",
      "804028724987494402\n",
      "1054684530592878592\n",
      "2922179132\n",
      "757821654571425792\n",
      "1038380123710545920\n",
      "750482565056765952\n",
      "2266976480\n",
      "1914493741\n",
      "938469204021469184\n",
      "837414074132606978\n"
     ]
    }
   ],
   "source": [
    "for name in os.listdir('intermediate_data/' + label):\n",
    "    if os.path.isdir(name):\n",
    "        continue\n",
    "    this_acc = name.replace('likes_human_','').replace('likes_bot_','')\n",
    "    if int(this_acc) in already_processed:\n",
    "        continue\n",
    "    print(this_acc)\n"
   ]
  },
  {
   "cell_type": "code",
   "execution_count": 181,
   "id": "96487c4b",
   "metadata": {},
   "outputs": [],
   "source": [
    "for name in os.listdir('intermediate_data/' + label):\n",
    "    if os.path.isdir(name):\n",
    "        continue\n",
    "    this_acc = name.replace('likes_human_','').replace('likes_bot_','')\n",
    "    if int(this_acc) in already_processed:\n",
    "        continue\n",
    "    \n",
    "    path = 'intermediate_data/' + label + '/' + name\n",
    "    edgelist = pd.read_pickle(path)\n",
    "    \n",
    "    if edgelist.shape[0] == 0:\n",
    "        edgelist.to_pickle(label + '/' + this_acc)\n",
    "        continue\n",
    "    \n",
    "    to_merge = edgelist.loc[(edgelist.originating_follower_count.notna()) \n",
    "                        | (edgelist.originating_following_count.notna())].drop(columns='receiving_id')\n",
    "\n",
    "    agg = edgelist.groupby(['originating_id', 'receiving_id']).size().reset_index().rename(columns={\n",
    "        0: 'edge_weight'\n",
    "    })\n",
    "\n",
    "    agg = agg.sort_values(by='edge_weight', ascending=False)\n",
    "\n",
    "    merged = agg.merge(to_merge, on='originating_id', how='left').drop_duplicates()\n",
    "    merged['receiving_following_count'] = np.nan\n",
    "    merged['receiving_follower_count'] = np.nan\n",
    "\n",
    "    returned = add_follow_counts(merged)\n",
    "\n",
    "    returned.to_pickle(label + '/' + this_acc)"
   ]
  },
  {
   "cell_type": "code",
   "execution_count": 167,
   "id": "716b0626",
   "metadata": {},
   "outputs": [],
   "source": [
    "def add_follow_counts(edgelist):\n",
    "    edgelist = edgelist[['originating_id', 'receiving_id', 'edge_weight']]\n",
    "    all_temp = pd.DataFrame(columns = ['originating_id', 'originating_follower_count',\n",
    "       'originating_following_count'])\n",
    "    all_temp2 = pd.DataFrame(columns = ['receiving_id', 'receiving_follower_count',\n",
    "       'receiving_following_count'])\n",
    "\n",
    "    # Add follower/following counts\n",
    "    unique_ids = edgelist['originating_id'].append(edgelist['receiving_id']).unique()\n",
    "\n",
    "    iterations = int(len(unique_ids)/100) + 1\n",
    "    for i in range(iterations):\n",
    "        left = i*100\n",
    "        right = (i+1)*100\n",
    "\n",
    "        temps = unique_ids[left:right]\n",
    "        if len(temps) == 0:\n",
    "            continue\n",
    "\n",
    "        r = api.get_users(ids=list(temps), user_fields='public_metrics')\n",
    "\n",
    "        followers = []\n",
    "        following = []\n",
    "        for acc in r.json()['data']:\n",
    "            followers.append(acc['public_metrics']['followers_count'])\n",
    "            following.append(acc['public_metrics']['following_count'])\n",
    "\n",
    "        temp = pd.DataFrame([list(temps), followers, following]).transpose().rename(columns={\n",
    "            0: 'originating_id',\n",
    "            1: 'originating_follower_count',\n",
    "            2:  'originating_following_count'\n",
    "        })\n",
    "        temp.originating_id = temp.originating_id.astype(str)\n",
    "\n",
    "        temp2 = pd.DataFrame([list(temps), followers, following]).transpose().rename(columns={\n",
    "            0: 'receiving_id',\n",
    "            1: 'receiving_follower_count',\n",
    "            2:  'receiving_following_count'\n",
    "        })\n",
    "        temp2.receiving_id = temp2.receiving_id.astype(str)\n",
    "\n",
    "\n",
    "        all_temp = pd.concat([all_temp, temp])\n",
    "        all_temp2 = pd.concat([all_temp2, temp2])\n",
    "\n",
    "        with_counts = edgelist.merge(all_temp, on='originating_id', how='left')\n",
    "        with_counts = with_counts.merge(all_temp2, on='receiving_id', how='left')\n",
    "        \n",
    "        with_counts = with_counts.drop_duplicates()\n",
    "    return with_counts"
   ]
  },
  {
   "cell_type": "code",
   "execution_count": null,
   "id": "a76855f8",
   "metadata": {},
   "outputs": [],
   "source": []
  }
 ],
 "metadata": {
  "kernelspec": {
   "display_name": "Python 3",
   "language": "python",
   "name": "python3"
  },
  "language_info": {
   "codemirror_mode": {
    "name": "ipython",
    "version": 3
   },
   "file_extension": ".py",
   "mimetype": "text/x-python",
   "name": "python",
   "nbconvert_exporter": "python",
   "pygments_lexer": "ipython3",
   "version": "3.8.2"
  }
 },
 "nbformat": 4,
 "nbformat_minor": 5
}
