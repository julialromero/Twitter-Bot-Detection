{
 "cells": [
  {
   "cell_type": "markdown",
   "id": "e97f4ff8",
   "metadata": {},
   "source": [
    "Script for downloading likes:\n",
    "\n",
    "Endptt 1 - Download most recent 100 liking users given a tweet id\n",
    "\n",
    "    - 75 requests per 15-minute\n",
    "\n",
    "Endpt 2 - Download a user's liked tweets. \n",
    "\n",
    "    - let's restrict this to most recent 1000 likes\n",
    "    - 75 requests per 15-minute\n",
    "    - goes towards tweet cap of 500,000 per month\n",
    "    \n",
    "    \n",
    "Approach:\n",
    "\n",
    "    1) For each labelled account, GET most recent 100 tweets that are not retweets or replies\n",
    "    - api.get_users_tweets(twitter_id, exclude=['retweets', 'replies'], max_results=100])\n",
    "    - 900/15 mins\n",
    "    \n",
    "    2) Get neighbor nodes:\n",
    "    - For each tweet returned, get users who liked it\n",
    "        - api.get_liking_users(tweet_id,  user_fields=['public_metrics'])\n",
    "        - 75 / 15 mins\n",
    "        - returns most recent 100 users who liked the tweet\n",
    "    - For this user, get liked tweets:\n",
    "        - api.get_liked_tweets(twitter_id, max_results=100, expansions='author_id', user_fields=['public_metrics'])\n",
    "        - 75 / 15 mins\n",
    "    \n",
    "    "
   ]
  },
  {
   "cell_type": "code",
   "execution_count": null,
   "id": "57b12047",
   "metadata": {},
   "outputs": [],
   "source": []
  },
  {
   "cell_type": "code",
   "execution_count": 1,
   "id": "990bbc88",
   "metadata": {},
   "outputs": [],
   "source": [
    "import pandas as pd\n",
    "import numpy as np\n",
    "import networkx as nx\n",
    "import json\n",
    "import requests\n",
    "\n",
    "import tweepy\n",
    "from tweepy import Client\n",
    "\n",
    "key = \"\"\n",
    "secret = \"\"\n",
    "token = \"\"\n",
    "\n",
    "api = tweepy.Client(bearer_token=token, consumer_key=key, consumer_secret=secret, \n",
    "              return_type=requests.Response,\n",
    "              wait_on_rate_limit=True)"
   ]
  },
  {
   "cell_type": "code",
   "execution_count": 2,
   "id": "d827bfdc",
   "metadata": {},
   "outputs": [],
   "source": [
    "combined = pd.read_pickle('../node_and_degree_list.pkl')\n",
    "thresh = 1000\n",
    "# Drop accounts that exceed threshold\n",
    "small = combined.loc[combined.followers_count < thresh]\n",
    "small = small.loc[small.followers_count < thresh]"
   ]
  },
  {
   "cell_type": "code",
   "execution_count": 3,
   "id": "2bcb2bb7",
   "metadata": {},
   "outputs": [],
   "source": [
    "# DEFINITION - return list of tweet ids for 50 most recent tweets\n",
    "def get_tweet_list(twitter_id):\n",
    "    r = api.get_users_tweets(twitter_id, exclude=['retweets', 'replies'], max_results=50)\n",
    "    tweet_ids = []\n",
    "    \n",
    "    try:\n",
    "        for i in r.json()['data']:\n",
    "            tweet_ids.append(i['id'])\n",
    "    except:\n",
    "        return []\n",
    "    \n",
    "    return tweet_ids"
   ]
  },
  {
   "cell_type": "code",
   "execution_count": 4,
   "id": "69529b1d",
   "metadata": {},
   "outputs": [],
   "source": [
    "# DEFINITION - return pandas df of users who liked input list of tweets + follow counts\n",
    "def get_df_liking_users(og_id, tweet_ids, cols):\n",
    "    if len(tweet_ids) == 0:\n",
    "        print('No tweets')\n",
    "        return pd.DataFrame(columns=cols)\n",
    "    for tweet_id in tweet_ids:\n",
    "        try:\n",
    "            r = api.get_liking_users(tweet_id, user_fields=['public_metrics'])\n",
    "\n",
    "            df = pd.DataFrame(columns=cols)\n",
    "\n",
    "            if r.json()['meta']['result_count'] == 0:\n",
    "                return df\n",
    "        except:\n",
    "            return pd.DataFrame(columns=cols)\n",
    "        for user in r.json()['data']:\n",
    "            uid = user['id']\n",
    "            followers = user['public_metrics']['followers_count']\n",
    "            following = user['public_metrics']['following_count']\n",
    "\n",
    "            df = df.append({\n",
    "                cols[0]: uid,\n",
    "                cols[1]: og_id,\n",
    "                cols[2]: following,\n",
    "                cols[3]: followers\n",
    "            }, ignore_index=True)\n",
    "            \n",
    "    return df"
   ]
  },
  {
   "cell_type": "code",
   "execution_count": 5,
   "id": "848e3b80",
   "metadata": {},
   "outputs": [],
   "source": [
    "# DEFINITION - takes list of liked twitter_ids and formats into df\n",
    "def make_df_from_user_list(og_id, user_list, cols):\n",
    "    df = pd.DataFrame(columns=cols)\n",
    "    if len(user_list) == 0:\n",
    "        print('No likes')\n",
    "        return df\n",
    "    \n",
    "    for uid in user_list:\n",
    "        df = df.append({\n",
    "                    cols[0]: uid,\n",
    "                    cols[1]: og_id,\n",
    "                    cols[2]: np.nan,\n",
    "                    cols[3]: np.nan\n",
    "                }, ignore_index=True)\n",
    "    return df"
   ]
  },
  {
   "cell_type": "code",
   "execution_count": 6,
   "id": "17f04b5a",
   "metadata": {},
   "outputs": [],
   "source": [
    "# DEFINITION - return df of authors of last 50 tweets this user has liked\n",
    "def get_df_liked_users(twitter_id, cols):\n",
    "    r = api.get_liked_tweets(twitter_id, max_results=50, expansions='author_id')\n",
    "\n",
    "    df = pd.DataFrame(columns=cols)\n",
    "    try:\n",
    "        if r.json()['meta']['result_count'] == 0:\n",
    "                return df\n",
    "\n",
    "        # Get twitter_id of author\n",
    "        liked_users = []\n",
    "        for tweet in r.json()['data']:\n",
    "            liked_users.append(tweet['author_id'])\n",
    "\n",
    "        df = make_df_from_user_list(twitter_id, liked_users, cols)\n",
    "    \n",
    "    except:\n",
    "        pass\n",
    "        \n",
    "    return df"
   ]
  },
  {
   "cell_type": "code",
   "execution_count": 7,
   "id": "02816ed1",
   "metadata": {},
   "outputs": [],
   "source": [
    "from collections import deque\n",
    "\n",
    "def recursion(visited, neighbors, edgelist, distance_from_root):\n",
    "    if len(neighbors) != len(distance_from_root):\n",
    "        print('Queue lengths not equal')\n",
    "        return edgelist\n",
    "    \n",
    "    if not neighbors:\n",
    "        return edgelist\n",
    "    \n",
    "    # If in visited, skip\n",
    "    d = distance_from_root.popleft()\n",
    "    twitter_id = neighbors.popleft()\n",
    "    \n",
    "    print(f'Distance: {d}')\n",
    "    \n",
    "    if ((twitter_id in visited) & (d == 0))| (d > 1):\n",
    "        print('here1')\n",
    "        return edgelist\n",
    "    \n",
    "    # Else add to visited\n",
    "    visited.add(twitter_id)\n",
    "    \n",
    "    # Get edgelist for this node\n",
    "    tweet_ids = get_tweet_list(twitter_id)\n",
    "    liking_df = get_df_liking_users(twitter_id, tweet_ids, cols)\n",
    "    liked_df = get_df_liked_users(twitter_id, cols)\n",
    "    node_edgelist = pd.concat([liked_df, liking_df])\n",
    "    \n",
    "    # Add this node edgelist to network edgelist\n",
    "    edgelist = pd.concat([edgelist, node_edgelist])\n",
    "    print('concat to edgelist')\n",
    "    \n",
    "    \n",
    "    # Add neighbors to queue if less than 2 edges away from start\n",
    "    if d+1 <= 1:\n",
    "        for uid in node_edgelist.originating_id.append(node_edgelist.receiving_id):\n",
    "            if uid not in visited:\n",
    "                visited.add(uid)\n",
    "                neighbors.append(uid)\n",
    "                distance_from_root.append(d+1)\n",
    "    \n",
    "    edgelist = recursion(visited, neighbors, edgelist, distance_from_root)\n",
    "    \n",
    "    return edgelist"
   ]
  },
  {
   "cell_type": "code",
   "execution_count": 13,
   "id": "f8272f50",
   "metadata": {},
   "outputs": [],
   "source": [
    "small_human = small.loc[small.label == 'human']"
   ]
  },
  {
   "cell_type": "code",
   "execution_count": 16,
   "id": "06de9a39",
   "metadata": {},
   "outputs": [
    {
     "data": {
      "text/plain": [
       "[913028718377005056,\n",
       " 884092539418152960,\n",
       " 938469204021469184,\n",
       " 1039491917145432064,\n",
       " 757821654571425792,\n",
       " 750482565056765952,\n",
       " 771058757434572800,\n",
       " 822903103070601216,\n",
       " 957638029639913473,\n",
       " 716788525866332161,\n",
       " 1038380123710545920,\n",
       " 953231816810315777,\n",
       " 998977009056444416,\n",
       " 728072065245319169,\n",
       " 1914493741,\n",
       " 804028724987494402,\n",
       " 743063090183340032,\n",
       " 1054684530592878592,\n",
       " 1056986636674850816,\n",
       " 2266976480,\n",
       " 837414074132606978,\n",
       " 4096069693,\n",
       " 2184009647,\n",
       " 2257456093,\n",
       " 358233640,\n",
       " 904994826,\n",
       " 3367811173,\n",
       " 1388299412,\n",
       " 2959147470,\n",
       " 71073851,\n",
       " 2922179132,\n",
       " 1420308074,\n",
       " 1655904638]"
      ]
     },
     "execution_count": 16,
     "metadata": {},
     "output_type": "execute_result"
    }
   ],
   "source": [
    "already_processed# = [curr_id]"
   ]
  },
  {
   "cell_type": "code",
   "execution_count": null,
   "id": "98271270",
   "metadata": {},
   "outputs": [
    {
     "name": "stdout",
     "output_type": "stream",
     "text": [
      "Num unvisited neighbors: 1\n",
      "Distance: 0\n",
      "concat to edgelist\n",
      "Distance: 1\n",
      "concat to edgelist\n",
      "Distance: 1\n"
     ]
    },
    {
     "name": "stderr",
     "output_type": "stream",
     "text": [
      "Rate limit exceeded. Sleeping for 873 seconds.\n"
     ]
    },
    {
     "name": "stdout",
     "output_type": "stream",
     "text": [
      "concat to edgelist\n",
      "Distance: 1\n"
     ]
    },
    {
     "name": "stderr",
     "output_type": "stream",
     "text": [
      "Rate limit exceeded. Sleeping for 871 seconds.\n"
     ]
    },
    {
     "name": "stdout",
     "output_type": "stream",
     "text": [
      "concat to edgelist\n",
      "Distance: 1\n",
      "concat to edgelist\n",
      "Distance: 1\n"
     ]
    },
    {
     "name": "stderr",
     "output_type": "stream",
     "text": [
      "Rate limit exceeded. Sleeping for 873 seconds.\n"
     ]
    },
    {
     "name": "stdout",
     "output_type": "stream",
     "text": [
      "concat to edgelist\n",
      "Distance: 1\n",
      "concat to edgelist\n",
      "Distance: 1\n"
     ]
    },
    {
     "name": "stderr",
     "output_type": "stream",
     "text": [
      "Rate limit exceeded. Sleeping for 876 seconds.\n"
     ]
    },
    {
     "name": "stdout",
     "output_type": "stream",
     "text": [
      "concat to edgelist\n",
      "Distance: 1\n",
      "concat to edgelist\n",
      "Distance: 1\n"
     ]
    },
    {
     "name": "stderr",
     "output_type": "stream",
     "text": [
      "Rate limit exceeded. Sleeping for 883 seconds.\n"
     ]
    },
    {
     "name": "stdout",
     "output_type": "stream",
     "text": [
      "concat to edgelist\n",
      "Distance: 1\n"
     ]
    },
    {
     "name": "stderr",
     "output_type": "stream",
     "text": [
      "Rate limit exceeded. Sleeping for 872 seconds.\n"
     ]
    },
    {
     "name": "stdout",
     "output_type": "stream",
     "text": [
      "concat to edgelist\n",
      "Distance: 1\n",
      "concat to edgelist\n",
      "Distance: 1\n"
     ]
    },
    {
     "name": "stderr",
     "output_type": "stream",
     "text": [
      "Rate limit exceeded. Sleeping for 874 seconds.\n"
     ]
    },
    {
     "name": "stdout",
     "output_type": "stream",
     "text": [
      "concat to edgelist\n",
      "Distance: 1\n",
      "concat to edgelist\n",
      "Distance: 1\n"
     ]
    },
    {
     "name": "stderr",
     "output_type": "stream",
     "text": [
      "Rate limit exceeded. Sleeping for 874 seconds.\n"
     ]
    },
    {
     "name": "stdout",
     "output_type": "stream",
     "text": [
      "concat to edgelist\n",
      "Distance: 1\n"
     ]
    },
    {
     "name": "stderr",
     "output_type": "stream",
     "text": [
      "Rate limit exceeded. Sleeping for 874 seconds.\n"
     ]
    },
    {
     "name": "stdout",
     "output_type": "stream",
     "text": [
      "concat to edgelist\n",
      "Distance: 1\n",
      "concat to edgelist\n",
      "Distance: 1\n",
      "concat to edgelist\n",
      "Distance: 1\n",
      "concat to edgelist\n",
      "Distance: 1\n"
     ]
    },
    {
     "name": "stderr",
     "output_type": "stream",
     "text": [
      "Rate limit exceeded. Sleeping for 871 seconds.\n"
     ]
    },
    {
     "name": "stdout",
     "output_type": "stream",
     "text": [
      "concat to edgelist\n",
      "Distance: 1\n"
     ]
    },
    {
     "name": "stderr",
     "output_type": "stream",
     "text": [
      "Rate limit exceeded. Sleeping for 870 seconds.\n"
     ]
    },
    {
     "name": "stdout",
     "output_type": "stream",
     "text": [
      "concat to edgelist\n",
      "Distance: 1\n",
      "concat to edgelist\n",
      "Distance: 1\n"
     ]
    },
    {
     "name": "stderr",
     "output_type": "stream",
     "text": [
      "Rate limit exceeded. Sleeping for 871 seconds.\n"
     ]
    },
    {
     "name": "stdout",
     "output_type": "stream",
     "text": [
      "concat to edgelist\n",
      "Distance: 1\n"
     ]
    },
    {
     "name": "stderr",
     "output_type": "stream",
     "text": [
      "Rate limit exceeded. Sleeping for 870 seconds.\n"
     ]
    },
    {
     "name": "stdout",
     "output_type": "stream",
     "text": [
      "concat to edgelist\n",
      "Distance: 1\n",
      "concat to edgelist\n",
      "Distance: 1\n",
      "concat to edgelist\n",
      "Distance: 1\n"
     ]
    },
    {
     "name": "stderr",
     "output_type": "stream",
     "text": [
      "Rate limit exceeded. Sleeping for 875 seconds.\n"
     ]
    },
    {
     "name": "stdout",
     "output_type": "stream",
     "text": [
      "concat to edgelist\n",
      "Distance: 1\n"
     ]
    },
    {
     "name": "stderr",
     "output_type": "stream",
     "text": [
      "Rate limit exceeded. Sleeping for 878 seconds.\n"
     ]
    },
    {
     "name": "stdout",
     "output_type": "stream",
     "text": [
      "concat to edgelist\n",
      "Distance: 1\n",
      "concat to edgelist\n",
      "Distance: 1\n"
     ]
    },
    {
     "name": "stderr",
     "output_type": "stream",
     "text": [
      "Rate limit exceeded. Sleeping for 876 seconds.\n"
     ]
    },
    {
     "name": "stdout",
     "output_type": "stream",
     "text": [
      "concat to edgelist\n",
      "Distance: 1\n"
     ]
    },
    {
     "name": "stderr",
     "output_type": "stream",
     "text": [
      "Rate limit exceeded. Sleeping for 873 seconds.\n"
     ]
    },
    {
     "name": "stdout",
     "output_type": "stream",
     "text": [
      "concat to edgelist\n",
      "Distance: 1\n",
      "concat to edgelist\n",
      "Distance: 1\n"
     ]
    },
    {
     "name": "stderr",
     "output_type": "stream",
     "text": [
      "Rate limit exceeded. Sleeping for 873 seconds.\n"
     ]
    },
    {
     "name": "stdout",
     "output_type": "stream",
     "text": [
      "concat to edgelist\n",
      "Distance: 1\n",
      "concat to edgelist\n",
      "Distance: 1\n"
     ]
    },
    {
     "name": "stderr",
     "output_type": "stream",
     "text": [
      "Rate limit exceeded. Sleeping for 881 seconds.\n"
     ]
    },
    {
     "name": "stdout",
     "output_type": "stream",
     "text": [
      "concat to edgelist\n",
      "Num unvisited neighbors: 1\n",
      "Distance: 0\n",
      "concat to edgelist\n",
      "Distance: 1\n"
     ]
    },
    {
     "name": "stderr",
     "output_type": "stream",
     "text": [
      "Rate limit exceeded. Sleeping for 875 seconds.\n"
     ]
    },
    {
     "name": "stdout",
     "output_type": "stream",
     "text": [
      "concat to edgelist\n",
      "Distance: 1\n",
      "concat to edgelist\n",
      "Distance: 1\n"
     ]
    },
    {
     "name": "stderr",
     "output_type": "stream",
     "text": [
      "Rate limit exceeded. Sleeping for 874 seconds.\n"
     ]
    },
    {
     "name": "stdout",
     "output_type": "stream",
     "text": [
      "concat to edgelist\n",
      "Distance: 1\n",
      "concat to edgelist\n",
      "Distance: 1\n"
     ]
    },
    {
     "name": "stderr",
     "output_type": "stream",
     "text": [
      "Rate limit exceeded. Sleeping for 872 seconds.\n"
     ]
    },
    {
     "name": "stdout",
     "output_type": "stream",
     "text": [
      "concat to edgelist\n",
      "Distance: 1\n",
      "concat to edgelist\n",
      "Distance: 1\n",
      "concat to edgelist\n",
      "Distance: 1\n"
     ]
    },
    {
     "name": "stderr",
     "output_type": "stream",
     "text": [
      "Rate limit exceeded. Sleeping for 881 seconds.\n"
     ]
    },
    {
     "name": "stdout",
     "output_type": "stream",
     "text": [
      "concat to edgelist\n",
      "Distance: 1\n"
     ]
    },
    {
     "name": "stderr",
     "output_type": "stream",
     "text": [
      "Rate limit exceeded. Sleeping for 871 seconds.\n"
     ]
    },
    {
     "name": "stdout",
     "output_type": "stream",
     "text": [
      "concat to edgelist\n",
      "Distance: 1\n",
      "concat to edgelist\n",
      "Distance: 1\n"
     ]
    },
    {
     "name": "stderr",
     "output_type": "stream",
     "text": [
      "Rate limit exceeded. Sleeping for 868 seconds.\n"
     ]
    },
    {
     "name": "stdout",
     "output_type": "stream",
     "text": [
      "concat to edgelist\n",
      "Distance: 1\n",
      "concat to edgelist\n",
      "Distance: 1\n",
      "concat to edgelist\n",
      "Distance: 1\n",
      "concat to edgelist\n",
      "Distance: 1\n"
     ]
    },
    {
     "name": "stderr",
     "output_type": "stream",
     "text": [
      "Rate limit exceeded. Sleeping for 866 seconds.\n"
     ]
    },
    {
     "name": "stdout",
     "output_type": "stream",
     "text": [
      "concat to edgelist\n",
      "Distance: 1\n",
      "concat to edgelist\n",
      "Distance: 1\n"
     ]
    },
    {
     "name": "stderr",
     "output_type": "stream",
     "text": [
      "Rate limit exceeded. Sleeping for 863 seconds.\n"
     ]
    },
    {
     "name": "stdout",
     "output_type": "stream",
     "text": [
      "concat to edgelist\n",
      "Distance: 1\n",
      "concat to edgelist\n",
      "Distance: 1\n"
     ]
    },
    {
     "name": "stderr",
     "output_type": "stream",
     "text": [
      "Rate limit exceeded. Sleeping for 879 seconds.\n"
     ]
    },
    {
     "name": "stdout",
     "output_type": "stream",
     "text": [
      "concat to edgelist\n",
      "Distance: 1\n"
     ]
    },
    {
     "name": "stderr",
     "output_type": "stream",
     "text": [
      "Rate limit exceeded. Sleeping for 870 seconds.\n"
     ]
    },
    {
     "name": "stdout",
     "output_type": "stream",
     "text": [
      "concat to edgelist\n",
      "Distance: 1\n",
      "concat to edgelist\n",
      "Distance: 1\n",
      "concat to edgelist\n",
      "Distance: 1\n"
     ]
    },
    {
     "name": "stderr",
     "output_type": "stream",
     "text": [
      "Rate limit exceeded. Sleeping for 865 seconds.\n"
     ]
    },
    {
     "name": "stdout",
     "output_type": "stream",
     "text": [
      "concat to edgelist\n",
      "Distance: 1\n"
     ]
    },
    {
     "name": "stderr",
     "output_type": "stream",
     "text": [
      "Rate limit exceeded. Sleeping for 869 seconds.\n"
     ]
    },
    {
     "name": "stdout",
     "output_type": "stream",
     "text": [
      "concat to edgelist\n",
      "Distance: 1\n",
      "concat to edgelist\n",
      "Distance: 1\n"
     ]
    },
    {
     "name": "stderr",
     "output_type": "stream",
     "text": [
      "Rate limit exceeded. Sleeping for 860 seconds.\n"
     ]
    },
    {
     "name": "stdout",
     "output_type": "stream",
     "text": [
      "concat to edgelist\n",
      "Distance: 1\n",
      "concat to edgelist\n",
      "Distance: 1\n"
     ]
    },
    {
     "name": "stderr",
     "output_type": "stream",
     "text": [
      "Rate limit exceeded. Sleeping for 865 seconds.\n"
     ]
    },
    {
     "name": "stdout",
     "output_type": "stream",
     "text": [
      "concat to edgelist\n",
      "Distance: 1\n",
      "concat to edgelist\n",
      "Distance: 1\n"
     ]
    },
    {
     "name": "stderr",
     "output_type": "stream",
     "text": [
      "Rate limit exceeded. Sleeping for 865 seconds.\n"
     ]
    },
    {
     "name": "stdout",
     "output_type": "stream",
     "text": [
      "concat to edgelist\n",
      "Distance: 1\n",
      "concat to edgelist\n",
      "Distance: 1\n"
     ]
    },
    {
     "name": "stderr",
     "output_type": "stream",
     "text": [
      "Rate limit exceeded. Sleeping for 869 seconds.\n"
     ]
    },
    {
     "name": "stdout",
     "output_type": "stream",
     "text": [
      "concat to edgelist\n",
      "Distance: 1\n",
      "concat to edgelist\n",
      "Distance: 1\n"
     ]
    },
    {
     "name": "stderr",
     "output_type": "stream",
     "text": [
      "Rate limit exceeded. Sleeping for 871 seconds.\n"
     ]
    },
    {
     "name": "stdout",
     "output_type": "stream",
     "text": [
      "concat to edgelist\n",
      "Distance: 1\n",
      "concat to edgelist\n",
      "Distance: 1\n"
     ]
    },
    {
     "name": "stderr",
     "output_type": "stream",
     "text": [
      "Rate limit exceeded. Sleeping for 870 seconds.\n"
     ]
    },
    {
     "name": "stdout",
     "output_type": "stream",
     "text": [
      "concat to edgelist\n",
      "Distance: 1\n",
      "concat to edgelist\n",
      "Distance: 1\n",
      "concat to edgelist\n",
      "Distance: 1\n"
     ]
    },
    {
     "name": "stderr",
     "output_type": "stream",
     "text": [
      "Rate limit exceeded. Sleeping for 869 seconds.\n"
     ]
    },
    {
     "name": "stdout",
     "output_type": "stream",
     "text": [
      "concat to edgelist\n",
      "Distance: 1\n",
      "concat to edgelist\n",
      "Distance: 1\n"
     ]
    },
    {
     "name": "stderr",
     "output_type": "stream",
     "text": [
      "Rate limit exceeded. Sleeping for 870 seconds.\n"
     ]
    },
    {
     "name": "stdout",
     "output_type": "stream",
     "text": [
      "concat to edgelist\n",
      "Distance: 1\n"
     ]
    },
    {
     "name": "stderr",
     "output_type": "stream",
     "text": [
      "Rate limit exceeded. Sleeping for 868 seconds.\n"
     ]
    },
    {
     "name": "stdout",
     "output_type": "stream",
     "text": [
      "concat to edgelist\n",
      "Distance: 1\n",
      "concat to edgelist\n",
      "Distance: 1\n",
      "concat to edgelist\n",
      "Distance: 1\n",
      "concat to edgelist\n",
      "Distance: 1\n"
     ]
    },
    {
     "name": "stderr",
     "output_type": "stream",
     "text": [
      "Rate limit exceeded. Sleeping for 870 seconds.\n"
     ]
    },
    {
     "name": "stdout",
     "output_type": "stream",
     "text": [
      "concat to edgelist\n",
      "Distance: 1\n",
      "concat to edgelist\n",
      "Num unvisited neighbors: 1\n",
      "Distance: 0\n",
      "concat to edgelist\n",
      "Distance: 1\n",
      "concat to edgelist\n",
      "Distance: 1\n"
     ]
    },
    {
     "name": "stderr",
     "output_type": "stream",
     "text": [
      "Rate limit exceeded. Sleeping for 880 seconds.\n"
     ]
    },
    {
     "name": "stdout",
     "output_type": "stream",
     "text": [
      "concat to edgelist\n",
      "Distance: 1\n",
      "concat to edgelist\n",
      "Distance: 1\n",
      "concat to edgelist\n",
      "Distance: 1\n"
     ]
    },
    {
     "name": "stderr",
     "output_type": "stream",
     "text": [
      "Rate limit exceeded. Sleeping for 875 seconds.\n"
     ]
    },
    {
     "name": "stdout",
     "output_type": "stream",
     "text": [
      "concat to edgelist\n",
      "Distance: 1\n",
      "concat to edgelist\n",
      "Distance: 1\n",
      "concat to edgelist\n",
      "Distance: 1\n",
      "concat to edgelist\n",
      "Distance: 1\n",
      "concat to edgelist\n",
      "Distance: 1\n",
      "concat to edgelist\n",
      "Distance: 1\n",
      "concat to edgelist\n",
      "Num unvisited neighbors: 1\n",
      "Distance: 0\n",
      "concat to edgelist\n",
      "Distance: 1\n"
     ]
    },
    {
     "name": "stderr",
     "output_type": "stream",
     "text": [
      "Rate limit exceeded. Sleeping for 873 seconds.\n"
     ]
    },
    {
     "name": "stdout",
     "output_type": "stream",
     "text": [
      "concat to edgelist\n",
      "Distance: 1\n",
      "concat to edgelist\n",
      "Distance: 1\n"
     ]
    },
    {
     "name": "stderr",
     "output_type": "stream",
     "text": [
      "Rate limit exceeded. Sleeping for 877 seconds.\n"
     ]
    },
    {
     "name": "stdout",
     "output_type": "stream",
     "text": [
      "concat to edgelist\n",
      "Distance: 1\n"
     ]
    },
    {
     "name": "stderr",
     "output_type": "stream",
     "text": [
      "Rate limit exceeded. Sleeping for 874 seconds.\n"
     ]
    },
    {
     "name": "stdout",
     "output_type": "stream",
     "text": [
      "concat to edgelist\n",
      "Distance: 1\n",
      "concat to edgelist\n",
      "Distance: 1\n"
     ]
    },
    {
     "name": "stderr",
     "output_type": "stream",
     "text": [
      "Rate limit exceeded. Sleeping for 871 seconds.\n"
     ]
    },
    {
     "name": "stdout",
     "output_type": "stream",
     "text": [
      "concat to edgelist\n",
      "Distance: 1\n",
      "concat to edgelist\n",
      "Distance: 1\n"
     ]
    },
    {
     "name": "stderr",
     "output_type": "stream",
     "text": [
      "Rate limit exceeded. Sleeping for 874 seconds.\n"
     ]
    },
    {
     "name": "stdout",
     "output_type": "stream",
     "text": [
      "concat to edgelist\n",
      "Distance: 1\n",
      "concat to edgelist\n",
      "Distance: 1\n"
     ]
    },
    {
     "name": "stderr",
     "output_type": "stream",
     "text": [
      "Rate limit exceeded. Sleeping for 879 seconds.\n"
     ]
    },
    {
     "name": "stdout",
     "output_type": "stream",
     "text": [
      "concat to edgelist\n",
      "Distance: 1\n",
      "concat to edgelist\n",
      "Distance: 1\n",
      "concat to edgelist\n",
      "Distance: 1\n"
     ]
    },
    {
     "name": "stderr",
     "output_type": "stream",
     "text": [
      "Rate limit exceeded. Sleeping for 873 seconds.\n"
     ]
    },
    {
     "name": "stdout",
     "output_type": "stream",
     "text": [
      "concat to edgelist\n",
      "Distance: 1\n",
      "concat to edgelist\n",
      "Distance: 1\n"
     ]
    },
    {
     "name": "stderr",
     "output_type": "stream",
     "text": [
      "Rate limit exceeded. Sleeping for 866 seconds.\n"
     ]
    },
    {
     "name": "stdout",
     "output_type": "stream",
     "text": [
      "concat to edgelist\n",
      "Distance: 1\n"
     ]
    },
    {
     "name": "stderr",
     "output_type": "stream",
     "text": [
      "Rate limit exceeded. Sleeping for 868 seconds.\n"
     ]
    },
    {
     "name": "stdout",
     "output_type": "stream",
     "text": [
      "concat to edgelist\n",
      "Distance: 1\n",
      "concat to edgelist\n",
      "Distance: 1\n"
     ]
    },
    {
     "name": "stderr",
     "output_type": "stream",
     "text": [
      "Rate limit exceeded. Sleeping for 866 seconds.\n"
     ]
    },
    {
     "name": "stdout",
     "output_type": "stream",
     "text": [
      "concat to edgelist\n",
      "Distance: 1\n",
      "concat to edgelist\n",
      "Distance: 1\n"
     ]
    },
    {
     "name": "stderr",
     "output_type": "stream",
     "text": [
      "Rate limit exceeded. Sleeping for 859 seconds.\n"
     ]
    },
    {
     "name": "stdout",
     "output_type": "stream",
     "text": [
      "concat to edgelist\n",
      "Distance: 1\n",
      "concat to edgelist\n",
      "Distance: 1\n",
      "concat to edgelist\n",
      "Distance: 1\n"
     ]
    },
    {
     "name": "stderr",
     "output_type": "stream",
     "text": [
      "Rate limit exceeded. Sleeping for 871 seconds.\n"
     ]
    },
    {
     "name": "stdout",
     "output_type": "stream",
     "text": [
      "concat to edgelist\n",
      "Distance: 1\n",
      "concat to edgelist\n",
      "Distance: 1\n",
      "concat to edgelist\n",
      "Distance: 1\n",
      "concat to edgelist\n",
      "Distance: 1\n",
      "concat to edgelist\n",
      "Distance: 1\n",
      "concat to edgelist\n",
      "Num unvisited neighbors: 1\n",
      "Distance: 0\n",
      "concat to edgelist\n",
      "Distance: 1\n",
      "concat to edgelist\n",
      "Distance: 1\n"
     ]
    },
    {
     "name": "stderr",
     "output_type": "stream",
     "text": [
      "Rate limit exceeded. Sleeping for 864 seconds.\n"
     ]
    },
    {
     "name": "stdout",
     "output_type": "stream",
     "text": [
      "concat to edgelist\n",
      "Distance: 1\n",
      "concat to edgelist\n",
      "Distance: 1\n",
      "concat to edgelist\n",
      "Distance: 1\n"
     ]
    },
    {
     "name": "stderr",
     "output_type": "stream",
     "text": [
      "Rate limit exceeded. Sleeping for 862 seconds.\n"
     ]
    },
    {
     "name": "stdout",
     "output_type": "stream",
     "text": [
      "concat to edgelist\n",
      "Distance: 1\n"
     ]
    },
    {
     "name": "stderr",
     "output_type": "stream",
     "text": [
      "Rate limit exceeded. Sleeping for 878 seconds.\n"
     ]
    },
    {
     "name": "stdout",
     "output_type": "stream",
     "text": [
      "concat to edgelist\n",
      "Distance: 1\n",
      "concat to edgelist\n",
      "Distance: 1\n"
     ]
    },
    {
     "name": "stderr",
     "output_type": "stream",
     "text": [
      "Rate limit exceeded. Sleeping for 866 seconds.\n"
     ]
    },
    {
     "name": "stdout",
     "output_type": "stream",
     "text": [
      "concat to edgelist\n",
      "Distance: 1\n"
     ]
    },
    {
     "name": "stderr",
     "output_type": "stream",
     "text": [
      "Rate limit exceeded. Sleeping for 865 seconds.\n"
     ]
    },
    {
     "name": "stdout",
     "output_type": "stream",
     "text": [
      "concat to edgelist\n",
      "Distance: 1\n",
      "concat to edgelist\n",
      "Distance: 1\n",
      "concat to edgelist\n",
      "Distance: 1\n"
     ]
    },
    {
     "name": "stderr",
     "output_type": "stream",
     "text": [
      "Rate limit exceeded. Sleeping for 866 seconds.\n"
     ]
    },
    {
     "name": "stdout",
     "output_type": "stream",
     "text": [
      "concat to edgelist\n",
      "Distance: 1\n"
     ]
    },
    {
     "name": "stderr",
     "output_type": "stream",
     "text": [
      "Rate limit exceeded. Sleeping for 867 seconds.\n"
     ]
    },
    {
     "name": "stdout",
     "output_type": "stream",
     "text": [
      "concat to edgelist\n",
      "Distance: 1\n",
      "concat to edgelist\n",
      "Distance: 1\n"
     ]
    },
    {
     "name": "stderr",
     "output_type": "stream",
     "text": [
      "Rate limit exceeded. Sleeping for 868 seconds.\n"
     ]
    },
    {
     "name": "stdout",
     "output_type": "stream",
     "text": [
      "concat to edgelist\n",
      "Distance: 1\n",
      "concat to edgelist\n",
      "Distance: 1\n",
      "concat to edgelist\n",
      "Distance: 1\n",
      "concat to edgelist\n",
      "Distance: 1\n",
      "concat to edgelist\n",
      "Distance: 1\n",
      "concat to edgelist\n",
      "Distance: 1\n"
     ]
    },
    {
     "name": "stderr",
     "output_type": "stream",
     "text": [
      "Rate limit exceeded. Sleeping for 852 seconds.\n"
     ]
    },
    {
     "name": "stdout",
     "output_type": "stream",
     "text": [
      "concat to edgelist\n",
      "Distance: 1\n"
     ]
    },
    {
     "name": "stderr",
     "output_type": "stream",
     "text": [
      "Rate limit exceeded. Sleeping for 872 seconds.\n"
     ]
    },
    {
     "name": "stdout",
     "output_type": "stream",
     "text": [
      "concat to edgelist\n",
      "Distance: 1\n",
      "concat to edgelist\n",
      "Distance: 1\n",
      "concat to edgelist\n",
      "Distance: 1\n",
      "concat to edgelist\n",
      "Distance: 1\n"
     ]
    },
    {
     "name": "stderr",
     "output_type": "stream",
     "text": [
      "Rate limit exceeded. Sleeping for 860 seconds.\n"
     ]
    },
    {
     "name": "stdout",
     "output_type": "stream",
     "text": [
      "concat to edgelist\n",
      "Distance: 1\n"
     ]
    },
    {
     "name": "stderr",
     "output_type": "stream",
     "text": [
      "Rate limit exceeded. Sleeping for 872 seconds.\n"
     ]
    },
    {
     "name": "stdout",
     "output_type": "stream",
     "text": [
      "concat to edgelist\n",
      "Distance: 1\n",
      "concat to edgelist\n",
      "Distance: 1\n",
      "concat to edgelist\n",
      "Distance: 1\n",
      "concat to edgelist\n",
      "Distance: 1\n",
      "concat to edgelist\n",
      "Num unvisited neighbors: 1\n",
      "Distance: 0\n",
      "No tweets\n",
      "concat to edgelist\n",
      "Num unvisited neighbors: 1\n",
      "Distance: 0\n",
      "concat to edgelist\n",
      "Distance: 1\n"
     ]
    },
    {
     "name": "stderr",
     "output_type": "stream",
     "text": [
      "Rate limit exceeded. Sleeping for 876 seconds.\n"
     ]
    }
   ],
   "source": [
    "%%time\n",
    "\n",
    "cols = ['originating_id', 'receiving_id', 'originating_following_count', 'originating_follower_count']\n",
    "for curr_id in small_human.twitter_id:\n",
    "    if curr_id in already_processed:\n",
    "        continue\n",
    "        \n",
    "    edgelist = pd.DataFrame(columns=cols)\n",
    "\n",
    "    neighbors = deque()\n",
    "    distance_from_root = deque()\n",
    "    neighbors.append(curr_id)\n",
    "    distance_from_root.append(0)\n",
    "\n",
    "    visited= set()\n",
    "    # # While there are unvisited neighbors\n",
    "    while len(neighbors) != 0:\n",
    "        print(f'Num unvisited neighbors: {len(neighbors)}')\n",
    "        edgelist = recursion(visited, neighbors, edgelist, distance_from_root)\n",
    "\n",
    "    edgelist.to_pickle('human/likes_human_' + str(curr_id))\n",
    "    already_processed.append(curr_id)"
   ]
  },
  {
   "cell_type": "code",
   "execution_count": null,
   "id": "4daeb3f4",
   "metadata": {},
   "outputs": [],
   "source": [
    "visited"
   ]
  },
  {
   "cell_type": "code",
   "execution_count": 196,
   "id": "09930a47",
   "metadata": {},
   "outputs": [
    {
     "data": {
      "text/plain": [
       "deque([])"
      ]
     },
     "execution_count": 196,
     "metadata": {},
     "output_type": "execute_result"
    }
   ],
   "source": [
    "neighbors"
   ]
  },
  {
   "cell_type": "code",
   "execution_count": 188,
   "id": "bd1493f1",
   "metadata": {},
   "outputs": [
    {
     "data": {
      "text/plain": [
       "4307623643"
      ]
     },
     "execution_count": 188,
     "metadata": {},
     "output_type": "execute_result"
    }
   ],
   "source": [
    "twitter_id"
   ]
  },
  {
   "cell_type": "code",
   "execution_count": 189,
   "id": "1c892b15",
   "metadata": {},
   "outputs": [
    {
     "data": {
      "text/html": [
       "<div>\n",
       "<style scoped>\n",
       "    .dataframe tbody tr th:only-of-type {\n",
       "        vertical-align: middle;\n",
       "    }\n",
       "\n",
       "    .dataframe tbody tr th {\n",
       "        vertical-align: top;\n",
       "    }\n",
       "\n",
       "    .dataframe thead th {\n",
       "        text-align: right;\n",
       "    }\n",
       "</style>\n",
       "<table border=\"1\" class=\"dataframe\">\n",
       "  <thead>\n",
       "    <tr style=\"text-align: right;\">\n",
       "      <th></th>\n",
       "      <th>twitter_id</th>\n",
       "      <th>followers_count</th>\n",
       "      <th>following_count</th>\n",
       "      <th>label</th>\n",
       "    </tr>\n",
       "  </thead>\n",
       "  <tbody>\n",
       "    <tr>\n",
       "      <th>24</th>\n",
       "      <td>4307623643</td>\n",
       "      <td>59</td>\n",
       "      <td>4</td>\n",
       "      <td>bot</td>\n",
       "    </tr>\n",
       "    <tr>\n",
       "      <th>36</th>\n",
       "      <td>844779426260791296</td>\n",
       "      <td>768</td>\n",
       "      <td>1</td>\n",
       "      <td>bot</td>\n",
       "    </tr>\n",
       "    <tr>\n",
       "      <th>83</th>\n",
       "      <td>837316817324556289</td>\n",
       "      <td>182</td>\n",
       "      <td>6</td>\n",
       "      <td>bot</td>\n",
       "    </tr>\n",
       "    <tr>\n",
       "      <th>137</th>\n",
       "      <td>913028718377005056</td>\n",
       "      <td>87</td>\n",
       "      <td>147</td>\n",
       "      <td>bot</td>\n",
       "    </tr>\n",
       "    <tr>\n",
       "      <th>175</th>\n",
       "      <td>790017240733278208</td>\n",
       "      <td>19</td>\n",
       "      <td>47</td>\n",
       "      <td>bot</td>\n",
       "    </tr>\n",
       "    <tr>\n",
       "      <th>...</th>\n",
       "      <td>...</td>\n",
       "      <td>...</td>\n",
       "      <td>...</td>\n",
       "      <td>...</td>\n",
       "    </tr>\n",
       "    <tr>\n",
       "      <th>2201</th>\n",
       "      <td>716626267</td>\n",
       "      <td>404</td>\n",
       "      <td>1</td>\n",
       "      <td>human</td>\n",
       "    </tr>\n",
       "    <tr>\n",
       "      <th>2214</th>\n",
       "      <td>770774730190098433</td>\n",
       "      <td>106</td>\n",
       "      <td>11</td>\n",
       "      <td>human</td>\n",
       "    </tr>\n",
       "    <tr>\n",
       "      <th>2236</th>\n",
       "      <td>849258957768192004</td>\n",
       "      <td>212</td>\n",
       "      <td>5</td>\n",
       "      <td>human</td>\n",
       "    </tr>\n",
       "    <tr>\n",
       "      <th>2242</th>\n",
       "      <td>456361810</td>\n",
       "      <td>66</td>\n",
       "      <td>187</td>\n",
       "      <td>human</td>\n",
       "    </tr>\n",
       "    <tr>\n",
       "      <th>2335</th>\n",
       "      <td>2197092790</td>\n",
       "      <td>257</td>\n",
       "      <td>22</td>\n",
       "      <td>human</td>\n",
       "    </tr>\n",
       "  </tbody>\n",
       "</table>\n",
       "<p>458 rows × 4 columns</p>\n",
       "</div>"
      ],
      "text/plain": [
       "              twitter_id  followers_count  following_count  label\n",
       "24            4307623643               59                4    bot\n",
       "36    844779426260791296              768                1    bot\n",
       "83    837316817324556289              182                6    bot\n",
       "137   913028718377005056               87              147    bot\n",
       "175   790017240733278208               19               47    bot\n",
       "...                  ...              ...              ...    ...\n",
       "2201           716626267              404                1  human\n",
       "2214  770774730190098433              106               11  human\n",
       "2236  849258957768192004              212                5  human\n",
       "2242           456361810               66              187  human\n",
       "2335          2197092790              257               22  human\n",
       "\n",
       "[458 rows x 4 columns]"
      ]
     },
     "execution_count": 189,
     "metadata": {},
     "output_type": "execute_result"
    }
   ],
   "source": [
    "small"
   ]
  },
  {
   "cell_type": "code",
   "execution_count": 255,
   "id": "717f14f5",
   "metadata": {},
   "outputs": [],
   "source": [
    "# Get edgelist for this node\n",
    "tweet_ids = get_tweet_list(twitter_id)\n",
    "liking_df = get_df_liking_users(twitter_id, tweet_ids, cols)\n",
    "liked_df = get_df_liked_users(twitter_id, cols)\n",
    "node_edgelist = pd.concat([liked_df, liking_df])"
   ]
  },
  {
   "cell_type": "code",
   "execution_count": null,
   "id": "c9210d24",
   "metadata": {},
   "outputs": [],
   "source": [
    "edgelist"
   ]
  },
  {
   "cell_type": "code",
   "execution_count": null,
   "id": "9d1f9c03",
   "metadata": {},
   "outputs": [],
   "source": []
  }
 ],
 "metadata": {
  "kernelspec": {
   "display_name": "Python 3",
   "language": "python",
   "name": "python3"
  },
  "language_info": {
   "codemirror_mode": {
    "name": "ipython",
    "version": 3
   },
   "file_extension": ".py",
   "mimetype": "text/x-python",
   "name": "python",
   "nbconvert_exporter": "python",
   "pygments_lexer": "ipython3",
   "version": "3.8.2"
  }
 },
 "nbformat": 4,
 "nbformat_minor": 5
}
